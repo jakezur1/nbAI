{
 "cells": [
  {
   "cell_type": "code",
   "execution_count": 3,
   "metadata": {
    "collapsed": true,
    "ExecuteTime": {
     "end_time": "2024-01-10T03:23:35.182377Z",
     "start_time": "2024-01-10T03:23:34.679513Z"
    }
   },
   "outputs": [],
   "source": [
    "import numpy as np\n",
    "import pandas as pd\n",
    "\n",
    "from tqdm.auto import tqdm\n",
    "from nba_api.stats.endpoints import leaguegamefinder, boxscoreadvancedv3\n",
    "from nba_api.stats.static import teams"
   ]
  },
  {
   "cell_type": "code",
   "execution_count": 34,
   "outputs": [
    {
     "data": {
      "text/plain": "  0%|          | 0/30 [00:00<?, ?it/s]",
      "application/vnd.jupyter.widget-view+json": {
       "version_major": 2,
       "version_minor": 0,
       "model_id": "98d15b1eb60f45778c4e8caa42314375"
      }
     },
     "metadata": {},
     "output_type": "display_data"
    },
    {
     "data": {
      "text/plain": "   SEASON_ID     TEAM_ID TEAM_ABBREVIATION          TEAM_NAME     GAME_ID  \\\n0      22023  1610612737               ATL      Atlanta Hawks  0022300521   \n1      22023  1610612737               ATL      Atlanta Hawks  0022300499   \n2      22023  1610612737               ATL      Atlanta Hawks  0022300480   \n3      22023  1610612737               ATL      Atlanta Hawks  0022300467   \n4      22023  1610612737               ATL      Atlanta Hawks  0022300445   \n..       ...         ...               ...                ...         ...   \n34     22023  1610612766               CHA  Charlotte Hornets  0022300063   \n35     12023  1610612766               CHA  Charlotte Hornets  0012300060   \n36     12023  1610612766               CHA  Charlotte Hornets  0012300038   \n37     12023  1610612766               CHA  Charlotte Hornets  0012300025   \n38     12023  1610612766               CHA  Charlotte Hornets  0012300016   \n\n     GAME_DATE      MATCHUP WL  MIN  PTS  ...  FT_PCT  OREB  DREB  REB  AST  \\\n0   2024-01-10  ATL vs. PHI  W  265  139  ...   0.738    16    39   55   32   \n1   2024-01-07    ATL @ ORL  L  265  110  ...   0.586     8    42   50   21   \n2   2024-01-05    ATL @ IND  L  238  116  ...   0.867    14    25   39   21   \n3   2024-01-03  ATL vs. OKC  W  240  141  ...   0.939    15    34   49   30   \n4   2023-12-31    ATL @ WAS  W  240  130  ...   0.649    12    46   58   27   \n..         ...          ... ..  ...  ...  ...     ...   ...   ...  ...  ...   \n34  2023-10-25  CHA vs. ATL  W  240  116  ...   0.731    12    39   51   34   \n35  2023-10-19  CHA vs. BOS  L  241   99  ...   0.808    10    39   49   24   \n36  2023-10-15  CHA vs. OKC  W  241  117  ...   0.591     8    35   43   28   \n37  2023-10-12    CHA @ WAS  L  241   92  ...   0.667    16    50   66   19   \n38  2023-10-10    CHA @ MIA  L  239  109  ...   0.818    14    38   52   19   \n\n    STL  BLK  TOV  PF  PLUS_MINUS  \n0     6    8   12  21         7.0  \n1     9   10   12  23        -7.0  \n2     6    3   14  11       -34.0  \n3     8    5   11  21         3.0  \n4     5    3   12  18         4.0  \n..  ...  ...  ...  ..         ...  \n34    5    3   19  21         6.0  \n35    8    5   24  17       -28.0  \n36   10    7   12  15         2.0  \n37    9    9   23  24        -6.0  \n38   10    4   16  20        -4.0  \n\n[1259 rows x 28 columns]",
      "text/html": "<div>\n<style scoped>\n    .dataframe tbody tr th:only-of-type {\n        vertical-align: middle;\n    }\n\n    .dataframe tbody tr th {\n        vertical-align: top;\n    }\n\n    .dataframe thead th {\n        text-align: right;\n    }\n</style>\n<table border=\"1\" class=\"dataframe\">\n  <thead>\n    <tr style=\"text-align: right;\">\n      <th></th>\n      <th>SEASON_ID</th>\n      <th>TEAM_ID</th>\n      <th>TEAM_ABBREVIATION</th>\n      <th>TEAM_NAME</th>\n      <th>GAME_ID</th>\n      <th>GAME_DATE</th>\n      <th>MATCHUP</th>\n      <th>WL</th>\n      <th>MIN</th>\n      <th>PTS</th>\n      <th>...</th>\n      <th>FT_PCT</th>\n      <th>OREB</th>\n      <th>DREB</th>\n      <th>REB</th>\n      <th>AST</th>\n      <th>STL</th>\n      <th>BLK</th>\n      <th>TOV</th>\n      <th>PF</th>\n      <th>PLUS_MINUS</th>\n    </tr>\n  </thead>\n  <tbody>\n    <tr>\n      <th>0</th>\n      <td>22023</td>\n      <td>1610612737</td>\n      <td>ATL</td>\n      <td>Atlanta Hawks</td>\n      <td>0022300521</td>\n      <td>2024-01-10</td>\n      <td>ATL vs. PHI</td>\n      <td>W</td>\n      <td>265</td>\n      <td>139</td>\n      <td>...</td>\n      <td>0.738</td>\n      <td>16</td>\n      <td>39</td>\n      <td>55</td>\n      <td>32</td>\n      <td>6</td>\n      <td>8</td>\n      <td>12</td>\n      <td>21</td>\n      <td>7.0</td>\n    </tr>\n    <tr>\n      <th>1</th>\n      <td>22023</td>\n      <td>1610612737</td>\n      <td>ATL</td>\n      <td>Atlanta Hawks</td>\n      <td>0022300499</td>\n      <td>2024-01-07</td>\n      <td>ATL @ ORL</td>\n      <td>L</td>\n      <td>265</td>\n      <td>110</td>\n      <td>...</td>\n      <td>0.586</td>\n      <td>8</td>\n      <td>42</td>\n      <td>50</td>\n      <td>21</td>\n      <td>9</td>\n      <td>10</td>\n      <td>12</td>\n      <td>23</td>\n      <td>-7.0</td>\n    </tr>\n    <tr>\n      <th>2</th>\n      <td>22023</td>\n      <td>1610612737</td>\n      <td>ATL</td>\n      <td>Atlanta Hawks</td>\n      <td>0022300480</td>\n      <td>2024-01-05</td>\n      <td>ATL @ IND</td>\n      <td>L</td>\n      <td>238</td>\n      <td>116</td>\n      <td>...</td>\n      <td>0.867</td>\n      <td>14</td>\n      <td>25</td>\n      <td>39</td>\n      <td>21</td>\n      <td>6</td>\n      <td>3</td>\n      <td>14</td>\n      <td>11</td>\n      <td>-34.0</td>\n    </tr>\n    <tr>\n      <th>3</th>\n      <td>22023</td>\n      <td>1610612737</td>\n      <td>ATL</td>\n      <td>Atlanta Hawks</td>\n      <td>0022300467</td>\n      <td>2024-01-03</td>\n      <td>ATL vs. OKC</td>\n      <td>W</td>\n      <td>240</td>\n      <td>141</td>\n      <td>...</td>\n      <td>0.939</td>\n      <td>15</td>\n      <td>34</td>\n      <td>49</td>\n      <td>30</td>\n      <td>8</td>\n      <td>5</td>\n      <td>11</td>\n      <td>21</td>\n      <td>3.0</td>\n    </tr>\n    <tr>\n      <th>4</th>\n      <td>22023</td>\n      <td>1610612737</td>\n      <td>ATL</td>\n      <td>Atlanta Hawks</td>\n      <td>0022300445</td>\n      <td>2023-12-31</td>\n      <td>ATL @ WAS</td>\n      <td>W</td>\n      <td>240</td>\n      <td>130</td>\n      <td>...</td>\n      <td>0.649</td>\n      <td>12</td>\n      <td>46</td>\n      <td>58</td>\n      <td>27</td>\n      <td>5</td>\n      <td>3</td>\n      <td>12</td>\n      <td>18</td>\n      <td>4.0</td>\n    </tr>\n    <tr>\n      <th>...</th>\n      <td>...</td>\n      <td>...</td>\n      <td>...</td>\n      <td>...</td>\n      <td>...</td>\n      <td>...</td>\n      <td>...</td>\n      <td>...</td>\n      <td>...</td>\n      <td>...</td>\n      <td>...</td>\n      <td>...</td>\n      <td>...</td>\n      <td>...</td>\n      <td>...</td>\n      <td>...</td>\n      <td>...</td>\n      <td>...</td>\n      <td>...</td>\n      <td>...</td>\n      <td>...</td>\n    </tr>\n    <tr>\n      <th>34</th>\n      <td>22023</td>\n      <td>1610612766</td>\n      <td>CHA</td>\n      <td>Charlotte Hornets</td>\n      <td>0022300063</td>\n      <td>2023-10-25</td>\n      <td>CHA vs. ATL</td>\n      <td>W</td>\n      <td>240</td>\n      <td>116</td>\n      <td>...</td>\n      <td>0.731</td>\n      <td>12</td>\n      <td>39</td>\n      <td>51</td>\n      <td>34</td>\n      <td>5</td>\n      <td>3</td>\n      <td>19</td>\n      <td>21</td>\n      <td>6.0</td>\n    </tr>\n    <tr>\n      <th>35</th>\n      <td>12023</td>\n      <td>1610612766</td>\n      <td>CHA</td>\n      <td>Charlotte Hornets</td>\n      <td>0012300060</td>\n      <td>2023-10-19</td>\n      <td>CHA vs. BOS</td>\n      <td>L</td>\n      <td>241</td>\n      <td>99</td>\n      <td>...</td>\n      <td>0.808</td>\n      <td>10</td>\n      <td>39</td>\n      <td>49</td>\n      <td>24</td>\n      <td>8</td>\n      <td>5</td>\n      <td>24</td>\n      <td>17</td>\n      <td>-28.0</td>\n    </tr>\n    <tr>\n      <th>36</th>\n      <td>12023</td>\n      <td>1610612766</td>\n      <td>CHA</td>\n      <td>Charlotte Hornets</td>\n      <td>0012300038</td>\n      <td>2023-10-15</td>\n      <td>CHA vs. OKC</td>\n      <td>W</td>\n      <td>241</td>\n      <td>117</td>\n      <td>...</td>\n      <td>0.591</td>\n      <td>8</td>\n      <td>35</td>\n      <td>43</td>\n      <td>28</td>\n      <td>10</td>\n      <td>7</td>\n      <td>12</td>\n      <td>15</td>\n      <td>2.0</td>\n    </tr>\n    <tr>\n      <th>37</th>\n      <td>12023</td>\n      <td>1610612766</td>\n      <td>CHA</td>\n      <td>Charlotte Hornets</td>\n      <td>0012300025</td>\n      <td>2023-10-12</td>\n      <td>CHA @ WAS</td>\n      <td>L</td>\n      <td>241</td>\n      <td>92</td>\n      <td>...</td>\n      <td>0.667</td>\n      <td>16</td>\n      <td>50</td>\n      <td>66</td>\n      <td>19</td>\n      <td>9</td>\n      <td>9</td>\n      <td>23</td>\n      <td>24</td>\n      <td>-6.0</td>\n    </tr>\n    <tr>\n      <th>38</th>\n      <td>12023</td>\n      <td>1610612766</td>\n      <td>CHA</td>\n      <td>Charlotte Hornets</td>\n      <td>0012300016</td>\n      <td>2023-10-10</td>\n      <td>CHA @ MIA</td>\n      <td>L</td>\n      <td>239</td>\n      <td>109</td>\n      <td>...</td>\n      <td>0.818</td>\n      <td>14</td>\n      <td>38</td>\n      <td>52</td>\n      <td>19</td>\n      <td>10</td>\n      <td>4</td>\n      <td>16</td>\n      <td>20</td>\n      <td>-4.0</td>\n    </tr>\n  </tbody>\n</table>\n<p>1259 rows × 28 columns</p>\n</div>"
     },
     "execution_count": 34,
     "metadata": {},
     "output_type": "execute_result"
    }
   ],
   "source": [
    "nba_teams = pd.DataFrame(teams.get_teams())\n",
    "nba_teams = dict(zip(nba_teams['abbreviation'], nba_teams['id']))\n",
    "game_schedules = pd.DataFrame()\n",
    "for team, team_id, in tqdm(nba_teams.items()):\n",
    "    team_games = leaguegamefinder.LeagueGameFinder(team_id_nullable=team_id, season_nullable='2023-24')\n",
    "    game_schedules = pd.concat([game_schedules, team_games.get_data_frames()[0]])\n",
    "game_schedules"
   ],
   "metadata": {
    "collapsed": false,
    "ExecuteTime": {
     "end_time": "2024-01-12T02:19:10.218082Z",
     "start_time": "2024-01-12T02:18:46.621503Z"
    }
   }
  },
  {
   "cell_type": "code",
   "execution_count": 6,
   "outputs": [
    {
     "data": {
      "text/plain": "   SEASON_ID     TEAM_ID TEAM_ABBREVIATION          TEAM_NAME     GAME_ID  \\\n0      22023  1610612737               ATL      Atlanta Hawks  0022300499   \n1      22023  1610612737               ATL      Atlanta Hawks  0022300480   \n2      22023  1610612737               ATL      Atlanta Hawks  0022300467   \n3      22023  1610612737               ATL      Atlanta Hawks  0022300445   \n4      22023  1610612737               ATL      Atlanta Hawks  0022300431   \n..       ...         ...               ...                ...         ...   \n33     22023  1610612766               CHA  Charlotte Hornets  0022300063   \n34     12023  1610612766               CHA  Charlotte Hornets  0012300060   \n35     12023  1610612766               CHA  Charlotte Hornets  0012300038   \n36     12023  1610612766               CHA  Charlotte Hornets  0012300025   \n37     12023  1610612766               CHA  Charlotte Hornets  0012300016   \n\n     GAME_DATE      MATCHUP WL  MIN  PTS  ...  OREB  DREB  REB  AST  STL  BLK  \\\n0   2024-01-07  ATL vs. ORL  L  265  110  ...     8    42   50   21    9   10   \n1   2024-01-05  ATL vs. IND  L  238  116  ...    14    25   39   21    6    3   \n2   2024-01-03  ATL vs. OKC  W  240  141  ...    15    34   49   30    8    5   \n3   2023-12-31  ATL vs. WAS  W  240  130  ...    12    46   58   27    5    3   \n4   2023-12-29  ATL vs. SAC  L  239  110  ...    18    33   51   29    9    4   \n..         ...          ... ..  ...  ...  ...   ...   ...  ...  ...  ...  ...   \n33  2023-10-25  CHA vs. ATL  W  240  116  ...    12    39   51   34    5    3   \n34  2023-10-19  CHA vs. BOS  L  241   99  ...    10    39   49   24    8    5   \n35  2023-10-15  CHA vs. OKC  W  241  117  ...     8    35   43   28   10    7   \n36  2023-10-12  CHA vs. WAS  L  241   92  ...    16    50   66   19    9    9   \n37  2023-10-10  CHA vs. MIA  L  239  109  ...    14    38   52   19   10    4   \n\n    TOV  PF  PLUS_MINUS  IS_HOME_TEAM  \n0    12  23        -7.0             0  \n1    14  11       -34.0             0  \n2    11  21         3.0             1  \n3    12  18         4.0             0  \n4    15  16        -7.0             1  \n..  ...  ..         ...           ...  \n33   19  21         6.0             1  \n34   24  17       -28.0             1  \n35   12  15         2.0             1  \n36   23  24        -6.0             0  \n37   16  20        -4.0             0  \n\n[1229 rows x 29 columns]",
      "text/html": "<div>\n<style scoped>\n    .dataframe tbody tr th:only-of-type {\n        vertical-align: middle;\n    }\n\n    .dataframe tbody tr th {\n        vertical-align: top;\n    }\n\n    .dataframe thead th {\n        text-align: right;\n    }\n</style>\n<table border=\"1\" class=\"dataframe\">\n  <thead>\n    <tr style=\"text-align: right;\">\n      <th></th>\n      <th>SEASON_ID</th>\n      <th>TEAM_ID</th>\n      <th>TEAM_ABBREVIATION</th>\n      <th>TEAM_NAME</th>\n      <th>GAME_ID</th>\n      <th>GAME_DATE</th>\n      <th>MATCHUP</th>\n      <th>WL</th>\n      <th>MIN</th>\n      <th>PTS</th>\n      <th>...</th>\n      <th>OREB</th>\n      <th>DREB</th>\n      <th>REB</th>\n      <th>AST</th>\n      <th>STL</th>\n      <th>BLK</th>\n      <th>TOV</th>\n      <th>PF</th>\n      <th>PLUS_MINUS</th>\n      <th>IS_HOME_TEAM</th>\n    </tr>\n  </thead>\n  <tbody>\n    <tr>\n      <th>0</th>\n      <td>22023</td>\n      <td>1610612737</td>\n      <td>ATL</td>\n      <td>Atlanta Hawks</td>\n      <td>0022300499</td>\n      <td>2024-01-07</td>\n      <td>ATL vs. ORL</td>\n      <td>L</td>\n      <td>265</td>\n      <td>110</td>\n      <td>...</td>\n      <td>8</td>\n      <td>42</td>\n      <td>50</td>\n      <td>21</td>\n      <td>9</td>\n      <td>10</td>\n      <td>12</td>\n      <td>23</td>\n      <td>-7.0</td>\n      <td>0</td>\n    </tr>\n    <tr>\n      <th>1</th>\n      <td>22023</td>\n      <td>1610612737</td>\n      <td>ATL</td>\n      <td>Atlanta Hawks</td>\n      <td>0022300480</td>\n      <td>2024-01-05</td>\n      <td>ATL vs. IND</td>\n      <td>L</td>\n      <td>238</td>\n      <td>116</td>\n      <td>...</td>\n      <td>14</td>\n      <td>25</td>\n      <td>39</td>\n      <td>21</td>\n      <td>6</td>\n      <td>3</td>\n      <td>14</td>\n      <td>11</td>\n      <td>-34.0</td>\n      <td>0</td>\n    </tr>\n    <tr>\n      <th>2</th>\n      <td>22023</td>\n      <td>1610612737</td>\n      <td>ATL</td>\n      <td>Atlanta Hawks</td>\n      <td>0022300467</td>\n      <td>2024-01-03</td>\n      <td>ATL vs. OKC</td>\n      <td>W</td>\n      <td>240</td>\n      <td>141</td>\n      <td>...</td>\n      <td>15</td>\n      <td>34</td>\n      <td>49</td>\n      <td>30</td>\n      <td>8</td>\n      <td>5</td>\n      <td>11</td>\n      <td>21</td>\n      <td>3.0</td>\n      <td>1</td>\n    </tr>\n    <tr>\n      <th>3</th>\n      <td>22023</td>\n      <td>1610612737</td>\n      <td>ATL</td>\n      <td>Atlanta Hawks</td>\n      <td>0022300445</td>\n      <td>2023-12-31</td>\n      <td>ATL vs. WAS</td>\n      <td>W</td>\n      <td>240</td>\n      <td>130</td>\n      <td>...</td>\n      <td>12</td>\n      <td>46</td>\n      <td>58</td>\n      <td>27</td>\n      <td>5</td>\n      <td>3</td>\n      <td>12</td>\n      <td>18</td>\n      <td>4.0</td>\n      <td>0</td>\n    </tr>\n    <tr>\n      <th>4</th>\n      <td>22023</td>\n      <td>1610612737</td>\n      <td>ATL</td>\n      <td>Atlanta Hawks</td>\n      <td>0022300431</td>\n      <td>2023-12-29</td>\n      <td>ATL vs. SAC</td>\n      <td>L</td>\n      <td>239</td>\n      <td>110</td>\n      <td>...</td>\n      <td>18</td>\n      <td>33</td>\n      <td>51</td>\n      <td>29</td>\n      <td>9</td>\n      <td>4</td>\n      <td>15</td>\n      <td>16</td>\n      <td>-7.0</td>\n      <td>1</td>\n    </tr>\n    <tr>\n      <th>...</th>\n      <td>...</td>\n      <td>...</td>\n      <td>...</td>\n      <td>...</td>\n      <td>...</td>\n      <td>...</td>\n      <td>...</td>\n      <td>...</td>\n      <td>...</td>\n      <td>...</td>\n      <td>...</td>\n      <td>...</td>\n      <td>...</td>\n      <td>...</td>\n      <td>...</td>\n      <td>...</td>\n      <td>...</td>\n      <td>...</td>\n      <td>...</td>\n      <td>...</td>\n      <td>...</td>\n    </tr>\n    <tr>\n      <th>33</th>\n      <td>22023</td>\n      <td>1610612766</td>\n      <td>CHA</td>\n      <td>Charlotte Hornets</td>\n      <td>0022300063</td>\n      <td>2023-10-25</td>\n      <td>CHA vs. ATL</td>\n      <td>W</td>\n      <td>240</td>\n      <td>116</td>\n      <td>...</td>\n      <td>12</td>\n      <td>39</td>\n      <td>51</td>\n      <td>34</td>\n      <td>5</td>\n      <td>3</td>\n      <td>19</td>\n      <td>21</td>\n      <td>6.0</td>\n      <td>1</td>\n    </tr>\n    <tr>\n      <th>34</th>\n      <td>12023</td>\n      <td>1610612766</td>\n      <td>CHA</td>\n      <td>Charlotte Hornets</td>\n      <td>0012300060</td>\n      <td>2023-10-19</td>\n      <td>CHA vs. BOS</td>\n      <td>L</td>\n      <td>241</td>\n      <td>99</td>\n      <td>...</td>\n      <td>10</td>\n      <td>39</td>\n      <td>49</td>\n      <td>24</td>\n      <td>8</td>\n      <td>5</td>\n      <td>24</td>\n      <td>17</td>\n      <td>-28.0</td>\n      <td>1</td>\n    </tr>\n    <tr>\n      <th>35</th>\n      <td>12023</td>\n      <td>1610612766</td>\n      <td>CHA</td>\n      <td>Charlotte Hornets</td>\n      <td>0012300038</td>\n      <td>2023-10-15</td>\n      <td>CHA vs. OKC</td>\n      <td>W</td>\n      <td>241</td>\n      <td>117</td>\n      <td>...</td>\n      <td>8</td>\n      <td>35</td>\n      <td>43</td>\n      <td>28</td>\n      <td>10</td>\n      <td>7</td>\n      <td>12</td>\n      <td>15</td>\n      <td>2.0</td>\n      <td>1</td>\n    </tr>\n    <tr>\n      <th>36</th>\n      <td>12023</td>\n      <td>1610612766</td>\n      <td>CHA</td>\n      <td>Charlotte Hornets</td>\n      <td>0012300025</td>\n      <td>2023-10-12</td>\n      <td>CHA vs. WAS</td>\n      <td>L</td>\n      <td>241</td>\n      <td>92</td>\n      <td>...</td>\n      <td>16</td>\n      <td>50</td>\n      <td>66</td>\n      <td>19</td>\n      <td>9</td>\n      <td>9</td>\n      <td>23</td>\n      <td>24</td>\n      <td>-6.0</td>\n      <td>0</td>\n    </tr>\n    <tr>\n      <th>37</th>\n      <td>12023</td>\n      <td>1610612766</td>\n      <td>CHA</td>\n      <td>Charlotte Hornets</td>\n      <td>0012300016</td>\n      <td>2023-10-10</td>\n      <td>CHA vs. MIA</td>\n      <td>L</td>\n      <td>239</td>\n      <td>109</td>\n      <td>...</td>\n      <td>14</td>\n      <td>38</td>\n      <td>52</td>\n      <td>19</td>\n      <td>10</td>\n      <td>4</td>\n      <td>16</td>\n      <td>20</td>\n      <td>-4.0</td>\n      <td>0</td>\n    </tr>\n  </tbody>\n</table>\n<p>1229 rows × 29 columns</p>\n</div>"
     },
     "execution_count": 6,
     "metadata": {},
     "output_type": "execute_result"
    }
   ],
   "source": [
    "# Don't run twice, or else you have to rerun above cell\n",
    "cleaned_games = game_schedules\n",
    "cleaned_games['IS_HOME_TEAM'] = cleaned_games['MATCHUP'].str.contains('vs.').astype(int)\n",
    "cleaned_games['MATCHUP'] = cleaned_games['MATCHUP'].str.replace('@', 'vs.')\n",
    "cleaned_games"
   ],
   "metadata": {
    "collapsed": false,
    "ExecuteTime": {
     "end_time": "2024-01-10T03:23:59.216712Z",
     "start_time": "2024-01-10T03:23:59.199793Z"
    }
   }
  },
  {
   "cell_type": "code",
   "execution_count": 33,
   "outputs": [
    {
     "data": {
      "text/plain": "               TEAM_ID TEAM_ABBREVIATION     GAME_ID      MATCHUP WL  MIN  \\\nGAME_DATE                                                                   \n2024-01-07  1610612737               ATL  0022300499  ATL vs. ORL  L  265   \n2024-01-05  1610612737               ATL  0022300480  ATL vs. IND  L  238   \n2024-01-03  1610612737               ATL  0022300467  ATL vs. OKC  W  240   \n2023-12-31  1610612737               ATL  0022300445  ATL vs. WAS  W  240   \n2023-12-29  1610612737               ATL  0022300431  ATL vs. SAC  L  239   \n...                ...               ...         ...          ... ..  ...   \n2023-10-25  1610612766               CHA  0022300063  CHA vs. ATL  W  240   \n2023-10-19  1610612766               CHA  0012300060  CHA vs. BOS  L  241   \n2023-10-15  1610612766               CHA  0012300038  CHA vs. OKC  W  241   \n2023-10-12  1610612766               CHA  0012300025  CHA vs. WAS  L  241   \n2023-10-10  1610612766               CHA  0012300016  CHA vs. MIA  L  239   \n\n            PTS  FGM  FGA  FG_PCT  ...  DREB  REB  AST  STL  BLK  TOV  PF  \\\nGAME_DATE                          ...                                      \n2024-01-07  110   42   91   0.462  ...    42   50   21    9   10   12  23   \n2024-01-05  116   40   93   0.430  ...    25   39   21    6    3   14  11   \n2024-01-03  141   48   95   0.505  ...    34   49   30    8    5   11  21   \n2023-12-31  130   47   95   0.495  ...    46   58   27    5    3   12  18   \n2023-12-29  110   37   94   0.394  ...    33   51   29    9    4   15  16   \n...         ...  ...  ...     ...  ...   ...  ...  ...  ...  ...  ...  ..   \n2023-10-25  116   43   86   0.500  ...    39   51   34    5    3   19  21   \n2023-10-19   99   37   88   0.420  ...    39   49   24    8    5   24  17   \n2023-10-15  117   46   88   0.523  ...    35   43   28   10    7   12  15   \n2023-10-12   92   35   94   0.372  ...    50   66   19    9    9   23  24   \n2023-10-10  109   36   93   0.387  ...    38   52   19   10    4   16  20   \n\n            PLUS_MINUS  IS_HOME_TEAM  OPPONENT  \nGAME_DATE                                       \n2024-01-07        -7.0             0       ORL  \n2024-01-05       -34.0             0       IND  \n2024-01-03         3.0             1       OKC  \n2023-12-31         4.0             0       WAS  \n2023-12-29        -7.0             1       SAC  \n...                ...           ...       ...  \n2023-10-25         6.0             1       ATL  \n2023-10-19       -28.0             1       BOS  \n2023-10-15         2.0             1       OKC  \n2023-10-12        -6.0             0       WAS  \n2023-10-10        -4.0             0       MIA  \n\n[1229 rows x 27 columns]",
      "text/html": "<div>\n<style scoped>\n    .dataframe tbody tr th:only-of-type {\n        vertical-align: middle;\n    }\n\n    .dataframe tbody tr th {\n        vertical-align: top;\n    }\n\n    .dataframe thead th {\n        text-align: right;\n    }\n</style>\n<table border=\"1\" class=\"dataframe\">\n  <thead>\n    <tr style=\"text-align: right;\">\n      <th></th>\n      <th>TEAM_ID</th>\n      <th>TEAM_ABBREVIATION</th>\n      <th>GAME_ID</th>\n      <th>MATCHUP</th>\n      <th>WL</th>\n      <th>MIN</th>\n      <th>PTS</th>\n      <th>FGM</th>\n      <th>FGA</th>\n      <th>FG_PCT</th>\n      <th>...</th>\n      <th>DREB</th>\n      <th>REB</th>\n      <th>AST</th>\n      <th>STL</th>\n      <th>BLK</th>\n      <th>TOV</th>\n      <th>PF</th>\n      <th>PLUS_MINUS</th>\n      <th>IS_HOME_TEAM</th>\n      <th>OPPONENT</th>\n    </tr>\n    <tr>\n      <th>GAME_DATE</th>\n      <th></th>\n      <th></th>\n      <th></th>\n      <th></th>\n      <th></th>\n      <th></th>\n      <th></th>\n      <th></th>\n      <th></th>\n      <th></th>\n      <th></th>\n      <th></th>\n      <th></th>\n      <th></th>\n      <th></th>\n      <th></th>\n      <th></th>\n      <th></th>\n      <th></th>\n      <th></th>\n      <th></th>\n    </tr>\n  </thead>\n  <tbody>\n    <tr>\n      <th>2024-01-07</th>\n      <td>1610612737</td>\n      <td>ATL</td>\n      <td>0022300499</td>\n      <td>ATL vs. ORL</td>\n      <td>L</td>\n      <td>265</td>\n      <td>110</td>\n      <td>42</td>\n      <td>91</td>\n      <td>0.462</td>\n      <td>...</td>\n      <td>42</td>\n      <td>50</td>\n      <td>21</td>\n      <td>9</td>\n      <td>10</td>\n      <td>12</td>\n      <td>23</td>\n      <td>-7.0</td>\n      <td>0</td>\n      <td>ORL</td>\n    </tr>\n    <tr>\n      <th>2024-01-05</th>\n      <td>1610612737</td>\n      <td>ATL</td>\n      <td>0022300480</td>\n      <td>ATL vs. IND</td>\n      <td>L</td>\n      <td>238</td>\n      <td>116</td>\n      <td>40</td>\n      <td>93</td>\n      <td>0.430</td>\n      <td>...</td>\n      <td>25</td>\n      <td>39</td>\n      <td>21</td>\n      <td>6</td>\n      <td>3</td>\n      <td>14</td>\n      <td>11</td>\n      <td>-34.0</td>\n      <td>0</td>\n      <td>IND</td>\n    </tr>\n    <tr>\n      <th>2024-01-03</th>\n      <td>1610612737</td>\n      <td>ATL</td>\n      <td>0022300467</td>\n      <td>ATL vs. OKC</td>\n      <td>W</td>\n      <td>240</td>\n      <td>141</td>\n      <td>48</td>\n      <td>95</td>\n      <td>0.505</td>\n      <td>...</td>\n      <td>34</td>\n      <td>49</td>\n      <td>30</td>\n      <td>8</td>\n      <td>5</td>\n      <td>11</td>\n      <td>21</td>\n      <td>3.0</td>\n      <td>1</td>\n      <td>OKC</td>\n    </tr>\n    <tr>\n      <th>2023-12-31</th>\n      <td>1610612737</td>\n      <td>ATL</td>\n      <td>0022300445</td>\n      <td>ATL vs. WAS</td>\n      <td>W</td>\n      <td>240</td>\n      <td>130</td>\n      <td>47</td>\n      <td>95</td>\n      <td>0.495</td>\n      <td>...</td>\n      <td>46</td>\n      <td>58</td>\n      <td>27</td>\n      <td>5</td>\n      <td>3</td>\n      <td>12</td>\n      <td>18</td>\n      <td>4.0</td>\n      <td>0</td>\n      <td>WAS</td>\n    </tr>\n    <tr>\n      <th>2023-12-29</th>\n      <td>1610612737</td>\n      <td>ATL</td>\n      <td>0022300431</td>\n      <td>ATL vs. SAC</td>\n      <td>L</td>\n      <td>239</td>\n      <td>110</td>\n      <td>37</td>\n      <td>94</td>\n      <td>0.394</td>\n      <td>...</td>\n      <td>33</td>\n      <td>51</td>\n      <td>29</td>\n      <td>9</td>\n      <td>4</td>\n      <td>15</td>\n      <td>16</td>\n      <td>-7.0</td>\n      <td>1</td>\n      <td>SAC</td>\n    </tr>\n    <tr>\n      <th>...</th>\n      <td>...</td>\n      <td>...</td>\n      <td>...</td>\n      <td>...</td>\n      <td>...</td>\n      <td>...</td>\n      <td>...</td>\n      <td>...</td>\n      <td>...</td>\n      <td>...</td>\n      <td>...</td>\n      <td>...</td>\n      <td>...</td>\n      <td>...</td>\n      <td>...</td>\n      <td>...</td>\n      <td>...</td>\n      <td>...</td>\n      <td>...</td>\n      <td>...</td>\n      <td>...</td>\n    </tr>\n    <tr>\n      <th>2023-10-25</th>\n      <td>1610612766</td>\n      <td>CHA</td>\n      <td>0022300063</td>\n      <td>CHA vs. ATL</td>\n      <td>W</td>\n      <td>240</td>\n      <td>116</td>\n      <td>43</td>\n      <td>86</td>\n      <td>0.500</td>\n      <td>...</td>\n      <td>39</td>\n      <td>51</td>\n      <td>34</td>\n      <td>5</td>\n      <td>3</td>\n      <td>19</td>\n      <td>21</td>\n      <td>6.0</td>\n      <td>1</td>\n      <td>ATL</td>\n    </tr>\n    <tr>\n      <th>2023-10-19</th>\n      <td>1610612766</td>\n      <td>CHA</td>\n      <td>0012300060</td>\n      <td>CHA vs. BOS</td>\n      <td>L</td>\n      <td>241</td>\n      <td>99</td>\n      <td>37</td>\n      <td>88</td>\n      <td>0.420</td>\n      <td>...</td>\n      <td>39</td>\n      <td>49</td>\n      <td>24</td>\n      <td>8</td>\n      <td>5</td>\n      <td>24</td>\n      <td>17</td>\n      <td>-28.0</td>\n      <td>1</td>\n      <td>BOS</td>\n    </tr>\n    <tr>\n      <th>2023-10-15</th>\n      <td>1610612766</td>\n      <td>CHA</td>\n      <td>0012300038</td>\n      <td>CHA vs. OKC</td>\n      <td>W</td>\n      <td>241</td>\n      <td>117</td>\n      <td>46</td>\n      <td>88</td>\n      <td>0.523</td>\n      <td>...</td>\n      <td>35</td>\n      <td>43</td>\n      <td>28</td>\n      <td>10</td>\n      <td>7</td>\n      <td>12</td>\n      <td>15</td>\n      <td>2.0</td>\n      <td>1</td>\n      <td>OKC</td>\n    </tr>\n    <tr>\n      <th>2023-10-12</th>\n      <td>1610612766</td>\n      <td>CHA</td>\n      <td>0012300025</td>\n      <td>CHA vs. WAS</td>\n      <td>L</td>\n      <td>241</td>\n      <td>92</td>\n      <td>35</td>\n      <td>94</td>\n      <td>0.372</td>\n      <td>...</td>\n      <td>50</td>\n      <td>66</td>\n      <td>19</td>\n      <td>9</td>\n      <td>9</td>\n      <td>23</td>\n      <td>24</td>\n      <td>-6.0</td>\n      <td>0</td>\n      <td>WAS</td>\n    </tr>\n    <tr>\n      <th>2023-10-10</th>\n      <td>1610612766</td>\n      <td>CHA</td>\n      <td>0012300016</td>\n      <td>CHA vs. MIA</td>\n      <td>L</td>\n      <td>239</td>\n      <td>109</td>\n      <td>36</td>\n      <td>93</td>\n      <td>0.387</td>\n      <td>...</td>\n      <td>38</td>\n      <td>52</td>\n      <td>19</td>\n      <td>10</td>\n      <td>4</td>\n      <td>16</td>\n      <td>20</td>\n      <td>-4.0</td>\n      <td>0</td>\n      <td>MIA</td>\n    </tr>\n  </tbody>\n</table>\n<p>1229 rows × 27 columns</p>\n</div>"
     },
     "execution_count": 33,
     "metadata": {},
     "output_type": "execute_result"
    }
   ],
   "source": [
    "team_stats = cleaned_games.drop(['SEASON_ID', 'TEAM_NAME'], axis=1)\n",
    "team_stats = team_stats.set_index(['GAME_DATE'])\n",
    "team_stats['OPPONENT'] = team_stats['MATCHUP'].str[-3:]\n",
    "team_stats"
   ],
   "metadata": {
    "collapsed": false,
    "ExecuteTime": {
     "end_time": "2024-01-12T02:12:11.121593Z",
     "start_time": "2024-01-12T02:12:11.103567Z"
    }
   }
  },
  {
   "cell_type": "code",
   "execution_count": 8,
   "outputs": [],
   "source": [
    "home = team_stats[team_stats['IS_HOME_TEAM'] == 1]\n",
    "away = team_stats[team_stats['IS_HOME_TEAM'] == 0]"
   ],
   "metadata": {
    "collapsed": false,
    "ExecuteTime": {
     "end_time": "2024-01-10T03:23:59.723064Z",
     "start_time": "2024-01-10T03:23:59.717676Z"
    }
   }
  },
  {
   "cell_type": "code",
   "execution_count": 25,
   "outputs": [
    {
     "data": {
      "text/plain": "             TEAM_ID_x TEAM_ABBREVIATION_x     GAME_ID    MATCHUP_x WL_x  \\\nGAME_DATE                                                                  \n2024-01-03  1610612737                 ATL  0022300467  ATL vs. OKC    W   \n2023-12-29  1610612737                 ATL  0022300431  ATL vs. SAC    L   \n2023-12-23  1610612737                 ATL  0022300393  ATL vs. MEM    L   \n2023-12-18  1610612737                 ATL  0022300352  ATL vs. DET    W   \n2023-12-11  1610612737                 ATL  0022300296  ATL vs. DEN    L   \n...                ...                 ...         ...          ...  ...   \n2023-10-30  1610612766                 CHA  0022300101  CHA vs. BKN    L   \n2023-10-27  1610612766                 CHA  0022300077  CHA vs. DET    L   \n2023-10-25  1610612766                 CHA  0022300063  CHA vs. ATL    W   \n2023-10-19  1610612766                 CHA  0012300060  CHA vs. BOS    L   \n2023-10-15  1610612766                 CHA  0012300038  CHA vs. OKC    W   \n\n            MIN_x  PTS_x  FGM_x  FGA_x  FG_PCT_x  ...  DREB_y  REB_y  AST_y  \\\nGAME_DATE                                         ...                         \n2024-01-03    240    141     48     95     0.505  ...      28     37     30   \n2023-12-29    239    110     37     94     0.394  ...      33     38     35   \n2023-12-23    239    119     45     96     0.469  ...      36     51     29   \n2023-12-18    240    130     46     85     0.541  ...      24     36     23   \n2023-12-11    240    122     44     96     0.458  ...      35     49     29   \n...           ...    ...    ...    ...       ...  ...     ...    ...    ...   \n2023-10-30    240    121     47     96     0.490  ...      36     46     25   \n2023-10-27    240     99     33     88     0.375  ...      41     53     28   \n2023-10-25    240    116     43     86     0.500  ...      30     42     24   \n2023-10-19    241     99     37     88     0.420  ...      39     55     34   \n2023-10-15    241    117     46     88     0.523  ...      33     46     30   \n\n            STL_y  BLK_y  TOV_y  PF_y  PLUS_MINUS_y  IS_HOME_TEAM_y  \\\nGAME_DATE                                                             \n2024-01-03     10      1     13    23          -3.0               0   \n2023-12-29      9      3     12    20           7.0               0   \n2023-12-23      6      7     11    16           6.0               0   \n2023-12-18      7      3     13    26          -6.0               0   \n2023-12-11      9      8     16    19           7.0               0   \n...           ...    ...    ...   ...           ...             ...   \n2023-10-30      4      8     13    19          12.0               0   \n2023-10-27      7      6     23    29          12.0               0   \n2023-10-25     12      1     12    19          -6.0               0   \n2023-10-19     22      6     15    19          28.0               0   \n2023-10-15      4      2     15    18          -2.0               0   \n\n            OPPONENT_y  \nGAME_DATE               \n2024-01-03         ATL  \n2023-12-29         ATL  \n2023-12-23         ATL  \n2023-12-18         ATL  \n2023-12-11         ATL  \n...                ...  \n2023-10-30         CHA  \n2023-10-27         CHA  \n2023-10-25         CHA  \n2023-10-19         CHA  \n2023-10-15         CHA  \n\n[610 rows x 53 columns]",
      "text/html": "<div>\n<style scoped>\n    .dataframe tbody tr th:only-of-type {\n        vertical-align: middle;\n    }\n\n    .dataframe tbody tr th {\n        vertical-align: top;\n    }\n\n    .dataframe thead th {\n        text-align: right;\n    }\n</style>\n<table border=\"1\" class=\"dataframe\">\n  <thead>\n    <tr style=\"text-align: right;\">\n      <th></th>\n      <th>TEAM_ID_x</th>\n      <th>TEAM_ABBREVIATION_x</th>\n      <th>GAME_ID</th>\n      <th>MATCHUP_x</th>\n      <th>WL_x</th>\n      <th>MIN_x</th>\n      <th>PTS_x</th>\n      <th>FGM_x</th>\n      <th>FGA_x</th>\n      <th>FG_PCT_x</th>\n      <th>...</th>\n      <th>DREB_y</th>\n      <th>REB_y</th>\n      <th>AST_y</th>\n      <th>STL_y</th>\n      <th>BLK_y</th>\n      <th>TOV_y</th>\n      <th>PF_y</th>\n      <th>PLUS_MINUS_y</th>\n      <th>IS_HOME_TEAM_y</th>\n      <th>OPPONENT_y</th>\n    </tr>\n    <tr>\n      <th>GAME_DATE</th>\n      <th></th>\n      <th></th>\n      <th></th>\n      <th></th>\n      <th></th>\n      <th></th>\n      <th></th>\n      <th></th>\n      <th></th>\n      <th></th>\n      <th></th>\n      <th></th>\n      <th></th>\n      <th></th>\n      <th></th>\n      <th></th>\n      <th></th>\n      <th></th>\n      <th></th>\n      <th></th>\n      <th></th>\n    </tr>\n  </thead>\n  <tbody>\n    <tr>\n      <th>2024-01-03</th>\n      <td>1610612737</td>\n      <td>ATL</td>\n      <td>0022300467</td>\n      <td>ATL vs. OKC</td>\n      <td>W</td>\n      <td>240</td>\n      <td>141</td>\n      <td>48</td>\n      <td>95</td>\n      <td>0.505</td>\n      <td>...</td>\n      <td>28</td>\n      <td>37</td>\n      <td>30</td>\n      <td>10</td>\n      <td>1</td>\n      <td>13</td>\n      <td>23</td>\n      <td>-3.0</td>\n      <td>0</td>\n      <td>ATL</td>\n    </tr>\n    <tr>\n      <th>2023-12-29</th>\n      <td>1610612737</td>\n      <td>ATL</td>\n      <td>0022300431</td>\n      <td>ATL vs. SAC</td>\n      <td>L</td>\n      <td>239</td>\n      <td>110</td>\n      <td>37</td>\n      <td>94</td>\n      <td>0.394</td>\n      <td>...</td>\n      <td>33</td>\n      <td>38</td>\n      <td>35</td>\n      <td>9</td>\n      <td>3</td>\n      <td>12</td>\n      <td>20</td>\n      <td>7.0</td>\n      <td>0</td>\n      <td>ATL</td>\n    </tr>\n    <tr>\n      <th>2023-12-23</th>\n      <td>1610612737</td>\n      <td>ATL</td>\n      <td>0022300393</td>\n      <td>ATL vs. MEM</td>\n      <td>L</td>\n      <td>239</td>\n      <td>119</td>\n      <td>45</td>\n      <td>96</td>\n      <td>0.469</td>\n      <td>...</td>\n      <td>36</td>\n      <td>51</td>\n      <td>29</td>\n      <td>6</td>\n      <td>7</td>\n      <td>11</td>\n      <td>16</td>\n      <td>6.0</td>\n      <td>0</td>\n      <td>ATL</td>\n    </tr>\n    <tr>\n      <th>2023-12-18</th>\n      <td>1610612737</td>\n      <td>ATL</td>\n      <td>0022300352</td>\n      <td>ATL vs. DET</td>\n      <td>W</td>\n      <td>240</td>\n      <td>130</td>\n      <td>46</td>\n      <td>85</td>\n      <td>0.541</td>\n      <td>...</td>\n      <td>24</td>\n      <td>36</td>\n      <td>23</td>\n      <td>7</td>\n      <td>3</td>\n      <td>13</td>\n      <td>26</td>\n      <td>-6.0</td>\n      <td>0</td>\n      <td>ATL</td>\n    </tr>\n    <tr>\n      <th>2023-12-11</th>\n      <td>1610612737</td>\n      <td>ATL</td>\n      <td>0022300296</td>\n      <td>ATL vs. DEN</td>\n      <td>L</td>\n      <td>240</td>\n      <td>122</td>\n      <td>44</td>\n      <td>96</td>\n      <td>0.458</td>\n      <td>...</td>\n      <td>35</td>\n      <td>49</td>\n      <td>29</td>\n      <td>9</td>\n      <td>8</td>\n      <td>16</td>\n      <td>19</td>\n      <td>7.0</td>\n      <td>0</td>\n      <td>ATL</td>\n    </tr>\n    <tr>\n      <th>...</th>\n      <td>...</td>\n      <td>...</td>\n      <td>...</td>\n      <td>...</td>\n      <td>...</td>\n      <td>...</td>\n      <td>...</td>\n      <td>...</td>\n      <td>...</td>\n      <td>...</td>\n      <td>...</td>\n      <td>...</td>\n      <td>...</td>\n      <td>...</td>\n      <td>...</td>\n      <td>...</td>\n      <td>...</td>\n      <td>...</td>\n      <td>...</td>\n      <td>...</td>\n      <td>...</td>\n    </tr>\n    <tr>\n      <th>2023-10-30</th>\n      <td>1610612766</td>\n      <td>CHA</td>\n      <td>0022300101</td>\n      <td>CHA vs. BKN</td>\n      <td>L</td>\n      <td>240</td>\n      <td>121</td>\n      <td>47</td>\n      <td>96</td>\n      <td>0.490</td>\n      <td>...</td>\n      <td>36</td>\n      <td>46</td>\n      <td>25</td>\n      <td>4</td>\n      <td>8</td>\n      <td>13</td>\n      <td>19</td>\n      <td>12.0</td>\n      <td>0</td>\n      <td>CHA</td>\n    </tr>\n    <tr>\n      <th>2023-10-27</th>\n      <td>1610612766</td>\n      <td>CHA</td>\n      <td>0022300077</td>\n      <td>CHA vs. DET</td>\n      <td>L</td>\n      <td>240</td>\n      <td>99</td>\n      <td>33</td>\n      <td>88</td>\n      <td>0.375</td>\n      <td>...</td>\n      <td>41</td>\n      <td>53</td>\n      <td>28</td>\n      <td>7</td>\n      <td>6</td>\n      <td>23</td>\n      <td>29</td>\n      <td>12.0</td>\n      <td>0</td>\n      <td>CHA</td>\n    </tr>\n    <tr>\n      <th>2023-10-25</th>\n      <td>1610612766</td>\n      <td>CHA</td>\n      <td>0022300063</td>\n      <td>CHA vs. ATL</td>\n      <td>W</td>\n      <td>240</td>\n      <td>116</td>\n      <td>43</td>\n      <td>86</td>\n      <td>0.500</td>\n      <td>...</td>\n      <td>30</td>\n      <td>42</td>\n      <td>24</td>\n      <td>12</td>\n      <td>1</td>\n      <td>12</td>\n      <td>19</td>\n      <td>-6.0</td>\n      <td>0</td>\n      <td>CHA</td>\n    </tr>\n    <tr>\n      <th>2023-10-19</th>\n      <td>1610612766</td>\n      <td>CHA</td>\n      <td>0012300060</td>\n      <td>CHA vs. BOS</td>\n      <td>L</td>\n      <td>241</td>\n      <td>99</td>\n      <td>37</td>\n      <td>88</td>\n      <td>0.420</td>\n      <td>...</td>\n      <td>39</td>\n      <td>55</td>\n      <td>34</td>\n      <td>22</td>\n      <td>6</td>\n      <td>15</td>\n      <td>19</td>\n      <td>28.0</td>\n      <td>0</td>\n      <td>CHA</td>\n    </tr>\n    <tr>\n      <th>2023-10-15</th>\n      <td>1610612766</td>\n      <td>CHA</td>\n      <td>0012300038</td>\n      <td>CHA vs. OKC</td>\n      <td>W</td>\n      <td>241</td>\n      <td>117</td>\n      <td>46</td>\n      <td>88</td>\n      <td>0.523</td>\n      <td>...</td>\n      <td>33</td>\n      <td>46</td>\n      <td>30</td>\n      <td>4</td>\n      <td>2</td>\n      <td>15</td>\n      <td>18</td>\n      <td>-2.0</td>\n      <td>0</td>\n      <td>CHA</td>\n    </tr>\n  </tbody>\n</table>\n<p>610 rows × 53 columns</p>\n</div>"
     },
     "execution_count": 25,
     "metadata": {},
     "output_type": "execute_result"
    }
   ],
   "source": [
    "merged = home.merge(away, on=['GAME_DATE','GAME_ID'], how='inner')\n",
    "merged"
   ],
   "metadata": {
    "collapsed": false,
    "ExecuteTime": {
     "end_time": "2024-01-12T01:53:00.100404Z",
     "start_time": "2024-01-12T01:53:00.080397Z"
    }
   }
  },
  {
   "cell_type": "code",
   "execution_count": 12,
   "outputs": [
    {
     "data": {
      "text/plain": "  0%|          | 0/609 [00:00<?, ?it/s]",
      "application/vnd.jupyter.widget-view+json": {
       "version_major": 2,
       "version_minor": 0,
       "model_id": "8471c93e346f42788c81b17ec7dee577"
      }
     },
     "metadata": {},
     "output_type": "display_data"
    }
   ],
   "source": [
    "box_scores = pd.DataFrame()\n",
    "for game_id in tqdm(merged['GAME_ID'].unique()):\n",
    "    game_box_scores = boxscoreadvancedv3.BoxScoreAdvancedV3(game_id)\n",
    "    box_scores = pd.concat([box_scores, game_box_scores.get_data_frames()[0]])"
   ],
   "metadata": {
    "collapsed": false,
    "ExecuteTime": {
     "end_time": "2024-01-11T00:06:42.413838Z",
     "start_time": "2024-01-11T00:03:49.207110Z"
    }
   }
  },
  {
   "cell_type": "code",
   "execution_count": 11,
   "outputs": [],
   "source": [
    "box_scores.to_csv('box_scores.csv')"
   ],
   "metadata": {
    "collapsed": false,
    "ExecuteTime": {
     "end_time": "2024-01-10T16:15:42.689736Z",
     "start_time": "2024-01-10T16:15:42.536692Z"
    }
   }
  },
  {
   "cell_type": "code",
   "execution_count": 32,
   "outputs": [
    {
     "data": {
      "text/plain": "                        TEAM_ID_x TEAM_ABBREVIATION_x    MATCHUP_x WL_x  \\\nGAME_DATE  GAME_ID                                                        \n2024-01-03 0022300467  1610612737                 ATL  ATL vs. OKC    W   \n2023-12-29 0022300431  1610612737                 ATL  ATL vs. SAC    L   \n2023-12-23 0022300393  1610612737                 ATL  ATL vs. MEM    L   \n2023-12-18 0022300352  1610612737                 ATL  ATL vs. DET    W   \n2023-12-11 0022300296  1610612737                 ATL  ATL vs. DEN    L   \n...                           ...                 ...          ...  ...   \n2023-10-30 0022300101  1610612766                 CHA  CHA vs. BKN    L   \n2023-10-27 0022300077  1610612766                 CHA  CHA vs. DET    L   \n2023-10-25 0022300063  1610612766                 CHA  CHA vs. ATL    W   \n2023-10-19 0012300060  1610612766                 CHA  CHA vs. BOS    L   \n2023-10-15 0012300038  1610612766                 CHA  CHA vs. OKC    W   \n\n                       MIN_x  PTS_x  FGM_x  FGA_x  FG_PCT_x  FG3M_x  ...  \\\nGAME_DATE  GAME_ID                                                   ...   \n2024-01-03 0022300467    240    141     48     95     0.505      14  ...   \n2023-12-29 0022300431    239    110     37     94     0.394      15  ...   \n2023-12-23 0022300393    239    119     45     96     0.469      13  ...   \n2023-12-18 0022300352    240    130     46     85     0.541      16  ...   \n2023-12-11 0022300296    240    122     44     96     0.458      17  ...   \n...                      ...    ...    ...    ...       ...     ...  ...   \n2023-10-30 0022300101    240    121     47     96     0.490       8  ...   \n2023-10-27 0022300077    240     99     33     88     0.375       7  ...   \n2023-10-25 0022300063    240    116     43     86     0.500      11  ...   \n2023-10-19 0012300060    241     99     37     88     0.420       4  ...   \n2023-10-15 0012300038    241    117     46     88     0.523      12  ...   \n\n                       DREB_y  REB_y  AST_y  STL_y  BLK_y  TOV_y  PF_y  \\\nGAME_DATE  GAME_ID                                                       \n2024-01-03 0022300467      28     37     30     10      1     13    23   \n2023-12-29 0022300431      33     38     35      9      3     12    20   \n2023-12-23 0022300393      36     51     29      6      7     11    16   \n2023-12-18 0022300352      24     36     23      7      3     13    26   \n2023-12-11 0022300296      35     49     29      9      8     16    19   \n...                       ...    ...    ...    ...    ...    ...   ...   \n2023-10-30 0022300101      36     46     25      4      8     13    19   \n2023-10-27 0022300077      41     53     28      7      6     23    29   \n2023-10-25 0022300063      30     42     24     12      1     12    19   \n2023-10-19 0012300060      39     55     34     22      6     15    19   \n2023-10-15 0012300038      33     46     30      4      2     15    18   \n\n                       PLUS_MINUS_y  IS_HOME_TEAM_y  OPPONENT_y  \nGAME_DATE  GAME_ID                                               \n2024-01-03 0022300467          -3.0               0         ATL  \n2023-12-29 0022300431           7.0               0         ATL  \n2023-12-23 0022300393           6.0               0         ATL  \n2023-12-18 0022300352          -6.0               0         ATL  \n2023-12-11 0022300296           7.0               0         ATL  \n...                             ...             ...         ...  \n2023-10-30 0022300101          12.0               0         CHA  \n2023-10-27 0022300077          12.0               0         CHA  \n2023-10-25 0022300063          -6.0               0         CHA  \n2023-10-19 0012300060          28.0               0         CHA  \n2023-10-15 0012300038          -2.0               0         CHA  \n\n[610 rows x 52 columns]",
      "text/html": "<div>\n<style scoped>\n    .dataframe tbody tr th:only-of-type {\n        vertical-align: middle;\n    }\n\n    .dataframe tbody tr th {\n        vertical-align: top;\n    }\n\n    .dataframe thead th {\n        text-align: right;\n    }\n</style>\n<table border=\"1\" class=\"dataframe\">\n  <thead>\n    <tr style=\"text-align: right;\">\n      <th></th>\n      <th></th>\n      <th>TEAM_ID_x</th>\n      <th>TEAM_ABBREVIATION_x</th>\n      <th>MATCHUP_x</th>\n      <th>WL_x</th>\n      <th>MIN_x</th>\n      <th>PTS_x</th>\n      <th>FGM_x</th>\n      <th>FGA_x</th>\n      <th>FG_PCT_x</th>\n      <th>FG3M_x</th>\n      <th>...</th>\n      <th>DREB_y</th>\n      <th>REB_y</th>\n      <th>AST_y</th>\n      <th>STL_y</th>\n      <th>BLK_y</th>\n      <th>TOV_y</th>\n      <th>PF_y</th>\n      <th>PLUS_MINUS_y</th>\n      <th>IS_HOME_TEAM_y</th>\n      <th>OPPONENT_y</th>\n    </tr>\n    <tr>\n      <th>GAME_DATE</th>\n      <th>GAME_ID</th>\n      <th></th>\n      <th></th>\n      <th></th>\n      <th></th>\n      <th></th>\n      <th></th>\n      <th></th>\n      <th></th>\n      <th></th>\n      <th></th>\n      <th></th>\n      <th></th>\n      <th></th>\n      <th></th>\n      <th></th>\n      <th></th>\n      <th></th>\n      <th></th>\n      <th></th>\n      <th></th>\n      <th></th>\n    </tr>\n  </thead>\n  <tbody>\n    <tr>\n      <th>2024-01-03</th>\n      <th>0022300467</th>\n      <td>1610612737</td>\n      <td>ATL</td>\n      <td>ATL vs. OKC</td>\n      <td>W</td>\n      <td>240</td>\n      <td>141</td>\n      <td>48</td>\n      <td>95</td>\n      <td>0.505</td>\n      <td>14</td>\n      <td>...</td>\n      <td>28</td>\n      <td>37</td>\n      <td>30</td>\n      <td>10</td>\n      <td>1</td>\n      <td>13</td>\n      <td>23</td>\n      <td>-3.0</td>\n      <td>0</td>\n      <td>ATL</td>\n    </tr>\n    <tr>\n      <th>2023-12-29</th>\n      <th>0022300431</th>\n      <td>1610612737</td>\n      <td>ATL</td>\n      <td>ATL vs. SAC</td>\n      <td>L</td>\n      <td>239</td>\n      <td>110</td>\n      <td>37</td>\n      <td>94</td>\n      <td>0.394</td>\n      <td>15</td>\n      <td>...</td>\n      <td>33</td>\n      <td>38</td>\n      <td>35</td>\n      <td>9</td>\n      <td>3</td>\n      <td>12</td>\n      <td>20</td>\n      <td>7.0</td>\n      <td>0</td>\n      <td>ATL</td>\n    </tr>\n    <tr>\n      <th>2023-12-23</th>\n      <th>0022300393</th>\n      <td>1610612737</td>\n      <td>ATL</td>\n      <td>ATL vs. MEM</td>\n      <td>L</td>\n      <td>239</td>\n      <td>119</td>\n      <td>45</td>\n      <td>96</td>\n      <td>0.469</td>\n      <td>13</td>\n      <td>...</td>\n      <td>36</td>\n      <td>51</td>\n      <td>29</td>\n      <td>6</td>\n      <td>7</td>\n      <td>11</td>\n      <td>16</td>\n      <td>6.0</td>\n      <td>0</td>\n      <td>ATL</td>\n    </tr>\n    <tr>\n      <th>2023-12-18</th>\n      <th>0022300352</th>\n      <td>1610612737</td>\n      <td>ATL</td>\n      <td>ATL vs. DET</td>\n      <td>W</td>\n      <td>240</td>\n      <td>130</td>\n      <td>46</td>\n      <td>85</td>\n      <td>0.541</td>\n      <td>16</td>\n      <td>...</td>\n      <td>24</td>\n      <td>36</td>\n      <td>23</td>\n      <td>7</td>\n      <td>3</td>\n      <td>13</td>\n      <td>26</td>\n      <td>-6.0</td>\n      <td>0</td>\n      <td>ATL</td>\n    </tr>\n    <tr>\n      <th>2023-12-11</th>\n      <th>0022300296</th>\n      <td>1610612737</td>\n      <td>ATL</td>\n      <td>ATL vs. DEN</td>\n      <td>L</td>\n      <td>240</td>\n      <td>122</td>\n      <td>44</td>\n      <td>96</td>\n      <td>0.458</td>\n      <td>17</td>\n      <td>...</td>\n      <td>35</td>\n      <td>49</td>\n      <td>29</td>\n      <td>9</td>\n      <td>8</td>\n      <td>16</td>\n      <td>19</td>\n      <td>7.0</td>\n      <td>0</td>\n      <td>ATL</td>\n    </tr>\n    <tr>\n      <th>...</th>\n      <th>...</th>\n      <td>...</td>\n      <td>...</td>\n      <td>...</td>\n      <td>...</td>\n      <td>...</td>\n      <td>...</td>\n      <td>...</td>\n      <td>...</td>\n      <td>...</td>\n      <td>...</td>\n      <td>...</td>\n      <td>...</td>\n      <td>...</td>\n      <td>...</td>\n      <td>...</td>\n      <td>...</td>\n      <td>...</td>\n      <td>...</td>\n      <td>...</td>\n      <td>...</td>\n      <td>...</td>\n    </tr>\n    <tr>\n      <th>2023-10-30</th>\n      <th>0022300101</th>\n      <td>1610612766</td>\n      <td>CHA</td>\n      <td>CHA vs. BKN</td>\n      <td>L</td>\n      <td>240</td>\n      <td>121</td>\n      <td>47</td>\n      <td>96</td>\n      <td>0.490</td>\n      <td>8</td>\n      <td>...</td>\n      <td>36</td>\n      <td>46</td>\n      <td>25</td>\n      <td>4</td>\n      <td>8</td>\n      <td>13</td>\n      <td>19</td>\n      <td>12.0</td>\n      <td>0</td>\n      <td>CHA</td>\n    </tr>\n    <tr>\n      <th>2023-10-27</th>\n      <th>0022300077</th>\n      <td>1610612766</td>\n      <td>CHA</td>\n      <td>CHA vs. DET</td>\n      <td>L</td>\n      <td>240</td>\n      <td>99</td>\n      <td>33</td>\n      <td>88</td>\n      <td>0.375</td>\n      <td>7</td>\n      <td>...</td>\n      <td>41</td>\n      <td>53</td>\n      <td>28</td>\n      <td>7</td>\n      <td>6</td>\n      <td>23</td>\n      <td>29</td>\n      <td>12.0</td>\n      <td>0</td>\n      <td>CHA</td>\n    </tr>\n    <tr>\n      <th>2023-10-25</th>\n      <th>0022300063</th>\n      <td>1610612766</td>\n      <td>CHA</td>\n      <td>CHA vs. ATL</td>\n      <td>W</td>\n      <td>240</td>\n      <td>116</td>\n      <td>43</td>\n      <td>86</td>\n      <td>0.500</td>\n      <td>11</td>\n      <td>...</td>\n      <td>30</td>\n      <td>42</td>\n      <td>24</td>\n      <td>12</td>\n      <td>1</td>\n      <td>12</td>\n      <td>19</td>\n      <td>-6.0</td>\n      <td>0</td>\n      <td>CHA</td>\n    </tr>\n    <tr>\n      <th>2023-10-19</th>\n      <th>0012300060</th>\n      <td>1610612766</td>\n      <td>CHA</td>\n      <td>CHA vs. BOS</td>\n      <td>L</td>\n      <td>241</td>\n      <td>99</td>\n      <td>37</td>\n      <td>88</td>\n      <td>0.420</td>\n      <td>4</td>\n      <td>...</td>\n      <td>39</td>\n      <td>55</td>\n      <td>34</td>\n      <td>22</td>\n      <td>6</td>\n      <td>15</td>\n      <td>19</td>\n      <td>28.0</td>\n      <td>0</td>\n      <td>CHA</td>\n    </tr>\n    <tr>\n      <th>2023-10-15</th>\n      <th>0012300038</th>\n      <td>1610612766</td>\n      <td>CHA</td>\n      <td>CHA vs. OKC</td>\n      <td>W</td>\n      <td>241</td>\n      <td>117</td>\n      <td>46</td>\n      <td>88</td>\n      <td>0.523</td>\n      <td>12</td>\n      <td>...</td>\n      <td>33</td>\n      <td>46</td>\n      <td>30</td>\n      <td>4</td>\n      <td>2</td>\n      <td>15</td>\n      <td>18</td>\n      <td>-2.0</td>\n      <td>0</td>\n      <td>CHA</td>\n    </tr>\n  </tbody>\n</table>\n<p>610 rows × 52 columns</p>\n</div>"
     },
     "execution_count": 32,
     "metadata": {},
     "output_type": "execute_result"
    }
   ],
   "source": [
    "indexed = merged.reset_index().set_index(['GAME_DATE', 'GAME_ID'])\n",
    "past_games = indexed\n",
    "for i in range(4):\n",
    "    columns = [column + '_past' + str(i) for column in merged.columns]\n",
    "    past_games[columns] = merged.shift(i)\n",
    "past_games"
   ],
   "metadata": {
    "collapsed": false,
    "ExecuteTime": {
     "end_time": "2024-01-12T01:59:12.137175Z",
     "start_time": "2024-01-12T01:59:12.122780Z"
    }
   }
  },
  {
   "cell_type": "code",
   "execution_count": null,
   "outputs": [],
   "source": [],
   "metadata": {
    "collapsed": false
   }
  }
 ],
 "metadata": {
  "kernelspec": {
   "name": "sports-betting",
   "language": "python",
   "display_name": "sports-betting"
  },
  "language_info": {
   "codemirror_mode": {
    "name": "ipython",
    "version": 2
   },
   "file_extension": ".py",
   "mimetype": "text/x-python",
   "name": "python",
   "nbconvert_exporter": "python",
   "pygments_lexer": "ipython2",
   "version": "2.7.6"
  }
 },
 "nbformat": 4,
 "nbformat_minor": 0
}
