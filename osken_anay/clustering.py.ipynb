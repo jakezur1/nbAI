{
 "cells": [
  {
   "cell_type": "code",
   "execution_count": 41,
   "metadata": {
    "collapsed": true,
    "ExecuteTime": {
     "end_time": "2024-01-30T06:58:50.114975Z",
     "start_time": "2024-01-30T06:58:50.110788Z"
    }
   },
   "outputs": [],
   "source": [
    "import pandas as pd\n",
    "import numpy as np\n",
    "\n",
    "from tqdm.auto import tqdm\n",
    "from sklearn.cluster import KMeans\n",
    "from sklearn.preprocessing import StandardScaler\n",
    "from sklearn.decomposition import PCA\n",
    "from sklearn.metrics import silhouette_score, calinski_harabasz_score"
   ]
  },
  {
   "cell_type": "code",
   "execution_count": 2,
   "outputs": [
    {
     "data": {
      "text/plain": "                                 MP/G       GS%       PS/G      FG/G  \\\nseason_end player                                                      \n2001       A.C. Green       17.207317  0.012195   4.475610  1.756098   \n           A.J. Guyton      19.090909  0.242424   6.000000  2.363636   \n           Aaron McKie      31.500000  0.434211  11.552632  4.447368   \n           Aaron Williams   28.487805  0.304878  10.219512  3.621951   \n           Adam Keefe       12.477612  0.194030   2.507463  0.955224   \n...                               ...       ...        ...       ...   \n2024       Zach Collins     26.129032  0.741935  12.935484  4.935484   \n           Zach LaVine      35.347826  0.913043  20.086957  6.956522   \n           Zeke Nnaji        9.647059  0.000000   3.235294  1.176471   \n           Ziaire Williams  18.918919  0.216216   8.027027  2.864865   \n           Zion Williamson  30.375000  1.000000  21.968750  8.656250   \n\n                                  FGA       FG%      2P/G      2PA/G  \\\nseason_end player                                                      \n2001       A.C. Green        3.951220  0.444444  1.756098   3.878049   \n           A.J. Guyton       5.818182  0.406250  1.545455   3.727273   \n           Aaron McKie       9.394737  0.473389  3.750000   7.157895   \n           Aaron Williams    7.926829  0.456923  3.621951   7.902439   \n           Adam Keefe        2.373134  0.402516  0.940299   2.328358   \n...                               ...       ...       ...        ...   \n2024       Zach Collins      9.967742  0.495146  3.838710   6.451613   \n           Zach LaVine      15.434783  0.450704  4.565217   8.478261   \n           Zeke Nnaji        2.470588  0.476190  1.029412   2.029412   \n           Ziaire Williams   7.054054  0.406130  1.675676   3.540541   \n           Zion Williamson  14.812500  0.584388  8.562500  14.531250   \n\n                                 2P%      3P/G  ...  Left Corner 3_shots_pct  \\\nseason_end player                               ...                            \n2001       A.C. Green       0.452830  0.000000  ...                      NaN   \n           A.J. Guyton      0.414634  0.818182  ...                 0.363636   \n           Aaron McKie      0.523897  0.697368  ...                 0.333333   \n           Aaron Williams   0.458333  0.000000  ...                      NaN   \n           Adam Keefe       0.403846  0.014925  ...                 0.000000   \n...                              ...       ...  ...                      ...   \n2024       Zach Collins     0.595000  1.096774  ...                 0.222222   \n           Zach LaVine      0.538462  2.391304  ...                 0.529412   \n           Zeke Nnaji       0.507246  0.147059  ...                 0.000000   \n           Ziaire Williams  0.473282  1.189189  ...                 0.310345   \n           Zion Williamson  0.589247  0.093750  ...                      NaN   \n\n                            Mid-Range_shot_made  Mid-Range_shots_attempted  \\\nseason_end player                                                            \n2001       A.C. Green                      80.0                      194.0   \n           A.J. Guyton                     37.0                       99.0   \n           Aaron McKie                    118.0                      266.0   \n           Aaron Williams                  44.0                      151.0   \n           Adam Keefe                      19.0                       68.0   \n...                                         ...                        ...   \n2024       Zach Collins                    10.0                       26.0   \n           Zach LaVine                     30.0                       63.0   \n           Zeke Nnaji                       0.0                        1.0   \n           Ziaire Williams                 11.0                       33.0   \n           Zion Williamson                  1.0                        8.0   \n\n                            Mid-Range_shots_pct  Restricted Area_shot_made  \\\nseason_end player                                                            \n2001       A.C. Green                  0.412371                       57.0   \n           A.J. Guyton                 0.373737                        9.0   \n           Aaron McKie                 0.443609                      131.0   \n           Aaron Williams              0.291391                      191.0   \n           Adam Keefe                  0.279412                       40.0   \n...                                         ...                        ...   \n2024       Zach Collins                0.384615                       81.0   \n           Zach LaVine                 0.476190                       69.0   \n           Zeke Nnaji                  0.000000                       34.0   \n           Ziaire Williams             0.333333                       54.0   \n           Zion Williamson             0.125000                      254.0   \n\n                            Restricted Area_shots_attempted  \\\nseason_end player                                             \n2001       A.C. Green                                  95.0   \n           A.J. Guyton                                 15.0   \n           Aaron McKie                                181.0   \n           Aaron Williams                             335.0   \n           Adam Keefe                                  71.0   \n...                                                     ...   \n2024       Zach Collins                               111.0   \n           Zach LaVine                                115.0   \n           Zeke Nnaji                                  65.0   \n           Ziaire Williams                             82.0   \n           Zion Williamson                            372.0   \n\n                            Restricted Area_shots_pct  \\\nseason_end player                                       \n2001       A.C. Green                        0.600000   \n           A.J. Guyton                       0.600000   \n           Aaron McKie                       0.723757   \n           Aaron Williams                    0.570149   \n           Adam Keefe                        0.563380   \n...                                               ...   \n2024       Zach Collins                      0.729730   \n           Zach LaVine                       0.600000   \n           Zeke Nnaji                        0.523077   \n           Ziaire Williams                   0.658537   \n           Zion Williamson                   0.682796   \n\n                            Right Corner 3_shot_made  \\\nseason_end player                                      \n2001       A.C. Green                            0.0   \n           A.J. Guyton                           3.0   \n           Aaron McKie                          17.0   \n           Aaron Williams                        NaN   \n           Adam Keefe                            NaN   \n...                                              ...   \n2024       Zach Collins                          1.0   \n           Zach LaVine                           5.0   \n           Zeke Nnaji                            2.0   \n           Ziaire Williams                      12.0   \n           Zion Williamson                       1.0   \n\n                            Right Corner 3_shots_attempted  \\\nseason_end player                                            \n2001       A.C. Green                                  1.0   \n           A.J. Guyton                                 8.0   \n           Aaron McKie                                36.0   \n           Aaron Williams                              NaN   \n           Adam Keefe                                  NaN   \n...                                                    ...   \n2024       Zach Collins                                3.0   \n           Zach LaVine                                14.0   \n           Zeke Nnaji                                  4.0   \n           Ziaire Williams                            32.0   \n           Zion Williamson                             1.0   \n\n                            Right Corner 3_shots_pct  \nseason_end player                                     \n2001       A.C. Green                       0.000000  \n           A.J. Guyton                      0.375000  \n           Aaron McKie                      0.472222  \n           Aaron Williams                        NaN  \n           Adam Keefe                            NaN  \n...                                              ...  \n2024       Zach Collins                     0.333333  \n           Zach LaVine                      0.357143  \n           Zeke Nnaji                       0.500000  \n           Ziaire Williams                  0.375000  \n           Zion Williamson                  1.000000  \n\n[10263 rows x 56 columns]",
      "text/html": "<div>\n<style scoped>\n    .dataframe tbody tr th:only-of-type {\n        vertical-align: middle;\n    }\n\n    .dataframe tbody tr th {\n        vertical-align: top;\n    }\n\n    .dataframe thead th {\n        text-align: right;\n    }\n</style>\n<table border=\"1\" class=\"dataframe\">\n  <thead>\n    <tr style=\"text-align: right;\">\n      <th></th>\n      <th></th>\n      <th>MP/G</th>\n      <th>GS%</th>\n      <th>PS/G</th>\n      <th>FG/G</th>\n      <th>FGA</th>\n      <th>FG%</th>\n      <th>2P/G</th>\n      <th>2PA/G</th>\n      <th>2P%</th>\n      <th>3P/G</th>\n      <th>...</th>\n      <th>Left Corner 3_shots_pct</th>\n      <th>Mid-Range_shot_made</th>\n      <th>Mid-Range_shots_attempted</th>\n      <th>Mid-Range_shots_pct</th>\n      <th>Restricted Area_shot_made</th>\n      <th>Restricted Area_shots_attempted</th>\n      <th>Restricted Area_shots_pct</th>\n      <th>Right Corner 3_shot_made</th>\n      <th>Right Corner 3_shots_attempted</th>\n      <th>Right Corner 3_shots_pct</th>\n    </tr>\n    <tr>\n      <th>season_end</th>\n      <th>player</th>\n      <th></th>\n      <th></th>\n      <th></th>\n      <th></th>\n      <th></th>\n      <th></th>\n      <th></th>\n      <th></th>\n      <th></th>\n      <th></th>\n      <th></th>\n      <th></th>\n      <th></th>\n      <th></th>\n      <th></th>\n      <th></th>\n      <th></th>\n      <th></th>\n      <th></th>\n      <th></th>\n      <th></th>\n    </tr>\n  </thead>\n  <tbody>\n    <tr>\n      <th rowspan=\"5\" valign=\"top\">2001</th>\n      <th>A.C. Green</th>\n      <td>17.207317</td>\n      <td>0.012195</td>\n      <td>4.475610</td>\n      <td>1.756098</td>\n      <td>3.951220</td>\n      <td>0.444444</td>\n      <td>1.756098</td>\n      <td>3.878049</td>\n      <td>0.452830</td>\n      <td>0.000000</td>\n      <td>...</td>\n      <td>NaN</td>\n      <td>80.0</td>\n      <td>194.0</td>\n      <td>0.412371</td>\n      <td>57.0</td>\n      <td>95.0</td>\n      <td>0.600000</td>\n      <td>0.0</td>\n      <td>1.0</td>\n      <td>0.000000</td>\n    </tr>\n    <tr>\n      <th>A.J. Guyton</th>\n      <td>19.090909</td>\n      <td>0.242424</td>\n      <td>6.000000</td>\n      <td>2.363636</td>\n      <td>5.818182</td>\n      <td>0.406250</td>\n      <td>1.545455</td>\n      <td>3.727273</td>\n      <td>0.414634</td>\n      <td>0.818182</td>\n      <td>...</td>\n      <td>0.363636</td>\n      <td>37.0</td>\n      <td>99.0</td>\n      <td>0.373737</td>\n      <td>9.0</td>\n      <td>15.0</td>\n      <td>0.600000</td>\n      <td>3.0</td>\n      <td>8.0</td>\n      <td>0.375000</td>\n    </tr>\n    <tr>\n      <th>Aaron McKie</th>\n      <td>31.500000</td>\n      <td>0.434211</td>\n      <td>11.552632</td>\n      <td>4.447368</td>\n      <td>9.394737</td>\n      <td>0.473389</td>\n      <td>3.750000</td>\n      <td>7.157895</td>\n      <td>0.523897</td>\n      <td>0.697368</td>\n      <td>...</td>\n      <td>0.333333</td>\n      <td>118.0</td>\n      <td>266.0</td>\n      <td>0.443609</td>\n      <td>131.0</td>\n      <td>181.0</td>\n      <td>0.723757</td>\n      <td>17.0</td>\n      <td>36.0</td>\n      <td>0.472222</td>\n    </tr>\n    <tr>\n      <th>Aaron Williams</th>\n      <td>28.487805</td>\n      <td>0.304878</td>\n      <td>10.219512</td>\n      <td>3.621951</td>\n      <td>7.926829</td>\n      <td>0.456923</td>\n      <td>3.621951</td>\n      <td>7.902439</td>\n      <td>0.458333</td>\n      <td>0.000000</td>\n      <td>...</td>\n      <td>NaN</td>\n      <td>44.0</td>\n      <td>151.0</td>\n      <td>0.291391</td>\n      <td>191.0</td>\n      <td>335.0</td>\n      <td>0.570149</td>\n      <td>NaN</td>\n      <td>NaN</td>\n      <td>NaN</td>\n    </tr>\n    <tr>\n      <th>Adam Keefe</th>\n      <td>12.477612</td>\n      <td>0.194030</td>\n      <td>2.507463</td>\n      <td>0.955224</td>\n      <td>2.373134</td>\n      <td>0.402516</td>\n      <td>0.940299</td>\n      <td>2.328358</td>\n      <td>0.403846</td>\n      <td>0.014925</td>\n      <td>...</td>\n      <td>0.000000</td>\n      <td>19.0</td>\n      <td>68.0</td>\n      <td>0.279412</td>\n      <td>40.0</td>\n      <td>71.0</td>\n      <td>0.563380</td>\n      <td>NaN</td>\n      <td>NaN</td>\n      <td>NaN</td>\n    </tr>\n    <tr>\n      <th>...</th>\n      <th>...</th>\n      <td>...</td>\n      <td>...</td>\n      <td>...</td>\n      <td>...</td>\n      <td>...</td>\n      <td>...</td>\n      <td>...</td>\n      <td>...</td>\n      <td>...</td>\n      <td>...</td>\n      <td>...</td>\n      <td>...</td>\n      <td>...</td>\n      <td>...</td>\n      <td>...</td>\n      <td>...</td>\n      <td>...</td>\n      <td>...</td>\n      <td>...</td>\n      <td>...</td>\n      <td>...</td>\n    </tr>\n    <tr>\n      <th rowspan=\"5\" valign=\"top\">2024</th>\n      <th>Zach Collins</th>\n      <td>26.129032</td>\n      <td>0.741935</td>\n      <td>12.935484</td>\n      <td>4.935484</td>\n      <td>9.967742</td>\n      <td>0.495146</td>\n      <td>3.838710</td>\n      <td>6.451613</td>\n      <td>0.595000</td>\n      <td>1.096774</td>\n      <td>...</td>\n      <td>0.222222</td>\n      <td>10.0</td>\n      <td>26.0</td>\n      <td>0.384615</td>\n      <td>81.0</td>\n      <td>111.0</td>\n      <td>0.729730</td>\n      <td>1.0</td>\n      <td>3.0</td>\n      <td>0.333333</td>\n    </tr>\n    <tr>\n      <th>Zach LaVine</th>\n      <td>35.347826</td>\n      <td>0.913043</td>\n      <td>20.086957</td>\n      <td>6.956522</td>\n      <td>15.434783</td>\n      <td>0.450704</td>\n      <td>4.565217</td>\n      <td>8.478261</td>\n      <td>0.538462</td>\n      <td>2.391304</td>\n      <td>...</td>\n      <td>0.529412</td>\n      <td>30.0</td>\n      <td>63.0</td>\n      <td>0.476190</td>\n      <td>69.0</td>\n      <td>115.0</td>\n      <td>0.600000</td>\n      <td>5.0</td>\n      <td>14.0</td>\n      <td>0.357143</td>\n    </tr>\n    <tr>\n      <th>Zeke Nnaji</th>\n      <td>9.647059</td>\n      <td>0.000000</td>\n      <td>3.235294</td>\n      <td>1.176471</td>\n      <td>2.470588</td>\n      <td>0.476190</td>\n      <td>1.029412</td>\n      <td>2.029412</td>\n      <td>0.507246</td>\n      <td>0.147059</td>\n      <td>...</td>\n      <td>0.000000</td>\n      <td>0.0</td>\n      <td>1.0</td>\n      <td>0.000000</td>\n      <td>34.0</td>\n      <td>65.0</td>\n      <td>0.523077</td>\n      <td>2.0</td>\n      <td>4.0</td>\n      <td>0.500000</td>\n    </tr>\n    <tr>\n      <th>Ziaire Williams</th>\n      <td>18.918919</td>\n      <td>0.216216</td>\n      <td>8.027027</td>\n      <td>2.864865</td>\n      <td>7.054054</td>\n      <td>0.406130</td>\n      <td>1.675676</td>\n      <td>3.540541</td>\n      <td>0.473282</td>\n      <td>1.189189</td>\n      <td>...</td>\n      <td>0.310345</td>\n      <td>11.0</td>\n      <td>33.0</td>\n      <td>0.333333</td>\n      <td>54.0</td>\n      <td>82.0</td>\n      <td>0.658537</td>\n      <td>12.0</td>\n      <td>32.0</td>\n      <td>0.375000</td>\n    </tr>\n    <tr>\n      <th>Zion Williamson</th>\n      <td>30.375000</td>\n      <td>1.000000</td>\n      <td>21.968750</td>\n      <td>8.656250</td>\n      <td>14.812500</td>\n      <td>0.584388</td>\n      <td>8.562500</td>\n      <td>14.531250</td>\n      <td>0.589247</td>\n      <td>0.093750</td>\n      <td>...</td>\n      <td>NaN</td>\n      <td>1.0</td>\n      <td>8.0</td>\n      <td>0.125000</td>\n      <td>254.0</td>\n      <td>372.0</td>\n      <td>0.682796</td>\n      <td>1.0</td>\n      <td>1.0</td>\n      <td>1.000000</td>\n    </tr>\n  </tbody>\n</table>\n<p>10263 rows × 56 columns</p>\n</div>"
     },
     "execution_count": 2,
     "metadata": {},
     "output_type": "execute_result"
    }
   ],
   "source": [
    "master_data = pd.read_csv('seasonal_clustering_data_master.csv', index_col=[0, 1])\n",
    "master_data"
   ],
   "metadata": {
    "collapsed": false,
    "ExecuteTime": {
     "end_time": "2024-01-30T06:25:21.724478Z",
     "start_time": "2024-01-30T06:25:21.666556Z"
    }
   }
  },
  {
   "cell_type": "code",
   "execution_count": null,
   "outputs": [],
   "source": [
    "clustering_data = master_data\n",
    "clustering_data['']"
   ],
   "metadata": {
    "collapsed": false
   }
  },
  {
   "cell_type": "code",
   "execution_count": 44,
   "outputs": [
    {
     "data": {
      "text/plain": "  0%|          | 0/30 [00:00<?, ?it/s]",
      "application/vnd.jupyter.widget-view+json": {
       "version_major": 2,
       "version_minor": 0,
       "model_id": "c0cf00342e6f44ab9e2ae1ba4d31cb5b"
      }
     },
     "metadata": {},
     "output_type": "display_data"
    },
    {
     "data": {
      "text/plain": "{5: (0.13260421259183658, 25.23791490322901),\n 6: (0.12192006729393041, 22.85470544339223),\n 7: (0.11847760069636865, 20.937378674854102),\n 8: (0.11154154520893005, 19.520467980627),\n 9: (0.10613335384293349, 18.27817492203007),\n 10: (0.10502569483253421, 17.232786702328145),\n 11: (0.10186315145783369, 16.32577114678523),\n 12: (0.09790554217506972, 15.624721176482879),\n 13: (0.09679931602612425, 14.987693034904726),\n 14: (0.09271403078094333, 14.353251431771913),\n 15: (0.09403096511374388, 13.93426066721734),\n 16: (0.09407146344250582, 13.44740167531263),\n 17: (0.09350889810489098, 13.011851850437534),\n 18: (0.09315007092305075, 12.566405404757935),\n 19: (0.08931928936477615, 12.282383033216277),\n 20: (0.09007235974018885, 11.996659361948103),\n 21: (0.08857599673333198, 11.748245505016897),\n 22: (0.08841159171341574, 11.456612271149993),\n 23: (0.08734953848484082, 11.235340327803652),\n 24: (0.08747393332229288, 11.041726019571044),\n 25: (0.08240832120728639, 10.835370845394895),\n 26: (0.08380918959192588, 10.559892111898249),\n 27: (0.08436548200106124, 10.435589874369898),\n 28: (0.08209966917349211, 10.231612222335736),\n 29: (0.08428363709109225, 10.13636557039039),\n 30: (0.08150530084591999, 10.00583126257411),\n 31: (0.082229280126163, 9.82681191116765),\n 32: (0.08195345580422207, 9.692865522990427),\n 33: (0.0801001366100095, 9.591167410681255),\n 34: (0.08256315800467927, 9.514621525385715)}"
     },
     "execution_count": 44,
     "metadata": {},
     "output_type": "execute_result"
    }
   ],
   "source": [
    "seasonal_data = clustering_data.groupby('season_end')\n",
    "max_average_silhouette = 0\n",
    "max_average_calinski_harabasz = 0\n",
    "k_dict = {}\n",
    "for k in tqdm(range(5, 35)):\n",
    "    total_silhouette = 0\n",
    "    total_calinski_harabasz = 0\n",
    "    for group in seasonal_data:\n",
    "        X = group[1].reset_index(drop=True)\n",
    "        X.dropna(inplace=True)\n",
    "        scaler = StandardScaler()\n",
    "        scaled_data = scaler.fit_transform(X)\n",
    "\n",
    "        # pca = PCA(n_components=0.9)\n",
    "        # pca_data = pca.fit_transform(scaled_data)\n",
    "\n",
    "        labels = KMeans(n_clusters=k, random_state=42, n_init=10).fit(scaled_data)\n",
    "        labels = labels.labels_\n",
    "\n",
    "        total_calinski_harabasz += calinski_harabasz_score(scaled_data, labels)\n",
    "        total_silhouette += silhouette_score(scaled_data, labels)\n",
    "\n",
    "    average_silhouette = total_silhouette / len(seasonal_data)\n",
    "    average_calinski_harabasz = total_calinski_harabasz / len(seasonal_data)\n",
    "\n",
    "    # Update max averages if current averages are higher\n",
    "    if average_silhouette > max_average_silhouette:\n",
    "        max_average_silhouette = average_silhouette\n",
    "    if average_calinski_harabasz > max_average_calinski_harabasz:\n",
    "        max_average_calinski_harabasz = average_calinski_harabasz\n",
    "\n",
    "    k_dict[k] = (total_silhouette / len(seasonal_data), total_calinski_harabasz / len(seasonal_data))\n",
    "k_dict"
   ],
   "metadata": {
    "collapsed": false,
    "ExecuteTime": {
     "end_time": "2024-01-30T22:09:06.032671Z",
     "start_time": "2024-01-30T22:07:58.336623Z"
    }
   }
  },
  {
   "cell_type": "code",
   "execution_count": null,
   "outputs": [],
   "source": [],
   "metadata": {
    "collapsed": false
   }
  }
 ],
 "metadata": {
  "kernelspec": {
   "display_name": "Python 3",
   "language": "python",
   "name": "python3"
  },
  "language_info": {
   "codemirror_mode": {
    "name": "ipython",
    "version": 2
   },
   "file_extension": ".py",
   "mimetype": "text/x-python",
   "name": "python",
   "nbconvert_exporter": "python",
   "pygments_lexer": "ipython2",
   "version": "2.7.6"
  }
 },
 "nbformat": 4,
 "nbformat_minor": 0
}
