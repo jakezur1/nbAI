{
 "cells": [
  {
   "cell_type": "code",
   "execution_count": 2,
   "outputs": [],
   "source": [
    "import pandas as pd\n",
    "import numpy as np\n",
    "import time\n",
    "\n",
    "from tqdm.auto import tqdm\n",
    "from basketball_reference_web_scraper.data import OutputType, OutputWriteOption\n",
    "from basketball_reference_web_scraper.client import players_season_totals, players_advanced_season_totals"
   ],
   "metadata": {
    "collapsed": false,
    "ExecuteTime": {
     "end_time": "2024-02-01T20:03:09.071635Z",
     "start_time": "2024-02-01T20:03:09.069608Z"
    }
   }
  },
  {
   "cell_type": "code",
   "execution_count": 6,
   "outputs": [
    {
     "ename": "KeyboardInterrupt",
     "evalue": "",
     "output_type": "error",
     "traceback": [
      "\u001B[0;31m---------------------------------------------------------------------------\u001B[0m",
      "\u001B[0;31mKeyboardInterrupt\u001B[0m                         Traceback (most recent call last)",
      "Cell \u001B[0;32mIn[4], line 2\u001B[0m\n\u001B[1;32m      1\u001B[0m player_totals_basic \u001B[38;5;241m=\u001B[39m pd\u001B[38;5;241m.\u001B[39mDataFrame()\n\u001B[0;32m----> 2\u001B[0m \u001B[38;5;28;01mfor\u001B[39;00m i \u001B[38;5;129;01min\u001B[39;00m \u001B[38;5;28;43mrange\u001B[39;49m(\u001B[38;5;241m2000\u001B[39m, \u001B[38;5;241m2025\u001B[39m):\n\u001B[1;32m      3\u001B[0m     season_totals \u001B[38;5;241m=\u001B[39m pd\u001B[38;5;241m.\u001B[39mDataFrame(players_season_totals(season_end_year\u001B[38;5;241m=\u001B[39mi))\n\u001B[1;32m      4\u001B[0m     season_totals[\u001B[38;5;124m'\u001B[39m\u001B[38;5;124mseason_end\u001B[39m\u001B[38;5;124m'\u001B[39m] \u001B[38;5;241m=\u001B[39m [i] \u001B[38;5;241m*\u001B[39m \u001B[38;5;28mlen\u001B[39m(season_totals)\n",
      "Cell \u001B[0;32mIn[4], line 2\u001B[0m\n\u001B[1;32m      1\u001B[0m player_totals_basic \u001B[38;5;241m=\u001B[39m pd\u001B[38;5;241m.\u001B[39mDataFrame()\n\u001B[0;32m----> 2\u001B[0m \u001B[38;5;28;01mfor\u001B[39;00m i \u001B[38;5;129;01min\u001B[39;00m \u001B[38;5;28;43mrange\u001B[39;49m(\u001B[38;5;241m2000\u001B[39m, \u001B[38;5;241m2025\u001B[39m):\n\u001B[1;32m      3\u001B[0m     season_totals \u001B[38;5;241m=\u001B[39m pd\u001B[38;5;241m.\u001B[39mDataFrame(players_season_totals(season_end_year\u001B[38;5;241m=\u001B[39mi))\n\u001B[1;32m      4\u001B[0m     season_totals[\u001B[38;5;124m'\u001B[39m\u001B[38;5;124mseason_end\u001B[39m\u001B[38;5;124m'\u001B[39m] \u001B[38;5;241m=\u001B[39m [i] \u001B[38;5;241m*\u001B[39m \u001B[38;5;28mlen\u001B[39m(season_totals)\n",
      "File \u001B[0;32m_pydevd_bundle/pydevd_cython_darwin_310_64.pyx:1179\u001B[0m, in \u001B[0;36m_pydevd_bundle.pydevd_cython_darwin_310_64.SafeCallWrapper.__call__\u001B[0;34m()\u001B[0m\n",
      "File \u001B[0;32m_pydevd_bundle/pydevd_cython_darwin_310_64.pyx:620\u001B[0m, in \u001B[0;36m_pydevd_bundle.pydevd_cython_darwin_310_64.PyDBFrame.trace_dispatch\u001B[0;34m()\u001B[0m\n",
      "File \u001B[0;32m_pydevd_bundle/pydevd_cython_darwin_310_64.pyx:929\u001B[0m, in \u001B[0;36m_pydevd_bundle.pydevd_cython_darwin_310_64.PyDBFrame.trace_dispatch\u001B[0;34m()\u001B[0m\n",
      "File \u001B[0;32m_pydevd_bundle/pydevd_cython_darwin_310_64.pyx:920\u001B[0m, in \u001B[0;36m_pydevd_bundle.pydevd_cython_darwin_310_64.PyDBFrame.trace_dispatch\u001B[0;34m()\u001B[0m\n",
      "File \u001B[0;32m_pydevd_bundle/pydevd_cython_darwin_310_64.pyx:317\u001B[0m, in \u001B[0;36m_pydevd_bundle.pydevd_cython_darwin_310_64.PyDBFrame.do_wait_suspend\u001B[0;34m()\u001B[0m\n",
      "File \u001B[0;32m~/Applications/PyCharm Professional Edition.app/Contents/plugins/python/helpers/pydev/pydevd.py:1160\u001B[0m, in \u001B[0;36mPyDB.do_wait_suspend\u001B[0;34m(self, thread, frame, event, arg, send_suspend_message, is_unhandled_exception)\u001B[0m\n\u001B[1;32m   1157\u001B[0m         from_this_thread\u001B[38;5;241m.\u001B[39mappend(frame_id)\n\u001B[1;32m   1159\u001B[0m \u001B[38;5;28;01mwith\u001B[39;00m \u001B[38;5;28mself\u001B[39m\u001B[38;5;241m.\u001B[39m_threads_suspended_single_notification\u001B[38;5;241m.\u001B[39mnotify_thread_suspended(thread_id, stop_reason):\n\u001B[0;32m-> 1160\u001B[0m     \u001B[38;5;28;43mself\u001B[39;49m\u001B[38;5;241;43m.\u001B[39;49m\u001B[43m_do_wait_suspend\u001B[49m\u001B[43m(\u001B[49m\u001B[43mthread\u001B[49m\u001B[43m,\u001B[49m\u001B[43m \u001B[49m\u001B[43mframe\u001B[49m\u001B[43m,\u001B[49m\u001B[43m \u001B[49m\u001B[43mevent\u001B[49m\u001B[43m,\u001B[49m\u001B[43m \u001B[49m\u001B[43marg\u001B[49m\u001B[43m,\u001B[49m\u001B[43m \u001B[49m\u001B[43msuspend_type\u001B[49m\u001B[43m,\u001B[49m\u001B[43m \u001B[49m\u001B[43mfrom_this_thread\u001B[49m\u001B[43m)\u001B[49m\n",
      "File \u001B[0;32m~/Applications/PyCharm Professional Edition.app/Contents/plugins/python/helpers/pydev/pydevd.py:1175\u001B[0m, in \u001B[0;36mPyDB._do_wait_suspend\u001B[0;34m(self, thread, frame, event, arg, suspend_type, from_this_thread)\u001B[0m\n\u001B[1;32m   1172\u001B[0m             \u001B[38;5;28mself\u001B[39m\u001B[38;5;241m.\u001B[39m_call_mpl_hook()\n\u001B[1;32m   1174\u001B[0m         \u001B[38;5;28mself\u001B[39m\u001B[38;5;241m.\u001B[39mprocess_internal_commands()\n\u001B[0;32m-> 1175\u001B[0m         \u001B[43mtime\u001B[49m\u001B[38;5;241;43m.\u001B[39;49m\u001B[43msleep\u001B[49m\u001B[43m(\u001B[49m\u001B[38;5;241;43m0.01\u001B[39;49m\u001B[43m)\u001B[49m\n\u001B[1;32m   1177\u001B[0m \u001B[38;5;28mself\u001B[39m\u001B[38;5;241m.\u001B[39mcancel_async_evaluation(get_current_thread_id(thread), \u001B[38;5;28mstr\u001B[39m(\u001B[38;5;28mid\u001B[39m(frame)))\n\u001B[1;32m   1179\u001B[0m \u001B[38;5;66;03m# process any stepping instructions\u001B[39;00m\n",
      "\u001B[0;31mKeyboardInterrupt\u001B[0m: "
     ]
    }
   ],
   "source": [
    "player_totals_basic = pd.DataFrame()\n",
    "for i in range(2000, 2025):\n",
    "    season_totals = pd.DataFrame(players_season_totals(season_end_year=i))\n",
    "    season_totals['season_end'] = [i] * len(season_totals)\n",
    "    player_totals_basic = pd.concat([player_totals_basic, season_totals], axis=0)\n",
    "player_totals_basic.set_index('season_end', inplace=True)\n",
    "player_totals_basic.to_csv('basics.csv')"
   ],
   "metadata": {
    "collapsed": false
   }
  },
  {
   "cell_type": "code",
   "execution_count": 38,
   "outputs": [
    {
     "data": {
      "text/plain": "                 slug                 name  \\\nseason_end                                   \n2000        abdulta01    Tariq Abdul-Wahad   \n2000        abdulta01    Tariq Abdul-Wahad   \n2000        abdursh01  Shareef Abdur-Rahim   \n2000        alexaco01       Cory Alexander   \n2000        allenra02            Ray Allen   \n...               ...                  ...   \n2024        youngth01       Thaddeus Young   \n2024        youngtr01           Trae Young   \n2024        yurtsom01       Omer Yurtseven   \n2024        zelleco01          Cody Zeller   \n2024        zubaciv01          Ivica Zubac   \n\n                                                positions  age  \\\nseason_end                                                       \n2000        [<Position.SHOOTING_GUARD: 'SHOOTING GUARD'>]   25   \n2000        [<Position.SHOOTING_GUARD: 'SHOOTING GUARD'>]   25   \n2000          [<Position.SMALL_FORWARD: 'SMALL FORWARD'>]   23   \n2000              [<Position.POINT_GUARD: 'POINT GUARD'>]   26   \n2000        [<Position.SHOOTING_GUARD: 'SHOOTING GUARD'>]   24   \n...                                                   ...  ...   \n2024          [<Position.POWER_FORWARD: 'POWER FORWARD'>]   35   \n2024              [<Position.POINT_GUARD: 'POINT GUARD'>]   25   \n2024                        [<Position.CENTER: 'CENTER'>]   25   \n2024                        [<Position.CENTER: 'CENTER'>]   31   \n2024                        [<Position.CENTER: 'CENTER'>]   26   \n\n                                 team  games_played  games_started  \\\nseason_end                                                           \n2000               Team.ORLANDO_MAGIC            46             46   \n2000              Team.DENVER_NUGGETS            15             10   \n2000         Team.VANCOUVER_GRIZZLIES            82             82   \n2000              Team.DENVER_NUGGETS            29              2   \n2000             Team.MILWAUKEE_BUCKS            82             82   \n...                               ...           ...            ...   \n2024             Team.TORONTO_RAPTORS            11              3   \n2024               Team.ATLANTA_HAWKS            36             36   \n2024                   Team.UTAH_JAZZ            23              6   \n2024        Team.NEW_ORLEANS_PELICANS            28              0   \n2024        Team.LOS_ANGELES_CLIPPERS            38             38   \n\n            minutes_played  made_field_goals  attempted_field_goals  ...  \\\nseason_end                                                           ...   \n2000                  1205               223                    515  ...   \n2000                   373                51                    131  ...   \n2000                  3223               594                   1277  ...   \n2000                   329                28                     98  ...   \n2000                  3070               642                   1411  ...   \n...                    ...               ...                    ...  ...   \n2024                    99                16                     27  ...   \n2024                  1312               302                    717  ...   \n2024                   254                38                     76  ...   \n2024                   253                19                     49  ...   \n2024                  1030               201                    307  ...   \n\n            made_free_throws  attempted_free_throws  offensive_rebounds  \\\nseason_end                                                                \n2000                     115                    151                  77   \n2000                      31                     42                  24   \n2000                     446                    551                 218   \n2000                      17                     22                   8   \n2000                     353                    398                  83   \n...                      ...                    ...                 ...   \n2024                       1                      3                   6   \n2024                     258                    302                  19   \n2024                       6                     10                  35   \n2024                      20                     33                  33   \n2024                      68                    105                 124   \n\n            defensive_rebounds  assists  steals  blocks  turnovers  \\\nseason_end                                                           \n2000                       162       72      53      16         87   \n2000                        28       26       6      12         19   \n2000                       607      271      89      87        249   \n2000                        34       58      24       2         28   \n2000                       276      308     110      19        183   \n...                        ...      ...     ...     ...        ...   \n2024                        12       16       7       1          7   \n2024                        88      391      52       8        153   \n2024                        66       13       4      10         22   \n2024                        46       31       4       3         11   \n2024                       246       48       8      52         43   \n\n            personal_fouls  points  \nseason_end                          \n2000                   116     563  \n2000                    31     134  \n2000                   244    1663  \n2000                    39      82  \n2000                   187    1809  \n...                    ...     ...  \n2024                    13      34  \n2024                    73     980  \n2024                    33      85  \n2024                    36      59  \n2024                   110     470  \n\n[13558 rows x 22 columns]",
      "text/html": "<div>\n<style scoped>\n    .dataframe tbody tr th:only-of-type {\n        vertical-align: middle;\n    }\n\n    .dataframe tbody tr th {\n        vertical-align: top;\n    }\n\n    .dataframe thead th {\n        text-align: right;\n    }\n</style>\n<table border=\"1\" class=\"dataframe\">\n  <thead>\n    <tr style=\"text-align: right;\">\n      <th></th>\n      <th>slug</th>\n      <th>name</th>\n      <th>positions</th>\n      <th>age</th>\n      <th>team</th>\n      <th>games_played</th>\n      <th>games_started</th>\n      <th>minutes_played</th>\n      <th>made_field_goals</th>\n      <th>attempted_field_goals</th>\n      <th>...</th>\n      <th>made_free_throws</th>\n      <th>attempted_free_throws</th>\n      <th>offensive_rebounds</th>\n      <th>defensive_rebounds</th>\n      <th>assists</th>\n      <th>steals</th>\n      <th>blocks</th>\n      <th>turnovers</th>\n      <th>personal_fouls</th>\n      <th>points</th>\n    </tr>\n    <tr>\n      <th>season_end</th>\n      <th></th>\n      <th></th>\n      <th></th>\n      <th></th>\n      <th></th>\n      <th></th>\n      <th></th>\n      <th></th>\n      <th></th>\n      <th></th>\n      <th></th>\n      <th></th>\n      <th></th>\n      <th></th>\n      <th></th>\n      <th></th>\n      <th></th>\n      <th></th>\n      <th></th>\n      <th></th>\n      <th></th>\n    </tr>\n  </thead>\n  <tbody>\n    <tr>\n      <th>2000</th>\n      <td>abdulta01</td>\n      <td>Tariq Abdul-Wahad</td>\n      <td>[&lt;Position.SHOOTING_GUARD: 'SHOOTING GUARD'&gt;]</td>\n      <td>25</td>\n      <td>Team.ORLANDO_MAGIC</td>\n      <td>46</td>\n      <td>46</td>\n      <td>1205</td>\n      <td>223</td>\n      <td>515</td>\n      <td>...</td>\n      <td>115</td>\n      <td>151</td>\n      <td>77</td>\n      <td>162</td>\n      <td>72</td>\n      <td>53</td>\n      <td>16</td>\n      <td>87</td>\n      <td>116</td>\n      <td>563</td>\n    </tr>\n    <tr>\n      <th>2000</th>\n      <td>abdulta01</td>\n      <td>Tariq Abdul-Wahad</td>\n      <td>[&lt;Position.SHOOTING_GUARD: 'SHOOTING GUARD'&gt;]</td>\n      <td>25</td>\n      <td>Team.DENVER_NUGGETS</td>\n      <td>15</td>\n      <td>10</td>\n      <td>373</td>\n      <td>51</td>\n      <td>131</td>\n      <td>...</td>\n      <td>31</td>\n      <td>42</td>\n      <td>24</td>\n      <td>28</td>\n      <td>26</td>\n      <td>6</td>\n      <td>12</td>\n      <td>19</td>\n      <td>31</td>\n      <td>134</td>\n    </tr>\n    <tr>\n      <th>2000</th>\n      <td>abdursh01</td>\n      <td>Shareef Abdur-Rahim</td>\n      <td>[&lt;Position.SMALL_FORWARD: 'SMALL FORWARD'&gt;]</td>\n      <td>23</td>\n      <td>Team.VANCOUVER_GRIZZLIES</td>\n      <td>82</td>\n      <td>82</td>\n      <td>3223</td>\n      <td>594</td>\n      <td>1277</td>\n      <td>...</td>\n      <td>446</td>\n      <td>551</td>\n      <td>218</td>\n      <td>607</td>\n      <td>271</td>\n      <td>89</td>\n      <td>87</td>\n      <td>249</td>\n      <td>244</td>\n      <td>1663</td>\n    </tr>\n    <tr>\n      <th>2000</th>\n      <td>alexaco01</td>\n      <td>Cory Alexander</td>\n      <td>[&lt;Position.POINT_GUARD: 'POINT GUARD'&gt;]</td>\n      <td>26</td>\n      <td>Team.DENVER_NUGGETS</td>\n      <td>29</td>\n      <td>2</td>\n      <td>329</td>\n      <td>28</td>\n      <td>98</td>\n      <td>...</td>\n      <td>17</td>\n      <td>22</td>\n      <td>8</td>\n      <td>34</td>\n      <td>58</td>\n      <td>24</td>\n      <td>2</td>\n      <td>28</td>\n      <td>39</td>\n      <td>82</td>\n    </tr>\n    <tr>\n      <th>2000</th>\n      <td>allenra02</td>\n      <td>Ray Allen</td>\n      <td>[&lt;Position.SHOOTING_GUARD: 'SHOOTING GUARD'&gt;]</td>\n      <td>24</td>\n      <td>Team.MILWAUKEE_BUCKS</td>\n      <td>82</td>\n      <td>82</td>\n      <td>3070</td>\n      <td>642</td>\n      <td>1411</td>\n      <td>...</td>\n      <td>353</td>\n      <td>398</td>\n      <td>83</td>\n      <td>276</td>\n      <td>308</td>\n      <td>110</td>\n      <td>19</td>\n      <td>183</td>\n      <td>187</td>\n      <td>1809</td>\n    </tr>\n    <tr>\n      <th>...</th>\n      <td>...</td>\n      <td>...</td>\n      <td>...</td>\n      <td>...</td>\n      <td>...</td>\n      <td>...</td>\n      <td>...</td>\n      <td>...</td>\n      <td>...</td>\n      <td>...</td>\n      <td>...</td>\n      <td>...</td>\n      <td>...</td>\n      <td>...</td>\n      <td>...</td>\n      <td>...</td>\n      <td>...</td>\n      <td>...</td>\n      <td>...</td>\n      <td>...</td>\n      <td>...</td>\n    </tr>\n    <tr>\n      <th>2024</th>\n      <td>youngth01</td>\n      <td>Thaddeus Young</td>\n      <td>[&lt;Position.POWER_FORWARD: 'POWER FORWARD'&gt;]</td>\n      <td>35</td>\n      <td>Team.TORONTO_RAPTORS</td>\n      <td>11</td>\n      <td>3</td>\n      <td>99</td>\n      <td>16</td>\n      <td>27</td>\n      <td>...</td>\n      <td>1</td>\n      <td>3</td>\n      <td>6</td>\n      <td>12</td>\n      <td>16</td>\n      <td>7</td>\n      <td>1</td>\n      <td>7</td>\n      <td>13</td>\n      <td>34</td>\n    </tr>\n    <tr>\n      <th>2024</th>\n      <td>youngtr01</td>\n      <td>Trae Young</td>\n      <td>[&lt;Position.POINT_GUARD: 'POINT GUARD'&gt;]</td>\n      <td>25</td>\n      <td>Team.ATLANTA_HAWKS</td>\n      <td>36</td>\n      <td>36</td>\n      <td>1312</td>\n      <td>302</td>\n      <td>717</td>\n      <td>...</td>\n      <td>258</td>\n      <td>302</td>\n      <td>19</td>\n      <td>88</td>\n      <td>391</td>\n      <td>52</td>\n      <td>8</td>\n      <td>153</td>\n      <td>73</td>\n      <td>980</td>\n    </tr>\n    <tr>\n      <th>2024</th>\n      <td>yurtsom01</td>\n      <td>Omer Yurtseven</td>\n      <td>[&lt;Position.CENTER: 'CENTER'&gt;]</td>\n      <td>25</td>\n      <td>Team.UTAH_JAZZ</td>\n      <td>23</td>\n      <td>6</td>\n      <td>254</td>\n      <td>38</td>\n      <td>76</td>\n      <td>...</td>\n      <td>6</td>\n      <td>10</td>\n      <td>35</td>\n      <td>66</td>\n      <td>13</td>\n      <td>4</td>\n      <td>10</td>\n      <td>22</td>\n      <td>33</td>\n      <td>85</td>\n    </tr>\n    <tr>\n      <th>2024</th>\n      <td>zelleco01</td>\n      <td>Cody Zeller</td>\n      <td>[&lt;Position.CENTER: 'CENTER'&gt;]</td>\n      <td>31</td>\n      <td>Team.NEW_ORLEANS_PELICANS</td>\n      <td>28</td>\n      <td>0</td>\n      <td>253</td>\n      <td>19</td>\n      <td>49</td>\n      <td>...</td>\n      <td>20</td>\n      <td>33</td>\n      <td>33</td>\n      <td>46</td>\n      <td>31</td>\n      <td>4</td>\n      <td>3</td>\n      <td>11</td>\n      <td>36</td>\n      <td>59</td>\n    </tr>\n    <tr>\n      <th>2024</th>\n      <td>zubaciv01</td>\n      <td>Ivica Zubac</td>\n      <td>[&lt;Position.CENTER: 'CENTER'&gt;]</td>\n      <td>26</td>\n      <td>Team.LOS_ANGELES_CLIPPERS</td>\n      <td>38</td>\n      <td>38</td>\n      <td>1030</td>\n      <td>201</td>\n      <td>307</td>\n      <td>...</td>\n      <td>68</td>\n      <td>105</td>\n      <td>124</td>\n      <td>246</td>\n      <td>48</td>\n      <td>8</td>\n      <td>52</td>\n      <td>43</td>\n      <td>110</td>\n      <td>470</td>\n    </tr>\n  </tbody>\n</table>\n<p>13558 rows × 22 columns</p>\n</div>"
     },
     "execution_count": 38,
     "metadata": {},
     "output_type": "execute_result"
    }
   ],
   "source": [
    "player_totals_basic = pd.read_csv('2000_2024_player_totals_basic.csv', index_col=0)\n",
    "player_totals_basic"
   ],
   "metadata": {
    "collapsed": false,
    "ExecuteTime": {
     "end_time": "2024-01-30T06:13:19.219901Z",
     "start_time": "2024-01-30T06:13:19.176094Z"
    }
   }
  },
  {
   "cell_type": "code",
   "execution_count": 39,
   "outputs": [
    {
     "data": {
      "text/plain": "                                 slug  \\\nseason_end name                         \n2000       A.C. Green       greenac01   \n           A.J. Bramlett    bramlaj01   \n           Aaron McKie      mckieaa01   \n           Aaron Williams   williaa01   \n           Adam Keefe       keefead01   \n...                               ...   \n2024       Zach Collins     colliza01   \n           Zach LaVine      lavinza01   \n           Zeke Nnaji       nnajize01   \n           Ziaire Williams  willizi02   \n           Zion Williamson  willizi01   \n\n                                                                positions  \\\nseason_end name                                                             \n2000       A.C. Green         [<Position.POWER_FORWARD: 'POWER FORWARD'>]   \n           A.J. Bramlett                    [<Position.CENTER: 'CENTER'>]   \n           Aaron McKie      [<Position.SHOOTING_GUARD: 'SHOOTING GUARD'>]   \n           Aaron Williams     [<Position.POWER_FORWARD: 'POWER FORWARD'>]   \n           Adam Keefe                       [<Position.CENTER: 'CENTER'>]   \n...                                                                   ...   \n2024       Zach Collins                     [<Position.CENTER: 'CENTER'>]   \n           Zach LaVine      [<Position.SHOOTING_GUARD: 'SHOOTING GUARD'>]   \n           Zeke Nnaji         [<Position.POWER_FORWARD: 'POWER FORWARD'>]   \n           Ziaire Williams    [<Position.SMALL_FORWARD: 'SMALL FORWARD'>]   \n           Zion Williamson    [<Position.POWER_FORWARD: 'POWER FORWARD'>]   \n\n                            age                       team  games_played  \\\nseason_end name                                                            \n2000       A.C. Green        36    Team.LOS_ANGELES_LAKERS            82   \n           A.J. Bramlett     23   Team.CLEVELAND_CAVALIERS             8   \n           Aaron McKie       27    Team.PHILADELPHIA_76ERS            82   \n           Aaron Williams    28    Team.WASHINGTON_WIZARDS            81   \n           Adam Keefe        29             Team.UTAH_JAZZ            62   \n...                         ...                        ...           ...   \n2024       Zach Collins      26     Team.SAN_ANTONIO_SPURS            31   \n           Zach LaVine       28         Team.CHICAGO_BULLS            23   \n           Zeke Nnaji        23        Team.DENVER_NUGGETS            34   \n           Ziaire Williams   22     Team.MEMPHIS_GRIZZLIES            37   \n           Zion Williamson   23  Team.NEW_ORLEANS_PELICANS            32   \n\n                            games_started  minutes_played  made_field_goals  \\\nseason_end name                                                               \n2000       A.C. Green                  82            1929               173   \n           A.J. Bramlett                0              61                 4   \n           Aaron McKie                 14            1952               244   \n           Aaron Williams               0            1545               235   \n           Adam Keefe                   3             604                53   \n...                                   ...             ...               ...   \n2024       Zach Collins                23             810               153   \n           Zach LaVine                 21             813               160   \n           Zeke Nnaji                   0             328                40   \n           Ziaire Williams              8             700               106   \n           Zion Williamson             32             972               277   \n\n                            attempted_field_goals  \\\nseason_end name                                     \n2000       A.C. Green                         387   \n           A.J. Bramlett                       21   \n           Aaron McKie                        593   \n           Aaron Williams                     450   \n           Adam Keefe                         130   \n...                                           ...   \n2024       Zach Collins                       309   \n           Zach LaVine                        355   \n           Zeke Nnaji                          84   \n           Ziaire Williams                    261   \n           Zion Williamson                    474   \n\n                            made_three_point_field_goals  ...  \\\nseason_end name                                           ...   \n2000       A.C. Green                                  1  ...   \n           A.J. Bramlett                               0  ...   \n           Aaron McKie                                44  ...   \n           Aaron Williams                              0  ...   \n           Adam Keefe                                  0  ...   \n...                                                  ...  ...   \n2024       Zach Collins                               34  ...   \n           Zach LaVine                                55  ...   \n           Zeke Nnaji                                  5  ...   \n           Ziaire Williams                            44  ...   \n           Zion Williamson                             3  ...   \n\n                            offensive_rebounds  defensive_rebounds  assists  \\\nseason_end name                                                               \n2000       A.C. Green                      160                 326       80   \n           A.J. Bramlett                    12                  10        0   \n           Aaron McKie                      47                 199      240   \n           Aaron Williams                  159                 250       58   \n           Adam Keefe                       45                  91       34   \n...                                        ...                 ...      ...   \n2024       Zach Collins                     59                 126      102   \n           Zach LaVine                       8                 115       91   \n           Zeke Nnaji                       38                  36       17   \n           Ziaire Williams                  25                 104       50   \n           Zion Williamson                  60                 130      148   \n\n                            steals  blocks  turnovers  personal_fouls  points  \\\nseason_end name                                                                 \n2000       A.C. Green           53      18         53             127     413   \n           A.J. Bramlett         1       0          3              13       8   \n           Aaron McKie         108      18        113             194     653   \n           Aaron Williams       41      92         80             234     616   \n           Adam Keefe           17      13         46              90     135   \n...                            ...     ...        ...             ...     ...   \n2024       Zach Collins         18      24         71             104     401   \n           Zach LaVine          21       8         47              50     462   \n           Zeke Nnaji            8      20         21              52     110   \n           Ziaire Williams      19       9         45              61     297   \n           Zion Williamson      30      13         82              85     703   \n\n                            made_two_point_field_goals  \\\nseason_end name                                          \n2000       A.C. Green                              172   \n           A.J. Bramlett                             4   \n           Aaron McKie                             200   \n           Aaron Williams                          235   \n           Adam Keefe                               53   \n...                                                ...   \n2024       Zach Collins                            119   \n           Zach LaVine                             105   \n           Zeke Nnaji                               35   \n           Ziaire Williams                          62   \n           Zion Williamson                         274   \n\n                            attempted_two_point_field_goals  \nseason_end name                                              \n2000       A.C. Green                                   383  \n           A.J. Bramlett                                 21  \n           Aaron McKie                                  472  \n           Aaron Williams                               447  \n           Adam Keefe                                   129  \n...                                                     ...  \n2024       Zach Collins                                 200  \n           Zach LaVine                                  195  \n           Zeke Nnaji                                    69  \n           Ziaire Williams                              131  \n           Zion Williamson                              465  \n\n[12045 rows x 23 columns]",
      "text/html": "<div>\n<style scoped>\n    .dataframe tbody tr th:only-of-type {\n        vertical-align: middle;\n    }\n\n    .dataframe tbody tr th {\n        vertical-align: top;\n    }\n\n    .dataframe thead th {\n        text-align: right;\n    }\n</style>\n<table border=\"1\" class=\"dataframe\">\n  <thead>\n    <tr style=\"text-align: right;\">\n      <th></th>\n      <th></th>\n      <th>slug</th>\n      <th>positions</th>\n      <th>age</th>\n      <th>team</th>\n      <th>games_played</th>\n      <th>games_started</th>\n      <th>minutes_played</th>\n      <th>made_field_goals</th>\n      <th>attempted_field_goals</th>\n      <th>made_three_point_field_goals</th>\n      <th>...</th>\n      <th>offensive_rebounds</th>\n      <th>defensive_rebounds</th>\n      <th>assists</th>\n      <th>steals</th>\n      <th>blocks</th>\n      <th>turnovers</th>\n      <th>personal_fouls</th>\n      <th>points</th>\n      <th>made_two_point_field_goals</th>\n      <th>attempted_two_point_field_goals</th>\n    </tr>\n    <tr>\n      <th>season_end</th>\n      <th>name</th>\n      <th></th>\n      <th></th>\n      <th></th>\n      <th></th>\n      <th></th>\n      <th></th>\n      <th></th>\n      <th></th>\n      <th></th>\n      <th></th>\n      <th></th>\n      <th></th>\n      <th></th>\n      <th></th>\n      <th></th>\n      <th></th>\n      <th></th>\n      <th></th>\n      <th></th>\n      <th></th>\n      <th></th>\n    </tr>\n  </thead>\n  <tbody>\n    <tr>\n      <th rowspan=\"5\" valign=\"top\">2000</th>\n      <th>A.C. Green</th>\n      <td>greenac01</td>\n      <td>[&lt;Position.POWER_FORWARD: 'POWER FORWARD'&gt;]</td>\n      <td>36</td>\n      <td>Team.LOS_ANGELES_LAKERS</td>\n      <td>82</td>\n      <td>82</td>\n      <td>1929</td>\n      <td>173</td>\n      <td>387</td>\n      <td>1</td>\n      <td>...</td>\n      <td>160</td>\n      <td>326</td>\n      <td>80</td>\n      <td>53</td>\n      <td>18</td>\n      <td>53</td>\n      <td>127</td>\n      <td>413</td>\n      <td>172</td>\n      <td>383</td>\n    </tr>\n    <tr>\n      <th>A.J. Bramlett</th>\n      <td>bramlaj01</td>\n      <td>[&lt;Position.CENTER: 'CENTER'&gt;]</td>\n      <td>23</td>\n      <td>Team.CLEVELAND_CAVALIERS</td>\n      <td>8</td>\n      <td>0</td>\n      <td>61</td>\n      <td>4</td>\n      <td>21</td>\n      <td>0</td>\n      <td>...</td>\n      <td>12</td>\n      <td>10</td>\n      <td>0</td>\n      <td>1</td>\n      <td>0</td>\n      <td>3</td>\n      <td>13</td>\n      <td>8</td>\n      <td>4</td>\n      <td>21</td>\n    </tr>\n    <tr>\n      <th>Aaron McKie</th>\n      <td>mckieaa01</td>\n      <td>[&lt;Position.SHOOTING_GUARD: 'SHOOTING GUARD'&gt;]</td>\n      <td>27</td>\n      <td>Team.PHILADELPHIA_76ERS</td>\n      <td>82</td>\n      <td>14</td>\n      <td>1952</td>\n      <td>244</td>\n      <td>593</td>\n      <td>44</td>\n      <td>...</td>\n      <td>47</td>\n      <td>199</td>\n      <td>240</td>\n      <td>108</td>\n      <td>18</td>\n      <td>113</td>\n      <td>194</td>\n      <td>653</td>\n      <td>200</td>\n      <td>472</td>\n    </tr>\n    <tr>\n      <th>Aaron Williams</th>\n      <td>williaa01</td>\n      <td>[&lt;Position.POWER_FORWARD: 'POWER FORWARD'&gt;]</td>\n      <td>28</td>\n      <td>Team.WASHINGTON_WIZARDS</td>\n      <td>81</td>\n      <td>0</td>\n      <td>1545</td>\n      <td>235</td>\n      <td>450</td>\n      <td>0</td>\n      <td>...</td>\n      <td>159</td>\n      <td>250</td>\n      <td>58</td>\n      <td>41</td>\n      <td>92</td>\n      <td>80</td>\n      <td>234</td>\n      <td>616</td>\n      <td>235</td>\n      <td>447</td>\n    </tr>\n    <tr>\n      <th>Adam Keefe</th>\n      <td>keefead01</td>\n      <td>[&lt;Position.CENTER: 'CENTER'&gt;]</td>\n      <td>29</td>\n      <td>Team.UTAH_JAZZ</td>\n      <td>62</td>\n      <td>3</td>\n      <td>604</td>\n      <td>53</td>\n      <td>130</td>\n      <td>0</td>\n      <td>...</td>\n      <td>45</td>\n      <td>91</td>\n      <td>34</td>\n      <td>17</td>\n      <td>13</td>\n      <td>46</td>\n      <td>90</td>\n      <td>135</td>\n      <td>53</td>\n      <td>129</td>\n    </tr>\n    <tr>\n      <th>...</th>\n      <th>...</th>\n      <td>...</td>\n      <td>...</td>\n      <td>...</td>\n      <td>...</td>\n      <td>...</td>\n      <td>...</td>\n      <td>...</td>\n      <td>...</td>\n      <td>...</td>\n      <td>...</td>\n      <td>...</td>\n      <td>...</td>\n      <td>...</td>\n      <td>...</td>\n      <td>...</td>\n      <td>...</td>\n      <td>...</td>\n      <td>...</td>\n      <td>...</td>\n      <td>...</td>\n      <td>...</td>\n    </tr>\n    <tr>\n      <th rowspan=\"5\" valign=\"top\">2024</th>\n      <th>Zach Collins</th>\n      <td>colliza01</td>\n      <td>[&lt;Position.CENTER: 'CENTER'&gt;]</td>\n      <td>26</td>\n      <td>Team.SAN_ANTONIO_SPURS</td>\n      <td>31</td>\n      <td>23</td>\n      <td>810</td>\n      <td>153</td>\n      <td>309</td>\n      <td>34</td>\n      <td>...</td>\n      <td>59</td>\n      <td>126</td>\n      <td>102</td>\n      <td>18</td>\n      <td>24</td>\n      <td>71</td>\n      <td>104</td>\n      <td>401</td>\n      <td>119</td>\n      <td>200</td>\n    </tr>\n    <tr>\n      <th>Zach LaVine</th>\n      <td>lavinza01</td>\n      <td>[&lt;Position.SHOOTING_GUARD: 'SHOOTING GUARD'&gt;]</td>\n      <td>28</td>\n      <td>Team.CHICAGO_BULLS</td>\n      <td>23</td>\n      <td>21</td>\n      <td>813</td>\n      <td>160</td>\n      <td>355</td>\n      <td>55</td>\n      <td>...</td>\n      <td>8</td>\n      <td>115</td>\n      <td>91</td>\n      <td>21</td>\n      <td>8</td>\n      <td>47</td>\n      <td>50</td>\n      <td>462</td>\n      <td>105</td>\n      <td>195</td>\n    </tr>\n    <tr>\n      <th>Zeke Nnaji</th>\n      <td>nnajize01</td>\n      <td>[&lt;Position.POWER_FORWARD: 'POWER FORWARD'&gt;]</td>\n      <td>23</td>\n      <td>Team.DENVER_NUGGETS</td>\n      <td>34</td>\n      <td>0</td>\n      <td>328</td>\n      <td>40</td>\n      <td>84</td>\n      <td>5</td>\n      <td>...</td>\n      <td>38</td>\n      <td>36</td>\n      <td>17</td>\n      <td>8</td>\n      <td>20</td>\n      <td>21</td>\n      <td>52</td>\n      <td>110</td>\n      <td>35</td>\n      <td>69</td>\n    </tr>\n    <tr>\n      <th>Ziaire Williams</th>\n      <td>willizi02</td>\n      <td>[&lt;Position.SMALL_FORWARD: 'SMALL FORWARD'&gt;]</td>\n      <td>22</td>\n      <td>Team.MEMPHIS_GRIZZLIES</td>\n      <td>37</td>\n      <td>8</td>\n      <td>700</td>\n      <td>106</td>\n      <td>261</td>\n      <td>44</td>\n      <td>...</td>\n      <td>25</td>\n      <td>104</td>\n      <td>50</td>\n      <td>19</td>\n      <td>9</td>\n      <td>45</td>\n      <td>61</td>\n      <td>297</td>\n      <td>62</td>\n      <td>131</td>\n    </tr>\n    <tr>\n      <th>Zion Williamson</th>\n      <td>willizi01</td>\n      <td>[&lt;Position.POWER_FORWARD: 'POWER FORWARD'&gt;]</td>\n      <td>23</td>\n      <td>Team.NEW_ORLEANS_PELICANS</td>\n      <td>32</td>\n      <td>32</td>\n      <td>972</td>\n      <td>277</td>\n      <td>474</td>\n      <td>3</td>\n      <td>...</td>\n      <td>60</td>\n      <td>130</td>\n      <td>148</td>\n      <td>30</td>\n      <td>13</td>\n      <td>82</td>\n      <td>85</td>\n      <td>703</td>\n      <td>274</td>\n      <td>465</td>\n    </tr>\n  </tbody>\n</table>\n<p>12045 rows × 23 columns</p>\n</div>"
     },
     "execution_count": 39,
     "metadata": {},
     "output_type": "execute_result"
    }
   ],
   "source": [
    "player_totals_basic_cleaned = player_totals_basic.groupby('season_end')\n",
    "agg_functions = {'slug': 'last', 'positions': 'last', 'age': 'last', 'team': 'last'}\n",
    "agg_functions.update(dict(zip(player_totals_basic.columns[5:], ['sum'] * len(player_totals_basic.columns[5:]))))\n",
    "player_totals_basic_cleaned = player_totals_basic_cleaned.transform(lambda x: x).groupby(['season_end', 'name']).aggregate(agg_functions)\n",
    "player_totals_basic_cleaned['made_two_point_field_goals'] = player_totals_basic_cleaned['made_field_goals'] - player_totals_basic_cleaned['made_three_point_field_goals']\n",
    "player_totals_basic_cleaned['attempted_two_point_field_goals'] = player_totals_basic_cleaned['attempted_field_goals'] - player_totals_basic_cleaned['attempted_three_point_field_goals']\n",
    "player_totals_basic_cleaned"
   ],
   "metadata": {
    "collapsed": false,
    "ExecuteTime": {
     "end_time": "2024-01-30T06:13:19.586403Z",
     "start_time": "2024-01-30T06:13:19.560982Z"
    }
   }
  },
  {
   "cell_type": "code",
   "execution_count": 41,
   "outputs": [
    {
     "data": {
      "text/plain": "                                 MP/G       GS%       PS/G      FG/G  \\\nseason_end name                                                        \n2000       A.C. Green       23.524390  1.000000   5.036585  2.109756   \n           A.J. Bramlett     7.625000  0.000000   1.000000  0.500000   \n           Aaron McKie      23.804878  0.170732   7.963415  2.975610   \n           Aaron Williams   19.074074  0.000000   7.604938  2.901235   \n           Adam Keefe        9.741935  0.048387   2.177419  0.854839   \n...                               ...       ...        ...       ...   \n2024       Zach Collins     26.129032  0.741935  12.935484  4.935484   \n           Zach LaVine      35.347826  0.913043  20.086957  6.956522   \n           Zeke Nnaji        9.647059  0.000000   3.235294  1.176471   \n           Ziaire Williams  18.918919  0.216216   8.027027  2.864865   \n           Zion Williamson  30.375000  1.000000  21.968750  8.656250   \n\n                                  FGA       FG%      2P/G      2PA/G  \\\nseason_end name                                                        \n2000       A.C. Green        4.719512  0.447028  2.097561   4.670732   \n           A.J. Bramlett     2.625000  0.190476  0.500000   2.625000   \n           Aaron McKie       7.231707  0.411467  2.439024   5.756098   \n           Aaron Williams    5.555556  0.522222  2.901235   5.518519   \n           Adam Keefe        2.096774  0.407692  0.854839   2.080645   \n...                               ...       ...       ...        ...   \n2024       Zach Collins      9.967742  0.495146  3.838710   6.451613   \n           Zach LaVine      15.434783  0.450704  4.565217   8.478261   \n           Zeke Nnaji        2.470588  0.476190  1.029412   2.029412   \n           Ziaire Williams   7.054054  0.406130  1.675676   3.540541   \n           Zion Williamson  14.812500  0.584388  8.562500  14.531250   \n\n                                 2P%      3P/G  ...      FT/G     FTA/G  \\\nseason_end name                                 ...                       \n2000       A.C. Green       0.449086  0.012195  ...  0.804878  1.158537   \n           A.J. Bramlett    0.190476  0.000000  ...  0.000000  0.000000   \n           Aaron McKie      0.423729  0.536585  ...  1.475610  1.780488   \n           Aaron Williams   0.525727  0.000000  ...  1.802469  2.481481   \n           Adam Keefe       0.410853  0.000000  ...  0.467742  0.580645   \n...                              ...       ...  ...       ...       ...   \n2024       Zach Collins     0.595000  1.096774  ...  1.967742  2.483871   \n           Zach LaVine      0.538462  2.391304  ...  3.782609  4.434783   \n           Zeke Nnaji       0.507246  0.147059  ...  0.735294  1.147059   \n           Ziaire Williams  0.473282  1.189189  ...  1.108108  1.297297   \n           Zion Williamson  0.589247  0.093750  ...  4.562500  6.875000   \n\n                                 FT%     ORB/G     DRB/G     TRB/G     AST/G  \\\nseason_end name                                                                \n2000       A.C. Green       0.694737  1.951220  3.975610  5.926829  0.975610   \n           A.J. Bramlett         NaN  1.500000  1.250000  2.750000  0.000000   \n           Aaron McKie      0.828767  0.573171  2.426829  3.000000  2.926829   \n           Aaron Williams   0.726368  1.962963  3.086420  5.049383  0.716049   \n           Adam Keefe       0.805556  0.725806  1.467742  2.193548  0.548387   \n...                              ...       ...       ...       ...       ...   \n2024       Zach Collins     0.792208  1.903226  4.064516  5.967742  3.290323   \n           Zach LaVine      0.852941  0.347826  5.000000  5.347826  3.956522   \n           Zeke Nnaji       0.641026  1.117647  1.058824  2.176471  0.500000   \n           Ziaire Williams  0.854167  0.675676  2.810811  3.486486  1.351351   \n           Zion Williamson  0.663636  1.875000  4.062500  5.937500  4.625000   \n\n                               STL/G     BLK/G     TOV/G  \nseason_end name                                           \n2000       A.C. Green       0.646341  0.219512  0.646341  \n           A.J. Bramlett    0.125000  0.000000  0.375000  \n           Aaron McKie      1.317073  0.219512  1.378049  \n           Aaron Williams   0.506173  1.135802  0.987654  \n           Adam Keefe       0.274194  0.209677  0.741935  \n...                              ...       ...       ...  \n2024       Zach Collins     0.580645  0.774194  2.290323  \n           Zach LaVine      0.913043  0.347826  2.043478  \n           Zeke Nnaji       0.235294  0.588235  0.617647  \n           Ziaire Williams  0.513514  0.243243  1.216216  \n           Zion Williamson  0.937500  0.406250  2.562500  \n\n[12045 rows x 22 columns]",
      "text/html": "<div>\n<style scoped>\n    .dataframe tbody tr th:only-of-type {\n        vertical-align: middle;\n    }\n\n    .dataframe tbody tr th {\n        vertical-align: top;\n    }\n\n    .dataframe thead th {\n        text-align: right;\n    }\n</style>\n<table border=\"1\" class=\"dataframe\">\n  <thead>\n    <tr style=\"text-align: right;\">\n      <th></th>\n      <th></th>\n      <th>MP/G</th>\n      <th>GS%</th>\n      <th>PS/G</th>\n      <th>FG/G</th>\n      <th>FGA</th>\n      <th>FG%</th>\n      <th>2P/G</th>\n      <th>2PA/G</th>\n      <th>2P%</th>\n      <th>3P/G</th>\n      <th>...</th>\n      <th>FT/G</th>\n      <th>FTA/G</th>\n      <th>FT%</th>\n      <th>ORB/G</th>\n      <th>DRB/G</th>\n      <th>TRB/G</th>\n      <th>AST/G</th>\n      <th>STL/G</th>\n      <th>BLK/G</th>\n      <th>TOV/G</th>\n    </tr>\n    <tr>\n      <th>season_end</th>\n      <th>name</th>\n      <th></th>\n      <th></th>\n      <th></th>\n      <th></th>\n      <th></th>\n      <th></th>\n      <th></th>\n      <th></th>\n      <th></th>\n      <th></th>\n      <th></th>\n      <th></th>\n      <th></th>\n      <th></th>\n      <th></th>\n      <th></th>\n      <th></th>\n      <th></th>\n      <th></th>\n      <th></th>\n      <th></th>\n    </tr>\n  </thead>\n  <tbody>\n    <tr>\n      <th rowspan=\"5\" valign=\"top\">2000</th>\n      <th>A.C. Green</th>\n      <td>23.524390</td>\n      <td>1.000000</td>\n      <td>5.036585</td>\n      <td>2.109756</td>\n      <td>4.719512</td>\n      <td>0.447028</td>\n      <td>2.097561</td>\n      <td>4.670732</td>\n      <td>0.449086</td>\n      <td>0.012195</td>\n      <td>...</td>\n      <td>0.804878</td>\n      <td>1.158537</td>\n      <td>0.694737</td>\n      <td>1.951220</td>\n      <td>3.975610</td>\n      <td>5.926829</td>\n      <td>0.975610</td>\n      <td>0.646341</td>\n      <td>0.219512</td>\n      <td>0.646341</td>\n    </tr>\n    <tr>\n      <th>A.J. Bramlett</th>\n      <td>7.625000</td>\n      <td>0.000000</td>\n      <td>1.000000</td>\n      <td>0.500000</td>\n      <td>2.625000</td>\n      <td>0.190476</td>\n      <td>0.500000</td>\n      <td>2.625000</td>\n      <td>0.190476</td>\n      <td>0.000000</td>\n      <td>...</td>\n      <td>0.000000</td>\n      <td>0.000000</td>\n      <td>NaN</td>\n      <td>1.500000</td>\n      <td>1.250000</td>\n      <td>2.750000</td>\n      <td>0.000000</td>\n      <td>0.125000</td>\n      <td>0.000000</td>\n      <td>0.375000</td>\n    </tr>\n    <tr>\n      <th>Aaron McKie</th>\n      <td>23.804878</td>\n      <td>0.170732</td>\n      <td>7.963415</td>\n      <td>2.975610</td>\n      <td>7.231707</td>\n      <td>0.411467</td>\n      <td>2.439024</td>\n      <td>5.756098</td>\n      <td>0.423729</td>\n      <td>0.536585</td>\n      <td>...</td>\n      <td>1.475610</td>\n      <td>1.780488</td>\n      <td>0.828767</td>\n      <td>0.573171</td>\n      <td>2.426829</td>\n      <td>3.000000</td>\n      <td>2.926829</td>\n      <td>1.317073</td>\n      <td>0.219512</td>\n      <td>1.378049</td>\n    </tr>\n    <tr>\n      <th>Aaron Williams</th>\n      <td>19.074074</td>\n      <td>0.000000</td>\n      <td>7.604938</td>\n      <td>2.901235</td>\n      <td>5.555556</td>\n      <td>0.522222</td>\n      <td>2.901235</td>\n      <td>5.518519</td>\n      <td>0.525727</td>\n      <td>0.000000</td>\n      <td>...</td>\n      <td>1.802469</td>\n      <td>2.481481</td>\n      <td>0.726368</td>\n      <td>1.962963</td>\n      <td>3.086420</td>\n      <td>5.049383</td>\n      <td>0.716049</td>\n      <td>0.506173</td>\n      <td>1.135802</td>\n      <td>0.987654</td>\n    </tr>\n    <tr>\n      <th>Adam Keefe</th>\n      <td>9.741935</td>\n      <td>0.048387</td>\n      <td>2.177419</td>\n      <td>0.854839</td>\n      <td>2.096774</td>\n      <td>0.407692</td>\n      <td>0.854839</td>\n      <td>2.080645</td>\n      <td>0.410853</td>\n      <td>0.000000</td>\n      <td>...</td>\n      <td>0.467742</td>\n      <td>0.580645</td>\n      <td>0.805556</td>\n      <td>0.725806</td>\n      <td>1.467742</td>\n      <td>2.193548</td>\n      <td>0.548387</td>\n      <td>0.274194</td>\n      <td>0.209677</td>\n      <td>0.741935</td>\n    </tr>\n    <tr>\n      <th>...</th>\n      <th>...</th>\n      <td>...</td>\n      <td>...</td>\n      <td>...</td>\n      <td>...</td>\n      <td>...</td>\n      <td>...</td>\n      <td>...</td>\n      <td>...</td>\n      <td>...</td>\n      <td>...</td>\n      <td>...</td>\n      <td>...</td>\n      <td>...</td>\n      <td>...</td>\n      <td>...</td>\n      <td>...</td>\n      <td>...</td>\n      <td>...</td>\n      <td>...</td>\n      <td>...</td>\n      <td>...</td>\n    </tr>\n    <tr>\n      <th rowspan=\"5\" valign=\"top\">2024</th>\n      <th>Zach Collins</th>\n      <td>26.129032</td>\n      <td>0.741935</td>\n      <td>12.935484</td>\n      <td>4.935484</td>\n      <td>9.967742</td>\n      <td>0.495146</td>\n      <td>3.838710</td>\n      <td>6.451613</td>\n      <td>0.595000</td>\n      <td>1.096774</td>\n      <td>...</td>\n      <td>1.967742</td>\n      <td>2.483871</td>\n      <td>0.792208</td>\n      <td>1.903226</td>\n      <td>4.064516</td>\n      <td>5.967742</td>\n      <td>3.290323</td>\n      <td>0.580645</td>\n      <td>0.774194</td>\n      <td>2.290323</td>\n    </tr>\n    <tr>\n      <th>Zach LaVine</th>\n      <td>35.347826</td>\n      <td>0.913043</td>\n      <td>20.086957</td>\n      <td>6.956522</td>\n      <td>15.434783</td>\n      <td>0.450704</td>\n      <td>4.565217</td>\n      <td>8.478261</td>\n      <td>0.538462</td>\n      <td>2.391304</td>\n      <td>...</td>\n      <td>3.782609</td>\n      <td>4.434783</td>\n      <td>0.852941</td>\n      <td>0.347826</td>\n      <td>5.000000</td>\n      <td>5.347826</td>\n      <td>3.956522</td>\n      <td>0.913043</td>\n      <td>0.347826</td>\n      <td>2.043478</td>\n    </tr>\n    <tr>\n      <th>Zeke Nnaji</th>\n      <td>9.647059</td>\n      <td>0.000000</td>\n      <td>3.235294</td>\n      <td>1.176471</td>\n      <td>2.470588</td>\n      <td>0.476190</td>\n      <td>1.029412</td>\n      <td>2.029412</td>\n      <td>0.507246</td>\n      <td>0.147059</td>\n      <td>...</td>\n      <td>0.735294</td>\n      <td>1.147059</td>\n      <td>0.641026</td>\n      <td>1.117647</td>\n      <td>1.058824</td>\n      <td>2.176471</td>\n      <td>0.500000</td>\n      <td>0.235294</td>\n      <td>0.588235</td>\n      <td>0.617647</td>\n    </tr>\n    <tr>\n      <th>Ziaire Williams</th>\n      <td>18.918919</td>\n      <td>0.216216</td>\n      <td>8.027027</td>\n      <td>2.864865</td>\n      <td>7.054054</td>\n      <td>0.406130</td>\n      <td>1.675676</td>\n      <td>3.540541</td>\n      <td>0.473282</td>\n      <td>1.189189</td>\n      <td>...</td>\n      <td>1.108108</td>\n      <td>1.297297</td>\n      <td>0.854167</td>\n      <td>0.675676</td>\n      <td>2.810811</td>\n      <td>3.486486</td>\n      <td>1.351351</td>\n      <td>0.513514</td>\n      <td>0.243243</td>\n      <td>1.216216</td>\n    </tr>\n    <tr>\n      <th>Zion Williamson</th>\n      <td>30.375000</td>\n      <td>1.000000</td>\n      <td>21.968750</td>\n      <td>8.656250</td>\n      <td>14.812500</td>\n      <td>0.584388</td>\n      <td>8.562500</td>\n      <td>14.531250</td>\n      <td>0.589247</td>\n      <td>0.093750</td>\n      <td>...</td>\n      <td>4.562500</td>\n      <td>6.875000</td>\n      <td>0.663636</td>\n      <td>1.875000</td>\n      <td>4.062500</td>\n      <td>5.937500</td>\n      <td>4.625000</td>\n      <td>0.937500</td>\n      <td>0.406250</td>\n      <td>2.562500</td>\n    </tr>\n  </tbody>\n</table>\n<p>12045 rows × 22 columns</p>\n</div>"
     },
     "execution_count": 41,
     "metadata": {},
     "output_type": "execute_result"
    }
   ],
   "source": [
    "player_totals_basic_pg = pd.DataFrame()\n",
    "games_played = player_totals_basic_cleaned['games_played']\n",
    "player_totals_basic_pg['MP/G'] = player_totals_basic_cleaned['minutes_played'] / games_played\n",
    "player_totals_basic_pg['GS%'] = player_totals_basic_cleaned['games_started'] / games_played\n",
    "player_totals_basic_pg['PS/G'] = player_totals_basic_cleaned['points'] / games_played\n",
    "player_totals_basic_pg['FG/G'] = player_totals_basic_cleaned['made_field_goals'] / games_played\n",
    "player_totals_basic_pg['FGA'] = player_totals_basic_cleaned['attempted_field_goals'] / games_played\n",
    "player_totals_basic_pg['FG%'] = player_totals_basic_cleaned['made_field_goals'] / player_totals_basic_cleaned['attempted_field_goals']\n",
    "player_totals_basic_pg['2P/G'] = player_totals_basic_cleaned['made_two_point_field_goals'] / games_played\n",
    "player_totals_basic_pg['2PA/G'] = player_totals_basic_cleaned['attempted_two_point_field_goals'] / games_played\n",
    "player_totals_basic_pg['2P%'] = player_totals_basic_cleaned['made_two_point_field_goals'] / player_totals_basic_cleaned['attempted_two_point_field_goals']\n",
    "player_totals_basic_pg['3P/G'] = player_totals_basic_cleaned['made_three_point_field_goals'] / games_played\n",
    "player_totals_basic_pg['3PA/G'] = player_totals_basic_cleaned['attempted_three_point_field_goals'] / games_played\n",
    "player_totals_basic_pg['3P%'] = player_totals_basic_cleaned['made_three_point_field_goals'] / player_totals_basic_cleaned['attempted_three_point_field_goals']\n",
    "player_totals_basic_pg['FT/G'] = player_totals_basic_cleaned['made_free_throws'] / games_played\n",
    "player_totals_basic_pg['FTA/G'] = player_totals_basic_cleaned['attempted_free_throws'] / games_played\n",
    "player_totals_basic_pg['FT%'] = player_totals_basic_cleaned['made_free_throws'] / player_totals_basic_cleaned['attempted_free_throws']\n",
    "player_totals_basic_pg['ORB/G'] = player_totals_basic_cleaned['offensive_rebounds'] / games_played\n",
    "player_totals_basic_pg['DRB/G'] = player_totals_basic_cleaned['defensive_rebounds'] / games_played\n",
    "player_totals_basic_pg['TRB/G'] = (player_totals_basic_cleaned['offensive_rebounds'] + player_totals_basic_cleaned['defensive_rebounds']) / games_played\n",
    "player_totals_basic_pg['AST/G'] = player_totals_basic_cleaned['assists'] / games_played\n",
    "player_totals_basic_pg['STL/G'] = player_totals_basic_cleaned['steals'] / games_played\n",
    "player_totals_basic_pg['BLK/G'] = player_totals_basic_cleaned['blocks'] / games_played\n",
    "player_totals_basic_pg['TOV/G'] = player_totals_basic_cleaned['turnovers'] / games_played\n",
    "player_totals_basic_pg.to_csv('2000_2024_player_totals_basic.csv')\n",
    "player_totals_basic_pg"
   ],
   "metadata": {
    "collapsed": false,
    "ExecuteTime": {
     "end_time": "2024-01-30T06:13:48.883084Z",
     "start_time": "2024-01-30T06:13:48.638534Z"
    }
   }
  },
  {
   "cell_type": "code",
   "execution_count": 18,
   "outputs": [
    {
     "data": {
      "text/plain": "                 slug                 name  \\\nseason_end                                   \n2000        abdulta01    Tariq Abdul-Wahad   \n2000        abdulta01    Tariq Abdul-Wahad   \n2000        abdursh01  Shareef Abdur-Rahim   \n2000        alexaco01       Cory Alexander   \n2000        allenra02            Ray Allen   \n...               ...                  ...   \n2024        youngth01       Thaddeus Young   \n2024        youngtr01           Trae Young   \n2024        yurtsom01       Omer Yurtseven   \n2024        zelleco01          Cody Zeller   \n2024        zubaciv01          Ivica Zubac   \n\n                                                positions  age  \\\nseason_end                                                       \n2000        [<Position.SHOOTING_GUARD: 'SHOOTING GUARD'>]   25   \n2000        [<Position.SHOOTING_GUARD: 'SHOOTING GUARD'>]   25   \n2000          [<Position.SMALL_FORWARD: 'SMALL FORWARD'>]   23   \n2000              [<Position.POINT_GUARD: 'POINT GUARD'>]   26   \n2000        [<Position.SHOOTING_GUARD: 'SHOOTING GUARD'>]   24   \n...                                                   ...  ...   \n2024          [<Position.POWER_FORWARD: 'POWER FORWARD'>]   35   \n2024              [<Position.POINT_GUARD: 'POINT GUARD'>]   25   \n2024                        [<Position.CENTER: 'CENTER'>]   25   \n2024                        [<Position.CENTER: 'CENTER'>]   31   \n2024                        [<Position.CENTER: 'CENTER'>]   26   \n\n                                 team  games_played  minutes_played  \\\nseason_end                                                            \n2000               Team.ORLANDO_MAGIC            46            1205   \n2000              Team.DENVER_NUGGETS            15             373   \n2000         Team.VANCOUVER_GRIZZLIES            82            3223   \n2000              Team.DENVER_NUGGETS            29             329   \n2000             Team.MILWAUKEE_BUCKS            82            3070   \n...                               ...           ...             ...   \n2024             Team.TORONTO_RAPTORS            11              99   \n2024               Team.ATLANTA_HAWKS            36            1312   \n2024                   Team.UTAH_JAZZ            23             254   \n2024        Team.NEW_ORLEANS_PELICANS            28             253   \n2024        Team.LOS_ANGELES_CLIPPERS            38            1030   \n\n            player_efficiency_rating  true_shooting_percentage  \\\nseason_end                                                       \n2000                            14.4                     0.484   \n2000                            10.8                     0.448   \n2000                            20.2                     0.547   \n2000                             8.8                     0.381   \n2000                            20.6                     0.570   \n...                              ...                       ...   \n2024                            14.4                     0.600   \n2024                            20.9                     0.577   \n2024                            11.8                     0.529   \n2024                            10.9                     0.464   \n2024                            19.7                     0.665   \n\n            three_point_attempt_rate  ...  usage_percentage  \\\nseason_end                            ...                     \n2000                           0.041  ...              23.3   \n2000                           0.015  ...              19.7   \n2000                           0.075  ...              25.0   \n2000                           0.357  ...              18.0   \n2000                           0.288  ...              25.6   \n...                              ...  ...               ...   \n2024                           0.111  ...              15.2   \n2024                           0.462  ...              31.2   \n2024                           0.197  ...              16.7   \n2024                           0.061  ...              12.7   \n2024                           0.000  ...              16.7   \n\n            offensive_win_shares  defensive_win_shares  win_shares  \\\nseason_end                                                           \n2000                         0.4                   1.6         2.0   \n2000                         0.0                   0.2         0.2   \n2000                         6.2                   2.6         8.8   \n2000                        -0.5                   0.4        -0.1   \n2000                         9.0                   1.0        10.1   \n...                          ...                   ...         ...   \n2024                         0.1                   0.1         0.2   \n2024                         3.0                   0.3         3.2   \n2024                        -0.1                   0.3         0.2   \n2024                         0.2                   0.3         0.5   \n2024                         2.7                   1.5         4.1   \n\n            win_shares_per_48_minutes  offensive_box_plus_minus  \\\nseason_end                                                        \n2000                            0.082                      -1.0   \n2000                            0.023                      -1.7   \n2000                            0.132                       2.6   \n2000                           -0.012                      -4.1   \n2000                            0.157                       4.7   \n...                               ...                       ...   \n2024                            0.097                      -1.9   \n2024                            0.118                       5.3   \n2024                            0.033                      -4.0   \n2024                            0.103                      -3.3   \n2024                            0.192                       0.7   \n\n            defensive_box_plus_minus  box_plus_minus  \\\nseason_end                                             \n2000                             0.2            -0.8   \n2000                            -0.9            -2.5   \n2000                            -0.4             2.2   \n2000                             1.8            -2.4   \n2000                            -1.1             3.6   \n...                              ...             ...   \n2024                             1.1            -0.8   \n2024                            -2.3             3.0   \n2024                            -0.8            -4.8   \n2024                            -0.1            -3.4   \n2024                            -0.1             0.5   \n\n            value_over_replacement_player  is_combined_totals  \nseason_end                                                     \n2000                                  0.4               False  \n2000                                  0.0               False  \n2000                                  3.4               False  \n2000                                  0.0               False  \n2000                                  4.3               False  \n...                                   ...                 ...  \n2024                                  0.0               False  \n2024                                  1.6               False  \n2024                                 -0.2               False  \n2024                                 -0.1               False  \n2024                                  0.7               False  \n\n[13558 rows x 28 columns]",
      "text/html": "<div>\n<style scoped>\n    .dataframe tbody tr th:only-of-type {\n        vertical-align: middle;\n    }\n\n    .dataframe tbody tr th {\n        vertical-align: top;\n    }\n\n    .dataframe thead th {\n        text-align: right;\n    }\n</style>\n<table border=\"1\" class=\"dataframe\">\n  <thead>\n    <tr style=\"text-align: right;\">\n      <th></th>\n      <th>slug</th>\n      <th>name</th>\n      <th>positions</th>\n      <th>age</th>\n      <th>team</th>\n      <th>games_played</th>\n      <th>minutes_played</th>\n      <th>player_efficiency_rating</th>\n      <th>true_shooting_percentage</th>\n      <th>three_point_attempt_rate</th>\n      <th>...</th>\n      <th>usage_percentage</th>\n      <th>offensive_win_shares</th>\n      <th>defensive_win_shares</th>\n      <th>win_shares</th>\n      <th>win_shares_per_48_minutes</th>\n      <th>offensive_box_plus_minus</th>\n      <th>defensive_box_plus_minus</th>\n      <th>box_plus_minus</th>\n      <th>value_over_replacement_player</th>\n      <th>is_combined_totals</th>\n    </tr>\n    <tr>\n      <th>season_end</th>\n      <th></th>\n      <th></th>\n      <th></th>\n      <th></th>\n      <th></th>\n      <th></th>\n      <th></th>\n      <th></th>\n      <th></th>\n      <th></th>\n      <th></th>\n      <th></th>\n      <th></th>\n      <th></th>\n      <th></th>\n      <th></th>\n      <th></th>\n      <th></th>\n      <th></th>\n      <th></th>\n      <th></th>\n    </tr>\n  </thead>\n  <tbody>\n    <tr>\n      <th>2000</th>\n      <td>abdulta01</td>\n      <td>Tariq Abdul-Wahad</td>\n      <td>[&lt;Position.SHOOTING_GUARD: 'SHOOTING GUARD'&gt;]</td>\n      <td>25</td>\n      <td>Team.ORLANDO_MAGIC</td>\n      <td>46</td>\n      <td>1205</td>\n      <td>14.4</td>\n      <td>0.484</td>\n      <td>0.041</td>\n      <td>...</td>\n      <td>23.3</td>\n      <td>0.4</td>\n      <td>1.6</td>\n      <td>2.0</td>\n      <td>0.082</td>\n      <td>-1.0</td>\n      <td>0.2</td>\n      <td>-0.8</td>\n      <td>0.4</td>\n      <td>False</td>\n    </tr>\n    <tr>\n      <th>2000</th>\n      <td>abdulta01</td>\n      <td>Tariq Abdul-Wahad</td>\n      <td>[&lt;Position.SHOOTING_GUARD: 'SHOOTING GUARD'&gt;]</td>\n      <td>25</td>\n      <td>Team.DENVER_NUGGETS</td>\n      <td>15</td>\n      <td>373</td>\n      <td>10.8</td>\n      <td>0.448</td>\n      <td>0.015</td>\n      <td>...</td>\n      <td>19.7</td>\n      <td>0.0</td>\n      <td>0.2</td>\n      <td>0.2</td>\n      <td>0.023</td>\n      <td>-1.7</td>\n      <td>-0.9</td>\n      <td>-2.5</td>\n      <td>0.0</td>\n      <td>False</td>\n    </tr>\n    <tr>\n      <th>2000</th>\n      <td>abdursh01</td>\n      <td>Shareef Abdur-Rahim</td>\n      <td>[&lt;Position.SMALL_FORWARD: 'SMALL FORWARD'&gt;]</td>\n      <td>23</td>\n      <td>Team.VANCOUVER_GRIZZLIES</td>\n      <td>82</td>\n      <td>3223</td>\n      <td>20.2</td>\n      <td>0.547</td>\n      <td>0.075</td>\n      <td>...</td>\n      <td>25.0</td>\n      <td>6.2</td>\n      <td>2.6</td>\n      <td>8.8</td>\n      <td>0.132</td>\n      <td>2.6</td>\n      <td>-0.4</td>\n      <td>2.2</td>\n      <td>3.4</td>\n      <td>False</td>\n    </tr>\n    <tr>\n      <th>2000</th>\n      <td>alexaco01</td>\n      <td>Cory Alexander</td>\n      <td>[&lt;Position.POINT_GUARD: 'POINT GUARD'&gt;]</td>\n      <td>26</td>\n      <td>Team.DENVER_NUGGETS</td>\n      <td>29</td>\n      <td>329</td>\n      <td>8.8</td>\n      <td>0.381</td>\n      <td>0.357</td>\n      <td>...</td>\n      <td>18.0</td>\n      <td>-0.5</td>\n      <td>0.4</td>\n      <td>-0.1</td>\n      <td>-0.012</td>\n      <td>-4.1</td>\n      <td>1.8</td>\n      <td>-2.4</td>\n      <td>0.0</td>\n      <td>False</td>\n    </tr>\n    <tr>\n      <th>2000</th>\n      <td>allenra02</td>\n      <td>Ray Allen</td>\n      <td>[&lt;Position.SHOOTING_GUARD: 'SHOOTING GUARD'&gt;]</td>\n      <td>24</td>\n      <td>Team.MILWAUKEE_BUCKS</td>\n      <td>82</td>\n      <td>3070</td>\n      <td>20.6</td>\n      <td>0.570</td>\n      <td>0.288</td>\n      <td>...</td>\n      <td>25.6</td>\n      <td>9.0</td>\n      <td>1.0</td>\n      <td>10.1</td>\n      <td>0.157</td>\n      <td>4.7</td>\n      <td>-1.1</td>\n      <td>3.6</td>\n      <td>4.3</td>\n      <td>False</td>\n    </tr>\n    <tr>\n      <th>...</th>\n      <td>...</td>\n      <td>...</td>\n      <td>...</td>\n      <td>...</td>\n      <td>...</td>\n      <td>...</td>\n      <td>...</td>\n      <td>...</td>\n      <td>...</td>\n      <td>...</td>\n      <td>...</td>\n      <td>...</td>\n      <td>...</td>\n      <td>...</td>\n      <td>...</td>\n      <td>...</td>\n      <td>...</td>\n      <td>...</td>\n      <td>...</td>\n      <td>...</td>\n      <td>...</td>\n    </tr>\n    <tr>\n      <th>2024</th>\n      <td>youngth01</td>\n      <td>Thaddeus Young</td>\n      <td>[&lt;Position.POWER_FORWARD: 'POWER FORWARD'&gt;]</td>\n      <td>35</td>\n      <td>Team.TORONTO_RAPTORS</td>\n      <td>11</td>\n      <td>99</td>\n      <td>14.4</td>\n      <td>0.600</td>\n      <td>0.111</td>\n      <td>...</td>\n      <td>15.2</td>\n      <td>0.1</td>\n      <td>0.1</td>\n      <td>0.2</td>\n      <td>0.097</td>\n      <td>-1.9</td>\n      <td>1.1</td>\n      <td>-0.8</td>\n      <td>0.0</td>\n      <td>False</td>\n    </tr>\n    <tr>\n      <th>2024</th>\n      <td>youngtr01</td>\n      <td>Trae Young</td>\n      <td>[&lt;Position.POINT_GUARD: 'POINT GUARD'&gt;]</td>\n      <td>25</td>\n      <td>Team.ATLANTA_HAWKS</td>\n      <td>36</td>\n      <td>1312</td>\n      <td>20.9</td>\n      <td>0.577</td>\n      <td>0.462</td>\n      <td>...</td>\n      <td>31.2</td>\n      <td>3.0</td>\n      <td>0.3</td>\n      <td>3.2</td>\n      <td>0.118</td>\n      <td>5.3</td>\n      <td>-2.3</td>\n      <td>3.0</td>\n      <td>1.6</td>\n      <td>False</td>\n    </tr>\n    <tr>\n      <th>2024</th>\n      <td>yurtsom01</td>\n      <td>Omer Yurtseven</td>\n      <td>[&lt;Position.CENTER: 'CENTER'&gt;]</td>\n      <td>25</td>\n      <td>Team.UTAH_JAZZ</td>\n      <td>23</td>\n      <td>254</td>\n      <td>11.8</td>\n      <td>0.529</td>\n      <td>0.197</td>\n      <td>...</td>\n      <td>16.7</td>\n      <td>-0.1</td>\n      <td>0.3</td>\n      <td>0.2</td>\n      <td>0.033</td>\n      <td>-4.0</td>\n      <td>-0.8</td>\n      <td>-4.8</td>\n      <td>-0.2</td>\n      <td>False</td>\n    </tr>\n    <tr>\n      <th>2024</th>\n      <td>zelleco01</td>\n      <td>Cody Zeller</td>\n      <td>[&lt;Position.CENTER: 'CENTER'&gt;]</td>\n      <td>31</td>\n      <td>Team.NEW_ORLEANS_PELICANS</td>\n      <td>28</td>\n      <td>253</td>\n      <td>10.9</td>\n      <td>0.464</td>\n      <td>0.061</td>\n      <td>...</td>\n      <td>12.7</td>\n      <td>0.2</td>\n      <td>0.3</td>\n      <td>0.5</td>\n      <td>0.103</td>\n      <td>-3.3</td>\n      <td>-0.1</td>\n      <td>-3.4</td>\n      <td>-0.1</td>\n      <td>False</td>\n    </tr>\n    <tr>\n      <th>2024</th>\n      <td>zubaciv01</td>\n      <td>Ivica Zubac</td>\n      <td>[&lt;Position.CENTER: 'CENTER'&gt;]</td>\n      <td>26</td>\n      <td>Team.LOS_ANGELES_CLIPPERS</td>\n      <td>38</td>\n      <td>1030</td>\n      <td>19.7</td>\n      <td>0.665</td>\n      <td>0.000</td>\n      <td>...</td>\n      <td>16.7</td>\n      <td>2.7</td>\n      <td>1.5</td>\n      <td>4.1</td>\n      <td>0.192</td>\n      <td>0.7</td>\n      <td>-0.1</td>\n      <td>0.5</td>\n      <td>0.7</td>\n      <td>False</td>\n    </tr>\n  </tbody>\n</table>\n<p>13558 rows × 28 columns</p>\n</div>"
     },
     "execution_count": 18,
     "metadata": {},
     "output_type": "execute_result"
    }
   ],
   "source": [
    "player_totals_advanced = pd.read_csv('2000_2024_player_totals_advanced.csv', index_col=0)\n",
    "player_totals_advanced"
   ],
   "metadata": {
    "collapsed": false,
    "ExecuteTime": {
     "end_time": "2024-01-29T06:09:49.684796Z",
     "start_time": "2024-01-29T06:09:49.642406Z"
    }
   }
  },
  {
   "cell_type": "code",
   "execution_count": 19,
   "outputs": [
    {
     "data": {
      "text/plain": "                                 slug  \\\nseason_end name                         \n2000       A.C. Green       greenac01   \n           A.J. Bramlett    bramlaj01   \n           Aaron McKie      mckieaa01   \n           Aaron Williams   williaa01   \n           Adam Keefe       keefead01   \n...                               ...   \n2024       Zach Collins     colliza01   \n           Zach LaVine      lavinza01   \n           Zeke Nnaji       nnajize01   \n           Ziaire Williams  willizi02   \n           Zion Williamson  willizi01   \n\n                                                                positions  \\\nseason_end name                                                             \n2000       A.C. Green         [<Position.POWER_FORWARD: 'POWER FORWARD'>]   \n           A.J. Bramlett                    [<Position.CENTER: 'CENTER'>]   \n           Aaron McKie      [<Position.SHOOTING_GUARD: 'SHOOTING GUARD'>]   \n           Aaron Williams     [<Position.POWER_FORWARD: 'POWER FORWARD'>]   \n           Adam Keefe                       [<Position.CENTER: 'CENTER'>]   \n...                                                                   ...   \n2024       Zach Collins                     [<Position.CENTER: 'CENTER'>]   \n           Zach LaVine      [<Position.SHOOTING_GUARD: 'SHOOTING GUARD'>]   \n           Zeke Nnaji         [<Position.POWER_FORWARD: 'POWER FORWARD'>]   \n           Ziaire Williams    [<Position.SMALL_FORWARD: 'SMALL FORWARD'>]   \n           Zion Williamson    [<Position.POWER_FORWARD: 'POWER FORWARD'>]   \n\n                            age                       team  games_played  \\\nseason_end name                                                            \n2000       A.C. Green        36    Team.LOS_ANGELES_LAKERS            82   \n           A.J. Bramlett     23   Team.CLEVELAND_CAVALIERS             8   \n           Aaron McKie       27    Team.PHILADELPHIA_76ERS            82   \n           Aaron Williams    28    Team.WASHINGTON_WIZARDS            81   \n           Adam Keefe        29             Team.UTAH_JAZZ            62   \n...                         ...                        ...           ...   \n2024       Zach Collins      26     Team.SAN_ANTONIO_SPURS            31   \n           Zach LaVine       28         Team.CHICAGO_BULLS            23   \n           Zeke Nnaji        23        Team.DENVER_NUGGETS            34   \n           Ziaire Williams   22     Team.MEMPHIS_GRIZZLIES            37   \n           Zion Williamson   23  Team.NEW_ORLEANS_PELICANS            32   \n\n                            minutes_played  player_efficiency_rating  \\\nseason_end name                                                        \n2000       A.C. Green                 1929                      11.2   \n           A.J. Bramlett                61                      -0.4   \n           Aaron McKie                1952                      13.2   \n           Aaron Williams             1545                      17.7   \n           Adam Keefe                  604                       7.6   \n...                                    ...                       ...   \n2024       Zach Collins                810                      14.1   \n           Zach LaVine                 813                      15.8   \n           Zeke Nnaji                  328                      11.7   \n           Ziaire Williams             700                       9.9   \n           Zion Williamson             972                      22.3   \n\n                            true_shooting_percentage  \\\nseason_end name                                        \n2000       A.C. Green                          0.482   \n           A.J. Bramlett                       0.190   \n           Aaron McKie                         0.497   \n           Aaron Williams                      0.572   \n           Adam Keefe                          0.463   \n...                                              ...   \n2024       Zach Collins                        0.585   \n           Zach LaVine                         0.578   \n           Zeke Nnaji                          0.544   \n           Ziaire Williams                     0.526   \n           Zion Williamson                     0.616   \n\n                            three_point_attempt_rate  free_throw_attempt_rate  \\\nseason_end name                                                                 \n2000       A.C. Green                          0.010                    0.245   \n           A.J. Bramlett                       0.000                    0.000   \n           Aaron McKie                         0.204                    0.246   \n           Aaron Williams                      0.007                    0.447   \n           Adam Keefe                          0.008                    0.277   \n...                                              ...                      ...   \n2024       Zach Collins                        0.353                    0.249   \n           Zach LaVine                         0.451                    0.287   \n           Zeke Nnaji                          0.179                    0.464   \n           Ziaire Williams                     0.498                    0.184   \n           Zion Williamson                     0.019                    0.464   \n\n                            ...  usage_percentage  offensive_win_shares  \\\nseason_end name             ...                                           \n2000       A.C. Green       ...              11.0                   1.7   \n           A.J. Bramlett    ...              17.1                  -0.2   \n           Aaron McKie      ...              17.3                   1.3   \n           Aaron Williams   ...              17.8                   3.2   \n           Adam Keefe       ...              14.7                  -0.4   \n...                         ...               ...                   ...   \n2024       Zach Collins     ...              21.4                   0.3   \n           Zach LaVine      ...              24.1                   0.8   \n           Zeke Nnaji       ...              16.1                   0.1   \n           Ziaire Williams  ...              20.0                  -0.5   \n           Zion Williamson  ...              28.9                   2.1   \n\n                            defensive_win_shares  win_shares  \\\nseason_end name                                                \n2000       A.C. Green                        3.3         5.0   \n           A.J. Bramlett                     0.1        -0.2   \n           Aaron McKie                       3.0         4.3   \n           Aaron Williams                    1.6         4.8   \n           Adam Keefe                        0.8         0.4   \n...                                          ...         ...   \n2024       Zach Collins                      0.6         0.9   \n           Zach LaVine                       0.8         1.5   \n           Zeke Nnaji                        0.4         0.5   \n           Ziaire Williams                   0.8         0.3   \n           Zion Williamson                   1.2         3.3   \n\n                            win_shares_per_48_minutes  \\\nseason_end name                                         \n2000       A.C. Green                           0.124   \n           A.J. Bramlett                       -0.129   \n           Aaron McKie                          0.105   \n           Aaron Williams                       0.150   \n           Adam Keefe                           0.030   \n...                                               ...   \n2024       Zach Collins                         0.051   \n           Zach LaVine                          0.091   \n           Zeke Nnaji                           0.079   \n           Ziaire Williams                      0.023   \n           Zion Williamson                      0.162   \n\n                            offensive_box_plus_minus  \\\nseason_end name                                        \n2000       A.C. Green                           -1.1   \n           A.J. Bramlett                        -9.2   \n           Aaron McKie                          -1.1   \n           Aaron Williams                        0.0   \n           Adam Keefe                           -4.4   \n...                                              ...   \n2024       Zach Collins                         -1.6   \n           Zach LaVine                           0.9   \n           Zeke Nnaji                           -4.2   \n           Ziaire Williams                      -3.5   \n           Zion Williamson                       3.3   \n\n                            defensive_box_plus_minus  box_plus_minus  \\\nseason_end name                                                        \n2000       A.C. Green                            0.8            -0.3   \n           A.J. Bramlett                        -6.7           -15.9   \n           Aaron McKie                           2.2             1.2   \n           Aaron Williams                        0.4             0.3   \n           Adam Keefe                            0.4            -4.0   \n...                                              ...             ...   \n2024       Zach Collins                         -0.3            -1.9   \n           Zach LaVine                          -0.4             0.4   \n           Zeke Nnaji                           -0.3            -4.4   \n           Ziaire Williams                      -0.4            -3.8   \n           Zion Williamson                       0.4             3.8   \n\n                            value_over_replacement_player  is_combined_totals  \nseason_end name                                                                \n2000       A.C. Green                                 0.8                   0  \n           A.J. Bramlett                             -0.2                   0  \n           Aaron McKie                                1.5                   0  \n           Aaron Williams                             0.9                   0  \n           Adam Keefe                                -0.3                   0  \n...                                                   ...                 ...  \n2024       Zach Collins                               0.0                   0  \n           Zach LaVine                                0.5                   0  \n           Zeke Nnaji                                -0.2                   0  \n           Ziaire Williams                           -0.3                   0  \n           Zion Williamson                            1.4                   0  \n\n[12045 rows x 27 columns]",
      "text/html": "<div>\n<style scoped>\n    .dataframe tbody tr th:only-of-type {\n        vertical-align: middle;\n    }\n\n    .dataframe tbody tr th {\n        vertical-align: top;\n    }\n\n    .dataframe thead th {\n        text-align: right;\n    }\n</style>\n<table border=\"1\" class=\"dataframe\">\n  <thead>\n    <tr style=\"text-align: right;\">\n      <th></th>\n      <th></th>\n      <th>slug</th>\n      <th>positions</th>\n      <th>age</th>\n      <th>team</th>\n      <th>games_played</th>\n      <th>minutes_played</th>\n      <th>player_efficiency_rating</th>\n      <th>true_shooting_percentage</th>\n      <th>three_point_attempt_rate</th>\n      <th>free_throw_attempt_rate</th>\n      <th>...</th>\n      <th>usage_percentage</th>\n      <th>offensive_win_shares</th>\n      <th>defensive_win_shares</th>\n      <th>win_shares</th>\n      <th>win_shares_per_48_minutes</th>\n      <th>offensive_box_plus_minus</th>\n      <th>defensive_box_plus_minus</th>\n      <th>box_plus_minus</th>\n      <th>value_over_replacement_player</th>\n      <th>is_combined_totals</th>\n    </tr>\n    <tr>\n      <th>season_end</th>\n      <th>name</th>\n      <th></th>\n      <th></th>\n      <th></th>\n      <th></th>\n      <th></th>\n      <th></th>\n      <th></th>\n      <th></th>\n      <th></th>\n      <th></th>\n      <th></th>\n      <th></th>\n      <th></th>\n      <th></th>\n      <th></th>\n      <th></th>\n      <th></th>\n      <th></th>\n      <th></th>\n      <th></th>\n      <th></th>\n    </tr>\n  </thead>\n  <tbody>\n    <tr>\n      <th rowspan=\"5\" valign=\"top\">2000</th>\n      <th>A.C. Green</th>\n      <td>greenac01</td>\n      <td>[&lt;Position.POWER_FORWARD: 'POWER FORWARD'&gt;]</td>\n      <td>36</td>\n      <td>Team.LOS_ANGELES_LAKERS</td>\n      <td>82</td>\n      <td>1929</td>\n      <td>11.2</td>\n      <td>0.482</td>\n      <td>0.010</td>\n      <td>0.245</td>\n      <td>...</td>\n      <td>11.0</td>\n      <td>1.7</td>\n      <td>3.3</td>\n      <td>5.0</td>\n      <td>0.124</td>\n      <td>-1.1</td>\n      <td>0.8</td>\n      <td>-0.3</td>\n      <td>0.8</td>\n      <td>0</td>\n    </tr>\n    <tr>\n      <th>A.J. Bramlett</th>\n      <td>bramlaj01</td>\n      <td>[&lt;Position.CENTER: 'CENTER'&gt;]</td>\n      <td>23</td>\n      <td>Team.CLEVELAND_CAVALIERS</td>\n      <td>8</td>\n      <td>61</td>\n      <td>-0.4</td>\n      <td>0.190</td>\n      <td>0.000</td>\n      <td>0.000</td>\n      <td>...</td>\n      <td>17.1</td>\n      <td>-0.2</td>\n      <td>0.1</td>\n      <td>-0.2</td>\n      <td>-0.129</td>\n      <td>-9.2</td>\n      <td>-6.7</td>\n      <td>-15.9</td>\n      <td>-0.2</td>\n      <td>0</td>\n    </tr>\n    <tr>\n      <th>Aaron McKie</th>\n      <td>mckieaa01</td>\n      <td>[&lt;Position.SHOOTING_GUARD: 'SHOOTING GUARD'&gt;]</td>\n      <td>27</td>\n      <td>Team.PHILADELPHIA_76ERS</td>\n      <td>82</td>\n      <td>1952</td>\n      <td>13.2</td>\n      <td>0.497</td>\n      <td>0.204</td>\n      <td>0.246</td>\n      <td>...</td>\n      <td>17.3</td>\n      <td>1.3</td>\n      <td>3.0</td>\n      <td>4.3</td>\n      <td>0.105</td>\n      <td>-1.1</td>\n      <td>2.2</td>\n      <td>1.2</td>\n      <td>1.5</td>\n      <td>0</td>\n    </tr>\n    <tr>\n      <th>Aaron Williams</th>\n      <td>williaa01</td>\n      <td>[&lt;Position.POWER_FORWARD: 'POWER FORWARD'&gt;]</td>\n      <td>28</td>\n      <td>Team.WASHINGTON_WIZARDS</td>\n      <td>81</td>\n      <td>1545</td>\n      <td>17.7</td>\n      <td>0.572</td>\n      <td>0.007</td>\n      <td>0.447</td>\n      <td>...</td>\n      <td>17.8</td>\n      <td>3.2</td>\n      <td>1.6</td>\n      <td>4.8</td>\n      <td>0.150</td>\n      <td>0.0</td>\n      <td>0.4</td>\n      <td>0.3</td>\n      <td>0.9</td>\n      <td>0</td>\n    </tr>\n    <tr>\n      <th>Adam Keefe</th>\n      <td>keefead01</td>\n      <td>[&lt;Position.CENTER: 'CENTER'&gt;]</td>\n      <td>29</td>\n      <td>Team.UTAH_JAZZ</td>\n      <td>62</td>\n      <td>604</td>\n      <td>7.6</td>\n      <td>0.463</td>\n      <td>0.008</td>\n      <td>0.277</td>\n      <td>...</td>\n      <td>14.7</td>\n      <td>-0.4</td>\n      <td>0.8</td>\n      <td>0.4</td>\n      <td>0.030</td>\n      <td>-4.4</td>\n      <td>0.4</td>\n      <td>-4.0</td>\n      <td>-0.3</td>\n      <td>0</td>\n    </tr>\n    <tr>\n      <th>...</th>\n      <th>...</th>\n      <td>...</td>\n      <td>...</td>\n      <td>...</td>\n      <td>...</td>\n      <td>...</td>\n      <td>...</td>\n      <td>...</td>\n      <td>...</td>\n      <td>...</td>\n      <td>...</td>\n      <td>...</td>\n      <td>...</td>\n      <td>...</td>\n      <td>...</td>\n      <td>...</td>\n      <td>...</td>\n      <td>...</td>\n      <td>...</td>\n      <td>...</td>\n      <td>...</td>\n      <td>...</td>\n    </tr>\n    <tr>\n      <th rowspan=\"5\" valign=\"top\">2024</th>\n      <th>Zach Collins</th>\n      <td>colliza01</td>\n      <td>[&lt;Position.CENTER: 'CENTER'&gt;]</td>\n      <td>26</td>\n      <td>Team.SAN_ANTONIO_SPURS</td>\n      <td>31</td>\n      <td>810</td>\n      <td>14.1</td>\n      <td>0.585</td>\n      <td>0.353</td>\n      <td>0.249</td>\n      <td>...</td>\n      <td>21.4</td>\n      <td>0.3</td>\n      <td>0.6</td>\n      <td>0.9</td>\n      <td>0.051</td>\n      <td>-1.6</td>\n      <td>-0.3</td>\n      <td>-1.9</td>\n      <td>0.0</td>\n      <td>0</td>\n    </tr>\n    <tr>\n      <th>Zach LaVine</th>\n      <td>lavinza01</td>\n      <td>[&lt;Position.SHOOTING_GUARD: 'SHOOTING GUARD'&gt;]</td>\n      <td>28</td>\n      <td>Team.CHICAGO_BULLS</td>\n      <td>23</td>\n      <td>813</td>\n      <td>15.8</td>\n      <td>0.578</td>\n      <td>0.451</td>\n      <td>0.287</td>\n      <td>...</td>\n      <td>24.1</td>\n      <td>0.8</td>\n      <td>0.8</td>\n      <td>1.5</td>\n      <td>0.091</td>\n      <td>0.9</td>\n      <td>-0.4</td>\n      <td>0.4</td>\n      <td>0.5</td>\n      <td>0</td>\n    </tr>\n    <tr>\n      <th>Zeke Nnaji</th>\n      <td>nnajize01</td>\n      <td>[&lt;Position.POWER_FORWARD: 'POWER FORWARD'&gt;]</td>\n      <td>23</td>\n      <td>Team.DENVER_NUGGETS</td>\n      <td>34</td>\n      <td>328</td>\n      <td>11.7</td>\n      <td>0.544</td>\n      <td>0.179</td>\n      <td>0.464</td>\n      <td>...</td>\n      <td>16.1</td>\n      <td>0.1</td>\n      <td>0.4</td>\n      <td>0.5</td>\n      <td>0.079</td>\n      <td>-4.2</td>\n      <td>-0.3</td>\n      <td>-4.4</td>\n      <td>-0.2</td>\n      <td>0</td>\n    </tr>\n    <tr>\n      <th>Ziaire Williams</th>\n      <td>willizi02</td>\n      <td>[&lt;Position.SMALL_FORWARD: 'SMALL FORWARD'&gt;]</td>\n      <td>22</td>\n      <td>Team.MEMPHIS_GRIZZLIES</td>\n      <td>37</td>\n      <td>700</td>\n      <td>9.9</td>\n      <td>0.526</td>\n      <td>0.498</td>\n      <td>0.184</td>\n      <td>...</td>\n      <td>20.0</td>\n      <td>-0.5</td>\n      <td>0.8</td>\n      <td>0.3</td>\n      <td>0.023</td>\n      <td>-3.5</td>\n      <td>-0.4</td>\n      <td>-3.8</td>\n      <td>-0.3</td>\n      <td>0</td>\n    </tr>\n    <tr>\n      <th>Zion Williamson</th>\n      <td>willizi01</td>\n      <td>[&lt;Position.POWER_FORWARD: 'POWER FORWARD'&gt;]</td>\n      <td>23</td>\n      <td>Team.NEW_ORLEANS_PELICANS</td>\n      <td>32</td>\n      <td>972</td>\n      <td>22.3</td>\n      <td>0.616</td>\n      <td>0.019</td>\n      <td>0.464</td>\n      <td>...</td>\n      <td>28.9</td>\n      <td>2.1</td>\n      <td>1.2</td>\n      <td>3.3</td>\n      <td>0.162</td>\n      <td>3.3</td>\n      <td>0.4</td>\n      <td>3.8</td>\n      <td>1.4</td>\n      <td>0</td>\n    </tr>\n  </tbody>\n</table>\n<p>12045 rows × 27 columns</p>\n</div>"
     },
     "execution_count": 19,
     "metadata": {},
     "output_type": "execute_result"
    }
   ],
   "source": [
    "player_totals_advanced_cleaned = player_totals_advanced.groupby('season_end')\n",
    "agg_functions = {'slug': 'last', 'positions': 'last', 'age': 'last', 'team': 'last'}\n",
    "agg_functions.update(dict(zip(player_totals_advanced.columns[5:], ['sum'] * len(player_totals_advanced.columns[5:]))))\n",
    "player_totals_advanced_cleaned = player_totals_advanced_cleaned.transform(lambda x: x).groupby(['season_end', 'name']).aggregate(agg_functions)\n",
    "player_totals_advanced_cleaned"
   ],
   "metadata": {
    "collapsed": false,
    "ExecuteTime": {
     "end_time": "2024-01-29T06:09:49.892382Z",
     "start_time": "2024-01-29T06:09:49.865198Z"
    }
   }
  },
  {
   "cell_type": "code",
   "execution_count": 42,
   "outputs": [],
   "source": [
    "player_totals_advanced_pg = pd.DataFrame()\n",
    "games_played = player_totals_basic_cleaned['games_played']\n",
    "player_totals_advanced_pg['PER'] = player_totals_advanced_cleaned['player_efficiency_rating']\n",
    "player_totals_advanced_pg['TS%'] = player_totals_advanced_cleaned['true_shooting_percentage']\n",
    "player_totals_advanced_pg['eFG%'] = (player_totals_basic_cleaned['made_two_point_field_goals'] + 1.5 * player_totals_basic_cleaned['made_three_point_field_goals']) / player_totals_basic_cleaned['attempted_field_goals']\n",
    "player_totals_advanced_pg['3PAr'] = player_totals_basic_cleaned['attempted_three_point_field_goals'] / player_totals_basic_cleaned['attempted_field_goals']\n",
    "player_totals_advanced_pg['FTr'] = player_totals_basic_cleaned['attempted_free_throws'] / player_totals_basic_cleaned['attempted_field_goals']\n",
    "player_totals_advanced_pg['ORB%'] = player_totals_advanced_cleaned['offensive_rebound_percentage']\n",
    "player_totals_advanced_pg['DRB%'] = player_totals_advanced_cleaned['defensive_rebound_percentage']\n",
    "player_totals_advanced_pg['TRB%'] = player_totals_advanced_cleaned['total_rebound_percentage']\n",
    "player_totals_advanced_pg['AST%'] = player_totals_advanced_cleaned['assist_percentage']\n",
    "player_totals_advanced_pg['USG%'] = player_totals_advanced_cleaned['usage_percentage']\n",
    "player_totals_advanced_pg['STL%'] = player_totals_advanced_cleaned['steal_percentage']\n",
    "player_totals_advanced_pg['BLK%'] = player_totals_advanced_cleaned['block_percentage']\n",
    "player_totals_advanced_pg['TOV%'] = player_totals_advanced_cleaned['turnover_percentage']\n",
    "player_totals_advanced_pg.to_csv('2000_2024_player_totals_advanced.csv')"
   ],
   "metadata": {
    "collapsed": false,
    "ExecuteTime": {
     "end_time": "2024-01-30T06:14:04.516752Z",
     "start_time": "2024-01-30T06:14:04.448659Z"
    }
   }
  },
  {
   "cell_type": "code",
   "execution_count": 21,
   "outputs": [],
   "source": [
    "from nba_api.stats.endpoints import shotchartdetail\n",
    "from nba_api.stats.static import players\n",
    "\n",
    "def get_shot_data(player_full_name: str, season: str):\n",
    "    player_dictionary = players.get_players()\n",
    "    try:\n",
    "        player_info = [player for player in player_dictionary if player['full_name'] == player_full_name][0]\n",
    "    except Exception as e:\n",
    "        return None\n",
    "    player_id = player_info['id']\n",
    "\n",
    "    player_shotlog = shotchartdetail.ShotChartDetail(team_id = 0, player_id = player_id, season_nullable=season, context_measure_simple = 'FGA', season_type_all_star = ['Regular Season'])\n",
    "\n",
    "    player_df = player_shotlog.get_data_frames()[0]\n",
    "    return player_df"
   ],
   "metadata": {
    "collapsed": false,
    "ExecuteTime": {
     "end_time": "2024-01-29T06:09:50.288792Z",
     "start_time": "2024-01-29T06:09:50.284617Z"
    }
   }
  },
  {
   "cell_type": "code",
   "execution_count": 29,
   "outputs": [
    {
     "data": {
      "text/plain": "              GRID_TYPE     GAME_ID  GAME_EVENT_ID  PLAYER_ID   PLAYER_NAME  \\\n0     Shot Chart Detail  0020900001              5       2544  LeBron James   \n1     Shot Chart Detail  0020900001              9       2544  LeBron James   \n2     Shot Chart Detail  0020900001             47       2544  LeBron James   \n3     Shot Chart Detail  0020900001             58       2544  LeBron James   \n4     Shot Chart Detail  0020900001             60       2544  LeBron James   \n...                 ...         ...            ...        ...           ...   \n1523  Shot Chart Detail  0020901150            334       2544  LeBron James   \n1524  Shot Chart Detail  0020901150            393       2544  LeBron James   \n1525  Shot Chart Detail  0020901150            405       2544  LeBron James   \n1526  Shot Chart Detail  0020901150            408       2544  LeBron James   \n1527  Shot Chart Detail  0020901150            438       2544  LeBron James   \n\n         TEAM_ID            TEAM_NAME  PERIOD  MINUTES_REMAINING  \\\n0     1610612739  Cleveland Cavaliers       1                 11   \n1     1610612739  Cleveland Cavaliers       1                 10   \n2     1610612739  Cleveland Cavaliers       1                  6   \n3     1610612739  Cleveland Cavaliers       1                  4   \n4     1610612739  Cleveland Cavaliers       1                  4   \n...          ...                  ...     ...                ...   \n1523  1610612739  Cleveland Cavaliers       3                  0   \n1524  1610612739  Cleveland Cavaliers       4                  6   \n1525  1610612739  Cleveland Cavaliers       4                  5   \n1526  1610612739  Cleveland Cavaliers       4                  5   \n1527  1610612739  Cleveland Cavaliers       4                  2   \n\n      SECONDS_REMAINING  ...         SHOT_ZONE_AREA  SHOT_ZONE_RANGE  \\\n0                     3  ...  Right Side Center(RC)        16-24 ft.   \n1                     6  ...              Center(C)  Less Than 8 ft.   \n2                    28  ...  Right Side Center(RC)          24+ ft.   \n3                    47  ...   Left Side Center(LC)          24+ ft.   \n4                    21  ...              Center(C)  Less Than 8 ft.   \n...                 ...  ...                    ...              ...   \n1523                  0  ...   Left Side Center(LC)        16-24 ft.   \n1524                 42  ...              Center(C)  Less Than 8 ft.   \n1525                 45  ...  Right Side Center(RC)          24+ ft.   \n1526                 22  ...  Right Side Center(RC)        16-24 ft.   \n1527                 58  ...              Center(C)  Less Than 8 ft.   \n\n     SHOT_DISTANCE LOC_X LOC_Y SHOT_ATTEMPTED_FLAG  SHOT_MADE_FLAG  GAME_DATE  \\\n0               23   129   194                   1               1   20091027   \n1                1    -2    12                   1               1   20091027   \n2               24   118   217                   1               0   20091027   \n3               33  -172   287                   1               1   20091027   \n4                0     1     9                   1               1   20091027   \n...            ...   ...   ...                 ...             ...        ...   \n1523            22  -109   198                   1               0   20100406   \n1524             0     7     7                   1               1   20100406   \n1525            26   108   241                   1               0   20100406   \n1526            21    99   186                   1               1   20100406   \n1527             2    20    15                   1               0   20100406   \n\n      HTM  VTM  \n0     CLE  BOS  \n1     CLE  BOS  \n2     CLE  BOS  \n3     CLE  BOS  \n4     CLE  BOS  \n...   ...  ...  \n1523  CLE  TOR  \n1524  CLE  TOR  \n1525  CLE  TOR  \n1526  CLE  TOR  \n1527  CLE  TOR  \n\n[1528 rows x 24 columns]",
      "text/html": "<div>\n<style scoped>\n    .dataframe tbody tr th:only-of-type {\n        vertical-align: middle;\n    }\n\n    .dataframe tbody tr th {\n        vertical-align: top;\n    }\n\n    .dataframe thead th {\n        text-align: right;\n    }\n</style>\n<table border=\"1\" class=\"dataframe\">\n  <thead>\n    <tr style=\"text-align: right;\">\n      <th></th>\n      <th>GRID_TYPE</th>\n      <th>GAME_ID</th>\n      <th>GAME_EVENT_ID</th>\n      <th>PLAYER_ID</th>\n      <th>PLAYER_NAME</th>\n      <th>TEAM_ID</th>\n      <th>TEAM_NAME</th>\n      <th>PERIOD</th>\n      <th>MINUTES_REMAINING</th>\n      <th>SECONDS_REMAINING</th>\n      <th>...</th>\n      <th>SHOT_ZONE_AREA</th>\n      <th>SHOT_ZONE_RANGE</th>\n      <th>SHOT_DISTANCE</th>\n      <th>LOC_X</th>\n      <th>LOC_Y</th>\n      <th>SHOT_ATTEMPTED_FLAG</th>\n      <th>SHOT_MADE_FLAG</th>\n      <th>GAME_DATE</th>\n      <th>HTM</th>\n      <th>VTM</th>\n    </tr>\n  </thead>\n  <tbody>\n    <tr>\n      <th>0</th>\n      <td>Shot Chart Detail</td>\n      <td>0020900001</td>\n      <td>5</td>\n      <td>2544</td>\n      <td>LeBron James</td>\n      <td>1610612739</td>\n      <td>Cleveland Cavaliers</td>\n      <td>1</td>\n      <td>11</td>\n      <td>3</td>\n      <td>...</td>\n      <td>Right Side Center(RC)</td>\n      <td>16-24 ft.</td>\n      <td>23</td>\n      <td>129</td>\n      <td>194</td>\n      <td>1</td>\n      <td>1</td>\n      <td>20091027</td>\n      <td>CLE</td>\n      <td>BOS</td>\n    </tr>\n    <tr>\n      <th>1</th>\n      <td>Shot Chart Detail</td>\n      <td>0020900001</td>\n      <td>9</td>\n      <td>2544</td>\n      <td>LeBron James</td>\n      <td>1610612739</td>\n      <td>Cleveland Cavaliers</td>\n      <td>1</td>\n      <td>10</td>\n      <td>6</td>\n      <td>...</td>\n      <td>Center(C)</td>\n      <td>Less Than 8 ft.</td>\n      <td>1</td>\n      <td>-2</td>\n      <td>12</td>\n      <td>1</td>\n      <td>1</td>\n      <td>20091027</td>\n      <td>CLE</td>\n      <td>BOS</td>\n    </tr>\n    <tr>\n      <th>2</th>\n      <td>Shot Chart Detail</td>\n      <td>0020900001</td>\n      <td>47</td>\n      <td>2544</td>\n      <td>LeBron James</td>\n      <td>1610612739</td>\n      <td>Cleveland Cavaliers</td>\n      <td>1</td>\n      <td>6</td>\n      <td>28</td>\n      <td>...</td>\n      <td>Right Side Center(RC)</td>\n      <td>24+ ft.</td>\n      <td>24</td>\n      <td>118</td>\n      <td>217</td>\n      <td>1</td>\n      <td>0</td>\n      <td>20091027</td>\n      <td>CLE</td>\n      <td>BOS</td>\n    </tr>\n    <tr>\n      <th>3</th>\n      <td>Shot Chart Detail</td>\n      <td>0020900001</td>\n      <td>58</td>\n      <td>2544</td>\n      <td>LeBron James</td>\n      <td>1610612739</td>\n      <td>Cleveland Cavaliers</td>\n      <td>1</td>\n      <td>4</td>\n      <td>47</td>\n      <td>...</td>\n      <td>Left Side Center(LC)</td>\n      <td>24+ ft.</td>\n      <td>33</td>\n      <td>-172</td>\n      <td>287</td>\n      <td>1</td>\n      <td>1</td>\n      <td>20091027</td>\n      <td>CLE</td>\n      <td>BOS</td>\n    </tr>\n    <tr>\n      <th>4</th>\n      <td>Shot Chart Detail</td>\n      <td>0020900001</td>\n      <td>60</td>\n      <td>2544</td>\n      <td>LeBron James</td>\n      <td>1610612739</td>\n      <td>Cleveland Cavaliers</td>\n      <td>1</td>\n      <td>4</td>\n      <td>21</td>\n      <td>...</td>\n      <td>Center(C)</td>\n      <td>Less Than 8 ft.</td>\n      <td>0</td>\n      <td>1</td>\n      <td>9</td>\n      <td>1</td>\n      <td>1</td>\n      <td>20091027</td>\n      <td>CLE</td>\n      <td>BOS</td>\n    </tr>\n    <tr>\n      <th>...</th>\n      <td>...</td>\n      <td>...</td>\n      <td>...</td>\n      <td>...</td>\n      <td>...</td>\n      <td>...</td>\n      <td>...</td>\n      <td>...</td>\n      <td>...</td>\n      <td>...</td>\n      <td>...</td>\n      <td>...</td>\n      <td>...</td>\n      <td>...</td>\n      <td>...</td>\n      <td>...</td>\n      <td>...</td>\n      <td>...</td>\n      <td>...</td>\n      <td>...</td>\n      <td>...</td>\n    </tr>\n    <tr>\n      <th>1523</th>\n      <td>Shot Chart Detail</td>\n      <td>0020901150</td>\n      <td>334</td>\n      <td>2544</td>\n      <td>LeBron James</td>\n      <td>1610612739</td>\n      <td>Cleveland Cavaliers</td>\n      <td>3</td>\n      <td>0</td>\n      <td>0</td>\n      <td>...</td>\n      <td>Left Side Center(LC)</td>\n      <td>16-24 ft.</td>\n      <td>22</td>\n      <td>-109</td>\n      <td>198</td>\n      <td>1</td>\n      <td>0</td>\n      <td>20100406</td>\n      <td>CLE</td>\n      <td>TOR</td>\n    </tr>\n    <tr>\n      <th>1524</th>\n      <td>Shot Chart Detail</td>\n      <td>0020901150</td>\n      <td>393</td>\n      <td>2544</td>\n      <td>LeBron James</td>\n      <td>1610612739</td>\n      <td>Cleveland Cavaliers</td>\n      <td>4</td>\n      <td>6</td>\n      <td>42</td>\n      <td>...</td>\n      <td>Center(C)</td>\n      <td>Less Than 8 ft.</td>\n      <td>0</td>\n      <td>7</td>\n      <td>7</td>\n      <td>1</td>\n      <td>1</td>\n      <td>20100406</td>\n      <td>CLE</td>\n      <td>TOR</td>\n    </tr>\n    <tr>\n      <th>1525</th>\n      <td>Shot Chart Detail</td>\n      <td>0020901150</td>\n      <td>405</td>\n      <td>2544</td>\n      <td>LeBron James</td>\n      <td>1610612739</td>\n      <td>Cleveland Cavaliers</td>\n      <td>4</td>\n      <td>5</td>\n      <td>45</td>\n      <td>...</td>\n      <td>Right Side Center(RC)</td>\n      <td>24+ ft.</td>\n      <td>26</td>\n      <td>108</td>\n      <td>241</td>\n      <td>1</td>\n      <td>0</td>\n      <td>20100406</td>\n      <td>CLE</td>\n      <td>TOR</td>\n    </tr>\n    <tr>\n      <th>1526</th>\n      <td>Shot Chart Detail</td>\n      <td>0020901150</td>\n      <td>408</td>\n      <td>2544</td>\n      <td>LeBron James</td>\n      <td>1610612739</td>\n      <td>Cleveland Cavaliers</td>\n      <td>4</td>\n      <td>5</td>\n      <td>22</td>\n      <td>...</td>\n      <td>Right Side Center(RC)</td>\n      <td>16-24 ft.</td>\n      <td>21</td>\n      <td>99</td>\n      <td>186</td>\n      <td>1</td>\n      <td>1</td>\n      <td>20100406</td>\n      <td>CLE</td>\n      <td>TOR</td>\n    </tr>\n    <tr>\n      <th>1527</th>\n      <td>Shot Chart Detail</td>\n      <td>0020901150</td>\n      <td>438</td>\n      <td>2544</td>\n      <td>LeBron James</td>\n      <td>1610612739</td>\n      <td>Cleveland Cavaliers</td>\n      <td>4</td>\n      <td>2</td>\n      <td>58</td>\n      <td>...</td>\n      <td>Center(C)</td>\n      <td>Less Than 8 ft.</td>\n      <td>2</td>\n      <td>20</td>\n      <td>15</td>\n      <td>1</td>\n      <td>0</td>\n      <td>20100406</td>\n      <td>CLE</td>\n      <td>TOR</td>\n    </tr>\n  </tbody>\n</table>\n<p>1528 rows × 24 columns</p>\n</div>"
     },
     "execution_count": 29,
     "metadata": {},
     "output_type": "execute_result"
    }
   ],
   "source": [
    "shot_data_cleaned = pd.DataFrame()\n",
    "shot_data = get_shot_data('LeBron James', season='2009-10')\n",
    "shot_data"
   ],
   "metadata": {
    "collapsed": false,
    "ExecuteTime": {
     "end_time": "2024-01-29T06:19:41.865382Z",
     "start_time": "2024-01-29T06:19:39.827394Z"
    }
   }
  },
  {
   "cell_type": "code",
   "execution_count": 23,
   "outputs": [],
   "source": [
    "shot_data_aggregated = pd.DataFrame()\n",
    "shot_data_aggregated['shot_made'] = shot_data.groupby('SHOT_ZONE_BASIC')['SHOT_MADE_FLAG'].sum()\n",
    "shot_data_aggregated['shots_attempted'] = shot_data.groupby('SHOT_ZONE_BASIC')['SHOT_ATTEMPTED_FLAG'].sum()\n",
    "shot_data_aggregated['shots_pct'] = shot_data_aggregated['shot_made'] / shot_data_aggregated['shots_attempted']\n",
    "shot_data_aggregated = shot_data_aggregated.unstack().reorder_levels([1, 0]).sort_index()"
   ],
   "metadata": {
    "collapsed": false,
    "ExecuteTime": {
     "end_time": "2024-01-29T06:09:53.233042Z",
     "start_time": "2024-01-29T06:09:53.225881Z"
    }
   }
  },
  {
   "cell_type": "markdown",
   "source": [],
   "metadata": {
    "collapsed": false
   }
  },
  {
   "cell_type": "code",
   "execution_count": 24,
   "outputs": [
    {
     "data": {
      "text/plain": "Index(['A.C. Green', 'A.J. Bramlett', 'Aaron McKie', 'Aaron Williams',\n       'Adam Keefe', 'Adonal Foyle', 'Adrian Griffin', 'Al Harrington',\n       'Alan Henderson', 'Aleksandar Radojević',\n       ...\n       'Vonteego Cummings', 'Voshon Lenard', 'Wally Szczerbiak',\n       'Walt Williams', 'Walter McCarty', 'Wayne Turner', 'Wesley Person',\n       'Will Perdue', 'William Avery', 'Žan Tabak'],\n      dtype='object', name='name', length=439)"
     },
     "execution_count": 24,
     "metadata": {},
     "output_type": "execute_result"
    }
   ],
   "source": [
    "player_totals_advanced_pg.groupby('season_end').get_group(2000).index.get_level_values('name').unique()\n",
    "# player_totals_advanced_pg"
   ],
   "metadata": {
    "collapsed": false,
    "ExecuteTime": {
     "end_time": "2024-01-29T06:09:53.977471Z",
     "start_time": "2024-01-29T06:09:53.970240Z"
    }
   }
  },
  {
   "cell_type": "code",
   "execution_count": 37,
   "outputs": [
    {
     "data": {
      "text/plain": "  0%|          | 0/8 [00:00<?, ?it/s]",
      "application/vnd.jupyter.widget-view+json": {
       "version_major": 2,
       "version_minor": 0,
       "model_id": "32b94360ca814adfa0383a386fd5cd46"
      }
     },
     "metadata": {},
     "output_type": "display_data"
    },
    {
     "name": "stdout",
     "output_type": "stream",
     "text": [
      "Failed 1 time. Waiting 5 minutes...\n",
      "Error displayed: HTTPSConnectionPool(host='stats.nba.com', port=443): Read timed out. (read timeout=30)\n",
      "5 minute progress...\n"
     ]
    },
    {
     "data": {
      "text/plain": "  0%|          | 0/300 [00:00<?, ?it/s]",
      "application/vnd.jupyter.widget-view+json": {
       "version_major": 2,
       "version_minor": 0,
       "model_id": "95275545317f4032b6c9128e0951d9ef"
      }
     },
     "metadata": {},
     "output_type": "display_data"
    },
    {
     "name": "stdout",
     "output_type": "stream",
     "text": [
      "Player data not found: Andrew White\n",
      "Player data not found: Ante Žižić\n",
      "Player data not found: Ben Moore\n",
      "Player data not found: Boban Marjanović\n",
      "Player data not found: Bogdan Bogdanović\n",
      "Player data not found: Bojan Bogdanović\n",
      "Player data not found: C.J. Miles\n",
      "Player data not found: Cristiano Felício\n",
      "Player data not found: Dario Šarić\n",
      "Failed 1 time. Waiting 5 minutes...\n",
      "Error displayed: HTTPSConnectionPool(host='stats.nba.com', port=443): Read timed out. (read timeout=30)\n",
      "5 minute progress...\n"
     ]
    },
    {
     "data": {
      "text/plain": "  0%|          | 0/300 [00:00<?, ?it/s]",
      "application/vnd.jupyter.widget-view+json": {
       "version_major": 2,
       "version_minor": 0,
       "model_id": "529c7a8cf2d24458ac6aaf6f7326ff2a"
      }
     },
     "metadata": {},
     "output_type": "display_data"
    },
    {
     "name": "stdout",
     "output_type": "stream",
     "text": [
      "Failed 2 times. Waiting 5 minutes...\n",
      "Error displayed: HTTPSConnectionPool(host='stats.nba.com', port=443): Read timed out. (read timeout=30)\n",
      "5 minute progress...\n"
     ]
    },
    {
     "data": {
      "text/plain": "  0%|          | 0/300 [00:00<?, ?it/s]",
      "application/vnd.jupyter.widget-view+json": {
       "version_major": 2,
       "version_minor": 0,
       "model_id": "fa90eed9156f479486f3942bf1d06b13"
      }
     },
     "metadata": {},
     "output_type": "display_data"
    },
    {
     "name": "stdout",
     "output_type": "stream",
     "text": [
      "Player data not found: Dennis Schröder\n",
      "Player data not found: Derrick Walton\n",
      "Player data not found: Dāvis Bertāns\n",
      "Player data not found: Ersan İlyasova\n",
      "Player data not found: Goran Dragić\n",
      "Player data not found: J.J. Redick\n",
      "Player data not found: J.R. Smith\n",
      "Player data not found: Johnny O'Bryant\n",
      "Player data not found: Jonas Valančiūnas\n",
      "Player data not found: José Calderón\n",
      "Player data not found: Juancho Hernangómez\n",
      "Player data not found: Jusuf Nurkić\n",
      "Player data not found: Kristaps Porziņģis\n",
      "Player data not found: Manu Ginóbili\n",
      "Player data not found: Marcus Morris\n",
      "Player data not found: Matt Williams\n",
      "Player data not found: Mike James\n",
      "Player data not found: Miloš Teodosić\n",
      "Player data not found: Mirza Teletović\n",
      "Player data not found: Nenê\n",
      "Player data not found: Nicolás Brussino\n",
      "Player data not found: Nikola Jokić\n",
      "Player data not found: Nikola Mirotić\n",
      "Player data not found: Nikola Vučević\n",
      "Player data not found: R.J. Hunter\n",
      "Player data not found: Reggie Bullock\n",
      "Player data not found: Skal Labissière\n",
      "Player data not found: Timothé Luwawu-Cabarrot\n",
      "Player data not found: Tomáš Satoranský\n",
      "Player data not found: Trey McKinney-Jones\n",
      "Player data not found: Tyler Lydon\n",
      "Player data not found: Vince Hunter\n",
      "Player data not found: Wade Baldwin\n",
      "Player data not found: Willy Hernangómez\n",
      "Player data not found: Álex Abrines\n",
      "Player data not found: Ömer Aşık\n",
      "Player data not found: Ante Žižić\n",
      "Player data not found: B.J. Johnson\n",
      "Player data not found: Boban Marjanović\n",
      "Player data not found: Bogdan Bogdanović\n",
      "Player data not found: Bojan Bogdanović\n",
      "Player data not found: C.J. Miles\n",
      "Player data not found: Cameron Reynolds\n",
      "Player data not found: Cristiano Felício\n",
      "Player data not found: D.J. Stephens\n",
      "Player data not found: Dairis Bertāns\n",
      "Player data not found: Dario Šarić\n",
      "Player data not found: Dennis Schröder\n",
      "Player data not found: Donatas Motiejūnas\n",
      "Player data not found: Dāvis Bertāns\n",
      "Player data not found: Džanan Musa\n",
      "Player data not found: Ersan İlyasova\n",
      "Player data not found: George King\n",
      "Player data not found: Goran Dragić\n",
      "Player data not found: Harry Giles\n",
      "Player data not found: J.J. Redick\n",
      "Player data not found: J.R. Smith\n",
      "Player data not found: John Holland\n",
      "Player data not found: Jonas Valančiūnas\n",
      "Player data not found: José Calderón\n",
      "Player data not found: Juancho Hernangómez\n",
      "Player data not found: Jusuf Nurkić\n",
      "Player data not found: Kevin Knox\n",
      "Player data not found: Kobi Simmons\n",
      "Player data not found: Luka Dončić\n",
      "Player data not found: Marcus Morris\n",
      "Player data not found: Melvin Frazier\n",
      "Player data not found: Miloš Teodosić\n",
      "Player data not found: Mitch Creek\n",
      "Player data not found: Nenê\n",
      "Player data not found: Nikola Jokić\n",
      "Player data not found: Nikola Mirotić\n",
      "Player data not found: Nikola Vučević\n",
      "Player data not found: R.J. Hunter\n",
      "Player data not found: Reggie Bullock\n",
      "Player data not found: Robert Williams\n",
      "Player data not found: Skal Labissière\n",
      "Player data not found: Timothé Luwawu-Cabarrot\n",
      "Player data not found: Tomáš Satoranský\n",
      "Player data not found: Tyler Ulis\n",
      "Player data not found: Vince Edwards\n",
      "Player data not found: Wade Baldwin\n",
      "Player data not found: Willy Hernangómez\n",
      "Player data not found: Álex Abrines\n",
      "Player data not found: Ángel Delgado\n",
      "Player data not found: Alen Smailagić\n",
      "Player data not found: Ante Žižić\n",
      "Player data not found: Anžejs Pasečņiks\n",
      "Player data not found: B.J. Johnson\n",
      "Player data not found: Boban Marjanović\n",
      "Player data not found: Bogdan Bogdanović\n",
      "Player data not found: Bojan Bogdanović\n",
      "Player data not found: Brian Bowen\n",
      "Player data not found: C.J. Miles\n",
      "Player data not found: Cristiano Felício\n",
      "Player data not found: Dario Šarić\n",
      "Player data not found: Dennis Schröder\n",
      "Player data not found: Derrick Walton\n",
      "Player data not found: Dāvis Bertāns\n",
      "Player data not found: Džanan Musa\n",
      "Player data not found: Ersan İlyasova\n",
      "Player data not found: Goran Dragić\n",
      "Player data not found: Harry Giles\n",
      "Player data not found: J.J. Redick\n",
      "Player data not found: J.P. Macura\n",
      "Player data not found: J.R. Smith\n",
      "Player data not found: Jonas Valančiūnas\n",
      "Player data not found: Juancho Hernangómez\n",
      "Player data not found: Jusuf Nurkić\n",
      "Player data not found: Kevin Knox\n",
      "Player data not found: Kristaps Porziņģis\n",
      "Player data not found: Luka Dončić\n",
      "Player data not found: Luka Šamanić\n",
      "Player data not found: Marcus Morris\n",
      "Player data not found: Marques Bolden\n",
      "Player data not found: Melvin Frazier\n",
      "Player data not found: Michael Frazier\n",
      "Player data not found: Nicolò Melli\n",
      "Player data not found: Nikola Jokić\n",
      "Player data not found: Nikola Vučević\n",
      "Player data not found: Reggie Bullock\n",
      "Player data not found: Robert Williams\n",
      "Player data not found: Skal Labissière\n",
      "Player data not found: Timothé Luwawu-Cabarrot\n",
      "Player data not found: Tomáš Satoranský\n",
      "Player data not found: Vlatko Čančar\n",
      "Player data not found: Willy Hernangómez\n",
      "Player data not found: Zach Norvell\n",
      "Player data not found: Alen Smailagić\n",
      "Player data not found: Anderson Varejão\n",
      "Player data not found: Anžejs Pasečņiks\n",
      "Player data not found: Ashton Hagans\n",
      "Player data not found: Boban Marjanović\n",
      "Player data not found: Bogdan Bogdanović\n",
      "Player data not found: Bojan Bogdanović\n",
      "Player data not found: Brian Bowen\n",
      "Player data not found: Cameron Reynolds\n",
      "Player data not found: Cristiano Felício\n",
      "Player data not found: Dario Šarić\n",
      "Player data not found: Dennis Schröder\n",
      "Player data not found: Dāvis Bertāns\n",
      "Player data not found: Ersan İlyasova\n",
      "Player data not found: Goran Dragić\n",
      "Player data not found: Harry Giles\n",
      "Player data not found: J.J. Redick\n",
      "Player data not found: Jonas Valančiūnas\n",
      "Player data not found: Juancho Hernangómez\n",
      "Player data not found: Jusuf Nurkić\n",
      "Player data not found: Karim Mané\n",
      "Player data not found: Kevin Knox\n",
      "Player data not found: Kristaps Porziņģis\n",
      "Player data not found: Luka Dončić\n",
      "Player data not found: Luka Šamanić\n",
      "Player data not found: Marcus Morris\n",
      "Player data not found: Mike James\n",
      "Player data not found: Nicolò Melli\n",
      "Player data not found: Nikola Jokić\n",
      "Player data not found: Nikola Vučević\n",
      "Player data not found: Reggie Bullock\n",
      "Player data not found: Robert Williams\n",
      "Player data not found: Théo Maledon\n",
      "Player data not found: Timothé Luwawu-Cabarrot\n",
      "Player data not found: Tomáš Satoranský\n",
      "Player data not found: Vlatko Čančar\n",
      "Player data not found: Willy Hernangómez\n",
      "Player data not found: Xavier Tillman Sr.\n",
      "Player data not found: Ade Murkey\n",
      "Player data not found: Alperen Şengün\n",
      "Player data not found: B.J. Johnson\n",
      "Player data not found: Boban Marjanović\n",
      "Player data not found: Bogdan Bogdanović\n",
      "Player data not found: Bojan Bogdanović\n",
      "Player data not found: Brandon Williams\n",
      "Player data not found: C.J. Miles\n",
      "Player data not found: David Johnson\n",
      "Player data not found: DeJon Jarreau\n",
      "Player data not found: Dennis Schröder\n",
      "Player data not found: Derrick Walton\n",
      "Player data not found: Dāvis Bertāns\n",
      "Player data not found: George King\n",
      "Player data not found: Goran Dragić\n",
      "Player data not found: Jaime Echenique\n",
      "Player data not found: Javin DeLaurier\n",
      "Player data not found: Jeff Dowtin\n",
      "Player data not found: Jonas Valančiūnas\n",
      "Player data not found: Jordan Bell\n",
      "Player data not found: Juancho Hernangómez\n",
      "Player data not found: Jusuf Nurkić\n",
      "Player data not found: Kevin Knox\n",
      "Player data not found: Kristaps Porziņģis\n",
      "Player data not found: Luka Dončić\n",
      "Player data not found: M.J. Walker\n",
      "Player data not found: Marcus Morris\n",
      "Player data not found: Melvin Frazier\n",
      "Player data not found: Nikola Jokić\n",
      "Player data not found: Nikola Vučević\n",
      "Player data not found: Reggie Bullock\n",
      "Player data not found: Robert Williams\n",
      "Player data not found: Sam Dekker\n",
      "Player data not found: Scottie Lewis\n",
      "Player data not found: Théo Maledon\n",
      "Player data not found: Timothé Luwawu-Cabarrot\n",
      "Player data not found: Tomáš Satoranský\n",
      "Player data not found: Tre Scott\n",
      "Player data not found: Tyler Hall\n",
      "Player data not found: Vlatko Čančar\n",
      "Player data not found: Willy Hernangómez\n",
      "Player data not found: Xavier Tillman Sr.\n",
      "Player data not found: A.J. Green\n",
      "Player data not found: Alondes Williams\n",
      "Player data not found: Alperen Şengün\n",
      "Player data not found: Boban Marjanović\n",
      "Player data not found: Bogdan Bogdanović\n",
      "Player data not found: Bojan Bogdanović\n",
      "Player data not found: Dario Šarić\n",
      "Player data not found: Dennis Schröder\n",
      "Player data not found: Dāvis Bertāns\n",
      "Player data not found: Goran Dragić\n",
      "Player data not found: Jeenathan Williams\n",
      "Player data not found: Jeff Dowtin\n",
      "Player data not found: John Butler\n",
      "Player data not found: Johnny Davis\n",
      "Player data not found: Jonas Valančiūnas\n",
      "Player data not found: Juancho Hernangómez\n",
      "Player data not found: Jusuf Nurkić\n",
      "Player data not found: Kevin Knox\n",
      "Player data not found: Kristaps Porziņģis\n",
      "Player data not found: Luka Dončić\n",
      "Player data not found: Luka Šamanić\n",
      "Player data not found: Marcus Morris\n",
      "Player data not found: Michael Foster Jr.\n",
      "Player data not found: Moussa Diabaté\n",
      "Player data not found: Nikola Jokić\n",
      "Player data not found: Nikola Jović\n",
      "Player data not found: Nikola Vučević\n",
      "Player data not found: Reggie Bullock\n",
      "Player data not found: Robert Williams\n",
      "Player data not found: Théo Maledon\n",
      "Player data not found: Vlatko Čančar\n",
      "Player data not found: Willy Hernangómez\n",
      "Player data not found: Xavier Tillman Sr.\n",
      "Player data not found: A.J. Green\n",
      "Player data not found: Alperen Şengün\n",
      "Player data not found: Boban Marjanović\n",
      "Player data not found: Bogdan Bogdanović\n",
      "Player data not found: Bojan Bogdanović\n",
      "Player data not found: Brandon Williams\n",
      "Player data not found: Craig Porter Jr.\n",
      "Player data not found: Dario Šarić\n",
      "Player data not found: Dennis Schröder\n",
      "Player data not found: Dmytro Skapintsev\n",
      "Player data not found: Drew Peterson\n",
      "Player data not found: Dāvis Bertāns\n",
      "Player data not found: Filip Petrušev\n",
      "Player data not found: Gregory Jackson II\n",
      "Player data not found: Harry Giles\n",
      "Player data not found: Jacob Toppin\n",
      "Player data not found: Javonte Smart\n",
      "Player data not found: Jeenathan Williams\n",
      "Player data not found: Jermaine Samuels\n",
      "Player data not found: Johnny Davis\n",
      "Player data not found: Jonas Valančiūnas\n",
      "Player data not found: Jules Bernard\n",
      "Player data not found: Jusuf Nurkić\n",
      "Player data not found: Kevin Knox\n",
      "Player data not found: Kristaps Porziņģis\n",
      "Player data not found: Luka Dončić\n",
      "Player data not found: Luka Šamanić\n",
      "Player data not found: Malcolm Cazalon\n",
      "Player data not found: Marcus Morris\n",
      "Player data not found: Marques Bolden\n",
      "Player data not found: Moussa Diabaté\n",
      "Player data not found: Nathan Mensah\n",
      "Player data not found: Nikola Jokić\n",
      "Player data not found: Nikola Jović\n",
      "Player data not found: Nikola Vučević\n",
      "Player data not found: Onuralp Bitim\n",
      "Player data not found: Reggie Bullock\n",
      "Player data not found: Robert Williams\n",
      "Player data not found: Ron Harper Jr.\n",
      "Player data not found: Théo Maledon\n",
      "Player data not found: Vasilije Micić\n",
      "Player data not found: Xavier Tillman Sr.\n"
     ]
    },
    {
     "ename": "KeyError",
     "evalue": "2025",
     "output_type": "error",
     "traceback": [
      "\u001B[0;31m---------------------------------------------------------------------------\u001B[0m",
      "\u001B[0;31mKeyError\u001B[0m                                  Traceback (most recent call last)",
      "Cell \u001B[0;32mIn[37], line 7\u001B[0m\n\u001B[1;32m      5\u001B[0m season_end_idx \u001B[38;5;241m=\u001B[39m \u001B[38;5;124mf\u001B[39m\u001B[38;5;124m'\u001B[39m\u001B[38;5;124m20\u001B[39m\u001B[38;5;132;01m{\u001B[39;00mseason_end\u001B[38;5;132;01m}\u001B[39;00m\u001B[38;5;124m'\u001B[39m\n\u001B[1;32m      6\u001B[0m season \u001B[38;5;241m=\u001B[39m \u001B[38;5;124mf\u001B[39m\u001B[38;5;124m'\u001B[39m\u001B[38;5;132;01m{\u001B[39;00mseason_start\u001B[38;5;132;01m}\u001B[39;00m\u001B[38;5;124m-\u001B[39m\u001B[38;5;132;01m{\u001B[39;00mseason_end\u001B[38;5;132;01m}\u001B[39;00m\u001B[38;5;124m'\u001B[39m\n\u001B[0;32m----> 7\u001B[0m \u001B[38;5;28;01mfor\u001B[39;00m player \u001B[38;5;129;01min\u001B[39;00m \u001B[43mplayer_totals_advanced_pg\u001B[49m\u001B[38;5;241;43m.\u001B[39;49m\u001B[43mgroupby\u001B[49m\u001B[43m(\u001B[49m\u001B[38;5;124;43m'\u001B[39;49m\u001B[38;5;124;43mseason_end\u001B[39;49m\u001B[38;5;124;43m'\u001B[39;49m\u001B[43m)\u001B[49m\u001B[38;5;241;43m.\u001B[39;49m\u001B[43mget_group\u001B[49m\u001B[43m(\u001B[49m\u001B[38;5;28;43mint\u001B[39;49m\u001B[43m(\u001B[49m\u001B[43mseason_end_idx\u001B[49m\u001B[43m)\u001B[49m\u001B[43m)\u001B[49m\u001B[38;5;241m.\u001B[39mindex\u001B[38;5;241m.\u001B[39mget_level_values(\u001B[38;5;124m'\u001B[39m\u001B[38;5;124mname\u001B[39m\u001B[38;5;124m'\u001B[39m)\u001B[38;5;241m.\u001B[39munique():\n\u001B[1;32m      8\u001B[0m     failed \u001B[38;5;241m=\u001B[39m \u001B[38;5;241m0\u001B[39m\n\u001B[1;32m      9\u001B[0m     \u001B[38;5;28;01mwhile\u001B[39;00m(\u001B[38;5;28;01mTrue\u001B[39;00m):\n",
      "File \u001B[0;32m~/Documents/boredom-projects/sports-betting/venv/lib/python3.10/site-packages/pandas/core/groupby/groupby.py:1063\u001B[0m, in \u001B[0;36mBaseGroupBy.get_group\u001B[0;34m(self, name, obj)\u001B[0m\n\u001B[1;32m   1061\u001B[0m inds \u001B[38;5;241m=\u001B[39m \u001B[38;5;28mself\u001B[39m\u001B[38;5;241m.\u001B[39m_get_index(name)\n\u001B[1;32m   1062\u001B[0m \u001B[38;5;28;01mif\u001B[39;00m \u001B[38;5;129;01mnot\u001B[39;00m \u001B[38;5;28mlen\u001B[39m(inds):\n\u001B[0;32m-> 1063\u001B[0m     \u001B[38;5;28;01mraise\u001B[39;00m \u001B[38;5;167;01mKeyError\u001B[39;00m(name)\n\u001B[1;32m   1065\u001B[0m \u001B[38;5;28;01mif\u001B[39;00m obj \u001B[38;5;129;01mis\u001B[39;00m \u001B[38;5;28;01mNone\u001B[39;00m:\n\u001B[1;32m   1066\u001B[0m     indexer \u001B[38;5;241m=\u001B[39m inds \u001B[38;5;28;01mif\u001B[39;00m \u001B[38;5;28mself\u001B[39m\u001B[38;5;241m.\u001B[39maxis \u001B[38;5;241m==\u001B[39m \u001B[38;5;241m0\u001B[39m \u001B[38;5;28;01melse\u001B[39;00m (\u001B[38;5;28mslice\u001B[39m(\u001B[38;5;28;01mNone\u001B[39;00m), inds)\n",
      "\u001B[0;31mKeyError\u001B[0m: 2025"
     ]
    }
   ],
   "source": [
    "shot_data_agg = pd.DataFrame()\n",
    "for i in tqdm(range(17, 25)):\n",
    "    season_start = f'200{i}' if i < 10 else f'20{i}'\n",
    "    season_end = f'0{i+1}' if i+1 < 10 else f'{i+1}'\n",
    "    season_end_idx = f'20{season_end}'\n",
    "    season = f'{season_start}-{season_end}'\n",
    "    for player in player_totals_advanced_pg.groupby('season_end').get_group(int(season_end_idx)).index.get_level_values('name').unique():\n",
    "        failed = 0\n",
    "        while(True):\n",
    "            try:\n",
    "                player_shot_data = get_shot_data(player, season)\n",
    "                if player_shot_data is None or len(player_shot_data) == 0:\n",
    "                    print(f'Player data not found: {player}')\n",
    "                    break\n",
    "                player_shot_data_agg = pd.DataFrame()\n",
    "                player_shot_data_agg['shot_made'] = player_shot_data.groupby('SHOT_ZONE_BASIC')['SHOT_MADE_FLAG'].sum()\n",
    "                player_shot_data_agg['shots_attempted'] = player_shot_data.groupby('SHOT_ZONE_BASIC')['SHOT_ATTEMPTED_FLAG'].sum()\n",
    "                player_shot_data_agg['shots_pct'] = player_shot_data_agg['shot_made'] / player_shot_data_agg['shots_attempted']\n",
    "                player_shot_data_series = player_shot_data_agg.unstack().reorder_levels([1, 0]).sort_index()\n",
    "                player_shot_data_agg = pd.DataFrame()\n",
    "                player_shot_data_agg['METRICS'] = player_shot_data_series\n",
    "                player_shot_data_agg['season_end'] = len(player_shot_data_agg) * [f'200{season_end}' if int(season_end) < 10 else f'20{season_end}']\n",
    "                player_shot_data_agg['player'] = len(player_shot_data_agg) * [player]\n",
    "                player_shot_data_agg.set_index(['player', 'season_end'], inplace=True, append=True)\n",
    "                shot_data_agg = pd.concat([shot_data_agg, player_shot_data_agg])\n",
    "                shot_data_agg.to_csv('2018_2024_player_shot_metrics.csv')\n",
    "            except Exception as e:\n",
    "                failed+=1\n",
    "                print(f'Failed {failed} {\"times\" if failed > 1 else \"time\"}. Waiting 5 minutes...')\n",
    "                print(f'Error displayed: {e}')\n",
    "                print('5 minute progress...')\n",
    "                for i in tqdm(range(5 * 60)):\n",
    "                    time.sleep(1)\n",
    "                continue\n",
    "            break"
   ],
   "metadata": {
    "collapsed": false,
    "ExecuteTime": {
     "end_time": "2024-01-29T22:15:45.066286Z",
     "start_time": "2024-01-29T20:43:53.073203Z"
    }
   }
  },
  {
   "cell_type": "code",
   "execution_count": null,
   "outputs": [],
   "source": [],
   "metadata": {
    "collapsed": false
   }
  }
 ],
 "metadata": {
  "kernelspec": {
   "name": "nbai",
   "language": "python",
   "display_name": "nbAI"
  },
  "language_info": {
   "codemirror_mode": {
    "name": "ipython",
    "version": 2
   },
   "file_extension": ".py",
   "mimetype": "text/x-python",
   "name": "python",
   "nbconvert_exporter": "python",
   "pygments_lexer": "ipython2",
   "version": "2.7.6"
  }
 },
 "nbformat": 4,
 "nbformat_minor": 0
}
