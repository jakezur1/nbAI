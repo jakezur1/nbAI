{
 "cells": [
  {
   "cell_type": "code",
   "execution_count": 3,
   "metadata": {
    "collapsed": true,
    "ExecuteTime": {
     "end_time": "2024-01-10T03:23:35.182377Z",
     "start_time": "2024-01-10T03:23:34.679513Z"
    }
   },
   "outputs": [],
   "source": [
    "import numpy as np\n",
    "import pandas as pd\n",
    "\n",
    "from tqdm.auto import tqdm\n",
    "from nba_api.stats.endpoints import leaguegamefinder, boxscoreadvancedv3\n",
    "from nba_api.stats.static import teams"
   ]
  },
  {
   "cell_type": "code",
   "execution_count": 233,
   "outputs": [
    {
     "data": {
      "text/plain": "  0%|          | 0/30 [00:00<?, ?it/s]",
      "application/vnd.jupyter.widget-view+json": {
       "version_major": 2,
       "version_minor": 0,
       "model_id": "29d234a9659342a0bf8a664073facd02"
      }
     },
     "metadata": {},
     "output_type": "display_data"
    },
    {
     "name": "stderr",
     "output_type": "stream",
     "text": [
      "/var/folders/xk/d3trzxnn5nv63q9frbz67bs40000gn/T/ipykernel_15313/578778309.py:9: FutureWarning: The behavior of DataFrame concatenation with empty or all-NA entries is deprecated. In a future version, this will no longer exclude empty or all-NA columns when determining the result dtypes. To retain the old behavior, exclude the relevant entries before the concat operation.\n",
      "  game_schedules = pd.concat([game_schedules, team_games.get_data_frames()[0]])\n"
     ]
    },
    {
     "data": {
      "text/plain": "  0%|          | 0/30 [00:00<?, ?it/s]",
      "application/vnd.jupyter.widget-view+json": {
       "version_major": 2,
       "version_minor": 0,
       "model_id": "028beabfeca34cb88d1b79f9656b522d"
      }
     },
     "metadata": {},
     "output_type": "display_data"
    },
    {
     "name": "stderr",
     "output_type": "stream",
     "text": [
      "/var/folders/xk/d3trzxnn5nv63q9frbz67bs40000gn/T/ipykernel_15313/578778309.py:9: FutureWarning: The behavior of DataFrame concatenation with empty or all-NA entries is deprecated. In a future version, this will no longer exclude empty or all-NA columns when determining the result dtypes. To retain the old behavior, exclude the relevant entries before the concat operation.\n",
      "  game_schedules = pd.concat([game_schedules, team_games.get_data_frames()[0]])\n"
     ]
    },
    {
     "data": {
      "text/plain": "  0%|          | 0/30 [00:00<?, ?it/s]",
      "application/vnd.jupyter.widget-view+json": {
       "version_major": 2,
       "version_minor": 0,
       "model_id": "d18115d7434c40dfbdc50a06bc81dd6c"
      }
     },
     "metadata": {},
     "output_type": "display_data"
    },
    {
     "name": "stderr",
     "output_type": "stream",
     "text": [
      "/var/folders/xk/d3trzxnn5nv63q9frbz67bs40000gn/T/ipykernel_15313/578778309.py:9: FutureWarning: The behavior of DataFrame concatenation with empty or all-NA entries is deprecated. In a future version, this will no longer exclude empty or all-NA columns when determining the result dtypes. To retain the old behavior, exclude the relevant entries before the concat operation.\n",
      "  game_schedules = pd.concat([game_schedules, team_games.get_data_frames()[0]])\n"
     ]
    },
    {
     "data": {
      "text/plain": "  0%|          | 0/30 [00:00<?, ?it/s]",
      "application/vnd.jupyter.widget-view+json": {
       "version_major": 2,
       "version_minor": 0,
       "model_id": "22e4f8174819456ebd7371c6b8540704"
      }
     },
     "metadata": {},
     "output_type": "display_data"
    },
    {
     "name": "stderr",
     "output_type": "stream",
     "text": [
      "/var/folders/xk/d3trzxnn5nv63q9frbz67bs40000gn/T/ipykernel_15313/578778309.py:9: FutureWarning: The behavior of DataFrame concatenation with empty or all-NA entries is deprecated. In a future version, this will no longer exclude empty or all-NA columns when determining the result dtypes. To retain the old behavior, exclude the relevant entries before the concat operation.\n",
      "  game_schedules = pd.concat([game_schedules, team_games.get_data_frames()[0]])\n"
     ]
    },
    {
     "data": {
      "text/plain": "  0%|          | 0/30 [00:00<?, ?it/s]",
      "application/vnd.jupyter.widget-view+json": {
       "version_major": 2,
       "version_minor": 0,
       "model_id": "74219a09dbd54183ae6955c8b690191e"
      }
     },
     "metadata": {},
     "output_type": "display_data"
    },
    {
     "data": {
      "text/plain": "  0%|          | 0/30 [00:00<?, ?it/s]",
      "application/vnd.jupyter.widget-view+json": {
       "version_major": 2,
       "version_minor": 0,
       "model_id": "b5bf703b5bc64fa09e35ddf7708102ad"
      }
     },
     "metadata": {},
     "output_type": "display_data"
    },
    {
     "data": {
      "text/plain": "  0%|          | 0/30 [00:00<?, ?it/s]",
      "application/vnd.jupyter.widget-view+json": {
       "version_major": 2,
       "version_minor": 0,
       "model_id": "ec5c7bedc8384edbae292abf2c25912c"
      }
     },
     "metadata": {},
     "output_type": "display_data"
    },
    {
     "data": {
      "text/plain": "  0%|          | 0/30 [00:00<?, ?it/s]",
      "application/vnd.jupyter.widget-view+json": {
       "version_major": 2,
       "version_minor": 0,
       "model_id": "8bdce599a93142268b784c5a97c2b674"
      }
     },
     "metadata": {},
     "output_type": "display_data"
    },
    {
     "data": {
      "text/plain": "  0%|          | 0/30 [00:00<?, ?it/s]",
      "application/vnd.jupyter.widget-view+json": {
       "version_major": 2,
       "version_minor": 0,
       "model_id": "d1091cdb885d46fe8c6f38cd289e6380"
      }
     },
     "metadata": {},
     "output_type": "display_data"
    },
    {
     "data": {
      "text/plain": "  0%|          | 0/30 [00:00<?, ?it/s]",
      "application/vnd.jupyter.widget-view+json": {
       "version_major": 2,
       "version_minor": 0,
       "model_id": "ccec5bb0ebb5483287875bce96bb2f25"
      }
     },
     "metadata": {},
     "output_type": "display_data"
    },
    {
     "name": "stderr",
     "output_type": "stream",
     "text": [
      "/var/folders/xk/d3trzxnn5nv63q9frbz67bs40000gn/T/ipykernel_15313/578778309.py:9: FutureWarning: The behavior of DataFrame concatenation with empty or all-NA entries is deprecated. In a future version, this will no longer exclude empty or all-NA columns when determining the result dtypes. To retain the old behavior, exclude the relevant entries before the concat operation.\n",
      "  game_schedules = pd.concat([game_schedules, team_games.get_data_frames()[0]])\n",
      "/var/folders/xk/d3trzxnn5nv63q9frbz67bs40000gn/T/ipykernel_15313/578778309.py:9: FutureWarning: The behavior of DataFrame concatenation with empty or all-NA entries is deprecated. In a future version, this will no longer exclude empty or all-NA columns when determining the result dtypes. To retain the old behavior, exclude the relevant entries before the concat operation.\n",
      "  game_schedules = pd.concat([game_schedules, team_games.get_data_frames()[0]])\n",
      "/var/folders/xk/d3trzxnn5nv63q9frbz67bs40000gn/T/ipykernel_15313/578778309.py:9: FutureWarning: The behavior of DataFrame concatenation with empty or all-NA entries is deprecated. In a future version, this will no longer exclude empty or all-NA columns when determining the result dtypes. To retain the old behavior, exclude the relevant entries before the concat operation.\n",
      "  game_schedules = pd.concat([game_schedules, team_games.get_data_frames()[0]])\n",
      "/var/folders/xk/d3trzxnn5nv63q9frbz67bs40000gn/T/ipykernel_15313/578778309.py:9: FutureWarning: The behavior of DataFrame concatenation with empty or all-NA entries is deprecated. In a future version, this will no longer exclude empty or all-NA columns when determining the result dtypes. To retain the old behavior, exclude the relevant entries before the concat operation.\n",
      "  game_schedules = pd.concat([game_schedules, team_games.get_data_frames()[0]])\n",
      "/var/folders/xk/d3trzxnn5nv63q9frbz67bs40000gn/T/ipykernel_15313/578778309.py:9: FutureWarning: The behavior of DataFrame concatenation with empty or all-NA entries is deprecated. In a future version, this will no longer exclude empty or all-NA columns when determining the result dtypes. To retain the old behavior, exclude the relevant entries before the concat operation.\n",
      "  game_schedules = pd.concat([game_schedules, team_games.get_data_frames()[0]])\n",
      "/var/folders/xk/d3trzxnn5nv63q9frbz67bs40000gn/T/ipykernel_15313/578778309.py:9: FutureWarning: The behavior of DataFrame concatenation with empty or all-NA entries is deprecated. In a future version, this will no longer exclude empty or all-NA columns when determining the result dtypes. To retain the old behavior, exclude the relevant entries before the concat operation.\n",
      "  game_schedules = pd.concat([game_schedules, team_games.get_data_frames()[0]])\n",
      "/var/folders/xk/d3trzxnn5nv63q9frbz67bs40000gn/T/ipykernel_15313/578778309.py:9: FutureWarning: The behavior of DataFrame concatenation with empty or all-NA entries is deprecated. In a future version, this will no longer exclude empty or all-NA columns when determining the result dtypes. To retain the old behavior, exclude the relevant entries before the concat operation.\n",
      "  game_schedules = pd.concat([game_schedules, team_games.get_data_frames()[0]])\n",
      "/var/folders/xk/d3trzxnn5nv63q9frbz67bs40000gn/T/ipykernel_15313/578778309.py:9: FutureWarning: The behavior of DataFrame concatenation with empty or all-NA entries is deprecated. In a future version, this will no longer exclude empty or all-NA columns when determining the result dtypes. To retain the old behavior, exclude the relevant entries before the concat operation.\n",
      "  game_schedules = pd.concat([game_schedules, team_games.get_data_frames()[0]])\n",
      "/var/folders/xk/d3trzxnn5nv63q9frbz67bs40000gn/T/ipykernel_15313/578778309.py:9: FutureWarning: The behavior of DataFrame concatenation with empty or all-NA entries is deprecated. In a future version, this will no longer exclude empty or all-NA columns when determining the result dtypes. To retain the old behavior, exclude the relevant entries before the concat operation.\n",
      "  game_schedules = pd.concat([game_schedules, team_games.get_data_frames()[0]])\n",
      "/var/folders/xk/d3trzxnn5nv63q9frbz67bs40000gn/T/ipykernel_15313/578778309.py:9: FutureWarning: The behavior of DataFrame concatenation with empty or all-NA entries is deprecated. In a future version, this will no longer exclude empty or all-NA columns when determining the result dtypes. To retain the old behavior, exclude the relevant entries before the concat operation.\n",
      "  game_schedules = pd.concat([game_schedules, team_games.get_data_frames()[0]])\n",
      "/var/folders/xk/d3trzxnn5nv63q9frbz67bs40000gn/T/ipykernel_15313/578778309.py:9: FutureWarning: The behavior of DataFrame concatenation with empty or all-NA entries is deprecated. In a future version, this will no longer exclude empty or all-NA columns when determining the result dtypes. To retain the old behavior, exclude the relevant entries before the concat operation.\n",
      "  game_schedules = pd.concat([game_schedules, team_games.get_data_frames()[0]])\n",
      "/var/folders/xk/d3trzxnn5nv63q9frbz67bs40000gn/T/ipykernel_15313/578778309.py:9: FutureWarning: The behavior of DataFrame concatenation with empty or all-NA entries is deprecated. In a future version, this will no longer exclude empty or all-NA columns when determining the result dtypes. To retain the old behavior, exclude the relevant entries before the concat operation.\n",
      "  game_schedules = pd.concat([game_schedules, team_games.get_data_frames()[0]])\n",
      "/var/folders/xk/d3trzxnn5nv63q9frbz67bs40000gn/T/ipykernel_15313/578778309.py:9: FutureWarning: The behavior of DataFrame concatenation with empty or all-NA entries is deprecated. In a future version, this will no longer exclude empty or all-NA columns when determining the result dtypes. To retain the old behavior, exclude the relevant entries before the concat operation.\n",
      "  game_schedules = pd.concat([game_schedules, team_games.get_data_frames()[0]])\n",
      "/var/folders/xk/d3trzxnn5nv63q9frbz67bs40000gn/T/ipykernel_15313/578778309.py:9: FutureWarning: The behavior of DataFrame concatenation with empty or all-NA entries is deprecated. In a future version, this will no longer exclude empty or all-NA columns when determining the result dtypes. To retain the old behavior, exclude the relevant entries before the concat operation.\n",
      "  game_schedules = pd.concat([game_schedules, team_games.get_data_frames()[0]])\n",
      "/var/folders/xk/d3trzxnn5nv63q9frbz67bs40000gn/T/ipykernel_15313/578778309.py:9: FutureWarning: The behavior of DataFrame concatenation with empty or all-NA entries is deprecated. In a future version, this will no longer exclude empty or all-NA columns when determining the result dtypes. To retain the old behavior, exclude the relevant entries before the concat operation.\n",
      "  game_schedules = pd.concat([game_schedules, team_games.get_data_frames()[0]])\n",
      "/var/folders/xk/d3trzxnn5nv63q9frbz67bs40000gn/T/ipykernel_15313/578778309.py:9: FutureWarning: The behavior of DataFrame concatenation with empty or all-NA entries is deprecated. In a future version, this will no longer exclude empty or all-NA columns when determining the result dtypes. To retain the old behavior, exclude the relevant entries before the concat operation.\n",
      "  game_schedules = pd.concat([game_schedules, team_games.get_data_frames()[0]])\n",
      "/var/folders/xk/d3trzxnn5nv63q9frbz67bs40000gn/T/ipykernel_15313/578778309.py:9: FutureWarning: The behavior of DataFrame concatenation with empty or all-NA entries is deprecated. In a future version, this will no longer exclude empty or all-NA columns when determining the result dtypes. To retain the old behavior, exclude the relevant entries before the concat operation.\n",
      "  game_schedules = pd.concat([game_schedules, team_games.get_data_frames()[0]])\n",
      "/var/folders/xk/d3trzxnn5nv63q9frbz67bs40000gn/T/ipykernel_15313/578778309.py:9: FutureWarning: The behavior of DataFrame concatenation with empty or all-NA entries is deprecated. In a future version, this will no longer exclude empty or all-NA columns when determining the result dtypes. To retain the old behavior, exclude the relevant entries before the concat operation.\n",
      "  game_schedules = pd.concat([game_schedules, team_games.get_data_frames()[0]])\n",
      "/var/folders/xk/d3trzxnn5nv63q9frbz67bs40000gn/T/ipykernel_15313/578778309.py:9: FutureWarning: The behavior of DataFrame concatenation with empty or all-NA entries is deprecated. In a future version, this will no longer exclude empty or all-NA columns when determining the result dtypes. To retain the old behavior, exclude the relevant entries before the concat operation.\n",
      "  game_schedules = pd.concat([game_schedules, team_games.get_data_frames()[0]])\n",
      "/var/folders/xk/d3trzxnn5nv63q9frbz67bs40000gn/T/ipykernel_15313/578778309.py:9: FutureWarning: The behavior of DataFrame concatenation with empty or all-NA entries is deprecated. In a future version, this will no longer exclude empty or all-NA columns when determining the result dtypes. To retain the old behavior, exclude the relevant entries before the concat operation.\n",
      "  game_schedules = pd.concat([game_schedules, team_games.get_data_frames()[0]])\n",
      "/var/folders/xk/d3trzxnn5nv63q9frbz67bs40000gn/T/ipykernel_15313/578778309.py:9: FutureWarning: The behavior of DataFrame concatenation with empty or all-NA entries is deprecated. In a future version, this will no longer exclude empty or all-NA columns when determining the result dtypes. To retain the old behavior, exclude the relevant entries before the concat operation.\n",
      "  game_schedules = pd.concat([game_schedules, team_games.get_data_frames()[0]])\n",
      "/var/folders/xk/d3trzxnn5nv63q9frbz67bs40000gn/T/ipykernel_15313/578778309.py:9: FutureWarning: The behavior of DataFrame concatenation with empty or all-NA entries is deprecated. In a future version, this will no longer exclude empty or all-NA columns when determining the result dtypes. To retain the old behavior, exclude the relevant entries before the concat operation.\n",
      "  game_schedules = pd.concat([game_schedules, team_games.get_data_frames()[0]])\n",
      "/var/folders/xk/d3trzxnn5nv63q9frbz67bs40000gn/T/ipykernel_15313/578778309.py:9: FutureWarning: The behavior of DataFrame concatenation with empty or all-NA entries is deprecated. In a future version, this will no longer exclude empty or all-NA columns when determining the result dtypes. To retain the old behavior, exclude the relevant entries before the concat operation.\n",
      "  game_schedules = pd.concat([game_schedules, team_games.get_data_frames()[0]])\n",
      "/var/folders/xk/d3trzxnn5nv63q9frbz67bs40000gn/T/ipykernel_15313/578778309.py:9: FutureWarning: The behavior of DataFrame concatenation with empty or all-NA entries is deprecated. In a future version, this will no longer exclude empty or all-NA columns when determining the result dtypes. To retain the old behavior, exclude the relevant entries before the concat operation.\n",
      "  game_schedules = pd.concat([game_schedules, team_games.get_data_frames()[0]])\n",
      "/var/folders/xk/d3trzxnn5nv63q9frbz67bs40000gn/T/ipykernel_15313/578778309.py:9: FutureWarning: The behavior of DataFrame concatenation with empty or all-NA entries is deprecated. In a future version, this will no longer exclude empty or all-NA columns when determining the result dtypes. To retain the old behavior, exclude the relevant entries before the concat operation.\n",
      "  game_schedules = pd.concat([game_schedules, team_games.get_data_frames()[0]])\n",
      "/var/folders/xk/d3trzxnn5nv63q9frbz67bs40000gn/T/ipykernel_15313/578778309.py:9: FutureWarning: The behavior of DataFrame concatenation with empty or all-NA entries is deprecated. In a future version, this will no longer exclude empty or all-NA columns when determining the result dtypes. To retain the old behavior, exclude the relevant entries before the concat operation.\n",
      "  game_schedules = pd.concat([game_schedules, team_games.get_data_frames()[0]])\n",
      "/var/folders/xk/d3trzxnn5nv63q9frbz67bs40000gn/T/ipykernel_15313/578778309.py:9: FutureWarning: The behavior of DataFrame concatenation with empty or all-NA entries is deprecated. In a future version, this will no longer exclude empty or all-NA columns when determining the result dtypes. To retain the old behavior, exclude the relevant entries before the concat operation.\n",
      "  game_schedules = pd.concat([game_schedules, team_games.get_data_frames()[0]])\n",
      "/var/folders/xk/d3trzxnn5nv63q9frbz67bs40000gn/T/ipykernel_15313/578778309.py:9: FutureWarning: The behavior of DataFrame concatenation with empty or all-NA entries is deprecated. In a future version, this will no longer exclude empty or all-NA columns when determining the result dtypes. To retain the old behavior, exclude the relevant entries before the concat operation.\n",
      "  game_schedules = pd.concat([game_schedules, team_games.get_data_frames()[0]])\n",
      "/var/folders/xk/d3trzxnn5nv63q9frbz67bs40000gn/T/ipykernel_15313/578778309.py:9: FutureWarning: The behavior of DataFrame concatenation with empty or all-NA entries is deprecated. In a future version, this will no longer exclude empty or all-NA columns when determining the result dtypes. To retain the old behavior, exclude the relevant entries before the concat operation.\n",
      "  game_schedules = pd.concat([game_schedules, team_games.get_data_frames()[0]])\n",
      "/var/folders/xk/d3trzxnn5nv63q9frbz67bs40000gn/T/ipykernel_15313/578778309.py:9: FutureWarning: The behavior of DataFrame concatenation with empty or all-NA entries is deprecated. In a future version, this will no longer exclude empty or all-NA columns when determining the result dtypes. To retain the old behavior, exclude the relevant entries before the concat operation.\n",
      "  game_schedules = pd.concat([game_schedules, team_games.get_data_frames()[0]])\n"
     ]
    },
    {
     "data": {
      "text/plain": "  0%|          | 0/30 [00:00<?, ?it/s]",
      "application/vnd.jupyter.widget-view+json": {
       "version_major": 2,
       "version_minor": 0,
       "model_id": "581565becb6c42148faeb1bff2bec4fd"
      }
     },
     "metadata": {},
     "output_type": "display_data"
    },
    {
     "data": {
      "text/plain": "  0%|          | 0/30 [00:00<?, ?it/s]",
      "application/vnd.jupyter.widget-view+json": {
       "version_major": 2,
       "version_minor": 0,
       "model_id": "a5043b43f0714981a2919a1e8fb637f4"
      }
     },
     "metadata": {},
     "output_type": "display_data"
    },
    {
     "data": {
      "text/plain": "  0%|          | 0/30 [00:00<?, ?it/s]",
      "application/vnd.jupyter.widget-view+json": {
       "version_major": 2,
       "version_minor": 0,
       "model_id": "7b11a60042164da88c38a5e1bf4871ad"
      }
     },
     "metadata": {},
     "output_type": "display_data"
    },
    {
     "data": {
      "text/plain": "  0%|          | 0/30 [00:00<?, ?it/s]",
      "application/vnd.jupyter.widget-view+json": {
       "version_major": 2,
       "version_minor": 0,
       "model_id": "0c83f0f0ea9548a3b845dbefbbef0976"
      }
     },
     "metadata": {},
     "output_type": "display_data"
    },
    {
     "data": {
      "text/plain": "  0%|          | 0/30 [00:00<?, ?it/s]",
      "application/vnd.jupyter.widget-view+json": {
       "version_major": 2,
       "version_minor": 0,
       "model_id": "3e6bb6b5f3fe4cd9b5a04077676ee668"
      }
     },
     "metadata": {},
     "output_type": "display_data"
    },
    {
     "data": {
      "text/plain": "  0%|          | 0/30 [00:00<?, ?it/s]",
      "application/vnd.jupyter.widget-view+json": {
       "version_major": 2,
       "version_minor": 0,
       "model_id": "cde6438488354f8cb8f99c29bea44335"
      }
     },
     "metadata": {},
     "output_type": "display_data"
    },
    {
     "data": {
      "text/plain": "  0%|          | 0/30 [00:00<?, ?it/s]",
      "application/vnd.jupyter.widget-view+json": {
       "version_major": 2,
       "version_minor": 0,
       "model_id": "7faaece72a7e4f02810bc7af7e231437"
      }
     },
     "metadata": {},
     "output_type": "display_data"
    },
    {
     "data": {
      "text/plain": "  0%|          | 0/30 [00:00<?, ?it/s]",
      "application/vnd.jupyter.widget-view+json": {
       "version_major": 2,
       "version_minor": 0,
       "model_id": "716442284eba44f6b72e9afb877eaa1c"
      }
     },
     "metadata": {},
     "output_type": "display_data"
    },
    {
     "data": {
      "text/plain": "  0%|          | 0/30 [00:00<?, ?it/s]",
      "application/vnd.jupyter.widget-view+json": {
       "version_major": 2,
       "version_minor": 0,
       "model_id": "45777d7eae8141d6a6c46e877040a491"
      }
     },
     "metadata": {},
     "output_type": "display_data"
    },
    {
     "data": {
      "text/plain": "  0%|          | 0/30 [00:00<?, ?it/s]",
      "application/vnd.jupyter.widget-view+json": {
       "version_major": 2,
       "version_minor": 0,
       "model_id": "0924bcfa885143399e7e03556dce4b3f"
      }
     },
     "metadata": {},
     "output_type": "display_data"
    },
    {
     "data": {
      "text/plain": "  0%|          | 0/30 [00:00<?, ?it/s]",
      "application/vnd.jupyter.widget-view+json": {
       "version_major": 2,
       "version_minor": 0,
       "model_id": "35736f0d922442e39d93dac1840db560"
      }
     },
     "metadata": {},
     "output_type": "display_data"
    },
    {
     "data": {
      "text/plain": "  0%|          | 0/30 [00:00<?, ?it/s]",
      "application/vnd.jupyter.widget-view+json": {
       "version_major": 2,
       "version_minor": 0,
       "model_id": "684885332ced4afcbe372fc505711d1c"
      }
     },
     "metadata": {},
     "output_type": "display_data"
    },
    {
     "data": {
      "text/plain": "  0%|          | 0/30 [00:00<?, ?it/s]",
      "application/vnd.jupyter.widget-view+json": {
       "version_major": 2,
       "version_minor": 0,
       "model_id": "a3f4e3d4b4fc4251b1638ad2a79d51a7"
      }
     },
     "metadata": {},
     "output_type": "display_data"
    },
    {
     "data": {
      "text/plain": "  0%|          | 0/30 [00:00<?, ?it/s]",
      "application/vnd.jupyter.widget-view+json": {
       "version_major": 2,
       "version_minor": 0,
       "model_id": "ae9cdf6e93ba4e9bbdbd86f0b54306ad"
      }
     },
     "metadata": {},
     "output_type": "display_data"
    },
    {
     "data": {
      "text/plain": "   SEASON_ID     TEAM_ID TEAM_ABBREVIATION          TEAM_NAME     GAME_ID  \\\n0      22000  1610612737               ATL      Atlanta Hawks  0020001172   \n1      22000  1610612737               ATL      Atlanta Hawks  0020001165   \n2      22000  1610612737               ATL      Atlanta Hawks  0020001149   \n3      22000  1610612737               ATL      Atlanta Hawks  0020001138   \n4      22000  1610612737               ATL      Atlanta Hawks  0020001127   \n..       ...         ...               ...                ...         ...   \n35     22023  1610612766               CHA  Charlotte Hornets  0022300063   \n36     12023  1610612766               CHA  Charlotte Hornets  0012300060   \n37     12023  1610612766               CHA  Charlotte Hornets  0012300038   \n38     12023  1610612766               CHA  Charlotte Hornets  0012300025   \n39     12023  1610612766               CHA  Charlotte Hornets  0012300016   \n\n     GAME_DATE      MATCHUP WL  MIN  PTS  ... FT_PCT OREB  DREB REB AST  STL  \\\n0   2001-04-17  ATL vs. WAS  W  240  122  ...  0.686   19    26  45  22   10   \n1   2001-04-16    ATL @ CHH  L  239   83  ...  0.688   11    26  37  22   10   \n2   2001-04-14  ATL vs. DET  L  265  124  ...  0.763   15    35  50  29   11   \n3   2001-04-13    ATL @ NYK  L  240   65  ...  0.917   11    23  34  15    7   \n4   2001-04-11  ATL vs. CLE  W  240  107  ...  0.783   17    24  41  26    8   \n..         ...          ... ..  ...  ...  ...    ...  ...   ...  ..  ..  ...   \n35  2023-10-25  CHA vs. ATL  W  240  116  ...  0.731   12    39  51  34    5   \n36  2023-10-19  CHA vs. BOS  L  241   99  ...  0.808   10    39  49  24    8   \n37  2023-10-15  CHA vs. OKC  W  241  117  ...  0.591    8    35  43  28   10   \n38  2023-10-12    CHA @ WAS  L  241   92  ...  0.667   16    50  66  19    9   \n39  2023-10-10    CHA @ MIA  L  239  109  ...  0.818   14    38  52  19   10   \n\n   BLK TOV  PF PLUS_MINUS  \n0    5  13  26        3.0  \n1    2  17  21      -23.0  \n2    5  18  36       -5.0  \n3    3  21  19      -36.0  \n4    7  14  29        5.0  \n..  ..  ..  ..        ...  \n35   3  19  21        6.0  \n36   5  24  17      -28.0  \n37   7  12  15        2.0  \n38   9  23  24       -6.0  \n39   4  16  20       -4.0  \n\n[60880 rows x 28 columns]",
      "text/html": "<div>\n<style scoped>\n    .dataframe tbody tr th:only-of-type {\n        vertical-align: middle;\n    }\n\n    .dataframe tbody tr th {\n        vertical-align: top;\n    }\n\n    .dataframe thead th {\n        text-align: right;\n    }\n</style>\n<table border=\"1\" class=\"dataframe\">\n  <thead>\n    <tr style=\"text-align: right;\">\n      <th></th>\n      <th>SEASON_ID</th>\n      <th>TEAM_ID</th>\n      <th>TEAM_ABBREVIATION</th>\n      <th>TEAM_NAME</th>\n      <th>GAME_ID</th>\n      <th>GAME_DATE</th>\n      <th>MATCHUP</th>\n      <th>WL</th>\n      <th>MIN</th>\n      <th>PTS</th>\n      <th>...</th>\n      <th>FT_PCT</th>\n      <th>OREB</th>\n      <th>DREB</th>\n      <th>REB</th>\n      <th>AST</th>\n      <th>STL</th>\n      <th>BLK</th>\n      <th>TOV</th>\n      <th>PF</th>\n      <th>PLUS_MINUS</th>\n    </tr>\n  </thead>\n  <tbody>\n    <tr>\n      <th>0</th>\n      <td>22000</td>\n      <td>1610612737</td>\n      <td>ATL</td>\n      <td>Atlanta Hawks</td>\n      <td>0020001172</td>\n      <td>2001-04-17</td>\n      <td>ATL vs. WAS</td>\n      <td>W</td>\n      <td>240</td>\n      <td>122</td>\n      <td>...</td>\n      <td>0.686</td>\n      <td>19</td>\n      <td>26</td>\n      <td>45</td>\n      <td>22</td>\n      <td>10</td>\n      <td>5</td>\n      <td>13</td>\n      <td>26</td>\n      <td>3.0</td>\n    </tr>\n    <tr>\n      <th>1</th>\n      <td>22000</td>\n      <td>1610612737</td>\n      <td>ATL</td>\n      <td>Atlanta Hawks</td>\n      <td>0020001165</td>\n      <td>2001-04-16</td>\n      <td>ATL @ CHH</td>\n      <td>L</td>\n      <td>239</td>\n      <td>83</td>\n      <td>...</td>\n      <td>0.688</td>\n      <td>11</td>\n      <td>26</td>\n      <td>37</td>\n      <td>22</td>\n      <td>10</td>\n      <td>2</td>\n      <td>17</td>\n      <td>21</td>\n      <td>-23.0</td>\n    </tr>\n    <tr>\n      <th>2</th>\n      <td>22000</td>\n      <td>1610612737</td>\n      <td>ATL</td>\n      <td>Atlanta Hawks</td>\n      <td>0020001149</td>\n      <td>2001-04-14</td>\n      <td>ATL vs. DET</td>\n      <td>L</td>\n      <td>265</td>\n      <td>124</td>\n      <td>...</td>\n      <td>0.763</td>\n      <td>15</td>\n      <td>35</td>\n      <td>50</td>\n      <td>29</td>\n      <td>11</td>\n      <td>5</td>\n      <td>18</td>\n      <td>36</td>\n      <td>-5.0</td>\n    </tr>\n    <tr>\n      <th>3</th>\n      <td>22000</td>\n      <td>1610612737</td>\n      <td>ATL</td>\n      <td>Atlanta Hawks</td>\n      <td>0020001138</td>\n      <td>2001-04-13</td>\n      <td>ATL @ NYK</td>\n      <td>L</td>\n      <td>240</td>\n      <td>65</td>\n      <td>...</td>\n      <td>0.917</td>\n      <td>11</td>\n      <td>23</td>\n      <td>34</td>\n      <td>15</td>\n      <td>7</td>\n      <td>3</td>\n      <td>21</td>\n      <td>19</td>\n      <td>-36.0</td>\n    </tr>\n    <tr>\n      <th>4</th>\n      <td>22000</td>\n      <td>1610612737</td>\n      <td>ATL</td>\n      <td>Atlanta Hawks</td>\n      <td>0020001127</td>\n      <td>2001-04-11</td>\n      <td>ATL vs. CLE</td>\n      <td>W</td>\n      <td>240</td>\n      <td>107</td>\n      <td>...</td>\n      <td>0.783</td>\n      <td>17</td>\n      <td>24</td>\n      <td>41</td>\n      <td>26</td>\n      <td>8</td>\n      <td>7</td>\n      <td>14</td>\n      <td>29</td>\n      <td>5.0</td>\n    </tr>\n    <tr>\n      <th>...</th>\n      <td>...</td>\n      <td>...</td>\n      <td>...</td>\n      <td>...</td>\n      <td>...</td>\n      <td>...</td>\n      <td>...</td>\n      <td>...</td>\n      <td>...</td>\n      <td>...</td>\n      <td>...</td>\n      <td>...</td>\n      <td>...</td>\n      <td>...</td>\n      <td>...</td>\n      <td>...</td>\n      <td>...</td>\n      <td>...</td>\n      <td>...</td>\n      <td>...</td>\n      <td>...</td>\n    </tr>\n    <tr>\n      <th>35</th>\n      <td>22023</td>\n      <td>1610612766</td>\n      <td>CHA</td>\n      <td>Charlotte Hornets</td>\n      <td>0022300063</td>\n      <td>2023-10-25</td>\n      <td>CHA vs. ATL</td>\n      <td>W</td>\n      <td>240</td>\n      <td>116</td>\n      <td>...</td>\n      <td>0.731</td>\n      <td>12</td>\n      <td>39</td>\n      <td>51</td>\n      <td>34</td>\n      <td>5</td>\n      <td>3</td>\n      <td>19</td>\n      <td>21</td>\n      <td>6.0</td>\n    </tr>\n    <tr>\n      <th>36</th>\n      <td>12023</td>\n      <td>1610612766</td>\n      <td>CHA</td>\n      <td>Charlotte Hornets</td>\n      <td>0012300060</td>\n      <td>2023-10-19</td>\n      <td>CHA vs. BOS</td>\n      <td>L</td>\n      <td>241</td>\n      <td>99</td>\n      <td>...</td>\n      <td>0.808</td>\n      <td>10</td>\n      <td>39</td>\n      <td>49</td>\n      <td>24</td>\n      <td>8</td>\n      <td>5</td>\n      <td>24</td>\n      <td>17</td>\n      <td>-28.0</td>\n    </tr>\n    <tr>\n      <th>37</th>\n      <td>12023</td>\n      <td>1610612766</td>\n      <td>CHA</td>\n      <td>Charlotte Hornets</td>\n      <td>0012300038</td>\n      <td>2023-10-15</td>\n      <td>CHA vs. OKC</td>\n      <td>W</td>\n      <td>241</td>\n      <td>117</td>\n      <td>...</td>\n      <td>0.591</td>\n      <td>8</td>\n      <td>35</td>\n      <td>43</td>\n      <td>28</td>\n      <td>10</td>\n      <td>7</td>\n      <td>12</td>\n      <td>15</td>\n      <td>2.0</td>\n    </tr>\n    <tr>\n      <th>38</th>\n      <td>12023</td>\n      <td>1610612766</td>\n      <td>CHA</td>\n      <td>Charlotte Hornets</td>\n      <td>0012300025</td>\n      <td>2023-10-12</td>\n      <td>CHA @ WAS</td>\n      <td>L</td>\n      <td>241</td>\n      <td>92</td>\n      <td>...</td>\n      <td>0.667</td>\n      <td>16</td>\n      <td>50</td>\n      <td>66</td>\n      <td>19</td>\n      <td>9</td>\n      <td>9</td>\n      <td>23</td>\n      <td>24</td>\n      <td>-6.0</td>\n    </tr>\n    <tr>\n      <th>39</th>\n      <td>12023</td>\n      <td>1610612766</td>\n      <td>CHA</td>\n      <td>Charlotte Hornets</td>\n      <td>0012300016</td>\n      <td>2023-10-10</td>\n      <td>CHA @ MIA</td>\n      <td>L</td>\n      <td>239</td>\n      <td>109</td>\n      <td>...</td>\n      <td>0.818</td>\n      <td>14</td>\n      <td>38</td>\n      <td>52</td>\n      <td>19</td>\n      <td>10</td>\n      <td>4</td>\n      <td>16</td>\n      <td>20</td>\n      <td>-4.0</td>\n    </tr>\n  </tbody>\n</table>\n<p>60880 rows × 28 columns</p>\n</div>"
     },
     "execution_count": 233,
     "metadata": {},
     "output_type": "execute_result"
    }
   ],
   "source": [
    "nba_teams = pd.DataFrame(teams.get_teams())\n",
    "nba_teams = dict(zip(nba_teams['abbreviation'], nba_teams['id']))\n",
    "game_schedules = pd.DataFrame()\n",
    "for i in range(24):\n",
    "    year_start = '0' + str(i) if i < 10 else str(i)\n",
    "    year_end = '0' + str(i + 1) if i < 10 else str(i + 1)\n",
    "    for team, team_id, in tqdm(nba_teams.items()):\n",
    "        team_games = leaguegamefinder.LeagueGameFinder(team_id_nullable=team_id, season_nullable=f'20{year_start}-{year_end}')\n",
    "        game_schedules = pd.concat([game_schedules, team_games.get_data_frames()[0]])\n",
    "game_schedules"
   ],
   "metadata": {
    "collapsed": false,
    "ExecuteTime": {
     "end_time": "2024-01-13T02:13:54.882495Z",
     "start_time": "2024-01-13T02:03:54.954614Z"
    }
   }
  },
  {
   "cell_type": "markdown",
   "source": [],
   "metadata": {
    "collapsed": false
   }
  },
  {
   "cell_type": "code",
   "execution_count": 234,
   "outputs": [
    {
     "data": {
      "text/plain": "   SEASON_ID     TEAM_ID TEAM_ABBREVIATION          TEAM_NAME     GAME_ID  \\\n0      22000  1610612737               ATL      Atlanta Hawks  0020001172   \n1      22000  1610612737               ATL      Atlanta Hawks  0020001165   \n2      22000  1610612737               ATL      Atlanta Hawks  0020001149   \n3      22000  1610612737               ATL      Atlanta Hawks  0020001138   \n4      22000  1610612737               ATL      Atlanta Hawks  0020001127   \n..       ...         ...               ...                ...         ...   \n35     22023  1610612766               CHA  Charlotte Hornets  0022300063   \n36     12023  1610612766               CHA  Charlotte Hornets  0012300060   \n37     12023  1610612766               CHA  Charlotte Hornets  0012300038   \n38     12023  1610612766               CHA  Charlotte Hornets  0012300025   \n39     12023  1610612766               CHA  Charlotte Hornets  0012300016   \n\n     GAME_DATE      MATCHUP WL  MIN  PTS  ... OREB DREB  REB AST STL  BLK TOV  \\\n0   2001-04-17  ATL vs. WAS  W  240  122  ...   19   26   45  22  10    5  13   \n1   2001-04-16  ATL vs. CHH  L  239   83  ...   11   26   37  22  10    2  17   \n2   2001-04-14  ATL vs. DET  L  265  124  ...   15   35   50  29  11    5  18   \n3   2001-04-13  ATL vs. NYK  L  240   65  ...   11   23   34  15   7    3  21   \n4   2001-04-11  ATL vs. CLE  W  240  107  ...   17   24   41  26   8    7  14   \n..         ...          ... ..  ...  ...  ...  ...  ...  ...  ..  ..  ...  ..   \n35  2023-10-25  CHA vs. ATL  W  240  116  ...   12   39   51  34   5    3  19   \n36  2023-10-19  CHA vs. BOS  L  241   99  ...   10   39   49  24   8    5  24   \n37  2023-10-15  CHA vs. OKC  W  241  117  ...    8   35   43  28  10    7  12   \n38  2023-10-12  CHA vs. WAS  L  241   92  ...   16   50   66  19   9    9  23   \n39  2023-10-10  CHA vs. MIA  L  239  109  ...   14   38   52  19  10    4  16   \n\n    PF  PLUS_MINUS IS_HOME_TEAM  \n0   26         3.0            1  \n1   21       -23.0            0  \n2   36        -5.0            1  \n3   19       -36.0            0  \n4   29         5.0            1  \n..  ..         ...          ...  \n35  21         6.0            1  \n36  17       -28.0            1  \n37  15         2.0            1  \n38  24        -6.0            0  \n39  20        -4.0            0  \n\n[60880 rows x 29 columns]",
      "text/html": "<div>\n<style scoped>\n    .dataframe tbody tr th:only-of-type {\n        vertical-align: middle;\n    }\n\n    .dataframe tbody tr th {\n        vertical-align: top;\n    }\n\n    .dataframe thead th {\n        text-align: right;\n    }\n</style>\n<table border=\"1\" class=\"dataframe\">\n  <thead>\n    <tr style=\"text-align: right;\">\n      <th></th>\n      <th>SEASON_ID</th>\n      <th>TEAM_ID</th>\n      <th>TEAM_ABBREVIATION</th>\n      <th>TEAM_NAME</th>\n      <th>GAME_ID</th>\n      <th>GAME_DATE</th>\n      <th>MATCHUP</th>\n      <th>WL</th>\n      <th>MIN</th>\n      <th>PTS</th>\n      <th>...</th>\n      <th>OREB</th>\n      <th>DREB</th>\n      <th>REB</th>\n      <th>AST</th>\n      <th>STL</th>\n      <th>BLK</th>\n      <th>TOV</th>\n      <th>PF</th>\n      <th>PLUS_MINUS</th>\n      <th>IS_HOME_TEAM</th>\n    </tr>\n  </thead>\n  <tbody>\n    <tr>\n      <th>0</th>\n      <td>22000</td>\n      <td>1610612737</td>\n      <td>ATL</td>\n      <td>Atlanta Hawks</td>\n      <td>0020001172</td>\n      <td>2001-04-17</td>\n      <td>ATL vs. WAS</td>\n      <td>W</td>\n      <td>240</td>\n      <td>122</td>\n      <td>...</td>\n      <td>19</td>\n      <td>26</td>\n      <td>45</td>\n      <td>22</td>\n      <td>10</td>\n      <td>5</td>\n      <td>13</td>\n      <td>26</td>\n      <td>3.0</td>\n      <td>1</td>\n    </tr>\n    <tr>\n      <th>1</th>\n      <td>22000</td>\n      <td>1610612737</td>\n      <td>ATL</td>\n      <td>Atlanta Hawks</td>\n      <td>0020001165</td>\n      <td>2001-04-16</td>\n      <td>ATL vs. CHH</td>\n      <td>L</td>\n      <td>239</td>\n      <td>83</td>\n      <td>...</td>\n      <td>11</td>\n      <td>26</td>\n      <td>37</td>\n      <td>22</td>\n      <td>10</td>\n      <td>2</td>\n      <td>17</td>\n      <td>21</td>\n      <td>-23.0</td>\n      <td>0</td>\n    </tr>\n    <tr>\n      <th>2</th>\n      <td>22000</td>\n      <td>1610612737</td>\n      <td>ATL</td>\n      <td>Atlanta Hawks</td>\n      <td>0020001149</td>\n      <td>2001-04-14</td>\n      <td>ATL vs. DET</td>\n      <td>L</td>\n      <td>265</td>\n      <td>124</td>\n      <td>...</td>\n      <td>15</td>\n      <td>35</td>\n      <td>50</td>\n      <td>29</td>\n      <td>11</td>\n      <td>5</td>\n      <td>18</td>\n      <td>36</td>\n      <td>-5.0</td>\n      <td>1</td>\n    </tr>\n    <tr>\n      <th>3</th>\n      <td>22000</td>\n      <td>1610612737</td>\n      <td>ATL</td>\n      <td>Atlanta Hawks</td>\n      <td>0020001138</td>\n      <td>2001-04-13</td>\n      <td>ATL vs. NYK</td>\n      <td>L</td>\n      <td>240</td>\n      <td>65</td>\n      <td>...</td>\n      <td>11</td>\n      <td>23</td>\n      <td>34</td>\n      <td>15</td>\n      <td>7</td>\n      <td>3</td>\n      <td>21</td>\n      <td>19</td>\n      <td>-36.0</td>\n      <td>0</td>\n    </tr>\n    <tr>\n      <th>4</th>\n      <td>22000</td>\n      <td>1610612737</td>\n      <td>ATL</td>\n      <td>Atlanta Hawks</td>\n      <td>0020001127</td>\n      <td>2001-04-11</td>\n      <td>ATL vs. CLE</td>\n      <td>W</td>\n      <td>240</td>\n      <td>107</td>\n      <td>...</td>\n      <td>17</td>\n      <td>24</td>\n      <td>41</td>\n      <td>26</td>\n      <td>8</td>\n      <td>7</td>\n      <td>14</td>\n      <td>29</td>\n      <td>5.0</td>\n      <td>1</td>\n    </tr>\n    <tr>\n      <th>...</th>\n      <td>...</td>\n      <td>...</td>\n      <td>...</td>\n      <td>...</td>\n      <td>...</td>\n      <td>...</td>\n      <td>...</td>\n      <td>...</td>\n      <td>...</td>\n      <td>...</td>\n      <td>...</td>\n      <td>...</td>\n      <td>...</td>\n      <td>...</td>\n      <td>...</td>\n      <td>...</td>\n      <td>...</td>\n      <td>...</td>\n      <td>...</td>\n      <td>...</td>\n      <td>...</td>\n    </tr>\n    <tr>\n      <th>35</th>\n      <td>22023</td>\n      <td>1610612766</td>\n      <td>CHA</td>\n      <td>Charlotte Hornets</td>\n      <td>0022300063</td>\n      <td>2023-10-25</td>\n      <td>CHA vs. ATL</td>\n      <td>W</td>\n      <td>240</td>\n      <td>116</td>\n      <td>...</td>\n      <td>12</td>\n      <td>39</td>\n      <td>51</td>\n      <td>34</td>\n      <td>5</td>\n      <td>3</td>\n      <td>19</td>\n      <td>21</td>\n      <td>6.0</td>\n      <td>1</td>\n    </tr>\n    <tr>\n      <th>36</th>\n      <td>12023</td>\n      <td>1610612766</td>\n      <td>CHA</td>\n      <td>Charlotte Hornets</td>\n      <td>0012300060</td>\n      <td>2023-10-19</td>\n      <td>CHA vs. BOS</td>\n      <td>L</td>\n      <td>241</td>\n      <td>99</td>\n      <td>...</td>\n      <td>10</td>\n      <td>39</td>\n      <td>49</td>\n      <td>24</td>\n      <td>8</td>\n      <td>5</td>\n      <td>24</td>\n      <td>17</td>\n      <td>-28.0</td>\n      <td>1</td>\n    </tr>\n    <tr>\n      <th>37</th>\n      <td>12023</td>\n      <td>1610612766</td>\n      <td>CHA</td>\n      <td>Charlotte Hornets</td>\n      <td>0012300038</td>\n      <td>2023-10-15</td>\n      <td>CHA vs. OKC</td>\n      <td>W</td>\n      <td>241</td>\n      <td>117</td>\n      <td>...</td>\n      <td>8</td>\n      <td>35</td>\n      <td>43</td>\n      <td>28</td>\n      <td>10</td>\n      <td>7</td>\n      <td>12</td>\n      <td>15</td>\n      <td>2.0</td>\n      <td>1</td>\n    </tr>\n    <tr>\n      <th>38</th>\n      <td>12023</td>\n      <td>1610612766</td>\n      <td>CHA</td>\n      <td>Charlotte Hornets</td>\n      <td>0012300025</td>\n      <td>2023-10-12</td>\n      <td>CHA vs. WAS</td>\n      <td>L</td>\n      <td>241</td>\n      <td>92</td>\n      <td>...</td>\n      <td>16</td>\n      <td>50</td>\n      <td>66</td>\n      <td>19</td>\n      <td>9</td>\n      <td>9</td>\n      <td>23</td>\n      <td>24</td>\n      <td>-6.0</td>\n      <td>0</td>\n    </tr>\n    <tr>\n      <th>39</th>\n      <td>12023</td>\n      <td>1610612766</td>\n      <td>CHA</td>\n      <td>Charlotte Hornets</td>\n      <td>0012300016</td>\n      <td>2023-10-10</td>\n      <td>CHA vs. MIA</td>\n      <td>L</td>\n      <td>239</td>\n      <td>109</td>\n      <td>...</td>\n      <td>14</td>\n      <td>38</td>\n      <td>52</td>\n      <td>19</td>\n      <td>10</td>\n      <td>4</td>\n      <td>16</td>\n      <td>20</td>\n      <td>-4.0</td>\n      <td>0</td>\n    </tr>\n  </tbody>\n</table>\n<p>60880 rows × 29 columns</p>\n</div>"
     },
     "execution_count": 234,
     "metadata": {},
     "output_type": "execute_result"
    }
   ],
   "source": [
    "# Don't run twice, or else you have to rerun above cell\n",
    "cleaned_games = game_schedules\n",
    "cleaned_games['IS_HOME_TEAM'] = cleaned_games['MATCHUP'].str.contains('vs.').astype(int)\n",
    "cleaned_games['MATCHUP'] = cleaned_games['MATCHUP'].str.replace('@', 'vs.')\n",
    "cleaned_games"
   ],
   "metadata": {
    "collapsed": false,
    "ExecuteTime": {
     "end_time": "2024-01-13T02:14:17.868932Z",
     "start_time": "2024-01-13T02:14:17.842944Z"
    }
   }
  },
  {
   "cell_type": "code",
   "execution_count": 235,
   "outputs": [
    {
     "data": {
      "text/plain": "               TEAM_ID TEAM_ABBREVIATION     GAME_ID      MATCHUP WL  MIN  \\\nGAME_DATE                                                                   \n2001-04-17  1610612737               ATL  0020001172  ATL vs. WAS  W  240   \n2001-04-16  1610612737               ATL  0020001165  ATL vs. CHH  L  239   \n2001-04-14  1610612737               ATL  0020001149  ATL vs. DET  L  265   \n2001-04-13  1610612737               ATL  0020001138  ATL vs. NYK  L  240   \n2001-04-11  1610612737               ATL  0020001127  ATL vs. CLE  W  240   \n...                ...               ...         ...          ... ..  ...   \n2023-10-25  1610612766               CHA  0022300063  CHA vs. ATL  W  240   \n2023-10-19  1610612766               CHA  0012300060  CHA vs. BOS  L  241   \n2023-10-15  1610612766               CHA  0012300038  CHA vs. OKC  W  241   \n2023-10-12  1610612766               CHA  0012300025  CHA vs. WAS  L  241   \n2023-10-10  1610612766               CHA  0012300016  CHA vs. MIA  L  239   \n\n            PTS FGM FGA  FG_PCT  ... DREB REB  AST STL BLK  TOV  PF  \\\nGAME_DATE                        ...                                  \n2001-04-17  122  45  99   0.455  ...   26  45   22  10   5   13  26   \n2001-04-16   83  34  85   0.400  ...   26  37   22  10   2   17  21   \n2001-04-14  124  46  97   0.474  ...   35  50   29  11   5   18  36   \n2001-04-13   65  26  71   0.366  ...   23  34   15   7   3   21  19   \n2001-04-11  107  42  86   0.488  ...   24  41   26   8   7   14  29   \n...         ...  ..  ..     ...  ...  ...  ..  ...  ..  ..  ...  ..   \n2023-10-25  116  43  86   0.500  ...   39  51   34   5   3   19  21   \n2023-10-19   99  37  88   0.420  ...   39  49   24   8   5   24  17   \n2023-10-15  117  46  88   0.523  ...   35  43   28  10   7   12  15   \n2023-10-12   92  35  94   0.372  ...   50  66   19   9   9   23  24   \n2023-10-10  109  36  93   0.387  ...   38  52   19  10   4   16  20   \n\n           PLUS_MINUS IS_HOME_TEAM    OPPONENT  \nGAME_DATE                                       \n2001-04-17        3.0            1  1610612764  \n2001-04-16      -23.0            0  1610612766  \n2001-04-14       -5.0            1  1610612765  \n2001-04-13      -36.0            0  1610612752  \n2001-04-11        5.0            1  1610612739  \n...               ...          ...         ...  \n2023-10-25        6.0            1  1610612737  \n2023-10-19      -28.0            1  1610612738  \n2023-10-15        2.0            1  1610612760  \n2023-10-12       -6.0            0  1610612764  \n2023-10-10       -4.0            0  1610612748  \n\n[60754 rows x 27 columns]",
      "text/html": "<div>\n<style scoped>\n    .dataframe tbody tr th:only-of-type {\n        vertical-align: middle;\n    }\n\n    .dataframe tbody tr th {\n        vertical-align: top;\n    }\n\n    .dataframe thead th {\n        text-align: right;\n    }\n</style>\n<table border=\"1\" class=\"dataframe\">\n  <thead>\n    <tr style=\"text-align: right;\">\n      <th></th>\n      <th>TEAM_ID</th>\n      <th>TEAM_ABBREVIATION</th>\n      <th>GAME_ID</th>\n      <th>MATCHUP</th>\n      <th>WL</th>\n      <th>MIN</th>\n      <th>PTS</th>\n      <th>FGM</th>\n      <th>FGA</th>\n      <th>FG_PCT</th>\n      <th>...</th>\n      <th>DREB</th>\n      <th>REB</th>\n      <th>AST</th>\n      <th>STL</th>\n      <th>BLK</th>\n      <th>TOV</th>\n      <th>PF</th>\n      <th>PLUS_MINUS</th>\n      <th>IS_HOME_TEAM</th>\n      <th>OPPONENT</th>\n    </tr>\n    <tr>\n      <th>GAME_DATE</th>\n      <th></th>\n      <th></th>\n      <th></th>\n      <th></th>\n      <th></th>\n      <th></th>\n      <th></th>\n      <th></th>\n      <th></th>\n      <th></th>\n      <th></th>\n      <th></th>\n      <th></th>\n      <th></th>\n      <th></th>\n      <th></th>\n      <th></th>\n      <th></th>\n      <th></th>\n      <th></th>\n      <th></th>\n    </tr>\n  </thead>\n  <tbody>\n    <tr>\n      <th>2001-04-17</th>\n      <td>1610612737</td>\n      <td>ATL</td>\n      <td>0020001172</td>\n      <td>ATL vs. WAS</td>\n      <td>W</td>\n      <td>240</td>\n      <td>122</td>\n      <td>45</td>\n      <td>99</td>\n      <td>0.455</td>\n      <td>...</td>\n      <td>26</td>\n      <td>45</td>\n      <td>22</td>\n      <td>10</td>\n      <td>5</td>\n      <td>13</td>\n      <td>26</td>\n      <td>3.0</td>\n      <td>1</td>\n      <td>1610612764</td>\n    </tr>\n    <tr>\n      <th>2001-04-16</th>\n      <td>1610612737</td>\n      <td>ATL</td>\n      <td>0020001165</td>\n      <td>ATL vs. CHH</td>\n      <td>L</td>\n      <td>239</td>\n      <td>83</td>\n      <td>34</td>\n      <td>85</td>\n      <td>0.400</td>\n      <td>...</td>\n      <td>26</td>\n      <td>37</td>\n      <td>22</td>\n      <td>10</td>\n      <td>2</td>\n      <td>17</td>\n      <td>21</td>\n      <td>-23.0</td>\n      <td>0</td>\n      <td>1610612766</td>\n    </tr>\n    <tr>\n      <th>2001-04-14</th>\n      <td>1610612737</td>\n      <td>ATL</td>\n      <td>0020001149</td>\n      <td>ATL vs. DET</td>\n      <td>L</td>\n      <td>265</td>\n      <td>124</td>\n      <td>46</td>\n      <td>97</td>\n      <td>0.474</td>\n      <td>...</td>\n      <td>35</td>\n      <td>50</td>\n      <td>29</td>\n      <td>11</td>\n      <td>5</td>\n      <td>18</td>\n      <td>36</td>\n      <td>-5.0</td>\n      <td>1</td>\n      <td>1610612765</td>\n    </tr>\n    <tr>\n      <th>2001-04-13</th>\n      <td>1610612737</td>\n      <td>ATL</td>\n      <td>0020001138</td>\n      <td>ATL vs. NYK</td>\n      <td>L</td>\n      <td>240</td>\n      <td>65</td>\n      <td>26</td>\n      <td>71</td>\n      <td>0.366</td>\n      <td>...</td>\n      <td>23</td>\n      <td>34</td>\n      <td>15</td>\n      <td>7</td>\n      <td>3</td>\n      <td>21</td>\n      <td>19</td>\n      <td>-36.0</td>\n      <td>0</td>\n      <td>1610612752</td>\n    </tr>\n    <tr>\n      <th>2001-04-11</th>\n      <td>1610612737</td>\n      <td>ATL</td>\n      <td>0020001127</td>\n      <td>ATL vs. CLE</td>\n      <td>W</td>\n      <td>240</td>\n      <td>107</td>\n      <td>42</td>\n      <td>86</td>\n      <td>0.488</td>\n      <td>...</td>\n      <td>24</td>\n      <td>41</td>\n      <td>26</td>\n      <td>8</td>\n      <td>7</td>\n      <td>14</td>\n      <td>29</td>\n      <td>5.0</td>\n      <td>1</td>\n      <td>1610612739</td>\n    </tr>\n    <tr>\n      <th>...</th>\n      <td>...</td>\n      <td>...</td>\n      <td>...</td>\n      <td>...</td>\n      <td>...</td>\n      <td>...</td>\n      <td>...</td>\n      <td>...</td>\n      <td>...</td>\n      <td>...</td>\n      <td>...</td>\n      <td>...</td>\n      <td>...</td>\n      <td>...</td>\n      <td>...</td>\n      <td>...</td>\n      <td>...</td>\n      <td>...</td>\n      <td>...</td>\n      <td>...</td>\n      <td>...</td>\n    </tr>\n    <tr>\n      <th>2023-10-25</th>\n      <td>1610612766</td>\n      <td>CHA</td>\n      <td>0022300063</td>\n      <td>CHA vs. ATL</td>\n      <td>W</td>\n      <td>240</td>\n      <td>116</td>\n      <td>43</td>\n      <td>86</td>\n      <td>0.500</td>\n      <td>...</td>\n      <td>39</td>\n      <td>51</td>\n      <td>34</td>\n      <td>5</td>\n      <td>3</td>\n      <td>19</td>\n      <td>21</td>\n      <td>6.0</td>\n      <td>1</td>\n      <td>1610612737</td>\n    </tr>\n    <tr>\n      <th>2023-10-19</th>\n      <td>1610612766</td>\n      <td>CHA</td>\n      <td>0012300060</td>\n      <td>CHA vs. BOS</td>\n      <td>L</td>\n      <td>241</td>\n      <td>99</td>\n      <td>37</td>\n      <td>88</td>\n      <td>0.420</td>\n      <td>...</td>\n      <td>39</td>\n      <td>49</td>\n      <td>24</td>\n      <td>8</td>\n      <td>5</td>\n      <td>24</td>\n      <td>17</td>\n      <td>-28.0</td>\n      <td>1</td>\n      <td>1610612738</td>\n    </tr>\n    <tr>\n      <th>2023-10-15</th>\n      <td>1610612766</td>\n      <td>CHA</td>\n      <td>0012300038</td>\n      <td>CHA vs. OKC</td>\n      <td>W</td>\n      <td>241</td>\n      <td>117</td>\n      <td>46</td>\n      <td>88</td>\n      <td>0.523</td>\n      <td>...</td>\n      <td>35</td>\n      <td>43</td>\n      <td>28</td>\n      <td>10</td>\n      <td>7</td>\n      <td>12</td>\n      <td>15</td>\n      <td>2.0</td>\n      <td>1</td>\n      <td>1610612760</td>\n    </tr>\n    <tr>\n      <th>2023-10-12</th>\n      <td>1610612766</td>\n      <td>CHA</td>\n      <td>0012300025</td>\n      <td>CHA vs. WAS</td>\n      <td>L</td>\n      <td>241</td>\n      <td>92</td>\n      <td>35</td>\n      <td>94</td>\n      <td>0.372</td>\n      <td>...</td>\n      <td>50</td>\n      <td>66</td>\n      <td>19</td>\n      <td>9</td>\n      <td>9</td>\n      <td>23</td>\n      <td>24</td>\n      <td>-6.0</td>\n      <td>0</td>\n      <td>1610612764</td>\n    </tr>\n    <tr>\n      <th>2023-10-10</th>\n      <td>1610612766</td>\n      <td>CHA</td>\n      <td>0012300016</td>\n      <td>CHA vs. MIA</td>\n      <td>L</td>\n      <td>239</td>\n      <td>109</td>\n      <td>36</td>\n      <td>93</td>\n      <td>0.387</td>\n      <td>...</td>\n      <td>38</td>\n      <td>52</td>\n      <td>19</td>\n      <td>10</td>\n      <td>4</td>\n      <td>16</td>\n      <td>20</td>\n      <td>-4.0</td>\n      <td>0</td>\n      <td>1610612748</td>\n    </tr>\n  </tbody>\n</table>\n<p>60754 rows × 27 columns</p>\n</div>"
     },
     "execution_count": 235,
     "metadata": {},
     "output_type": "execute_result"
    }
   ],
   "source": [
    "team_stats = cleaned_games.drop(['SEASON_ID', 'TEAM_NAME'], axis=1)\n",
    "team_stats = team_stats.set_index(['GAME_DATE'])\n",
    "team_stats['OPPONENT'] = team_stats['MATCHUP'].str[-3:]\n",
    "masking_dict = dict(zip(team_stats['TEAM_ABBREVIATION'], team_stats['TEAM_ID']))\n",
    "team_stats['OPPONENT'].replace(masking_dict, inplace=True)\n",
    "team_stats = team_stats[team_stats['OPPONENT'].isin(masking_dict.values())]\n",
    "team_stats"
   ],
   "metadata": {
    "collapsed": false,
    "ExecuteTime": {
     "end_time": "2024-01-13T02:14:18.858693Z",
     "start_time": "2024-01-13T02:14:18.687349Z"
    }
   }
  },
  {
   "cell_type": "code",
   "execution_count": 236,
   "outputs": [
    {
     "data": {
      "text/plain": "               TEAM_ID     GAME_ID  MIN  PTS FGM FGA  FG_PCT FG3M FG3A  \\\nGAME_DATE                                                                \n2001-04-17  1610612737  0020001172  240  122  45  99   0.455    8   20   \n2001-04-16  1610612737  0020001165  239   83  34  85   0.400    4   12   \n2001-04-14  1610612737  0020001149  265  124  46  97   0.474    3   14   \n2001-04-13  1610612737  0020001138  240   65  26  71   0.366    2   10   \n2001-04-11  1610612737  0020001127  240  107  42  86   0.488    5   14   \n...                ...         ...  ...  ...  ..  ..     ...  ...  ...   \n2023-10-25  1610612766  0022300063  240  116  43  86   0.500   11   37   \n2023-10-19  1610612766  0012300060  241   99  37  88   0.420    4   28   \n2023-10-15  1610612766  0012300038  241  117  46  88   0.523   12   38   \n2023-10-12  1610612766  0012300025  241   92  35  94   0.372    6   30   \n2023-10-10  1610612766  0012300016  239  109  36  93   0.387   10   38   \n\n            FG3_PCT  ... DREB REB  AST STL BLK TOV  PF PLUS_MINUS  \\\nGAME_DATE            ...                                            \n2001-04-17    0.400  ...   26  45   22  10   5  13  26        3.0   \n2001-04-16    0.333  ...   26  37   22  10   2  17  21      -23.0   \n2001-04-14    0.214  ...   35  50   29  11   5  18  36       -5.0   \n2001-04-13    0.200  ...   23  34   15   7   3  21  19      -36.0   \n2001-04-11    0.357  ...   24  41   26   8   7  14  29        5.0   \n...             ...  ...  ...  ..  ...  ..  ..  ..  ..        ...   \n2023-10-25    0.297  ...   39  51   34   5   3  19  21        6.0   \n2023-10-19    0.143  ...   39  49   24   8   5  24  17      -28.0   \n2023-10-15    0.316  ...   35  43   28  10   7  12  15        2.0   \n2023-10-12    0.200  ...   50  66   19   9   9  23  24       -6.0   \n2023-10-10    0.263  ...   38  52   19  10   4  16  20       -4.0   \n\n           IS_HOME_TEAM    OPPONENT  \nGAME_DATE                            \n2001-04-17            1  1610612764  \n2001-04-16            0  1610612766  \n2001-04-14            1  1610612765  \n2001-04-13            0  1610612752  \n2001-04-11            1  1610612739  \n...                 ...         ...  \n2023-10-25            1  1610612737  \n2023-10-19            1  1610612738  \n2023-10-15            1  1610612760  \n2023-10-12            0  1610612764  \n2023-10-10            0  1610612748  \n\n[60754 rows x 24 columns]",
      "text/html": "<div>\n<style scoped>\n    .dataframe tbody tr th:only-of-type {\n        vertical-align: middle;\n    }\n\n    .dataframe tbody tr th {\n        vertical-align: top;\n    }\n\n    .dataframe thead th {\n        text-align: right;\n    }\n</style>\n<table border=\"1\" class=\"dataframe\">\n  <thead>\n    <tr style=\"text-align: right;\">\n      <th></th>\n      <th>TEAM_ID</th>\n      <th>GAME_ID</th>\n      <th>MIN</th>\n      <th>PTS</th>\n      <th>FGM</th>\n      <th>FGA</th>\n      <th>FG_PCT</th>\n      <th>FG3M</th>\n      <th>FG3A</th>\n      <th>FG3_PCT</th>\n      <th>...</th>\n      <th>DREB</th>\n      <th>REB</th>\n      <th>AST</th>\n      <th>STL</th>\n      <th>BLK</th>\n      <th>TOV</th>\n      <th>PF</th>\n      <th>PLUS_MINUS</th>\n      <th>IS_HOME_TEAM</th>\n      <th>OPPONENT</th>\n    </tr>\n    <tr>\n      <th>GAME_DATE</th>\n      <th></th>\n      <th></th>\n      <th></th>\n      <th></th>\n      <th></th>\n      <th></th>\n      <th></th>\n      <th></th>\n      <th></th>\n      <th></th>\n      <th></th>\n      <th></th>\n      <th></th>\n      <th></th>\n      <th></th>\n      <th></th>\n      <th></th>\n      <th></th>\n      <th></th>\n      <th></th>\n      <th></th>\n    </tr>\n  </thead>\n  <tbody>\n    <tr>\n      <th>2001-04-17</th>\n      <td>1610612737</td>\n      <td>0020001172</td>\n      <td>240</td>\n      <td>122</td>\n      <td>45</td>\n      <td>99</td>\n      <td>0.455</td>\n      <td>8</td>\n      <td>20</td>\n      <td>0.400</td>\n      <td>...</td>\n      <td>26</td>\n      <td>45</td>\n      <td>22</td>\n      <td>10</td>\n      <td>5</td>\n      <td>13</td>\n      <td>26</td>\n      <td>3.0</td>\n      <td>1</td>\n      <td>1610612764</td>\n    </tr>\n    <tr>\n      <th>2001-04-16</th>\n      <td>1610612737</td>\n      <td>0020001165</td>\n      <td>239</td>\n      <td>83</td>\n      <td>34</td>\n      <td>85</td>\n      <td>0.400</td>\n      <td>4</td>\n      <td>12</td>\n      <td>0.333</td>\n      <td>...</td>\n      <td>26</td>\n      <td>37</td>\n      <td>22</td>\n      <td>10</td>\n      <td>2</td>\n      <td>17</td>\n      <td>21</td>\n      <td>-23.0</td>\n      <td>0</td>\n      <td>1610612766</td>\n    </tr>\n    <tr>\n      <th>2001-04-14</th>\n      <td>1610612737</td>\n      <td>0020001149</td>\n      <td>265</td>\n      <td>124</td>\n      <td>46</td>\n      <td>97</td>\n      <td>0.474</td>\n      <td>3</td>\n      <td>14</td>\n      <td>0.214</td>\n      <td>...</td>\n      <td>35</td>\n      <td>50</td>\n      <td>29</td>\n      <td>11</td>\n      <td>5</td>\n      <td>18</td>\n      <td>36</td>\n      <td>-5.0</td>\n      <td>1</td>\n      <td>1610612765</td>\n    </tr>\n    <tr>\n      <th>2001-04-13</th>\n      <td>1610612737</td>\n      <td>0020001138</td>\n      <td>240</td>\n      <td>65</td>\n      <td>26</td>\n      <td>71</td>\n      <td>0.366</td>\n      <td>2</td>\n      <td>10</td>\n      <td>0.200</td>\n      <td>...</td>\n      <td>23</td>\n      <td>34</td>\n      <td>15</td>\n      <td>7</td>\n      <td>3</td>\n      <td>21</td>\n      <td>19</td>\n      <td>-36.0</td>\n      <td>0</td>\n      <td>1610612752</td>\n    </tr>\n    <tr>\n      <th>2001-04-11</th>\n      <td>1610612737</td>\n      <td>0020001127</td>\n      <td>240</td>\n      <td>107</td>\n      <td>42</td>\n      <td>86</td>\n      <td>0.488</td>\n      <td>5</td>\n      <td>14</td>\n      <td>0.357</td>\n      <td>...</td>\n      <td>24</td>\n      <td>41</td>\n      <td>26</td>\n      <td>8</td>\n      <td>7</td>\n      <td>14</td>\n      <td>29</td>\n      <td>5.0</td>\n      <td>1</td>\n      <td>1610612739</td>\n    </tr>\n    <tr>\n      <th>...</th>\n      <td>...</td>\n      <td>...</td>\n      <td>...</td>\n      <td>...</td>\n      <td>...</td>\n      <td>...</td>\n      <td>...</td>\n      <td>...</td>\n      <td>...</td>\n      <td>...</td>\n      <td>...</td>\n      <td>...</td>\n      <td>...</td>\n      <td>...</td>\n      <td>...</td>\n      <td>...</td>\n      <td>...</td>\n      <td>...</td>\n      <td>...</td>\n      <td>...</td>\n      <td>...</td>\n    </tr>\n    <tr>\n      <th>2023-10-25</th>\n      <td>1610612766</td>\n      <td>0022300063</td>\n      <td>240</td>\n      <td>116</td>\n      <td>43</td>\n      <td>86</td>\n      <td>0.500</td>\n      <td>11</td>\n      <td>37</td>\n      <td>0.297</td>\n      <td>...</td>\n      <td>39</td>\n      <td>51</td>\n      <td>34</td>\n      <td>5</td>\n      <td>3</td>\n      <td>19</td>\n      <td>21</td>\n      <td>6.0</td>\n      <td>1</td>\n      <td>1610612737</td>\n    </tr>\n    <tr>\n      <th>2023-10-19</th>\n      <td>1610612766</td>\n      <td>0012300060</td>\n      <td>241</td>\n      <td>99</td>\n      <td>37</td>\n      <td>88</td>\n      <td>0.420</td>\n      <td>4</td>\n      <td>28</td>\n      <td>0.143</td>\n      <td>...</td>\n      <td>39</td>\n      <td>49</td>\n      <td>24</td>\n      <td>8</td>\n      <td>5</td>\n      <td>24</td>\n      <td>17</td>\n      <td>-28.0</td>\n      <td>1</td>\n      <td>1610612738</td>\n    </tr>\n    <tr>\n      <th>2023-10-15</th>\n      <td>1610612766</td>\n      <td>0012300038</td>\n      <td>241</td>\n      <td>117</td>\n      <td>46</td>\n      <td>88</td>\n      <td>0.523</td>\n      <td>12</td>\n      <td>38</td>\n      <td>0.316</td>\n      <td>...</td>\n      <td>35</td>\n      <td>43</td>\n      <td>28</td>\n      <td>10</td>\n      <td>7</td>\n      <td>12</td>\n      <td>15</td>\n      <td>2.0</td>\n      <td>1</td>\n      <td>1610612760</td>\n    </tr>\n    <tr>\n      <th>2023-10-12</th>\n      <td>1610612766</td>\n      <td>0012300025</td>\n      <td>241</td>\n      <td>92</td>\n      <td>35</td>\n      <td>94</td>\n      <td>0.372</td>\n      <td>6</td>\n      <td>30</td>\n      <td>0.200</td>\n      <td>...</td>\n      <td>50</td>\n      <td>66</td>\n      <td>19</td>\n      <td>9</td>\n      <td>9</td>\n      <td>23</td>\n      <td>24</td>\n      <td>-6.0</td>\n      <td>0</td>\n      <td>1610612764</td>\n    </tr>\n    <tr>\n      <th>2023-10-10</th>\n      <td>1610612766</td>\n      <td>0012300016</td>\n      <td>239</td>\n      <td>109</td>\n      <td>36</td>\n      <td>93</td>\n      <td>0.387</td>\n      <td>10</td>\n      <td>38</td>\n      <td>0.263</td>\n      <td>...</td>\n      <td>38</td>\n      <td>52</td>\n      <td>19</td>\n      <td>10</td>\n      <td>4</td>\n      <td>16</td>\n      <td>20</td>\n      <td>-4.0</td>\n      <td>0</td>\n      <td>1610612748</td>\n    </tr>\n  </tbody>\n</table>\n<p>60754 rows × 24 columns</p>\n</div>"
     },
     "execution_count": 236,
     "metadata": {},
     "output_type": "execute_result"
    }
   ],
   "source": [
    "model_data = team_stats.drop(['TEAM_ABBREVIATION', 'MATCHUP', 'WL'], axis=1)\n",
    "model_data"
   ],
   "metadata": {
    "collapsed": false,
    "ExecuteTime": {
     "end_time": "2024-01-13T02:14:19.537288Z",
     "start_time": "2024-01-13T02:14:19.468479Z"
    }
   }
  },
  {
   "cell_type": "code",
   "execution_count": 237,
   "outputs": [
    {
     "data": {
      "text/plain": "        GAME_DATE     TEAM_ID     GAME_ID  PLUS_MINUS    OPPONENT  \\\n0      2000-10-31  1610612737  0020000004       -24.0  1610612766   \n1      2000-11-02  1610612737  0020000021       -25.0  1610612752   \n2      2000-11-04  1610612737  0020000036        -3.0  1610612753   \n3      2000-11-06  1610612737  0020000054       -10.0  1610612763   \n4      2000-11-07  1610612737  0020000060        -9.0  1610612757   \n...           ...         ...         ...         ...         ...   \n60749  2024-01-02  1610612766  0022300464         7.0  1610612758   \n60750  2024-01-05  1610612766  0022300484       -13.0  1610612741   \n60751  2024-01-08  1610612766  0022300506        -7.0  1610612741   \n60752  2024-01-10  1610612766  0022300518       -25.0  1610612758   \n60753  2024-01-12  1610612766  0022300541       -17.0  1610612759   \n\n      GAME_ID_past_1 MIN_past_1 PTS_past_1 FGM_past_1 FGA_past_1  ...  \\\n0                NaN        NaN        NaN        NaN        NaN  ...   \n1         0020000004        241         82         30         81  ...   \n2         0020000021        239         69         26         78  ...   \n3         0020000036        240        104         39         88  ...   \n4         0020000054        241         87         32         80  ...   \n...              ...        ...        ...        ...        ...  ...   \n60749     0022300455        240         93         36         86  ...   \n60750     0022300464        239        111         42         82  ...   \n60751     0022300484        240         91         36         89  ...   \n60752     0022300506        265        112         40         94  ...   \n60753     0022300518        240         98         35         87  ...   \n\n       DREB_past_5 REB_past_5 AST_past_5  STL_past_5 BLK_past_5 TOV_past_5  \\\n0              NaN        NaN        NaN         NaN        NaN        NaN   \n1              NaN        NaN        NaN         NaN        NaN        NaN   \n2              NaN        NaN        NaN         NaN        NaN        NaN   \n3              NaN        NaN        NaN         NaN        NaN        NaN   \n4              NaN        NaN        NaN         NaN        NaN        NaN   \n...            ...        ...        ...         ...        ...        ...   \n60749           34         47         23           8         11         17   \n60750           34         42         31           8          6         11   \n60751           35         43         29           5          5         19   \n60752           18         26         32           5          3          6   \n60753           37         45         24           4          5         12   \n\n       PF_past_5 PLUS_MINUS_past_5 IS_HOME_TEAM_past_5 OPPONENT_past_5  \n0            NaN               NaN                 NaN             NaN  \n1            NaN               NaN                 NaN             NaN  \n2            NaN               NaN                 NaN             NaN  \n3            NaN               NaN                 NaN             NaN  \n4            NaN               NaN                 NaN             NaN  \n...          ...               ...                 ...             ...  \n60749         15              -7.0                 1.0      1610612743  \n60750         23              -9.0                 0.0      1610612746  \n60751         14             -21.0                 0.0      1610612747  \n60752         17             -14.0                 0.0      1610612756  \n60753         15             -18.0                 0.0      1610612743  \n\n[60754 rows x 120 columns]",
      "text/html": "<div>\n<style scoped>\n    .dataframe tbody tr th:only-of-type {\n        vertical-align: middle;\n    }\n\n    .dataframe tbody tr th {\n        vertical-align: top;\n    }\n\n    .dataframe thead th {\n        text-align: right;\n    }\n</style>\n<table border=\"1\" class=\"dataframe\">\n  <thead>\n    <tr style=\"text-align: right;\">\n      <th></th>\n      <th>GAME_DATE</th>\n      <th>TEAM_ID</th>\n      <th>GAME_ID</th>\n      <th>PLUS_MINUS</th>\n      <th>OPPONENT</th>\n      <th>GAME_ID_past_1</th>\n      <th>MIN_past_1</th>\n      <th>PTS_past_1</th>\n      <th>FGM_past_1</th>\n      <th>FGA_past_1</th>\n      <th>...</th>\n      <th>DREB_past_5</th>\n      <th>REB_past_5</th>\n      <th>AST_past_5</th>\n      <th>STL_past_5</th>\n      <th>BLK_past_5</th>\n      <th>TOV_past_5</th>\n      <th>PF_past_5</th>\n      <th>PLUS_MINUS_past_5</th>\n      <th>IS_HOME_TEAM_past_5</th>\n      <th>OPPONENT_past_5</th>\n    </tr>\n  </thead>\n  <tbody>\n    <tr>\n      <th>0</th>\n      <td>2000-10-31</td>\n      <td>1610612737</td>\n      <td>0020000004</td>\n      <td>-24.0</td>\n      <td>1610612766</td>\n      <td>NaN</td>\n      <td>NaN</td>\n      <td>NaN</td>\n      <td>NaN</td>\n      <td>NaN</td>\n      <td>...</td>\n      <td>NaN</td>\n      <td>NaN</td>\n      <td>NaN</td>\n      <td>NaN</td>\n      <td>NaN</td>\n      <td>NaN</td>\n      <td>NaN</td>\n      <td>NaN</td>\n      <td>NaN</td>\n      <td>NaN</td>\n    </tr>\n    <tr>\n      <th>1</th>\n      <td>2000-11-02</td>\n      <td>1610612737</td>\n      <td>0020000021</td>\n      <td>-25.0</td>\n      <td>1610612752</td>\n      <td>0020000004</td>\n      <td>241</td>\n      <td>82</td>\n      <td>30</td>\n      <td>81</td>\n      <td>...</td>\n      <td>NaN</td>\n      <td>NaN</td>\n      <td>NaN</td>\n      <td>NaN</td>\n      <td>NaN</td>\n      <td>NaN</td>\n      <td>NaN</td>\n      <td>NaN</td>\n      <td>NaN</td>\n      <td>NaN</td>\n    </tr>\n    <tr>\n      <th>2</th>\n      <td>2000-11-04</td>\n      <td>1610612737</td>\n      <td>0020000036</td>\n      <td>-3.0</td>\n      <td>1610612753</td>\n      <td>0020000021</td>\n      <td>239</td>\n      <td>69</td>\n      <td>26</td>\n      <td>78</td>\n      <td>...</td>\n      <td>NaN</td>\n      <td>NaN</td>\n      <td>NaN</td>\n      <td>NaN</td>\n      <td>NaN</td>\n      <td>NaN</td>\n      <td>NaN</td>\n      <td>NaN</td>\n      <td>NaN</td>\n      <td>NaN</td>\n    </tr>\n    <tr>\n      <th>3</th>\n      <td>2000-11-06</td>\n      <td>1610612737</td>\n      <td>0020000054</td>\n      <td>-10.0</td>\n      <td>1610612763</td>\n      <td>0020000036</td>\n      <td>240</td>\n      <td>104</td>\n      <td>39</td>\n      <td>88</td>\n      <td>...</td>\n      <td>NaN</td>\n      <td>NaN</td>\n      <td>NaN</td>\n      <td>NaN</td>\n      <td>NaN</td>\n      <td>NaN</td>\n      <td>NaN</td>\n      <td>NaN</td>\n      <td>NaN</td>\n      <td>NaN</td>\n    </tr>\n    <tr>\n      <th>4</th>\n      <td>2000-11-07</td>\n      <td>1610612737</td>\n      <td>0020000060</td>\n      <td>-9.0</td>\n      <td>1610612757</td>\n      <td>0020000054</td>\n      <td>241</td>\n      <td>87</td>\n      <td>32</td>\n      <td>80</td>\n      <td>...</td>\n      <td>NaN</td>\n      <td>NaN</td>\n      <td>NaN</td>\n      <td>NaN</td>\n      <td>NaN</td>\n      <td>NaN</td>\n      <td>NaN</td>\n      <td>NaN</td>\n      <td>NaN</td>\n      <td>NaN</td>\n    </tr>\n    <tr>\n      <th>...</th>\n      <td>...</td>\n      <td>...</td>\n      <td>...</td>\n      <td>...</td>\n      <td>...</td>\n      <td>...</td>\n      <td>...</td>\n      <td>...</td>\n      <td>...</td>\n      <td>...</td>\n      <td>...</td>\n      <td>...</td>\n      <td>...</td>\n      <td>...</td>\n      <td>...</td>\n      <td>...</td>\n      <td>...</td>\n      <td>...</td>\n      <td>...</td>\n      <td>...</td>\n      <td>...</td>\n    </tr>\n    <tr>\n      <th>60749</th>\n      <td>2024-01-02</td>\n      <td>1610612766</td>\n      <td>0022300464</td>\n      <td>7.0</td>\n      <td>1610612758</td>\n      <td>0022300455</td>\n      <td>240</td>\n      <td>93</td>\n      <td>36</td>\n      <td>86</td>\n      <td>...</td>\n      <td>34</td>\n      <td>47</td>\n      <td>23</td>\n      <td>8</td>\n      <td>11</td>\n      <td>17</td>\n      <td>15</td>\n      <td>-7.0</td>\n      <td>1.0</td>\n      <td>1610612743</td>\n    </tr>\n    <tr>\n      <th>60750</th>\n      <td>2024-01-05</td>\n      <td>1610612766</td>\n      <td>0022300484</td>\n      <td>-13.0</td>\n      <td>1610612741</td>\n      <td>0022300464</td>\n      <td>239</td>\n      <td>111</td>\n      <td>42</td>\n      <td>82</td>\n      <td>...</td>\n      <td>34</td>\n      <td>42</td>\n      <td>31</td>\n      <td>8</td>\n      <td>6</td>\n      <td>11</td>\n      <td>23</td>\n      <td>-9.0</td>\n      <td>0.0</td>\n      <td>1610612746</td>\n    </tr>\n    <tr>\n      <th>60751</th>\n      <td>2024-01-08</td>\n      <td>1610612766</td>\n      <td>0022300506</td>\n      <td>-7.0</td>\n      <td>1610612741</td>\n      <td>0022300484</td>\n      <td>240</td>\n      <td>91</td>\n      <td>36</td>\n      <td>89</td>\n      <td>...</td>\n      <td>35</td>\n      <td>43</td>\n      <td>29</td>\n      <td>5</td>\n      <td>5</td>\n      <td>19</td>\n      <td>14</td>\n      <td>-21.0</td>\n      <td>0.0</td>\n      <td>1610612747</td>\n    </tr>\n    <tr>\n      <th>60752</th>\n      <td>2024-01-10</td>\n      <td>1610612766</td>\n      <td>0022300518</td>\n      <td>-25.0</td>\n      <td>1610612758</td>\n      <td>0022300506</td>\n      <td>265</td>\n      <td>112</td>\n      <td>40</td>\n      <td>94</td>\n      <td>...</td>\n      <td>18</td>\n      <td>26</td>\n      <td>32</td>\n      <td>5</td>\n      <td>3</td>\n      <td>6</td>\n      <td>17</td>\n      <td>-14.0</td>\n      <td>0.0</td>\n      <td>1610612756</td>\n    </tr>\n    <tr>\n      <th>60753</th>\n      <td>2024-01-12</td>\n      <td>1610612766</td>\n      <td>0022300541</td>\n      <td>-17.0</td>\n      <td>1610612759</td>\n      <td>0022300518</td>\n      <td>240</td>\n      <td>98</td>\n      <td>35</td>\n      <td>87</td>\n      <td>...</td>\n      <td>37</td>\n      <td>45</td>\n      <td>24</td>\n      <td>4</td>\n      <td>5</td>\n      <td>12</td>\n      <td>15</td>\n      <td>-18.0</td>\n      <td>0.0</td>\n      <td>1610612743</td>\n    </tr>\n  </tbody>\n</table>\n<p>60754 rows × 120 columns</p>\n</div>"
     },
     "execution_count": 237,
     "metadata": {},
     "output_type": "execute_result"
    }
   ],
   "source": [
    "original = model_data.reset_index().set_index(['GAME_DATE', 'TEAM_ID']).sort_index(level=[1, 0])\n",
    "twisted_team_1 = original\n",
    "for i in range(1, 6):\n",
    "    columns = [f'{column}_past_{i}' for column in original.columns]\n",
    "    shifted = original.groupby('TEAM_ID').shift(i)\n",
    "    shifted.columns = columns\n",
    "    twisted_team_1 = pd.concat([twisted_team_1, shifted], axis=1)\n",
    "twisted_team_1.drop([column for column in original if column not in ['TEAM_ID', 'GAME_ID', 'OPPONENT', 'PLUS_MINUS']], inplace=True, axis=1)\n",
    "twisted_team_1.reset_index(inplace=True)\n",
    "twisted_team_1"
   ],
   "metadata": {
    "collapsed": false,
    "ExecuteTime": {
     "end_time": "2024-01-13T02:14:20.582757Z",
     "start_time": "2024-01-13T02:14:20.155672Z"
    }
   }
  },
  {
   "cell_type": "code",
   "execution_count": 238,
   "outputs": [],
   "source": [
    "original = model_data.reset_index().set_index(['GAME_DATE', 'OPPONENT']).sort_index(level=[1, 0])\n",
    "twisted_team_2 = original\n",
    "for i in range(1, 6):\n",
    "    columns = [f'{column}_past_{i}' for column in original.columns]\n",
    "    shifted = original.groupby('OPPONENT').shift(i)\n",
    "    shifted.columns = columns\n",
    "    twisted_team_2 = pd.concat([twisted_team_2, shifted], axis=1)\n",
    "twisted_team_2.drop([column for column in original if column not in ['TEAM_ID', 'GAME_ID', 'OPPONENT', 'MATCHUP', 'PLUS_MINUS']], inplace=True, axis=1)\n",
    "twisted_team_2.reset_index(inplace=True)"
   ],
   "metadata": {
    "collapsed": false,
    "ExecuteTime": {
     "end_time": "2024-01-13T02:14:21.458140Z",
     "start_time": "2024-01-13T02:14:21.044340Z"
    }
   }
  },
  {
   "cell_type": "code",
   "execution_count": 239,
   "outputs": [
    {
     "data": {
      "text/plain": "                       TEAM_ID_team  PLUS_MINUS_team OPPONENT_team  \\\nGAME_DATE  GAME_ID                                                   \n2000-11-09 0020000077    1610612737             -9.0    1610612756   \n2000-11-10 0020000084    1610612737             -9.0    1610612746   \n2000-11-14 0020000104    1610612737              2.0    1610612757   \n2000-11-15 0020000115    1610612737            -10.0    1610612749   \n2000-11-17 0020000126    1610612737             -7.0    1610612738   \n...                             ...              ...           ...   \n2022-12-14 0022200414    1610612765              7.0    1610612766   \n2023-02-03 0022200785    1610612765              6.0    1610612766   \n2023-02-27 0022200919    1610612765            -11.0    1610612766   \n2023-03-09 0022200992    1610612765            -10.0    1610612766   \n2023-10-27 0022300077    1610612765             12.0    1610612766   \n\n                      GAME_ID_past_1_team MIN_past_1_team PTS_past_1_team  \\\nGAME_DATE  GAME_ID                                                          \n2000-11-09 0020000077          0020000060             241              88   \n2000-11-10 0020000084          0020000077             240              79   \n2000-11-14 0020000104          0020000084             240             106   \n2000-11-15 0020000115          0020000104             241              99   \n2000-11-17 0020000126          0020000115             242              74   \n...                                   ...             ...             ...   \n2022-12-14 0022200414          0022200396             240             117   \n2023-02-03 0022200785          0022200761             240             105   \n2023-02-27 0022200919          0022200903             240              91   \n2023-03-09 0022200992          0022200769             239             117   \n2023-10-27 0022300077          0022300068             241             102   \n\n                      FGM_past_1_team FGA_past_1_team  FG_PCT_past_1_team  \\\nGAME_DATE  GAME_ID                                                          \n2000-11-09 0020000077              31              84               0.369   \n2000-11-10 0020000084              33              81               0.407   \n2000-11-14 0020000104              37              70               0.529   \n2000-11-15 0020000115              37              75               0.493   \n2000-11-17 0020000126              27              69               0.391   \n...                               ...             ...                 ...   \n2022-12-14 0022200414              43              93               0.462   \n2023-02-03 0022200785              36              79               0.456   \n2023-02-27 0022200919              38              94               0.404   \n2023-03-09 0022200992              43              84               0.512   \n2023-10-27 0022300077              41              92               0.446   \n\n                      FG3M_past_1_team  ... OREB_past_5_op  DREB_past_5_op  \\\nGAME_DATE  GAME_ID                      ...                                  \n2000-11-09 0020000077                3  ...              7              37   \n2000-11-10 0020000084                2  ...              2              34   \n2000-11-14 0020000104                6  ...             15              25   \n2000-11-15 0020000115                6  ...             14              33   \n2000-11-17 0020000126                5  ...             10              33   \n...                                ...  ...            ...             ...   \n2022-12-14 0022200414               17  ...             12              34   \n2023-02-03 0022200785               14  ...             11              37   \n2023-02-27 0022200919                6  ...             13              38   \n2023-03-09 0022200992               13  ...              7              39   \n2023-10-27 0022300077               11  ...             11              39   \n\n                      REB_past_5_op AST_past_5_op  STL_past_5_op  \\\nGAME_DATE  GAME_ID                                                 \n2000-11-09 0020000077            44            16              7   \n2000-11-10 0020000084            36            22              4   \n2000-11-14 0020000104            40            14              5   \n2000-11-15 0020000115            47            20             11   \n2000-11-17 0020000126            43            27              6   \n...                             ...           ...            ...   \n2022-12-14 0022200414            46            28              9   \n2023-02-03 0022200785            48            23             11   \n2023-02-27 0022200919            51            21              7   \n2023-03-09 0022200992            46            24              8   \n2023-10-27 0022300077            50            27              8   \n\n                      BLK_past_5_op TOV_past_5_op PF_past_5_op  \\\nGAME_DATE  GAME_ID                                               \n2000-11-09 0020000077             6            17           23   \n2000-11-10 0020000084             5            12           21   \n2000-11-14 0020000104             6            22           23   \n2000-11-15 0020000115             4            14           22   \n2000-11-17 0020000126            15            18           25   \n...                             ...           ...          ...   \n2022-12-14 0022200414             5            13           21   \n2023-02-03 0022200785             8            14           17   \n2023-02-27 0022200919             3            17           32   \n2023-03-09 0022200992             3            16           22   \n2023-10-27 0022300077             4            19           26   \n\n                      PLUS_MINUS_past_5_op IS_HOME_TEAM_past_5_op  \nGAME_DATE  GAME_ID                                                 \n2000-11-09 0020000077                 24.0                    0.0  \n2000-11-10 0020000084                 25.0                    1.0  \n2000-11-14 0020000104                  3.0                    0.0  \n2000-11-15 0020000115                 10.0                    1.0  \n2000-11-17 0020000126                  9.0                    1.0  \n...                                    ...                    ...  \n2022-12-14 0022200414                 10.0                    0.0  \n2023-02-03 0022200785                 18.0                    0.0  \n2023-02-27 0022200919                 -7.0                    0.0  \n2023-03-09 0022200992                 11.0                    1.0  \n2023-10-27 0022300077                  4.0                    0.0  \n\n[29716 rows x 233 columns]",
      "text/html": "<div>\n<style scoped>\n    .dataframe tbody tr th:only-of-type {\n        vertical-align: middle;\n    }\n\n    .dataframe tbody tr th {\n        vertical-align: top;\n    }\n\n    .dataframe thead th {\n        text-align: right;\n    }\n</style>\n<table border=\"1\" class=\"dataframe\">\n  <thead>\n    <tr style=\"text-align: right;\">\n      <th></th>\n      <th></th>\n      <th>TEAM_ID_team</th>\n      <th>PLUS_MINUS_team</th>\n      <th>OPPONENT_team</th>\n      <th>GAME_ID_past_1_team</th>\n      <th>MIN_past_1_team</th>\n      <th>PTS_past_1_team</th>\n      <th>FGM_past_1_team</th>\n      <th>FGA_past_1_team</th>\n      <th>FG_PCT_past_1_team</th>\n      <th>FG3M_past_1_team</th>\n      <th>...</th>\n      <th>OREB_past_5_op</th>\n      <th>DREB_past_5_op</th>\n      <th>REB_past_5_op</th>\n      <th>AST_past_5_op</th>\n      <th>STL_past_5_op</th>\n      <th>BLK_past_5_op</th>\n      <th>TOV_past_5_op</th>\n      <th>PF_past_5_op</th>\n      <th>PLUS_MINUS_past_5_op</th>\n      <th>IS_HOME_TEAM_past_5_op</th>\n    </tr>\n    <tr>\n      <th>GAME_DATE</th>\n      <th>GAME_ID</th>\n      <th></th>\n      <th></th>\n      <th></th>\n      <th></th>\n      <th></th>\n      <th></th>\n      <th></th>\n      <th></th>\n      <th></th>\n      <th></th>\n      <th></th>\n      <th></th>\n      <th></th>\n      <th></th>\n      <th></th>\n      <th></th>\n      <th></th>\n      <th></th>\n      <th></th>\n      <th></th>\n      <th></th>\n    </tr>\n  </thead>\n  <tbody>\n    <tr>\n      <th>2000-11-09</th>\n      <th>0020000077</th>\n      <td>1610612737</td>\n      <td>-9.0</td>\n      <td>1610612756</td>\n      <td>0020000060</td>\n      <td>241</td>\n      <td>88</td>\n      <td>31</td>\n      <td>84</td>\n      <td>0.369</td>\n      <td>3</td>\n      <td>...</td>\n      <td>7</td>\n      <td>37</td>\n      <td>44</td>\n      <td>16</td>\n      <td>7</td>\n      <td>6</td>\n      <td>17</td>\n      <td>23</td>\n      <td>24.0</td>\n      <td>0.0</td>\n    </tr>\n    <tr>\n      <th>2000-11-10</th>\n      <th>0020000084</th>\n      <td>1610612737</td>\n      <td>-9.0</td>\n      <td>1610612746</td>\n      <td>0020000077</td>\n      <td>240</td>\n      <td>79</td>\n      <td>33</td>\n      <td>81</td>\n      <td>0.407</td>\n      <td>2</td>\n      <td>...</td>\n      <td>2</td>\n      <td>34</td>\n      <td>36</td>\n      <td>22</td>\n      <td>4</td>\n      <td>5</td>\n      <td>12</td>\n      <td>21</td>\n      <td>25.0</td>\n      <td>1.0</td>\n    </tr>\n    <tr>\n      <th>2000-11-14</th>\n      <th>0020000104</th>\n      <td>1610612737</td>\n      <td>2.0</td>\n      <td>1610612757</td>\n      <td>0020000084</td>\n      <td>240</td>\n      <td>106</td>\n      <td>37</td>\n      <td>70</td>\n      <td>0.529</td>\n      <td>6</td>\n      <td>...</td>\n      <td>15</td>\n      <td>25</td>\n      <td>40</td>\n      <td>14</td>\n      <td>5</td>\n      <td>6</td>\n      <td>22</td>\n      <td>23</td>\n      <td>3.0</td>\n      <td>0.0</td>\n    </tr>\n    <tr>\n      <th>2000-11-15</th>\n      <th>0020000115</th>\n      <td>1610612737</td>\n      <td>-10.0</td>\n      <td>1610612749</td>\n      <td>0020000104</td>\n      <td>241</td>\n      <td>99</td>\n      <td>37</td>\n      <td>75</td>\n      <td>0.493</td>\n      <td>6</td>\n      <td>...</td>\n      <td>14</td>\n      <td>33</td>\n      <td>47</td>\n      <td>20</td>\n      <td>11</td>\n      <td>4</td>\n      <td>14</td>\n      <td>22</td>\n      <td>10.0</td>\n      <td>1.0</td>\n    </tr>\n    <tr>\n      <th>2000-11-17</th>\n      <th>0020000126</th>\n      <td>1610612737</td>\n      <td>-7.0</td>\n      <td>1610612738</td>\n      <td>0020000115</td>\n      <td>242</td>\n      <td>74</td>\n      <td>27</td>\n      <td>69</td>\n      <td>0.391</td>\n      <td>5</td>\n      <td>...</td>\n      <td>10</td>\n      <td>33</td>\n      <td>43</td>\n      <td>27</td>\n      <td>6</td>\n      <td>15</td>\n      <td>18</td>\n      <td>25</td>\n      <td>9.0</td>\n      <td>1.0</td>\n    </tr>\n    <tr>\n      <th>...</th>\n      <th>...</th>\n      <td>...</td>\n      <td>...</td>\n      <td>...</td>\n      <td>...</td>\n      <td>...</td>\n      <td>...</td>\n      <td>...</td>\n      <td>...</td>\n      <td>...</td>\n      <td>...</td>\n      <td>...</td>\n      <td>...</td>\n      <td>...</td>\n      <td>...</td>\n      <td>...</td>\n      <td>...</td>\n      <td>...</td>\n      <td>...</td>\n      <td>...</td>\n      <td>...</td>\n      <td>...</td>\n    </tr>\n    <tr>\n      <th>2022-12-14</th>\n      <th>0022200414</th>\n      <td>1610612765</td>\n      <td>7.0</td>\n      <td>1610612766</td>\n      <td>0022200396</td>\n      <td>240</td>\n      <td>117</td>\n      <td>43</td>\n      <td>93</td>\n      <td>0.462</td>\n      <td>17</td>\n      <td>...</td>\n      <td>12</td>\n      <td>34</td>\n      <td>46</td>\n      <td>28</td>\n      <td>9</td>\n      <td>5</td>\n      <td>13</td>\n      <td>21</td>\n      <td>10.0</td>\n      <td>0.0</td>\n    </tr>\n    <tr>\n      <th>2023-02-03</th>\n      <th>0022200785</th>\n      <td>1610612765</td>\n      <td>6.0</td>\n      <td>1610612766</td>\n      <td>0022200761</td>\n      <td>240</td>\n      <td>105</td>\n      <td>36</td>\n      <td>79</td>\n      <td>0.456</td>\n      <td>14</td>\n      <td>...</td>\n      <td>11</td>\n      <td>37</td>\n      <td>48</td>\n      <td>23</td>\n      <td>11</td>\n      <td>8</td>\n      <td>14</td>\n      <td>17</td>\n      <td>18.0</td>\n      <td>0.0</td>\n    </tr>\n    <tr>\n      <th>2023-02-27</th>\n      <th>0022200919</th>\n      <td>1610612765</td>\n      <td>-11.0</td>\n      <td>1610612766</td>\n      <td>0022200903</td>\n      <td>240</td>\n      <td>91</td>\n      <td>38</td>\n      <td>94</td>\n      <td>0.404</td>\n      <td>6</td>\n      <td>...</td>\n      <td>13</td>\n      <td>38</td>\n      <td>51</td>\n      <td>21</td>\n      <td>7</td>\n      <td>3</td>\n      <td>17</td>\n      <td>32</td>\n      <td>-7.0</td>\n      <td>0.0</td>\n    </tr>\n    <tr>\n      <th>2023-03-09</th>\n      <th>0022200992</th>\n      <td>1610612765</td>\n      <td>-10.0</td>\n      <td>1610612766</td>\n      <td>0022200769</td>\n      <td>239</td>\n      <td>117</td>\n      <td>43</td>\n      <td>84</td>\n      <td>0.512</td>\n      <td>13</td>\n      <td>...</td>\n      <td>7</td>\n      <td>39</td>\n      <td>46</td>\n      <td>24</td>\n      <td>8</td>\n      <td>3</td>\n      <td>16</td>\n      <td>22</td>\n      <td>11.0</td>\n      <td>1.0</td>\n    </tr>\n    <tr>\n      <th>2023-10-27</th>\n      <th>0022300077</th>\n      <td>1610612765</td>\n      <td>12.0</td>\n      <td>1610612766</td>\n      <td>0022300068</td>\n      <td>241</td>\n      <td>102</td>\n      <td>41</td>\n      <td>92</td>\n      <td>0.446</td>\n      <td>11</td>\n      <td>...</td>\n      <td>11</td>\n      <td>39</td>\n      <td>50</td>\n      <td>27</td>\n      <td>8</td>\n      <td>4</td>\n      <td>19</td>\n      <td>26</td>\n      <td>4.0</td>\n      <td>0.0</td>\n    </tr>\n  </tbody>\n</table>\n<p>29716 rows × 233 columns</p>\n</div>"
     },
     "execution_count": 239,
     "metadata": {},
     "output_type": "execute_result"
    }
   ],
   "source": [
    "merged_data = twisted_team_1.merge(twisted_team_2, on=['GAME_DATE', 'GAME_ID'], how='inner', suffixes=['_team', '_op'])\n",
    "merged_data = merged_data.drop_duplicates('GAME_ID').set_index(['GAME_DATE', 'GAME_ID'])\n",
    "merged_data.drop(['PLUS_MINUS_op', 'OPPONENT_op', 'TEAM_ID_op'], axis=1, inplace=True)\n",
    "merged_data.dropna(inplace=True)\n",
    "merged_data"
   ],
   "metadata": {
    "collapsed": false,
    "ExecuteTime": {
     "end_time": "2024-01-13T02:14:23.401838Z",
     "start_time": "2024-01-13T02:14:22.443994Z"
    }
   }
  },
  {
   "cell_type": "code",
   "execution_count": 240,
   "outputs": [],
   "source": [
    "from sklearn.model_selection import train_test_split\n",
    "target_column = 'PLUS_MINUS_team'\n",
    "train_columns = [column for column in merged_data.columns if column != target_column]\n",
    "X = merged_data[train_columns]\n",
    "y = merged_data[target_column]\n",
    "X_train, X_test, y_train, y_test = train_test_split(X, y, test_size=0.3, random_state=42, shuffle=True, stratify=None)\n",
    "X_train.to_csv('test.csv')"
   ],
   "metadata": {
    "collapsed": false,
    "ExecuteTime": {
     "end_time": "2024-01-13T02:14:27.444964Z",
     "start_time": "2024-01-13T02:14:26.573729Z"
    }
   }
  },
  {
   "cell_type": "code",
   "execution_count": 242,
   "outputs": [
    {
     "data": {
      "text/plain": "0.04000848807879731"
     },
     "execution_count": 242,
     "metadata": {},
     "output_type": "execute_result"
    }
   ],
   "source": [
    "from sklearn.linear_model import Ridge\n",
    "clf = Ridge(random_state=42).fit(X_train, y_train)\n",
    "clf.score(X_test, y_test)"
   ],
   "metadata": {
    "collapsed": false,
    "ExecuteTime": {
     "end_time": "2024-01-13T02:14:45.068444Z",
     "start_time": "2024-01-13T02:14:38.993105Z"
    }
   }
  },
  {
   "cell_type": "code",
   "execution_count": 155,
   "outputs": [],
   "source": [
    "home = team_stats[team_stats['IS_HOME_TEAM'] == 1]\n",
    "away = team_stats[team_stats['IS_HOME_TEAM'] == 0]"
   ],
   "metadata": {
    "collapsed": false,
    "ExecuteTime": {
     "end_time": "2024-01-12T21:54:39.311394Z",
     "start_time": "2024-01-12T21:54:39.306985Z"
    }
   }
  },
  {
   "cell_type": "code",
   "execution_count": 25,
   "outputs": [
    {
     "data": {
      "text/plain": "             TEAM_ID_x TEAM_ABBREVIATION_x     GAME_ID    MATCHUP_x WL_x  \\\nGAME_DATE                                                                  \n2024-01-03  1610612737                 ATL  0022300467  ATL vs. OKC    W   \n2023-12-29  1610612737                 ATL  0022300431  ATL vs. SAC    L   \n2023-12-23  1610612737                 ATL  0022300393  ATL vs. MEM    L   \n2023-12-18  1610612737                 ATL  0022300352  ATL vs. DET    W   \n2023-12-11  1610612737                 ATL  0022300296  ATL vs. DEN    L   \n...                ...                 ...         ...          ...  ...   \n2023-10-30  1610612766                 CHA  0022300101  CHA vs. BKN    L   \n2023-10-27  1610612766                 CHA  0022300077  CHA vs. DET    L   \n2023-10-25  1610612766                 CHA  0022300063  CHA vs. ATL    W   \n2023-10-19  1610612766                 CHA  0012300060  CHA vs. BOS    L   \n2023-10-15  1610612766                 CHA  0012300038  CHA vs. OKC    W   \n\n            MIN_x  PTS_x  FGM_x  FGA_x  FG_PCT_x  ...  DREB_y  REB_y  AST_y  \\\nGAME_DATE                                         ...                         \n2024-01-03    240    141     48     95     0.505  ...      28     37     30   \n2023-12-29    239    110     37     94     0.394  ...      33     38     35   \n2023-12-23    239    119     45     96     0.469  ...      36     51     29   \n2023-12-18    240    130     46     85     0.541  ...      24     36     23   \n2023-12-11    240    122     44     96     0.458  ...      35     49     29   \n...           ...    ...    ...    ...       ...  ...     ...    ...    ...   \n2023-10-30    240    121     47     96     0.490  ...      36     46     25   \n2023-10-27    240     99     33     88     0.375  ...      41     53     28   \n2023-10-25    240    116     43     86     0.500  ...      30     42     24   \n2023-10-19    241     99     37     88     0.420  ...      39     55     34   \n2023-10-15    241    117     46     88     0.523  ...      33     46     30   \n\n            STL_y  BLK_y  TOV_y  PF_y  PLUS_MINUS_y  IS_HOME_TEAM_y  \\\nGAME_DATE                                                             \n2024-01-03     10      1     13    23          -3.0               0   \n2023-12-29      9      3     12    20           7.0               0   \n2023-12-23      6      7     11    16           6.0               0   \n2023-12-18      7      3     13    26          -6.0               0   \n2023-12-11      9      8     16    19           7.0               0   \n...           ...    ...    ...   ...           ...             ...   \n2023-10-30      4      8     13    19          12.0               0   \n2023-10-27      7      6     23    29          12.0               0   \n2023-10-25     12      1     12    19          -6.0               0   \n2023-10-19     22      6     15    19          28.0               0   \n2023-10-15      4      2     15    18          -2.0               0   \n\n            OPPONENT_y  \nGAME_DATE               \n2024-01-03         ATL  \n2023-12-29         ATL  \n2023-12-23         ATL  \n2023-12-18         ATL  \n2023-12-11         ATL  \n...                ...  \n2023-10-30         CHA  \n2023-10-27         CHA  \n2023-10-25         CHA  \n2023-10-19         CHA  \n2023-10-15         CHA  \n\n[610 rows x 53 columns]",
      "text/html": "<div>\n<style scoped>\n    .dataframe tbody tr th:only-of-type {\n        vertical-align: middle;\n    }\n\n    .dataframe tbody tr th {\n        vertical-align: top;\n    }\n\n    .dataframe thead th {\n        text-align: right;\n    }\n</style>\n<table border=\"1\" class=\"dataframe\">\n  <thead>\n    <tr style=\"text-align: right;\">\n      <th></th>\n      <th>TEAM_ID_x</th>\n      <th>TEAM_ABBREVIATION_x</th>\n      <th>GAME_ID</th>\n      <th>MATCHUP_x</th>\n      <th>WL_x</th>\n      <th>MIN_x</th>\n      <th>PTS_x</th>\n      <th>FGM_x</th>\n      <th>FGA_x</th>\n      <th>FG_PCT_x</th>\n      <th>...</th>\n      <th>DREB_y</th>\n      <th>REB_y</th>\n      <th>AST_y</th>\n      <th>STL_y</th>\n      <th>BLK_y</th>\n      <th>TOV_y</th>\n      <th>PF_y</th>\n      <th>PLUS_MINUS_y</th>\n      <th>IS_HOME_TEAM_y</th>\n      <th>OPPONENT_y</th>\n    </tr>\n    <tr>\n      <th>GAME_DATE</th>\n      <th></th>\n      <th></th>\n      <th></th>\n      <th></th>\n      <th></th>\n      <th></th>\n      <th></th>\n      <th></th>\n      <th></th>\n      <th></th>\n      <th></th>\n      <th></th>\n      <th></th>\n      <th></th>\n      <th></th>\n      <th></th>\n      <th></th>\n      <th></th>\n      <th></th>\n      <th></th>\n      <th></th>\n    </tr>\n  </thead>\n  <tbody>\n    <tr>\n      <th>2024-01-03</th>\n      <td>1610612737</td>\n      <td>ATL</td>\n      <td>0022300467</td>\n      <td>ATL vs. OKC</td>\n      <td>W</td>\n      <td>240</td>\n      <td>141</td>\n      <td>48</td>\n      <td>95</td>\n      <td>0.505</td>\n      <td>...</td>\n      <td>28</td>\n      <td>37</td>\n      <td>30</td>\n      <td>10</td>\n      <td>1</td>\n      <td>13</td>\n      <td>23</td>\n      <td>-3.0</td>\n      <td>0</td>\n      <td>ATL</td>\n    </tr>\n    <tr>\n      <th>2023-12-29</th>\n      <td>1610612737</td>\n      <td>ATL</td>\n      <td>0022300431</td>\n      <td>ATL vs. SAC</td>\n      <td>L</td>\n      <td>239</td>\n      <td>110</td>\n      <td>37</td>\n      <td>94</td>\n      <td>0.394</td>\n      <td>...</td>\n      <td>33</td>\n      <td>38</td>\n      <td>35</td>\n      <td>9</td>\n      <td>3</td>\n      <td>12</td>\n      <td>20</td>\n      <td>7.0</td>\n      <td>0</td>\n      <td>ATL</td>\n    </tr>\n    <tr>\n      <th>2023-12-23</th>\n      <td>1610612737</td>\n      <td>ATL</td>\n      <td>0022300393</td>\n      <td>ATL vs. MEM</td>\n      <td>L</td>\n      <td>239</td>\n      <td>119</td>\n      <td>45</td>\n      <td>96</td>\n      <td>0.469</td>\n      <td>...</td>\n      <td>36</td>\n      <td>51</td>\n      <td>29</td>\n      <td>6</td>\n      <td>7</td>\n      <td>11</td>\n      <td>16</td>\n      <td>6.0</td>\n      <td>0</td>\n      <td>ATL</td>\n    </tr>\n    <tr>\n      <th>2023-12-18</th>\n      <td>1610612737</td>\n      <td>ATL</td>\n      <td>0022300352</td>\n      <td>ATL vs. DET</td>\n      <td>W</td>\n      <td>240</td>\n      <td>130</td>\n      <td>46</td>\n      <td>85</td>\n      <td>0.541</td>\n      <td>...</td>\n      <td>24</td>\n      <td>36</td>\n      <td>23</td>\n      <td>7</td>\n      <td>3</td>\n      <td>13</td>\n      <td>26</td>\n      <td>-6.0</td>\n      <td>0</td>\n      <td>ATL</td>\n    </tr>\n    <tr>\n      <th>2023-12-11</th>\n      <td>1610612737</td>\n      <td>ATL</td>\n      <td>0022300296</td>\n      <td>ATL vs. DEN</td>\n      <td>L</td>\n      <td>240</td>\n      <td>122</td>\n      <td>44</td>\n      <td>96</td>\n      <td>0.458</td>\n      <td>...</td>\n      <td>35</td>\n      <td>49</td>\n      <td>29</td>\n      <td>9</td>\n      <td>8</td>\n      <td>16</td>\n      <td>19</td>\n      <td>7.0</td>\n      <td>0</td>\n      <td>ATL</td>\n    </tr>\n    <tr>\n      <th>...</th>\n      <td>...</td>\n      <td>...</td>\n      <td>...</td>\n      <td>...</td>\n      <td>...</td>\n      <td>...</td>\n      <td>...</td>\n      <td>...</td>\n      <td>...</td>\n      <td>...</td>\n      <td>...</td>\n      <td>...</td>\n      <td>...</td>\n      <td>...</td>\n      <td>...</td>\n      <td>...</td>\n      <td>...</td>\n      <td>...</td>\n      <td>...</td>\n      <td>...</td>\n      <td>...</td>\n    </tr>\n    <tr>\n      <th>2023-10-30</th>\n      <td>1610612766</td>\n      <td>CHA</td>\n      <td>0022300101</td>\n      <td>CHA vs. BKN</td>\n      <td>L</td>\n      <td>240</td>\n      <td>121</td>\n      <td>47</td>\n      <td>96</td>\n      <td>0.490</td>\n      <td>...</td>\n      <td>36</td>\n      <td>46</td>\n      <td>25</td>\n      <td>4</td>\n      <td>8</td>\n      <td>13</td>\n      <td>19</td>\n      <td>12.0</td>\n      <td>0</td>\n      <td>CHA</td>\n    </tr>\n    <tr>\n      <th>2023-10-27</th>\n      <td>1610612766</td>\n      <td>CHA</td>\n      <td>0022300077</td>\n      <td>CHA vs. DET</td>\n      <td>L</td>\n      <td>240</td>\n      <td>99</td>\n      <td>33</td>\n      <td>88</td>\n      <td>0.375</td>\n      <td>...</td>\n      <td>41</td>\n      <td>53</td>\n      <td>28</td>\n      <td>7</td>\n      <td>6</td>\n      <td>23</td>\n      <td>29</td>\n      <td>12.0</td>\n      <td>0</td>\n      <td>CHA</td>\n    </tr>\n    <tr>\n      <th>2023-10-25</th>\n      <td>1610612766</td>\n      <td>CHA</td>\n      <td>0022300063</td>\n      <td>CHA vs. ATL</td>\n      <td>W</td>\n      <td>240</td>\n      <td>116</td>\n      <td>43</td>\n      <td>86</td>\n      <td>0.500</td>\n      <td>...</td>\n      <td>30</td>\n      <td>42</td>\n      <td>24</td>\n      <td>12</td>\n      <td>1</td>\n      <td>12</td>\n      <td>19</td>\n      <td>-6.0</td>\n      <td>0</td>\n      <td>CHA</td>\n    </tr>\n    <tr>\n      <th>2023-10-19</th>\n      <td>1610612766</td>\n      <td>CHA</td>\n      <td>0012300060</td>\n      <td>CHA vs. BOS</td>\n      <td>L</td>\n      <td>241</td>\n      <td>99</td>\n      <td>37</td>\n      <td>88</td>\n      <td>0.420</td>\n      <td>...</td>\n      <td>39</td>\n      <td>55</td>\n      <td>34</td>\n      <td>22</td>\n      <td>6</td>\n      <td>15</td>\n      <td>19</td>\n      <td>28.0</td>\n      <td>0</td>\n      <td>CHA</td>\n    </tr>\n    <tr>\n      <th>2023-10-15</th>\n      <td>1610612766</td>\n      <td>CHA</td>\n      <td>0012300038</td>\n      <td>CHA vs. OKC</td>\n      <td>W</td>\n      <td>241</td>\n      <td>117</td>\n      <td>46</td>\n      <td>88</td>\n      <td>0.523</td>\n      <td>...</td>\n      <td>33</td>\n      <td>46</td>\n      <td>30</td>\n      <td>4</td>\n      <td>2</td>\n      <td>15</td>\n      <td>18</td>\n      <td>-2.0</td>\n      <td>0</td>\n      <td>CHA</td>\n    </tr>\n  </tbody>\n</table>\n<p>610 rows × 53 columns</p>\n</div>"
     },
     "execution_count": 25,
     "metadata": {},
     "output_type": "execute_result"
    }
   ],
   "source": [
    "merged = home.merge(away, on=['GAME_DATE','GAME_ID'], how='inner')\n",
    "merged"
   ],
   "metadata": {
    "collapsed": false,
    "ExecuteTime": {
     "end_time": "2024-01-12T01:53:00.100404Z",
     "start_time": "2024-01-12T01:53:00.080397Z"
    }
   }
  },
  {
   "cell_type": "code",
   "execution_count": 51,
   "outputs": [
    {
     "data": {
      "text/plain": "                                 TEAM_ID_x     GAME_ID    MATCHUP_x WL_x  \\\nGAME_DATE  TEAM_ABBREVIATION_x                                             \n2024-01-03 ATL                  1610612737  0022300467  ATL vs. OKC    W   \n2023-12-29 ATL                  1610612737  0022300431  ATL vs. SAC    L   \n2023-12-23 ATL                  1610612737  0022300393  ATL vs. MEM    L   \n2023-12-18 ATL                  1610612737  0022300352  ATL vs. DET    W   \n2023-12-11 ATL                  1610612737  0022300296  ATL vs. DEN    L   \n...                                    ...         ...          ...  ...   \n2023-10-30 CHA                  1610612766  0022300101  CHA vs. BKN    L   \n2023-10-27 CHA                  1610612766  0022300077  CHA vs. DET    L   \n2023-10-25 CHA                  1610612766  0022300063  CHA vs. ATL    W   \n2023-10-19 CHA                  1610612766  0012300060  CHA vs. BOS    L   \n2023-10-15 CHA                  1610612766  0012300038  CHA vs. OKC    W   \n\n                                MIN_x  PTS_x  FGM_x  FGA_x  FG_PCT_x  FG3M_x  \\\nGAME_DATE  TEAM_ABBREVIATION_x                                                 \n2024-01-03 ATL                    240    141     48     95     0.505      14   \n2023-12-29 ATL                    239    110     37     94     0.394      15   \n2023-12-23 ATL                    239    119     45     96     0.469      13   \n2023-12-18 ATL                    240    130     46     85     0.541      16   \n2023-12-11 ATL                    240    122     44     96     0.458      17   \n...                               ...    ...    ...    ...       ...     ...   \n2023-10-30 CHA                    240    121     47     96     0.490       8   \n2023-10-27 CHA                    240     99     33     88     0.375       7   \n2023-10-25 CHA                    240    116     43     86     0.500      11   \n2023-10-19 CHA                    241     99     37     88     0.420       4   \n2023-10-15 CHA                    241    117     46     88     0.523      12   \n\n                                ...  DREB_y  REB_y  AST_y  STL_y  BLK_y  \\\nGAME_DATE  TEAM_ABBREVIATION_x  ...                                       \n2024-01-03 ATL                  ...      28     37     30     10      1   \n2023-12-29 ATL                  ...      33     38     35      9      3   \n2023-12-23 ATL                  ...      36     51     29      6      7   \n2023-12-18 ATL                  ...      24     36     23      7      3   \n2023-12-11 ATL                  ...      35     49     29      9      8   \n...                             ...     ...    ...    ...    ...    ...   \n2023-10-30 CHA                  ...      36     46     25      4      8   \n2023-10-27 CHA                  ...      41     53     28      7      6   \n2023-10-25 CHA                  ...      30     42     24     12      1   \n2023-10-19 CHA                  ...      39     55     34     22      6   \n2023-10-15 CHA                  ...      33     46     30      4      2   \n\n                                TOV_y  PF_y  PLUS_MINUS_y  IS_HOME_TEAM_y  \\\nGAME_DATE  TEAM_ABBREVIATION_x                                              \n2024-01-03 ATL                     13    23          -3.0               0   \n2023-12-29 ATL                     12    20           7.0               0   \n2023-12-23 ATL                     11    16           6.0               0   \n2023-12-18 ATL                     13    26          -6.0               0   \n2023-12-11 ATL                     16    19           7.0               0   \n...                               ...   ...           ...             ...   \n2023-10-30 CHA                     13    19          12.0               0   \n2023-10-27 CHA                     23    29          12.0               0   \n2023-10-25 CHA                     12    19          -6.0               0   \n2023-10-19 CHA                     15    19          28.0               0   \n2023-10-15 CHA                     15    18          -2.0               0   \n\n                                OPPONENT_y  \nGAME_DATE  TEAM_ABBREVIATION_x              \n2024-01-03 ATL                         ATL  \n2023-12-29 ATL                         ATL  \n2023-12-23 ATL                         ATL  \n2023-12-18 ATL                         ATL  \n2023-12-11 ATL                         ATL  \n...                                    ...  \n2023-10-30 CHA                         CHA  \n2023-10-27 CHA                         CHA  \n2023-10-25 CHA                         CHA  \n2023-10-19 CHA                         CHA  \n2023-10-15 CHA                         CHA  \n\n[610 rows x 52 columns]",
      "text/html": "<div>\n<style scoped>\n    .dataframe tbody tr th:only-of-type {\n        vertical-align: middle;\n    }\n\n    .dataframe tbody tr th {\n        vertical-align: top;\n    }\n\n    .dataframe thead th {\n        text-align: right;\n    }\n</style>\n<table border=\"1\" class=\"dataframe\">\n  <thead>\n    <tr style=\"text-align: right;\">\n      <th></th>\n      <th></th>\n      <th>TEAM_ID_x</th>\n      <th>GAME_ID</th>\n      <th>MATCHUP_x</th>\n      <th>WL_x</th>\n      <th>MIN_x</th>\n      <th>PTS_x</th>\n      <th>FGM_x</th>\n      <th>FGA_x</th>\n      <th>FG_PCT_x</th>\n      <th>FG3M_x</th>\n      <th>...</th>\n      <th>DREB_y</th>\n      <th>REB_y</th>\n      <th>AST_y</th>\n      <th>STL_y</th>\n      <th>BLK_y</th>\n      <th>TOV_y</th>\n      <th>PF_y</th>\n      <th>PLUS_MINUS_y</th>\n      <th>IS_HOME_TEAM_y</th>\n      <th>OPPONENT_y</th>\n    </tr>\n    <tr>\n      <th>GAME_DATE</th>\n      <th>TEAM_ABBREVIATION_x</th>\n      <th></th>\n      <th></th>\n      <th></th>\n      <th></th>\n      <th></th>\n      <th></th>\n      <th></th>\n      <th></th>\n      <th></th>\n      <th></th>\n      <th></th>\n      <th></th>\n      <th></th>\n      <th></th>\n      <th></th>\n      <th></th>\n      <th></th>\n      <th></th>\n      <th></th>\n      <th></th>\n      <th></th>\n    </tr>\n  </thead>\n  <tbody>\n    <tr>\n      <th>2024-01-03</th>\n      <th>ATL</th>\n      <td>1610612737</td>\n      <td>0022300467</td>\n      <td>ATL vs. OKC</td>\n      <td>W</td>\n      <td>240</td>\n      <td>141</td>\n      <td>48</td>\n      <td>95</td>\n      <td>0.505</td>\n      <td>14</td>\n      <td>...</td>\n      <td>28</td>\n      <td>37</td>\n      <td>30</td>\n      <td>10</td>\n      <td>1</td>\n      <td>13</td>\n      <td>23</td>\n      <td>-3.0</td>\n      <td>0</td>\n      <td>ATL</td>\n    </tr>\n    <tr>\n      <th>2023-12-29</th>\n      <th>ATL</th>\n      <td>1610612737</td>\n      <td>0022300431</td>\n      <td>ATL vs. SAC</td>\n      <td>L</td>\n      <td>239</td>\n      <td>110</td>\n      <td>37</td>\n      <td>94</td>\n      <td>0.394</td>\n      <td>15</td>\n      <td>...</td>\n      <td>33</td>\n      <td>38</td>\n      <td>35</td>\n      <td>9</td>\n      <td>3</td>\n      <td>12</td>\n      <td>20</td>\n      <td>7.0</td>\n      <td>0</td>\n      <td>ATL</td>\n    </tr>\n    <tr>\n      <th>2023-12-23</th>\n      <th>ATL</th>\n      <td>1610612737</td>\n      <td>0022300393</td>\n      <td>ATL vs. MEM</td>\n      <td>L</td>\n      <td>239</td>\n      <td>119</td>\n      <td>45</td>\n      <td>96</td>\n      <td>0.469</td>\n      <td>13</td>\n      <td>...</td>\n      <td>36</td>\n      <td>51</td>\n      <td>29</td>\n      <td>6</td>\n      <td>7</td>\n      <td>11</td>\n      <td>16</td>\n      <td>6.0</td>\n      <td>0</td>\n      <td>ATL</td>\n    </tr>\n    <tr>\n      <th>2023-12-18</th>\n      <th>ATL</th>\n      <td>1610612737</td>\n      <td>0022300352</td>\n      <td>ATL vs. DET</td>\n      <td>W</td>\n      <td>240</td>\n      <td>130</td>\n      <td>46</td>\n      <td>85</td>\n      <td>0.541</td>\n      <td>16</td>\n      <td>...</td>\n      <td>24</td>\n      <td>36</td>\n      <td>23</td>\n      <td>7</td>\n      <td>3</td>\n      <td>13</td>\n      <td>26</td>\n      <td>-6.0</td>\n      <td>0</td>\n      <td>ATL</td>\n    </tr>\n    <tr>\n      <th>2023-12-11</th>\n      <th>ATL</th>\n      <td>1610612737</td>\n      <td>0022300296</td>\n      <td>ATL vs. DEN</td>\n      <td>L</td>\n      <td>240</td>\n      <td>122</td>\n      <td>44</td>\n      <td>96</td>\n      <td>0.458</td>\n      <td>17</td>\n      <td>...</td>\n      <td>35</td>\n      <td>49</td>\n      <td>29</td>\n      <td>9</td>\n      <td>8</td>\n      <td>16</td>\n      <td>19</td>\n      <td>7.0</td>\n      <td>0</td>\n      <td>ATL</td>\n    </tr>\n    <tr>\n      <th>...</th>\n      <th>...</th>\n      <td>...</td>\n      <td>...</td>\n      <td>...</td>\n      <td>...</td>\n      <td>...</td>\n      <td>...</td>\n      <td>...</td>\n      <td>...</td>\n      <td>...</td>\n      <td>...</td>\n      <td>...</td>\n      <td>...</td>\n      <td>...</td>\n      <td>...</td>\n      <td>...</td>\n      <td>...</td>\n      <td>...</td>\n      <td>...</td>\n      <td>...</td>\n      <td>...</td>\n      <td>...</td>\n    </tr>\n    <tr>\n      <th>2023-10-30</th>\n      <th>CHA</th>\n      <td>1610612766</td>\n      <td>0022300101</td>\n      <td>CHA vs. BKN</td>\n      <td>L</td>\n      <td>240</td>\n      <td>121</td>\n      <td>47</td>\n      <td>96</td>\n      <td>0.490</td>\n      <td>8</td>\n      <td>...</td>\n      <td>36</td>\n      <td>46</td>\n      <td>25</td>\n      <td>4</td>\n      <td>8</td>\n      <td>13</td>\n      <td>19</td>\n      <td>12.0</td>\n      <td>0</td>\n      <td>CHA</td>\n    </tr>\n    <tr>\n      <th>2023-10-27</th>\n      <th>CHA</th>\n      <td>1610612766</td>\n      <td>0022300077</td>\n      <td>CHA vs. DET</td>\n      <td>L</td>\n      <td>240</td>\n      <td>99</td>\n      <td>33</td>\n      <td>88</td>\n      <td>0.375</td>\n      <td>7</td>\n      <td>...</td>\n      <td>41</td>\n      <td>53</td>\n      <td>28</td>\n      <td>7</td>\n      <td>6</td>\n      <td>23</td>\n      <td>29</td>\n      <td>12.0</td>\n      <td>0</td>\n      <td>CHA</td>\n    </tr>\n    <tr>\n      <th>2023-10-25</th>\n      <th>CHA</th>\n      <td>1610612766</td>\n      <td>0022300063</td>\n      <td>CHA vs. ATL</td>\n      <td>W</td>\n      <td>240</td>\n      <td>116</td>\n      <td>43</td>\n      <td>86</td>\n      <td>0.500</td>\n      <td>11</td>\n      <td>...</td>\n      <td>30</td>\n      <td>42</td>\n      <td>24</td>\n      <td>12</td>\n      <td>1</td>\n      <td>12</td>\n      <td>19</td>\n      <td>-6.0</td>\n      <td>0</td>\n      <td>CHA</td>\n    </tr>\n    <tr>\n      <th>2023-10-19</th>\n      <th>CHA</th>\n      <td>1610612766</td>\n      <td>0012300060</td>\n      <td>CHA vs. BOS</td>\n      <td>L</td>\n      <td>241</td>\n      <td>99</td>\n      <td>37</td>\n      <td>88</td>\n      <td>0.420</td>\n      <td>4</td>\n      <td>...</td>\n      <td>39</td>\n      <td>55</td>\n      <td>34</td>\n      <td>22</td>\n      <td>6</td>\n      <td>15</td>\n      <td>19</td>\n      <td>28.0</td>\n      <td>0</td>\n      <td>CHA</td>\n    </tr>\n    <tr>\n      <th>2023-10-15</th>\n      <th>CHA</th>\n      <td>1610612766</td>\n      <td>0012300038</td>\n      <td>CHA vs. OKC</td>\n      <td>W</td>\n      <td>241</td>\n      <td>117</td>\n      <td>46</td>\n      <td>88</td>\n      <td>0.523</td>\n      <td>12</td>\n      <td>...</td>\n      <td>33</td>\n      <td>46</td>\n      <td>30</td>\n      <td>4</td>\n      <td>2</td>\n      <td>15</td>\n      <td>18</td>\n      <td>-2.0</td>\n      <td>0</td>\n      <td>CHA</td>\n    </tr>\n  </tbody>\n</table>\n<p>610 rows × 52 columns</p>\n</div>"
     },
     "execution_count": 51,
     "metadata": {},
     "output_type": "execute_result"
    }
   ],
   "source": [
    "team_1_twisted = merged\n",
    "team_1_twisted = team_1_twisted.reset_index().set_index(['GAME_DATE', 'TEAM_ABBREVIATION_X'])\n"
   ],
   "metadata": {
    "collapsed": false,
    "ExecuteTime": {
     "end_time": "2024-01-12T04:23:12.943118Z",
     "start_time": "2024-01-12T04:23:12.927902Z"
    }
   }
  },
  {
   "cell_type": "code",
   "execution_count": 245,
   "outputs": [
    {
     "data": {
      "text/plain": "  0%|          | 0/29716 [00:00<?, ?it/s]",
      "application/vnd.jupyter.widget-view+json": {
       "version_major": 2,
       "version_minor": 0,
       "model_id": "239750520c6f4ea8be0598193f1f2fd0"
      }
     },
     "metadata": {},
     "output_type": "display_data"
    },
    {
     "ename": "KeyboardInterrupt",
     "evalue": "",
     "output_type": "error",
     "traceback": [
      "\u001B[0;31m---------------------------------------------------------------------------\u001B[0m",
      "\u001B[0;31mKeyboardInterrupt\u001B[0m                         Traceback (most recent call last)",
      "Cell \u001B[0;32mIn[245], line 3\u001B[0m\n\u001B[1;32m      1\u001B[0m box_scores \u001B[38;5;241m=\u001B[39m pd\u001B[38;5;241m.\u001B[39mDataFrame()\n\u001B[1;32m      2\u001B[0m \u001B[38;5;28;01mfor\u001B[39;00m game_id \u001B[38;5;129;01min\u001B[39;00m tqdm(merged_data\u001B[38;5;241m.\u001B[39mindex\u001B[38;5;241m.\u001B[39mget_level_values(\u001B[38;5;124m'\u001B[39m\u001B[38;5;124mGAME_ID\u001B[39m\u001B[38;5;124m'\u001B[39m)\u001B[38;5;241m.\u001B[39munique()):\n\u001B[0;32m----> 3\u001B[0m     game_box_scores \u001B[38;5;241m=\u001B[39m \u001B[43mboxscoreadvancedv3\u001B[49m\u001B[38;5;241;43m.\u001B[39;49m\u001B[43mBoxScoreAdvancedV3\u001B[49m\u001B[43m(\u001B[49m\u001B[43mgame_id\u001B[49m\u001B[43m)\u001B[49m\n\u001B[1;32m      4\u001B[0m     box_scores \u001B[38;5;241m=\u001B[39m pd\u001B[38;5;241m.\u001B[39mconcat([box_scores, game_box_scores\u001B[38;5;241m.\u001B[39mget_data_frames()[\u001B[38;5;241m0\u001B[39m]])\n\u001B[1;32m      5\u001B[0m box_scores\u001B[38;5;241m.\u001B[39mto_csv(\u001B[38;5;124m'\u001B[39m\u001B[38;5;124mbox_scores.csv\u001B[39m\u001B[38;5;124m'\u001B[39m)\n",
      "File \u001B[0;32m~/Documents/boredom-projects/sports-betting/venv/lib/python3.11/site-packages/nba_api/stats/endpoints/boxscoreadvancedv3.py:120\u001B[0m, in \u001B[0;36mBoxScoreAdvancedV3.__init__\u001B[0;34m(self, game_id, end_period, end_range, range_type, start_period, start_range, proxy, headers, timeout, get_request)\u001B[0m\n\u001B[1;32m    111\u001B[0m \u001B[38;5;28mself\u001B[39m\u001B[38;5;241m.\u001B[39mparameters \u001B[38;5;241m=\u001B[39m {\n\u001B[1;32m    112\u001B[0m     \u001B[38;5;124m\"\u001B[39m\u001B[38;5;124mGameID\u001B[39m\u001B[38;5;124m\"\u001B[39m: game_id,\n\u001B[1;32m    113\u001B[0m     \u001B[38;5;124m\"\u001B[39m\u001B[38;5;124mEndPeriod\u001B[39m\u001B[38;5;124m\"\u001B[39m: end_period,\n\u001B[0;32m   (...)\u001B[0m\n\u001B[1;32m    117\u001B[0m     \u001B[38;5;124m\"\u001B[39m\u001B[38;5;124mStartRange\u001B[39m\u001B[38;5;124m\"\u001B[39m: start_range,\n\u001B[1;32m    118\u001B[0m }\n\u001B[1;32m    119\u001B[0m \u001B[38;5;28;01mif\u001B[39;00m get_request:\n\u001B[0;32m--> 120\u001B[0m     \u001B[38;5;28;43mself\u001B[39;49m\u001B[38;5;241;43m.\u001B[39;49m\u001B[43mget_request\u001B[49m\u001B[43m(\u001B[49m\u001B[43m)\u001B[49m\n",
      "File \u001B[0;32m~/Documents/boredom-projects/sports-betting/venv/lib/python3.11/site-packages/nba_api/stats/endpoints/boxscoreadvancedv3.py:123\u001B[0m, in \u001B[0;36mBoxScoreAdvancedV3.get_request\u001B[0;34m(self)\u001B[0m\n\u001B[1;32m    122\u001B[0m \u001B[38;5;28;01mdef\u001B[39;00m \u001B[38;5;21mget_request\u001B[39m(\u001B[38;5;28mself\u001B[39m):\n\u001B[0;32m--> 123\u001B[0m     \u001B[38;5;28mself\u001B[39m\u001B[38;5;241m.\u001B[39mnba_response \u001B[38;5;241m=\u001B[39m \u001B[43mNBAStatsHTTP\u001B[49m\u001B[43m(\u001B[49m\u001B[43m)\u001B[49m\u001B[38;5;241;43m.\u001B[39;49m\u001B[43msend_api_request\u001B[49m\u001B[43m(\u001B[49m\n\u001B[1;32m    124\u001B[0m \u001B[43m        \u001B[49m\u001B[43mendpoint\u001B[49m\u001B[38;5;241;43m=\u001B[39;49m\u001B[38;5;28;43mself\u001B[39;49m\u001B[38;5;241;43m.\u001B[39;49m\u001B[43mendpoint\u001B[49m\u001B[43m,\u001B[49m\n\u001B[1;32m    125\u001B[0m \u001B[43m        \u001B[49m\u001B[43mparameters\u001B[49m\u001B[38;5;241;43m=\u001B[39;49m\u001B[38;5;28;43mself\u001B[39;49m\u001B[38;5;241;43m.\u001B[39;49m\u001B[43mparameters\u001B[49m\u001B[43m,\u001B[49m\n\u001B[1;32m    126\u001B[0m \u001B[43m        \u001B[49m\u001B[43mproxy\u001B[49m\u001B[38;5;241;43m=\u001B[39;49m\u001B[38;5;28;43mself\u001B[39;49m\u001B[38;5;241;43m.\u001B[39;49m\u001B[43mproxy\u001B[49m\u001B[43m,\u001B[49m\n\u001B[1;32m    127\u001B[0m \u001B[43m        \u001B[49m\u001B[43mheaders\u001B[49m\u001B[38;5;241;43m=\u001B[39;49m\u001B[38;5;28;43mself\u001B[39;49m\u001B[38;5;241;43m.\u001B[39;49m\u001B[43mheaders\u001B[49m\u001B[43m,\u001B[49m\n\u001B[1;32m    128\u001B[0m \u001B[43m        \u001B[49m\u001B[43mtimeout\u001B[49m\u001B[38;5;241;43m=\u001B[39;49m\u001B[38;5;28;43mself\u001B[39;49m\u001B[38;5;241;43m.\u001B[39;49m\u001B[43mtimeout\u001B[49m\u001B[43m,\u001B[49m\n\u001B[1;32m    129\u001B[0m \u001B[43m    \u001B[49m\u001B[43m)\u001B[49m\n\u001B[1;32m    130\u001B[0m     \u001B[38;5;28mself\u001B[39m\u001B[38;5;241m.\u001B[39mload_response()\n",
      "File \u001B[0;32m~/Documents/boredom-projects/sports-betting/venv/lib/python3.11/site-packages/nba_api/library/http.py:146\u001B[0m, in \u001B[0;36mNBAHTTP.send_api_request\u001B[0;34m(self, endpoint, parameters, referer, proxy, headers, timeout, raise_exception_on_error)\u001B[0m\n\u001B[1;32m    143\u001B[0m         \u001B[38;5;28mprint\u001B[39m(\u001B[38;5;124m\"\u001B[39m\u001B[38;5;124mloading from file...\u001B[39m\u001B[38;5;124m\"\u001B[39m)\n\u001B[1;32m    145\u001B[0m \u001B[38;5;28;01mif\u001B[39;00m \u001B[38;5;129;01mnot\u001B[39;00m contents:\n\u001B[0;32m--> 146\u001B[0m     response \u001B[38;5;241m=\u001B[39m \u001B[43mrequests\u001B[49m\u001B[38;5;241;43m.\u001B[39;49m\u001B[43mget\u001B[49m\u001B[43m(\u001B[49m\n\u001B[1;32m    147\u001B[0m \u001B[43m        \u001B[49m\u001B[43murl\u001B[49m\u001B[38;5;241;43m=\u001B[39;49m\u001B[43mbase_url\u001B[49m\u001B[43m,\u001B[49m\n\u001B[1;32m    148\u001B[0m \u001B[43m        \u001B[49m\u001B[43mparams\u001B[49m\u001B[38;5;241;43m=\u001B[39;49m\u001B[43mparameters\u001B[49m\u001B[43m,\u001B[49m\n\u001B[1;32m    149\u001B[0m \u001B[43m        \u001B[49m\u001B[43mheaders\u001B[49m\u001B[38;5;241;43m=\u001B[39;49m\u001B[43mrequest_headers\u001B[49m\u001B[43m,\u001B[49m\n\u001B[1;32m    150\u001B[0m \u001B[43m        \u001B[49m\u001B[43mproxies\u001B[49m\u001B[38;5;241;43m=\u001B[39;49m\u001B[43mproxies\u001B[49m\u001B[43m,\u001B[49m\n\u001B[1;32m    151\u001B[0m \u001B[43m        \u001B[49m\u001B[43mtimeout\u001B[49m\u001B[38;5;241;43m=\u001B[39;49m\u001B[43mtimeout\u001B[49m\u001B[43m,\u001B[49m\n\u001B[1;32m    152\u001B[0m \u001B[43m    \u001B[49m\u001B[43m)\u001B[49m\n\u001B[1;32m    153\u001B[0m     url \u001B[38;5;241m=\u001B[39m response\u001B[38;5;241m.\u001B[39murl\n\u001B[1;32m    154\u001B[0m     status_code \u001B[38;5;241m=\u001B[39m response\u001B[38;5;241m.\u001B[39mstatus_code\n",
      "File \u001B[0;32m~/Documents/boredom-projects/sports-betting/venv/lib/python3.11/site-packages/requests/api.py:73\u001B[0m, in \u001B[0;36mget\u001B[0;34m(url, params, **kwargs)\u001B[0m\n\u001B[1;32m     62\u001B[0m \u001B[38;5;28;01mdef\u001B[39;00m \u001B[38;5;21mget\u001B[39m(url, params\u001B[38;5;241m=\u001B[39m\u001B[38;5;28;01mNone\u001B[39;00m, \u001B[38;5;241m*\u001B[39m\u001B[38;5;241m*\u001B[39mkwargs):\n\u001B[1;32m     63\u001B[0m \u001B[38;5;250m    \u001B[39m\u001B[38;5;124mr\u001B[39m\u001B[38;5;124;03m\"\"\"Sends a GET request.\u001B[39;00m\n\u001B[1;32m     64\u001B[0m \n\u001B[1;32m     65\u001B[0m \u001B[38;5;124;03m    :param url: URL for the new :class:`Request` object.\u001B[39;00m\n\u001B[0;32m   (...)\u001B[0m\n\u001B[1;32m     70\u001B[0m \u001B[38;5;124;03m    :rtype: requests.Response\u001B[39;00m\n\u001B[1;32m     71\u001B[0m \u001B[38;5;124;03m    \"\"\"\u001B[39;00m\n\u001B[0;32m---> 73\u001B[0m     \u001B[38;5;28;01mreturn\u001B[39;00m \u001B[43mrequest\u001B[49m\u001B[43m(\u001B[49m\u001B[38;5;124;43m\"\u001B[39;49m\u001B[38;5;124;43mget\u001B[39;49m\u001B[38;5;124;43m\"\u001B[39;49m\u001B[43m,\u001B[49m\u001B[43m \u001B[49m\u001B[43murl\u001B[49m\u001B[43m,\u001B[49m\u001B[43m \u001B[49m\u001B[43mparams\u001B[49m\u001B[38;5;241;43m=\u001B[39;49m\u001B[43mparams\u001B[49m\u001B[43m,\u001B[49m\u001B[43m \u001B[49m\u001B[38;5;241;43m*\u001B[39;49m\u001B[38;5;241;43m*\u001B[39;49m\u001B[43mkwargs\u001B[49m\u001B[43m)\u001B[49m\n",
      "File \u001B[0;32m~/Documents/boredom-projects/sports-betting/venv/lib/python3.11/site-packages/requests/api.py:59\u001B[0m, in \u001B[0;36mrequest\u001B[0;34m(method, url, **kwargs)\u001B[0m\n\u001B[1;32m     55\u001B[0m \u001B[38;5;66;03m# By using the 'with' statement we are sure the session is closed, thus we\u001B[39;00m\n\u001B[1;32m     56\u001B[0m \u001B[38;5;66;03m# avoid leaving sockets open which can trigger a ResourceWarning in some\u001B[39;00m\n\u001B[1;32m     57\u001B[0m \u001B[38;5;66;03m# cases, and look like a memory leak in others.\u001B[39;00m\n\u001B[1;32m     58\u001B[0m \u001B[38;5;28;01mwith\u001B[39;00m sessions\u001B[38;5;241m.\u001B[39mSession() \u001B[38;5;28;01mas\u001B[39;00m session:\n\u001B[0;32m---> 59\u001B[0m     \u001B[38;5;28;01mreturn\u001B[39;00m \u001B[43msession\u001B[49m\u001B[38;5;241;43m.\u001B[39;49m\u001B[43mrequest\u001B[49m\u001B[43m(\u001B[49m\u001B[43mmethod\u001B[49m\u001B[38;5;241;43m=\u001B[39;49m\u001B[43mmethod\u001B[49m\u001B[43m,\u001B[49m\u001B[43m \u001B[49m\u001B[43murl\u001B[49m\u001B[38;5;241;43m=\u001B[39;49m\u001B[43murl\u001B[49m\u001B[43m,\u001B[49m\u001B[43m \u001B[49m\u001B[38;5;241;43m*\u001B[39;49m\u001B[38;5;241;43m*\u001B[39;49m\u001B[43mkwargs\u001B[49m\u001B[43m)\u001B[49m\n",
      "File \u001B[0;32m~/Documents/boredom-projects/sports-betting/venv/lib/python3.11/site-packages/requests/sessions.py:589\u001B[0m, in \u001B[0;36mSession.request\u001B[0;34m(self, method, url, params, data, headers, cookies, files, auth, timeout, allow_redirects, proxies, hooks, stream, verify, cert, json)\u001B[0m\n\u001B[1;32m    584\u001B[0m send_kwargs \u001B[38;5;241m=\u001B[39m {\n\u001B[1;32m    585\u001B[0m     \u001B[38;5;124m\"\u001B[39m\u001B[38;5;124mtimeout\u001B[39m\u001B[38;5;124m\"\u001B[39m: timeout,\n\u001B[1;32m    586\u001B[0m     \u001B[38;5;124m\"\u001B[39m\u001B[38;5;124mallow_redirects\u001B[39m\u001B[38;5;124m\"\u001B[39m: allow_redirects,\n\u001B[1;32m    587\u001B[0m }\n\u001B[1;32m    588\u001B[0m send_kwargs\u001B[38;5;241m.\u001B[39mupdate(settings)\n\u001B[0;32m--> 589\u001B[0m resp \u001B[38;5;241m=\u001B[39m \u001B[38;5;28;43mself\u001B[39;49m\u001B[38;5;241;43m.\u001B[39;49m\u001B[43msend\u001B[49m\u001B[43m(\u001B[49m\u001B[43mprep\u001B[49m\u001B[43m,\u001B[49m\u001B[43m \u001B[49m\u001B[38;5;241;43m*\u001B[39;49m\u001B[38;5;241;43m*\u001B[39;49m\u001B[43msend_kwargs\u001B[49m\u001B[43m)\u001B[49m\n\u001B[1;32m    591\u001B[0m \u001B[38;5;28;01mreturn\u001B[39;00m resp\n",
      "File \u001B[0;32m~/Documents/boredom-projects/sports-betting/venv/lib/python3.11/site-packages/requests/sessions.py:703\u001B[0m, in \u001B[0;36mSession.send\u001B[0;34m(self, request, **kwargs)\u001B[0m\n\u001B[1;32m    700\u001B[0m start \u001B[38;5;241m=\u001B[39m preferred_clock()\n\u001B[1;32m    702\u001B[0m \u001B[38;5;66;03m# Send the request\u001B[39;00m\n\u001B[0;32m--> 703\u001B[0m r \u001B[38;5;241m=\u001B[39m \u001B[43madapter\u001B[49m\u001B[38;5;241;43m.\u001B[39;49m\u001B[43msend\u001B[49m\u001B[43m(\u001B[49m\u001B[43mrequest\u001B[49m\u001B[43m,\u001B[49m\u001B[43m \u001B[49m\u001B[38;5;241;43m*\u001B[39;49m\u001B[38;5;241;43m*\u001B[39;49m\u001B[43mkwargs\u001B[49m\u001B[43m)\u001B[49m\n\u001B[1;32m    705\u001B[0m \u001B[38;5;66;03m# Total elapsed time of the request (approximately)\u001B[39;00m\n\u001B[1;32m    706\u001B[0m elapsed \u001B[38;5;241m=\u001B[39m preferred_clock() \u001B[38;5;241m-\u001B[39m start\n",
      "File \u001B[0;32m~/Documents/boredom-projects/sports-betting/venv/lib/python3.11/site-packages/requests/adapters.py:486\u001B[0m, in \u001B[0;36mHTTPAdapter.send\u001B[0;34m(self, request, stream, timeout, verify, cert, proxies)\u001B[0m\n\u001B[1;32m    483\u001B[0m     timeout \u001B[38;5;241m=\u001B[39m TimeoutSauce(connect\u001B[38;5;241m=\u001B[39mtimeout, read\u001B[38;5;241m=\u001B[39mtimeout)\n\u001B[1;32m    485\u001B[0m \u001B[38;5;28;01mtry\u001B[39;00m:\n\u001B[0;32m--> 486\u001B[0m     resp \u001B[38;5;241m=\u001B[39m \u001B[43mconn\u001B[49m\u001B[38;5;241;43m.\u001B[39;49m\u001B[43murlopen\u001B[49m\u001B[43m(\u001B[49m\n\u001B[1;32m    487\u001B[0m \u001B[43m        \u001B[49m\u001B[43mmethod\u001B[49m\u001B[38;5;241;43m=\u001B[39;49m\u001B[43mrequest\u001B[49m\u001B[38;5;241;43m.\u001B[39;49m\u001B[43mmethod\u001B[49m\u001B[43m,\u001B[49m\n\u001B[1;32m    488\u001B[0m \u001B[43m        \u001B[49m\u001B[43murl\u001B[49m\u001B[38;5;241;43m=\u001B[39;49m\u001B[43murl\u001B[49m\u001B[43m,\u001B[49m\n\u001B[1;32m    489\u001B[0m \u001B[43m        \u001B[49m\u001B[43mbody\u001B[49m\u001B[38;5;241;43m=\u001B[39;49m\u001B[43mrequest\u001B[49m\u001B[38;5;241;43m.\u001B[39;49m\u001B[43mbody\u001B[49m\u001B[43m,\u001B[49m\n\u001B[1;32m    490\u001B[0m \u001B[43m        \u001B[49m\u001B[43mheaders\u001B[49m\u001B[38;5;241;43m=\u001B[39;49m\u001B[43mrequest\u001B[49m\u001B[38;5;241;43m.\u001B[39;49m\u001B[43mheaders\u001B[49m\u001B[43m,\u001B[49m\n\u001B[1;32m    491\u001B[0m \u001B[43m        \u001B[49m\u001B[43mredirect\u001B[49m\u001B[38;5;241;43m=\u001B[39;49m\u001B[38;5;28;43;01mFalse\u001B[39;49;00m\u001B[43m,\u001B[49m\n\u001B[1;32m    492\u001B[0m \u001B[43m        \u001B[49m\u001B[43massert_same_host\u001B[49m\u001B[38;5;241;43m=\u001B[39;49m\u001B[38;5;28;43;01mFalse\u001B[39;49;00m\u001B[43m,\u001B[49m\n\u001B[1;32m    493\u001B[0m \u001B[43m        \u001B[49m\u001B[43mpreload_content\u001B[49m\u001B[38;5;241;43m=\u001B[39;49m\u001B[38;5;28;43;01mFalse\u001B[39;49;00m\u001B[43m,\u001B[49m\n\u001B[1;32m    494\u001B[0m \u001B[43m        \u001B[49m\u001B[43mdecode_content\u001B[49m\u001B[38;5;241;43m=\u001B[39;49m\u001B[38;5;28;43;01mFalse\u001B[39;49;00m\u001B[43m,\u001B[49m\n\u001B[1;32m    495\u001B[0m \u001B[43m        \u001B[49m\u001B[43mretries\u001B[49m\u001B[38;5;241;43m=\u001B[39;49m\u001B[38;5;28;43mself\u001B[39;49m\u001B[38;5;241;43m.\u001B[39;49m\u001B[43mmax_retries\u001B[49m\u001B[43m,\u001B[49m\n\u001B[1;32m    496\u001B[0m \u001B[43m        \u001B[49m\u001B[43mtimeout\u001B[49m\u001B[38;5;241;43m=\u001B[39;49m\u001B[43mtimeout\u001B[49m\u001B[43m,\u001B[49m\n\u001B[1;32m    497\u001B[0m \u001B[43m        \u001B[49m\u001B[43mchunked\u001B[49m\u001B[38;5;241;43m=\u001B[39;49m\u001B[43mchunked\u001B[49m\u001B[43m,\u001B[49m\n\u001B[1;32m    498\u001B[0m \u001B[43m    \u001B[49m\u001B[43m)\u001B[49m\n\u001B[1;32m    500\u001B[0m \u001B[38;5;28;01mexcept\u001B[39;00m (ProtocolError, \u001B[38;5;167;01mOSError\u001B[39;00m) \u001B[38;5;28;01mas\u001B[39;00m err:\n\u001B[1;32m    501\u001B[0m     \u001B[38;5;28;01mraise\u001B[39;00m \u001B[38;5;167;01mConnectionError\u001B[39;00m(err, request\u001B[38;5;241m=\u001B[39mrequest)\n",
      "File \u001B[0;32m~/Documents/boredom-projects/sports-betting/venv/lib/python3.11/site-packages/urllib3/connectionpool.py:790\u001B[0m, in \u001B[0;36mHTTPConnectionPool.urlopen\u001B[0;34m(self, method, url, body, headers, retries, redirect, assert_same_host, timeout, pool_timeout, release_conn, chunked, body_pos, preload_content, decode_content, **response_kw)\u001B[0m\n\u001B[1;32m    787\u001B[0m response_conn \u001B[38;5;241m=\u001B[39m conn \u001B[38;5;28;01mif\u001B[39;00m \u001B[38;5;129;01mnot\u001B[39;00m release_conn \u001B[38;5;28;01melse\u001B[39;00m \u001B[38;5;28;01mNone\u001B[39;00m\n\u001B[1;32m    789\u001B[0m \u001B[38;5;66;03m# Make the request on the HTTPConnection object\u001B[39;00m\n\u001B[0;32m--> 790\u001B[0m response \u001B[38;5;241m=\u001B[39m \u001B[38;5;28;43mself\u001B[39;49m\u001B[38;5;241;43m.\u001B[39;49m\u001B[43m_make_request\u001B[49m\u001B[43m(\u001B[49m\n\u001B[1;32m    791\u001B[0m \u001B[43m    \u001B[49m\u001B[43mconn\u001B[49m\u001B[43m,\u001B[49m\n\u001B[1;32m    792\u001B[0m \u001B[43m    \u001B[49m\u001B[43mmethod\u001B[49m\u001B[43m,\u001B[49m\n\u001B[1;32m    793\u001B[0m \u001B[43m    \u001B[49m\u001B[43murl\u001B[49m\u001B[43m,\u001B[49m\n\u001B[1;32m    794\u001B[0m \u001B[43m    \u001B[49m\u001B[43mtimeout\u001B[49m\u001B[38;5;241;43m=\u001B[39;49m\u001B[43mtimeout_obj\u001B[49m\u001B[43m,\u001B[49m\n\u001B[1;32m    795\u001B[0m \u001B[43m    \u001B[49m\u001B[43mbody\u001B[49m\u001B[38;5;241;43m=\u001B[39;49m\u001B[43mbody\u001B[49m\u001B[43m,\u001B[49m\n\u001B[1;32m    796\u001B[0m \u001B[43m    \u001B[49m\u001B[43mheaders\u001B[49m\u001B[38;5;241;43m=\u001B[39;49m\u001B[43mheaders\u001B[49m\u001B[43m,\u001B[49m\n\u001B[1;32m    797\u001B[0m \u001B[43m    \u001B[49m\u001B[43mchunked\u001B[49m\u001B[38;5;241;43m=\u001B[39;49m\u001B[43mchunked\u001B[49m\u001B[43m,\u001B[49m\n\u001B[1;32m    798\u001B[0m \u001B[43m    \u001B[49m\u001B[43mretries\u001B[49m\u001B[38;5;241;43m=\u001B[39;49m\u001B[43mretries\u001B[49m\u001B[43m,\u001B[49m\n\u001B[1;32m    799\u001B[0m \u001B[43m    \u001B[49m\u001B[43mresponse_conn\u001B[49m\u001B[38;5;241;43m=\u001B[39;49m\u001B[43mresponse_conn\u001B[49m\u001B[43m,\u001B[49m\n\u001B[1;32m    800\u001B[0m \u001B[43m    \u001B[49m\u001B[43mpreload_content\u001B[49m\u001B[38;5;241;43m=\u001B[39;49m\u001B[43mpreload_content\u001B[49m\u001B[43m,\u001B[49m\n\u001B[1;32m    801\u001B[0m \u001B[43m    \u001B[49m\u001B[43mdecode_content\u001B[49m\u001B[38;5;241;43m=\u001B[39;49m\u001B[43mdecode_content\u001B[49m\u001B[43m,\u001B[49m\n\u001B[1;32m    802\u001B[0m \u001B[43m    \u001B[49m\u001B[38;5;241;43m*\u001B[39;49m\u001B[38;5;241;43m*\u001B[39;49m\u001B[43mresponse_kw\u001B[49m\u001B[43m,\u001B[49m\n\u001B[1;32m    803\u001B[0m \u001B[43m\u001B[49m\u001B[43m)\u001B[49m\n\u001B[1;32m    805\u001B[0m \u001B[38;5;66;03m# Everything went great!\u001B[39;00m\n\u001B[1;32m    806\u001B[0m clean_exit \u001B[38;5;241m=\u001B[39m \u001B[38;5;28;01mTrue\u001B[39;00m\n",
      "File \u001B[0;32m~/Documents/boredom-projects/sports-betting/venv/lib/python3.11/site-packages/urllib3/connectionpool.py:536\u001B[0m, in \u001B[0;36mHTTPConnectionPool._make_request\u001B[0;34m(self, conn, method, url, body, headers, retries, timeout, chunked, response_conn, preload_content, decode_content, enforce_content_length)\u001B[0m\n\u001B[1;32m    534\u001B[0m \u001B[38;5;66;03m# Receive the response from the server\u001B[39;00m\n\u001B[1;32m    535\u001B[0m \u001B[38;5;28;01mtry\u001B[39;00m:\n\u001B[0;32m--> 536\u001B[0m     response \u001B[38;5;241m=\u001B[39m \u001B[43mconn\u001B[49m\u001B[38;5;241;43m.\u001B[39;49m\u001B[43mgetresponse\u001B[49m\u001B[43m(\u001B[49m\u001B[43m)\u001B[49m\n\u001B[1;32m    537\u001B[0m \u001B[38;5;28;01mexcept\u001B[39;00m (BaseSSLError, \u001B[38;5;167;01mOSError\u001B[39;00m) \u001B[38;5;28;01mas\u001B[39;00m e:\n\u001B[1;32m    538\u001B[0m     \u001B[38;5;28mself\u001B[39m\u001B[38;5;241m.\u001B[39m_raise_timeout(err\u001B[38;5;241m=\u001B[39me, url\u001B[38;5;241m=\u001B[39murl, timeout_value\u001B[38;5;241m=\u001B[39mread_timeout)\n",
      "File \u001B[0;32m~/Documents/boredom-projects/sports-betting/venv/lib/python3.11/site-packages/urllib3/connection.py:461\u001B[0m, in \u001B[0;36mHTTPConnection.getresponse\u001B[0;34m(self)\u001B[0m\n\u001B[1;32m    458\u001B[0m \u001B[38;5;28;01mfrom\u001B[39;00m \u001B[38;5;21;01m.\u001B[39;00m\u001B[38;5;21;01mresponse\u001B[39;00m \u001B[38;5;28;01mimport\u001B[39;00m HTTPResponse\n\u001B[1;32m    460\u001B[0m \u001B[38;5;66;03m# Get the response from http.client.HTTPConnection\u001B[39;00m\n\u001B[0;32m--> 461\u001B[0m httplib_response \u001B[38;5;241m=\u001B[39m \u001B[38;5;28;43msuper\u001B[39;49m\u001B[43m(\u001B[49m\u001B[43m)\u001B[49m\u001B[38;5;241;43m.\u001B[39;49m\u001B[43mgetresponse\u001B[49m\u001B[43m(\u001B[49m\u001B[43m)\u001B[49m\n\u001B[1;32m    463\u001B[0m \u001B[38;5;28;01mtry\u001B[39;00m:\n\u001B[1;32m    464\u001B[0m     assert_header_parsing(httplib_response\u001B[38;5;241m.\u001B[39mmsg)\n",
      "File \u001B[0;32m/Library/Frameworks/Python.framework/Versions/3.11/lib/python3.11/http/client.py:1386\u001B[0m, in \u001B[0;36mHTTPConnection.getresponse\u001B[0;34m(self)\u001B[0m\n\u001B[1;32m   1384\u001B[0m \u001B[38;5;28;01mtry\u001B[39;00m:\n\u001B[1;32m   1385\u001B[0m     \u001B[38;5;28;01mtry\u001B[39;00m:\n\u001B[0;32m-> 1386\u001B[0m         \u001B[43mresponse\u001B[49m\u001B[38;5;241;43m.\u001B[39;49m\u001B[43mbegin\u001B[49m\u001B[43m(\u001B[49m\u001B[43m)\u001B[49m\n\u001B[1;32m   1387\u001B[0m     \u001B[38;5;28;01mexcept\u001B[39;00m \u001B[38;5;167;01mConnectionError\u001B[39;00m:\n\u001B[1;32m   1388\u001B[0m         \u001B[38;5;28mself\u001B[39m\u001B[38;5;241m.\u001B[39mclose()\n",
      "File \u001B[0;32m/Library/Frameworks/Python.framework/Versions/3.11/lib/python3.11/http/client.py:325\u001B[0m, in \u001B[0;36mHTTPResponse.begin\u001B[0;34m(self)\u001B[0m\n\u001B[1;32m    323\u001B[0m \u001B[38;5;66;03m# read until we get a non-100 response\u001B[39;00m\n\u001B[1;32m    324\u001B[0m \u001B[38;5;28;01mwhile\u001B[39;00m \u001B[38;5;28;01mTrue\u001B[39;00m:\n\u001B[0;32m--> 325\u001B[0m     version, status, reason \u001B[38;5;241m=\u001B[39m \u001B[38;5;28;43mself\u001B[39;49m\u001B[38;5;241;43m.\u001B[39;49m\u001B[43m_read_status\u001B[49m\u001B[43m(\u001B[49m\u001B[43m)\u001B[49m\n\u001B[1;32m    326\u001B[0m     \u001B[38;5;28;01mif\u001B[39;00m status \u001B[38;5;241m!=\u001B[39m CONTINUE:\n\u001B[1;32m    327\u001B[0m         \u001B[38;5;28;01mbreak\u001B[39;00m\n",
      "File \u001B[0;32m/Library/Frameworks/Python.framework/Versions/3.11/lib/python3.11/http/client.py:286\u001B[0m, in \u001B[0;36mHTTPResponse._read_status\u001B[0;34m(self)\u001B[0m\n\u001B[1;32m    285\u001B[0m \u001B[38;5;28;01mdef\u001B[39;00m \u001B[38;5;21m_read_status\u001B[39m(\u001B[38;5;28mself\u001B[39m):\n\u001B[0;32m--> 286\u001B[0m     line \u001B[38;5;241m=\u001B[39m \u001B[38;5;28mstr\u001B[39m(\u001B[38;5;28mself\u001B[39m\u001B[38;5;241m.\u001B[39mfp\u001B[38;5;241m.\u001B[39mreadline(_MAXLINE \u001B[38;5;241m+\u001B[39m \u001B[38;5;241m1\u001B[39m), \u001B[38;5;124m\"\u001B[39m\u001B[38;5;124miso-8859-1\u001B[39m\u001B[38;5;124m\"\u001B[39m)\n\u001B[1;32m    287\u001B[0m     \u001B[38;5;28;01mif\u001B[39;00m \u001B[38;5;28mlen\u001B[39m(line) \u001B[38;5;241m>\u001B[39m _MAXLINE:\n\u001B[1;32m    288\u001B[0m         \u001B[38;5;28;01mraise\u001B[39;00m LineTooLong(\u001B[38;5;124m\"\u001B[39m\u001B[38;5;124mstatus line\u001B[39m\u001B[38;5;124m\"\u001B[39m)\n",
      "File \u001B[0;32m/Library/Frameworks/Python.framework/Versions/3.11/lib/python3.11/socket.py:706\u001B[0m, in \u001B[0;36mSocketIO.readinto\u001B[0;34m(self, b)\u001B[0m\n\u001B[1;32m    704\u001B[0m \u001B[38;5;28;01mwhile\u001B[39;00m \u001B[38;5;28;01mTrue\u001B[39;00m:\n\u001B[1;32m    705\u001B[0m     \u001B[38;5;28;01mtry\u001B[39;00m:\n\u001B[0;32m--> 706\u001B[0m         \u001B[38;5;28;01mreturn\u001B[39;00m \u001B[38;5;28;43mself\u001B[39;49m\u001B[38;5;241;43m.\u001B[39;49m\u001B[43m_sock\u001B[49m\u001B[38;5;241;43m.\u001B[39;49m\u001B[43mrecv_into\u001B[49m\u001B[43m(\u001B[49m\u001B[43mb\u001B[49m\u001B[43m)\u001B[49m\n\u001B[1;32m    707\u001B[0m     \u001B[38;5;28;01mexcept\u001B[39;00m timeout:\n\u001B[1;32m    708\u001B[0m         \u001B[38;5;28mself\u001B[39m\u001B[38;5;241m.\u001B[39m_timeout_occurred \u001B[38;5;241m=\u001B[39m \u001B[38;5;28;01mTrue\u001B[39;00m\n",
      "File \u001B[0;32m/Library/Frameworks/Python.framework/Versions/3.11/lib/python3.11/ssl.py:1315\u001B[0m, in \u001B[0;36mSSLSocket.recv_into\u001B[0;34m(self, buffer, nbytes, flags)\u001B[0m\n\u001B[1;32m   1311\u001B[0m     \u001B[38;5;28;01mif\u001B[39;00m flags \u001B[38;5;241m!=\u001B[39m \u001B[38;5;241m0\u001B[39m:\n\u001B[1;32m   1312\u001B[0m         \u001B[38;5;28;01mraise\u001B[39;00m \u001B[38;5;167;01mValueError\u001B[39;00m(\n\u001B[1;32m   1313\u001B[0m           \u001B[38;5;124m\"\u001B[39m\u001B[38;5;124mnon-zero flags not allowed in calls to recv_into() on \u001B[39m\u001B[38;5;132;01m%s\u001B[39;00m\u001B[38;5;124m\"\u001B[39m \u001B[38;5;241m%\u001B[39m\n\u001B[1;32m   1314\u001B[0m           \u001B[38;5;28mself\u001B[39m\u001B[38;5;241m.\u001B[39m\u001B[38;5;18m__class__\u001B[39m)\n\u001B[0;32m-> 1315\u001B[0m     \u001B[38;5;28;01mreturn\u001B[39;00m \u001B[38;5;28;43mself\u001B[39;49m\u001B[38;5;241;43m.\u001B[39;49m\u001B[43mread\u001B[49m\u001B[43m(\u001B[49m\u001B[43mnbytes\u001B[49m\u001B[43m,\u001B[49m\u001B[43m \u001B[49m\u001B[43mbuffer\u001B[49m\u001B[43m)\u001B[49m\n\u001B[1;32m   1316\u001B[0m \u001B[38;5;28;01melse\u001B[39;00m:\n\u001B[1;32m   1317\u001B[0m     \u001B[38;5;28;01mreturn\u001B[39;00m \u001B[38;5;28msuper\u001B[39m()\u001B[38;5;241m.\u001B[39mrecv_into(buffer, nbytes, flags)\n",
      "File \u001B[0;32m/Library/Frameworks/Python.framework/Versions/3.11/lib/python3.11/ssl.py:1167\u001B[0m, in \u001B[0;36mSSLSocket.read\u001B[0;34m(self, len, buffer)\u001B[0m\n\u001B[1;32m   1165\u001B[0m \u001B[38;5;28;01mtry\u001B[39;00m:\n\u001B[1;32m   1166\u001B[0m     \u001B[38;5;28;01mif\u001B[39;00m buffer \u001B[38;5;129;01mis\u001B[39;00m \u001B[38;5;129;01mnot\u001B[39;00m \u001B[38;5;28;01mNone\u001B[39;00m:\n\u001B[0;32m-> 1167\u001B[0m         \u001B[38;5;28;01mreturn\u001B[39;00m \u001B[38;5;28;43mself\u001B[39;49m\u001B[38;5;241;43m.\u001B[39;49m\u001B[43m_sslobj\u001B[49m\u001B[38;5;241;43m.\u001B[39;49m\u001B[43mread\u001B[49m\u001B[43m(\u001B[49m\u001B[38;5;28;43mlen\u001B[39;49m\u001B[43m,\u001B[49m\u001B[43m \u001B[49m\u001B[43mbuffer\u001B[49m\u001B[43m)\u001B[49m\n\u001B[1;32m   1168\u001B[0m     \u001B[38;5;28;01melse\u001B[39;00m:\n\u001B[1;32m   1169\u001B[0m         \u001B[38;5;28;01mreturn\u001B[39;00m \u001B[38;5;28mself\u001B[39m\u001B[38;5;241m.\u001B[39m_sslobj\u001B[38;5;241m.\u001B[39mread(\u001B[38;5;28mlen\u001B[39m)\n",
      "\u001B[0;31mKeyboardInterrupt\u001B[0m: "
     ]
    }
   ],
   "source": [
    "box_scores = pd.DataFrame()\n",
    "for game_id in tqdm(merged_data.index.get_level_values('GAME_ID').unique()):\n",
    "    game_box_scores = boxscoreadvancedv3.BoxScoreAdvancedV3(game_id)\n",
    "    box_scores = pd.concat([box_scores, game_box_scores.get_data_frames()[0]])\n",
    "box_scores.to_csv('box_scores.csv')"
   ],
   "metadata": {
    "collapsed": false,
    "ExecuteTime": {
     "end_time": "2024-01-14T02:36:19.910209Z",
     "start_time": "2024-01-14T02:32:21.661263Z"
    }
   }
  },
  {
   "cell_type": "code",
   "execution_count": 243,
   "outputs": [
    {
     "ename": "ValueError",
     "evalue": "cannot reindex on an axis with duplicate labels",
     "output_type": "error",
     "traceback": [
      "\u001B[0;31m---------------------------------------------------------------------------\u001B[0m",
      "\u001B[0;31mValueError\u001B[0m                                Traceback (most recent call last)",
      "Cell \u001B[0;32mIn[243], line 5\u001B[0m\n\u001B[1;32m      3\u001B[0m \u001B[38;5;28;01mfor\u001B[39;00m i \u001B[38;5;129;01min\u001B[39;00m \u001B[38;5;28mrange\u001B[39m(\u001B[38;5;241m4\u001B[39m):\n\u001B[1;32m      4\u001B[0m     columns \u001B[38;5;241m=\u001B[39m [column \u001B[38;5;241m+\u001B[39m \u001B[38;5;124m'\u001B[39m\u001B[38;5;124m_past\u001B[39m\u001B[38;5;124m'\u001B[39m \u001B[38;5;241m+\u001B[39m \u001B[38;5;28mstr\u001B[39m(i) \u001B[38;5;28;01mfor\u001B[39;00m column \u001B[38;5;129;01min\u001B[39;00m merged\u001B[38;5;241m.\u001B[39mcolumns]\n\u001B[0;32m----> 5\u001B[0m     \u001B[43mpast_games\u001B[49m\u001B[43m[\u001B[49m\u001B[43mcolumns\u001B[49m\u001B[43m]\u001B[49m \u001B[38;5;241m=\u001B[39m merged\u001B[38;5;241m.\u001B[39mshift(i)\n\u001B[1;32m      6\u001B[0m past_games\n",
      "File \u001B[0;32m~/Documents/boredom-projects/sports-betting/venv/lib/python3.11/site-packages/pandas/core/frame.py:4079\u001B[0m, in \u001B[0;36mDataFrame.__setitem__\u001B[0;34m(self, key, value)\u001B[0m\n\u001B[1;32m   4077\u001B[0m     \u001B[38;5;28mself\u001B[39m\u001B[38;5;241m.\u001B[39m_setitem_frame(key, value)\n\u001B[1;32m   4078\u001B[0m \u001B[38;5;28;01melif\u001B[39;00m \u001B[38;5;28misinstance\u001B[39m(key, (Series, np\u001B[38;5;241m.\u001B[39mndarray, \u001B[38;5;28mlist\u001B[39m, Index)):\n\u001B[0;32m-> 4079\u001B[0m     \u001B[38;5;28;43mself\u001B[39;49m\u001B[38;5;241;43m.\u001B[39;49m\u001B[43m_setitem_array\u001B[49m\u001B[43m(\u001B[49m\u001B[43mkey\u001B[49m\u001B[43m,\u001B[49m\u001B[43m \u001B[49m\u001B[43mvalue\u001B[49m\u001B[43m)\u001B[49m\n\u001B[1;32m   4080\u001B[0m \u001B[38;5;28;01melif\u001B[39;00m \u001B[38;5;28misinstance\u001B[39m(value, DataFrame):\n\u001B[1;32m   4081\u001B[0m     \u001B[38;5;28mself\u001B[39m\u001B[38;5;241m.\u001B[39m_set_item_frame_value(key, value)\n",
      "File \u001B[0;32m~/Documents/boredom-projects/sports-betting/venv/lib/python3.11/site-packages/pandas/core/frame.py:4123\u001B[0m, in \u001B[0;36mDataFrame._setitem_array\u001B[0;34m(self, key, value)\u001B[0m\n\u001B[1;32m   4121\u001B[0m     check_key_length(\u001B[38;5;28mself\u001B[39m\u001B[38;5;241m.\u001B[39mcolumns, key, value)\n\u001B[1;32m   4122\u001B[0m     \u001B[38;5;28;01mfor\u001B[39;00m k1, k2 \u001B[38;5;129;01min\u001B[39;00m \u001B[38;5;28mzip\u001B[39m(key, value\u001B[38;5;241m.\u001B[39mcolumns):\n\u001B[0;32m-> 4123\u001B[0m         \u001B[38;5;28;43mself\u001B[39;49m\u001B[43m[\u001B[49m\u001B[43mk1\u001B[49m\u001B[43m]\u001B[49m \u001B[38;5;241m=\u001B[39m value[k2]\n\u001B[1;32m   4125\u001B[0m \u001B[38;5;28;01melif\u001B[39;00m \u001B[38;5;129;01mnot\u001B[39;00m is_list_like(value):\n\u001B[1;32m   4126\u001B[0m     \u001B[38;5;28;01mfor\u001B[39;00m col \u001B[38;5;129;01min\u001B[39;00m key:\n",
      "File \u001B[0;32m~/Documents/boredom-projects/sports-betting/venv/lib/python3.11/site-packages/pandas/core/frame.py:4091\u001B[0m, in \u001B[0;36mDataFrame.__setitem__\u001B[0;34m(self, key, value)\u001B[0m\n\u001B[1;32m   4088\u001B[0m     \u001B[38;5;28mself\u001B[39m\u001B[38;5;241m.\u001B[39m_setitem_array([key], value)\n\u001B[1;32m   4089\u001B[0m \u001B[38;5;28;01melse\u001B[39;00m:\n\u001B[1;32m   4090\u001B[0m     \u001B[38;5;66;03m# set column\u001B[39;00m\n\u001B[0;32m-> 4091\u001B[0m     \u001B[38;5;28;43mself\u001B[39;49m\u001B[38;5;241;43m.\u001B[39;49m\u001B[43m_set_item\u001B[49m\u001B[43m(\u001B[49m\u001B[43mkey\u001B[49m\u001B[43m,\u001B[49m\u001B[43m \u001B[49m\u001B[43mvalue\u001B[49m\u001B[43m)\u001B[49m\n",
      "File \u001B[0;32m~/Documents/boredom-projects/sports-betting/venv/lib/python3.11/site-packages/pandas/core/frame.py:4300\u001B[0m, in \u001B[0;36mDataFrame._set_item\u001B[0;34m(self, key, value)\u001B[0m\n\u001B[1;32m   4290\u001B[0m \u001B[38;5;28;01mdef\u001B[39;00m \u001B[38;5;21m_set_item\u001B[39m(\u001B[38;5;28mself\u001B[39m, key, value) \u001B[38;5;241m-\u001B[39m\u001B[38;5;241m>\u001B[39m \u001B[38;5;28;01mNone\u001B[39;00m:\n\u001B[1;32m   4291\u001B[0m \u001B[38;5;250m    \u001B[39m\u001B[38;5;124;03m\"\"\"\u001B[39;00m\n\u001B[1;32m   4292\u001B[0m \u001B[38;5;124;03m    Add series to DataFrame in specified column.\u001B[39;00m\n\u001B[1;32m   4293\u001B[0m \n\u001B[0;32m   (...)\u001B[0m\n\u001B[1;32m   4298\u001B[0m \u001B[38;5;124;03m    ensure homogeneity.\u001B[39;00m\n\u001B[1;32m   4299\u001B[0m \u001B[38;5;124;03m    \"\"\"\u001B[39;00m\n\u001B[0;32m-> 4300\u001B[0m     value, refs \u001B[38;5;241m=\u001B[39m \u001B[38;5;28;43mself\u001B[39;49m\u001B[38;5;241;43m.\u001B[39;49m\u001B[43m_sanitize_column\u001B[49m\u001B[43m(\u001B[49m\u001B[43mvalue\u001B[49m\u001B[43m)\u001B[49m\n\u001B[1;32m   4302\u001B[0m     \u001B[38;5;28;01mif\u001B[39;00m (\n\u001B[1;32m   4303\u001B[0m         key \u001B[38;5;129;01min\u001B[39;00m \u001B[38;5;28mself\u001B[39m\u001B[38;5;241m.\u001B[39mcolumns\n\u001B[1;32m   4304\u001B[0m         \u001B[38;5;129;01mand\u001B[39;00m value\u001B[38;5;241m.\u001B[39mndim \u001B[38;5;241m==\u001B[39m \u001B[38;5;241m1\u001B[39m\n\u001B[1;32m   4305\u001B[0m         \u001B[38;5;129;01mand\u001B[39;00m \u001B[38;5;129;01mnot\u001B[39;00m \u001B[38;5;28misinstance\u001B[39m(value\u001B[38;5;241m.\u001B[39mdtype, ExtensionDtype)\n\u001B[1;32m   4306\u001B[0m     ):\n\u001B[1;32m   4307\u001B[0m         \u001B[38;5;66;03m# broadcast across multiple columns if necessary\u001B[39;00m\n\u001B[1;32m   4308\u001B[0m         \u001B[38;5;28;01mif\u001B[39;00m \u001B[38;5;129;01mnot\u001B[39;00m \u001B[38;5;28mself\u001B[39m\u001B[38;5;241m.\u001B[39mcolumns\u001B[38;5;241m.\u001B[39mis_unique \u001B[38;5;129;01mor\u001B[39;00m \u001B[38;5;28misinstance\u001B[39m(\u001B[38;5;28mself\u001B[39m\u001B[38;5;241m.\u001B[39mcolumns, MultiIndex):\n",
      "File \u001B[0;32m~/Documents/boredom-projects/sports-betting/venv/lib/python3.11/site-packages/pandas/core/frame.py:5036\u001B[0m, in \u001B[0;36mDataFrame._sanitize_column\u001B[0;34m(self, value)\u001B[0m\n\u001B[1;32m   5034\u001B[0m     \u001B[38;5;28;01mif\u001B[39;00m \u001B[38;5;129;01mnot\u001B[39;00m \u001B[38;5;28misinstance\u001B[39m(value, Series):\n\u001B[1;32m   5035\u001B[0m         value \u001B[38;5;241m=\u001B[39m Series(value)\n\u001B[0;32m-> 5036\u001B[0m     \u001B[38;5;28;01mreturn\u001B[39;00m \u001B[43m_reindex_for_setitem\u001B[49m\u001B[43m(\u001B[49m\u001B[43mvalue\u001B[49m\u001B[43m,\u001B[49m\u001B[43m \u001B[49m\u001B[38;5;28;43mself\u001B[39;49m\u001B[38;5;241;43m.\u001B[39;49m\u001B[43mindex\u001B[49m\u001B[43m)\u001B[49m\n\u001B[1;32m   5038\u001B[0m \u001B[38;5;28;01mif\u001B[39;00m is_list_like(value):\n\u001B[1;32m   5039\u001B[0m     com\u001B[38;5;241m.\u001B[39mrequire_length_match(value, \u001B[38;5;28mself\u001B[39m\u001B[38;5;241m.\u001B[39mindex)\n",
      "File \u001B[0;32m~/Documents/boredom-projects/sports-betting/venv/lib/python3.11/site-packages/pandas/core/frame.py:12309\u001B[0m, in \u001B[0;36m_reindex_for_setitem\u001B[0;34m(value, index)\u001B[0m\n\u001B[1;32m  12305\u001B[0m \u001B[38;5;28;01mexcept\u001B[39;00m \u001B[38;5;167;01mValueError\u001B[39;00m \u001B[38;5;28;01mas\u001B[39;00m err:\n\u001B[1;32m  12306\u001B[0m     \u001B[38;5;66;03m# raised in MultiIndex.from_tuples, see test_insert_error_msmgs\u001B[39;00m\n\u001B[1;32m  12307\u001B[0m     \u001B[38;5;28;01mif\u001B[39;00m \u001B[38;5;129;01mnot\u001B[39;00m value\u001B[38;5;241m.\u001B[39mindex\u001B[38;5;241m.\u001B[39mis_unique:\n\u001B[1;32m  12308\u001B[0m         \u001B[38;5;66;03m# duplicate axis\u001B[39;00m\n\u001B[0;32m> 12309\u001B[0m         \u001B[38;5;28;01mraise\u001B[39;00m err\n\u001B[1;32m  12311\u001B[0m     \u001B[38;5;28;01mraise\u001B[39;00m \u001B[38;5;167;01mTypeError\u001B[39;00m(\n\u001B[1;32m  12312\u001B[0m         \u001B[38;5;124m\"\u001B[39m\u001B[38;5;124mincompatible index of inserted column with frame index\u001B[39m\u001B[38;5;124m\"\u001B[39m\n\u001B[1;32m  12313\u001B[0m     ) \u001B[38;5;28;01mfrom\u001B[39;00m \u001B[38;5;21;01merr\u001B[39;00m\n\u001B[1;32m  12314\u001B[0m \u001B[38;5;28;01mreturn\u001B[39;00m reindexed_value, \u001B[38;5;28;01mNone\u001B[39;00m\n",
      "File \u001B[0;32m~/Documents/boredom-projects/sports-betting/venv/lib/python3.11/site-packages/pandas/core/frame.py:12304\u001B[0m, in \u001B[0;36m_reindex_for_setitem\u001B[0;34m(value, index)\u001B[0m\n\u001B[1;32m  12302\u001B[0m \u001B[38;5;66;03m# GH#4107\u001B[39;00m\n\u001B[1;32m  12303\u001B[0m \u001B[38;5;28;01mtry\u001B[39;00m:\n\u001B[0;32m> 12304\u001B[0m     reindexed_value \u001B[38;5;241m=\u001B[39m \u001B[43mvalue\u001B[49m\u001B[38;5;241;43m.\u001B[39;49m\u001B[43mreindex\u001B[49m\u001B[43m(\u001B[49m\u001B[43mindex\u001B[49m\u001B[43m)\u001B[49m\u001B[38;5;241m.\u001B[39m_values\n\u001B[1;32m  12305\u001B[0m \u001B[38;5;28;01mexcept\u001B[39;00m \u001B[38;5;167;01mValueError\u001B[39;00m \u001B[38;5;28;01mas\u001B[39;00m err:\n\u001B[1;32m  12306\u001B[0m     \u001B[38;5;66;03m# raised in MultiIndex.from_tuples, see test_insert_error_msmgs\u001B[39;00m\n\u001B[1;32m  12307\u001B[0m     \u001B[38;5;28;01mif\u001B[39;00m \u001B[38;5;129;01mnot\u001B[39;00m value\u001B[38;5;241m.\u001B[39mindex\u001B[38;5;241m.\u001B[39mis_unique:\n\u001B[1;32m  12308\u001B[0m         \u001B[38;5;66;03m# duplicate axis\u001B[39;00m\n",
      "File \u001B[0;32m~/Documents/boredom-projects/sports-betting/venv/lib/python3.11/site-packages/pandas/core/series.py:4981\u001B[0m, in \u001B[0;36mSeries.reindex\u001B[0;34m(self, index, axis, method, copy, level, fill_value, limit, tolerance)\u001B[0m\n\u001B[1;32m   4964\u001B[0m \u001B[38;5;129m@doc\u001B[39m(\n\u001B[1;32m   4965\u001B[0m     NDFrame\u001B[38;5;241m.\u001B[39mreindex,  \u001B[38;5;66;03m# type: ignore[has-type]\u001B[39;00m\n\u001B[1;32m   4966\u001B[0m     klass\u001B[38;5;241m=\u001B[39m_shared_doc_kwargs[\u001B[38;5;124m\"\u001B[39m\u001B[38;5;124mklass\u001B[39m\u001B[38;5;124m\"\u001B[39m],\n\u001B[0;32m   (...)\u001B[0m\n\u001B[1;32m   4979\u001B[0m     tolerance\u001B[38;5;241m=\u001B[39m\u001B[38;5;28;01mNone\u001B[39;00m,\n\u001B[1;32m   4980\u001B[0m ) \u001B[38;5;241m-\u001B[39m\u001B[38;5;241m>\u001B[39m Series:\n\u001B[0;32m-> 4981\u001B[0m     \u001B[38;5;28;01mreturn\u001B[39;00m \u001B[38;5;28;43msuper\u001B[39;49m\u001B[43m(\u001B[49m\u001B[43m)\u001B[49m\u001B[38;5;241;43m.\u001B[39;49m\u001B[43mreindex\u001B[49m\u001B[43m(\u001B[49m\n\u001B[1;32m   4982\u001B[0m \u001B[43m        \u001B[49m\u001B[43mindex\u001B[49m\u001B[38;5;241;43m=\u001B[39;49m\u001B[43mindex\u001B[49m\u001B[43m,\u001B[49m\n\u001B[1;32m   4983\u001B[0m \u001B[43m        \u001B[49m\u001B[43mmethod\u001B[49m\u001B[38;5;241;43m=\u001B[39;49m\u001B[43mmethod\u001B[49m\u001B[43m,\u001B[49m\n\u001B[1;32m   4984\u001B[0m \u001B[43m        \u001B[49m\u001B[43mcopy\u001B[49m\u001B[38;5;241;43m=\u001B[39;49m\u001B[43mcopy\u001B[49m\u001B[43m,\u001B[49m\n\u001B[1;32m   4985\u001B[0m \u001B[43m        \u001B[49m\u001B[43mlevel\u001B[49m\u001B[38;5;241;43m=\u001B[39;49m\u001B[43mlevel\u001B[49m\u001B[43m,\u001B[49m\n\u001B[1;32m   4986\u001B[0m \u001B[43m        \u001B[49m\u001B[43mfill_value\u001B[49m\u001B[38;5;241;43m=\u001B[39;49m\u001B[43mfill_value\u001B[49m\u001B[43m,\u001B[49m\n\u001B[1;32m   4987\u001B[0m \u001B[43m        \u001B[49m\u001B[43mlimit\u001B[49m\u001B[38;5;241;43m=\u001B[39;49m\u001B[43mlimit\u001B[49m\u001B[43m,\u001B[49m\n\u001B[1;32m   4988\u001B[0m \u001B[43m        \u001B[49m\u001B[43mtolerance\u001B[49m\u001B[38;5;241;43m=\u001B[39;49m\u001B[43mtolerance\u001B[49m\u001B[43m,\u001B[49m\n\u001B[1;32m   4989\u001B[0m \u001B[43m    \u001B[49m\u001B[43m)\u001B[49m\n",
      "File \u001B[0;32m~/Documents/boredom-projects/sports-betting/venv/lib/python3.11/site-packages/pandas/core/generic.py:5521\u001B[0m, in \u001B[0;36mNDFrame.reindex\u001B[0;34m(self, labels, index, columns, axis, method, copy, level, fill_value, limit, tolerance)\u001B[0m\n\u001B[1;32m   5518\u001B[0m     \u001B[38;5;28;01mreturn\u001B[39;00m \u001B[38;5;28mself\u001B[39m\u001B[38;5;241m.\u001B[39m_reindex_multi(axes, copy, fill_value)\n\u001B[1;32m   5520\u001B[0m \u001B[38;5;66;03m# perform the reindex on the axes\u001B[39;00m\n\u001B[0;32m-> 5521\u001B[0m \u001B[38;5;28;01mreturn\u001B[39;00m \u001B[38;5;28;43mself\u001B[39;49m\u001B[38;5;241;43m.\u001B[39;49m\u001B[43m_reindex_axes\u001B[49m\u001B[43m(\u001B[49m\n\u001B[1;32m   5522\u001B[0m \u001B[43m    \u001B[49m\u001B[43maxes\u001B[49m\u001B[43m,\u001B[49m\u001B[43m \u001B[49m\u001B[43mlevel\u001B[49m\u001B[43m,\u001B[49m\u001B[43m \u001B[49m\u001B[43mlimit\u001B[49m\u001B[43m,\u001B[49m\u001B[43m \u001B[49m\u001B[43mtolerance\u001B[49m\u001B[43m,\u001B[49m\u001B[43m \u001B[49m\u001B[43mmethod\u001B[49m\u001B[43m,\u001B[49m\u001B[43m \u001B[49m\u001B[43mfill_value\u001B[49m\u001B[43m,\u001B[49m\u001B[43m \u001B[49m\u001B[43mcopy\u001B[49m\n\u001B[1;32m   5523\u001B[0m \u001B[43m\u001B[49m\u001B[43m)\u001B[49m\u001B[38;5;241m.\u001B[39m__finalize__(\u001B[38;5;28mself\u001B[39m, method\u001B[38;5;241m=\u001B[39m\u001B[38;5;124m\"\u001B[39m\u001B[38;5;124mreindex\u001B[39m\u001B[38;5;124m\"\u001B[39m)\n",
      "File \u001B[0;32m~/Documents/boredom-projects/sports-betting/venv/lib/python3.11/site-packages/pandas/core/generic.py:5544\u001B[0m, in \u001B[0;36mNDFrame._reindex_axes\u001B[0;34m(self, axes, level, limit, tolerance, method, fill_value, copy)\u001B[0m\n\u001B[1;32m   5541\u001B[0m     \u001B[38;5;28;01mcontinue\u001B[39;00m\n\u001B[1;32m   5543\u001B[0m ax \u001B[38;5;241m=\u001B[39m \u001B[38;5;28mself\u001B[39m\u001B[38;5;241m.\u001B[39m_get_axis(a)\n\u001B[0;32m-> 5544\u001B[0m new_index, indexer \u001B[38;5;241m=\u001B[39m \u001B[43max\u001B[49m\u001B[38;5;241;43m.\u001B[39;49m\u001B[43mreindex\u001B[49m\u001B[43m(\u001B[49m\n\u001B[1;32m   5545\u001B[0m \u001B[43m    \u001B[49m\u001B[43mlabels\u001B[49m\u001B[43m,\u001B[49m\u001B[43m \u001B[49m\u001B[43mlevel\u001B[49m\u001B[38;5;241;43m=\u001B[39;49m\u001B[43mlevel\u001B[49m\u001B[43m,\u001B[49m\u001B[43m \u001B[49m\u001B[43mlimit\u001B[49m\u001B[38;5;241;43m=\u001B[39;49m\u001B[43mlimit\u001B[49m\u001B[43m,\u001B[49m\u001B[43m \u001B[49m\u001B[43mtolerance\u001B[49m\u001B[38;5;241;43m=\u001B[39;49m\u001B[43mtolerance\u001B[49m\u001B[43m,\u001B[49m\u001B[43m \u001B[49m\u001B[43mmethod\u001B[49m\u001B[38;5;241;43m=\u001B[39;49m\u001B[43mmethod\u001B[49m\n\u001B[1;32m   5546\u001B[0m \u001B[43m\u001B[49m\u001B[43m)\u001B[49m\n\u001B[1;32m   5548\u001B[0m axis \u001B[38;5;241m=\u001B[39m \u001B[38;5;28mself\u001B[39m\u001B[38;5;241m.\u001B[39m_get_axis_number(a)\n\u001B[1;32m   5549\u001B[0m obj \u001B[38;5;241m=\u001B[39m obj\u001B[38;5;241m.\u001B[39m_reindex_with_indexers(\n\u001B[1;32m   5550\u001B[0m     {axis: [new_index, indexer]},\n\u001B[1;32m   5551\u001B[0m     fill_value\u001B[38;5;241m=\u001B[39mfill_value,\n\u001B[1;32m   5552\u001B[0m     copy\u001B[38;5;241m=\u001B[39mcopy,\n\u001B[1;32m   5553\u001B[0m     allow_dups\u001B[38;5;241m=\u001B[39m\u001B[38;5;28;01mFalse\u001B[39;00m,\n\u001B[1;32m   5554\u001B[0m )\n",
      "File \u001B[0;32m~/Documents/boredom-projects/sports-betting/venv/lib/python3.11/site-packages/pandas/core/indexes/base.py:4434\u001B[0m, in \u001B[0;36mIndex.reindex\u001B[0;34m(self, target, method, level, limit, tolerance)\u001B[0m\n\u001B[1;32m   4431\u001B[0m     \u001B[38;5;28;01mraise\u001B[39;00m \u001B[38;5;167;01mValueError\u001B[39;00m(\u001B[38;5;124m\"\u001B[39m\u001B[38;5;124mcannot handle a non-unique multi-index!\u001B[39m\u001B[38;5;124m\"\u001B[39m)\n\u001B[1;32m   4432\u001B[0m \u001B[38;5;28;01melif\u001B[39;00m \u001B[38;5;129;01mnot\u001B[39;00m \u001B[38;5;28mself\u001B[39m\u001B[38;5;241m.\u001B[39mis_unique:\n\u001B[1;32m   4433\u001B[0m     \u001B[38;5;66;03m# GH#42568\u001B[39;00m\n\u001B[0;32m-> 4434\u001B[0m     \u001B[38;5;28;01mraise\u001B[39;00m \u001B[38;5;167;01mValueError\u001B[39;00m(\u001B[38;5;124m\"\u001B[39m\u001B[38;5;124mcannot reindex on an axis with duplicate labels\u001B[39m\u001B[38;5;124m\"\u001B[39m)\n\u001B[1;32m   4435\u001B[0m \u001B[38;5;28;01melse\u001B[39;00m:\n\u001B[1;32m   4436\u001B[0m     indexer, _ \u001B[38;5;241m=\u001B[39m \u001B[38;5;28mself\u001B[39m\u001B[38;5;241m.\u001B[39mget_indexer_non_unique(target)\n",
      "\u001B[0;31mValueError\u001B[0m: cannot reindex on an axis with duplicate labels"
     ]
    }
   ],
   "source": [
    "indexed = merged_data.reset_index().set_index(['GAME_DATE', 'GAME_ID'])\n",
    "past_games = indexed\n",
    "for i in range(4):\n",
    "    columns = [column + '_past' + str(i) for column in merged.columns]\n",
    "    past_games[columns] = merged.shift(i)\n",
    "past_games"
   ],
   "metadata": {
    "collapsed": false,
    "ExecuteTime": {
     "end_time": "2024-01-14T02:31:29.631356Z",
     "start_time": "2024-01-14T02:31:29.178938Z"
    }
   }
  },
  {
   "cell_type": "code",
   "execution_count": null,
   "outputs": [],
   "source": [],
   "metadata": {
    "collapsed": false
   }
  }
 ],
 "metadata": {
  "kernelspec": {
   "name": "sports-betting",
   "language": "python",
   "display_name": "sports-betting"
  },
  "language_info": {
   "codemirror_mode": {
    "name": "ipython",
    "version": 2
   },
   "file_extension": ".py",
   "mimetype": "text/x-python",
   "name": "python",
   "nbconvert_exporter": "python",
   "pygments_lexer": "ipython2",
   "version": "2.7.6"
  }
 },
 "nbformat": 4,
 "nbformat_minor": 0
}
