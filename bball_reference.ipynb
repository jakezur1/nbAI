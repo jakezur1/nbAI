{
 "cells": [
  {
   "cell_type": "code",
   "execution_count": null,
   "metadata": {
    "collapsed": true
   },
   "outputs": [],
   "source": [
    "import pandas as pd\n",
    "import numpy as np\n",
    "import time\n",
    "\n",
    "from tqdm.auto import tqdm\n",
    "from basketball_reference_web_scraper.data import OutputType, OutputWriteOption\n",
    "from basketball_reference_web_scraper.client import players_season_totals, players_advanced_season_totals"
   ]
  },
  {
   "cell_type": "code",
   "execution_count": null,
   "outputs": [],
   "source": [
    "player_totals_basic = pd.DataFrame()\n",
    "for i in range(2000, 2025):\n",
    "    season_totals = pd.DataFrame(players_season_totals(season_end_year=i))\n",
    "    season_totals['season_end'] = [i] * len(season_totals)\n",
    "    player_totals_basic = pd.concat([player_totals_basic, season_totals], axis=0)\n",
    "player_totals_basic.set_index('season_end', inplace=True)\n",
    "player_totals_basic.to_csv('2000_2024_player_totals_basic.csv')"
   ],
   "metadata": {
    "collapsed": false
   }
  },
  {
   "cell_type": "code",
   "execution_count": null,
   "outputs": [],
   "source": [
    "player_totals_advanced = pd.DataFrame()\n",
    "for i in range(2000, 2025):\n",
    "    season_totals = pd.DataFrame(players_advanced_season_totals(season_end_year=i))\n",
    "    season_totals['season_end'] = [i] * len(season_totals)\n",
    "    player_totals_advanced = pd.concat([player_totals_advanced, season_totals], axis=0)\n",
    "player_totals_advanced.set_index('season_end', inplace=True)\n",
    "player_totals_advanced.to_csv('2000_2024_player_totals_advanced.csv')"
   ],
   "metadata": {
    "collapsed": false
   }
  },
  {
   "cell_type": "code",
   "execution_count": null,
   "outputs": [],
   "source": [
    "player_totals_basic = pd.read_csv('2000_2024_player_totals_basic.csv', index_col=0)\n",
    "player_totals_basic"
   ],
   "metadata": {
    "collapsed": false
   }
  },
  {
   "cell_type": "code",
   "execution_count": null,
   "outputs": [],
   "source": [
    "player_totals_basic_cleaned = player_totals_basic.groupby('season_end')\n",
    "agg_functions = {'slug': 'last', 'positions': 'last', 'age': 'last', 'team': 'last'}\n",
    "agg_functions.update(dict(zip(player_totals_basic.columns[5:], ['sum'] * len(player_totals_basic.columns[5:]))))\n",
    "player_totals_basic_cleaned = player_totals_basic_cleaned.transform(lambda x: x).groupby(['season_end', 'name']).aggregate(agg_functions)\n",
    "player_totals_basic_cleaned['made_two_point_field_goals'] = player_totals_basic_cleaned['made_field_goals'] - player_totals_basic_cleaned['made_three_point_field_goals']\n",
    "player_totals_basic_cleaned['attempted_two_point_field_goals'] = player_totals_basic_cleaned['attempted_field_goals'] - player_totals_basic_cleaned['attempted_three_point_field_goals']\n",
    "player_totals_basic_cleaned"
   ],
   "metadata": {
    "collapsed": false
   }
  },
  {
   "cell_type": "code",
   "execution_count": null,
   "outputs": [],
   "source": [
    "player_totals_basic_pg = pd.DataFrame()\n",
    "games_played = player_totals_basic_cleaned['games_played']\n",
    "player_totals_basic_pg['MP/G'] = player_totals_basic_cleaned['minutes_played'] / games_played\n",
    "player_totals_basic_pg['GS%'] = player_totals_basic_cleaned['games_started'] / games_played\n",
    "player_totals_basic_pg['PS/G'] = player_totals_basic_cleaned['points'] / games_played\n",
    "player_totals_basic_pg['FG/G'] = player_totals_basic_cleaned['made_field_goals'] / games_played\n",
    "player_totals_basic_pg['FGA'] = player_totals_basic_cleaned['attempted_field_goals'] / games_played\n",
    "player_totals_basic_pg['FG%'] = player_totals_basic_cleaned['made_field_goals'] / player_totals_basic_cleaned['attempted_field_goals']\n",
    "player_totals_basic_pg['2P/G'] = player_totals_basic_cleaned['made_two_point_field_goals'] / games_played\n",
    "player_totals_basic_pg['2PA/G'] = player_totals_basic_cleaned['attempted_two_point_field_goals'] / games_played\n",
    "player_totals_basic_pg['2P%'] = player_totals_basic_cleaned['made_two_point_field_goals'] / player_totals_basic_cleaned['attempted_two_point_field_goals']\n",
    "player_totals_basic_pg['3P/G'] = player_totals_basic_cleaned['made_three_point_field_goals'] / games_played\n",
    "player_totals_basic_pg['3PA/G'] = player_totals_basic_cleaned['attempted_three_point_field_goals'] / games_played\n",
    "player_totals_basic_pg['3P%'] = player_totals_basic_cleaned['made_three_point_field_goals'] / player_totals_basic_cleaned['attempted_three_point_field_goals']\n",
    "player_totals_basic_pg['FT/G'] = player_totals_basic_cleaned['made_free_throws'] / games_played\n",
    "player_totals_basic_pg['FTA/G'] = player_totals_basic_cleaned['attempted_free_throws'] / games_played\n",
    "player_totals_basic_pg['FT%'] = player_totals_basic_cleaned['made_free_throws'] / player_totals_basic_cleaned['attempted_free_throws']\n",
    "player_totals_basic_pg['ORB/G'] = player_totals_basic_cleaned['offensive_rebounds'] / games_played\n",
    "player_totals_basic_pg['DRB/G'] = player_totals_basic_cleaned['defensive_rebounds'] / games_played\n",
    "player_totals_basic_pg['TRB/G'] = (player_totals_basic_cleaned['offensive_rebounds'] + player_totals_basic_cleaned['defensive_rebounds']) / games_played\n",
    "player_totals_basic_pg['AST/G'] = player_totals_basic_cleaned['assists'] / games_played\n",
    "player_totals_basic_pg['STL/G'] = player_totals_basic_cleaned['steals'] / games_played\n",
    "player_totals_basic_pg['BLK/G'] = player_totals_basic_cleaned['blocks'] / games_played\n",
    "player_totals_basic_pg['TOV/G'] = player_totals_basic_cleaned['turnovers'] / games_played\n",
    "player_totals_basic_pg"
   ],
   "metadata": {
    "collapsed": false
   }
  },
  {
   "cell_type": "code",
   "execution_count": null,
   "outputs": [],
   "source": [
    "player_totals_advanced = pd.read_csv('2000_2024_player_totals_advanced.csv', index_col=0)\n",
    "player_totals_advanced"
   ],
   "metadata": {
    "collapsed": false
   }
  },
  {
   "cell_type": "code",
   "execution_count": null,
   "outputs": [],
   "source": [
    "player_totals_advanced_cleaned = player_totals_advanced.groupby('season_end')\n",
    "agg_functions = {'slug': 'last', 'positions': 'last', 'age': 'last', 'team': 'last'}\n",
    "agg_functions.update(dict(zip(player_totals_advanced.columns[5:], ['sum'] * len(player_totals_advanced.columns[5:]))))\n",
    "player_totals_advanced_cleaned = player_totals_advanced_cleaned.transform(lambda x: x).groupby(['season_end', 'name']).aggregate(agg_functions)\n",
    "player_totals_advanced_cleaned"
   ],
   "metadata": {
    "collapsed": false
   }
  },
  {
   "cell_type": "code",
   "execution_count": 84,
   "outputs": [
    {
     "data": {
      "text/plain": "                             PER    TS%      eFG%      3PAr       FTr  ORB%  \\\nseason_end name                                                               \n2000       A.C. Green       11.2  0.482  0.448320  0.010336  0.245478   9.0   \n           A.J. Bramlett    -0.4  0.190  0.190476  0.000000  0.000000  21.7   \n           Aaron McKie      13.2  0.497  0.448567  0.204047  0.246206   2.6   \n           Aaron Williams   17.7  0.572  0.522222  0.006667  0.446667  11.7   \n           Adam Keefe        7.6  0.463  0.407692  0.007692  0.276923   9.3   \n...                          ...    ...       ...       ...       ...   ...   \n2024       Zach Collins     14.1  0.585  0.550162  0.352751  0.249191   7.7   \n           Zach LaVine      15.8  0.578  0.528169  0.450704  0.287324   1.1   \n           Zeke Nnaji       11.7  0.544  0.505952  0.178571  0.464286  13.1   \n           Ziaire Williams   9.9  0.526  0.490421  0.498084  0.183908   3.8   \n           Zion Williamson  22.3  0.616  0.587553  0.018987  0.464135   6.9   \n\n                            DRB%  TRB%  AST%  USG%  STL%  BLK%  TOV%  \nseason_end name                                                       \n2000       A.C. Green       17.9  13.5   5.9  11.0   1.4   0.7  11.0  \n           A.J. Bramlett    18.5  20.1   0.0  17.1   0.8   0.0  12.5  \n           Aaron McKie      11.4   7.0  19.5  17.3   2.9   0.7  14.7  \n           Aaron Williams   18.9  15.2   6.2  17.8   1.4   4.3  12.9  \n           Adam Keefe       18.0  13.7   8.5  14.7   1.5   1.7  24.0  \n...                          ...   ...   ...   ...   ...   ...   ...  \n2024       Zach Collins     17.1  12.3  18.6  21.4   1.0   2.6  17.2  \n           Zach LaVine      16.1   8.4  17.3  24.1   1.3   1.0  10.5  \n           Zeke Nnaji       12.0  12.6   6.5  16.1   1.2   5.2  17.2  \n           Ziaire Williams  16.7  10.1  10.8  20.0   1.3   1.2  13.8  \n           Zion Williamson  14.7  10.8  25.3  28.9   1.5   1.3  12.6  \n\n[12045 rows x 13 columns]",
      "text/html": "<div>\n<style scoped>\n    .dataframe tbody tr th:only-of-type {\n        vertical-align: middle;\n    }\n\n    .dataframe tbody tr th {\n        vertical-align: top;\n    }\n\n    .dataframe thead th {\n        text-align: right;\n    }\n</style>\n<table border=\"1\" class=\"dataframe\">\n  <thead>\n    <tr style=\"text-align: right;\">\n      <th></th>\n      <th></th>\n      <th>PER</th>\n      <th>TS%</th>\n      <th>eFG%</th>\n      <th>3PAr</th>\n      <th>FTr</th>\n      <th>ORB%</th>\n      <th>DRB%</th>\n      <th>TRB%</th>\n      <th>AST%</th>\n      <th>USG%</th>\n      <th>STL%</th>\n      <th>BLK%</th>\n      <th>TOV%</th>\n    </tr>\n    <tr>\n      <th>season_end</th>\n      <th>name</th>\n      <th></th>\n      <th></th>\n      <th></th>\n      <th></th>\n      <th></th>\n      <th></th>\n      <th></th>\n      <th></th>\n      <th></th>\n      <th></th>\n      <th></th>\n      <th></th>\n      <th></th>\n    </tr>\n  </thead>\n  <tbody>\n    <tr>\n      <th rowspan=\"5\" valign=\"top\">2000</th>\n      <th>A.C. Green</th>\n      <td>11.2</td>\n      <td>0.482</td>\n      <td>0.448320</td>\n      <td>0.010336</td>\n      <td>0.245478</td>\n      <td>9.0</td>\n      <td>17.9</td>\n      <td>13.5</td>\n      <td>5.9</td>\n      <td>11.0</td>\n      <td>1.4</td>\n      <td>0.7</td>\n      <td>11.0</td>\n    </tr>\n    <tr>\n      <th>A.J. Bramlett</th>\n      <td>-0.4</td>\n      <td>0.190</td>\n      <td>0.190476</td>\n      <td>0.000000</td>\n      <td>0.000000</td>\n      <td>21.7</td>\n      <td>18.5</td>\n      <td>20.1</td>\n      <td>0.0</td>\n      <td>17.1</td>\n      <td>0.8</td>\n      <td>0.0</td>\n      <td>12.5</td>\n    </tr>\n    <tr>\n      <th>Aaron McKie</th>\n      <td>13.2</td>\n      <td>0.497</td>\n      <td>0.448567</td>\n      <td>0.204047</td>\n      <td>0.246206</td>\n      <td>2.6</td>\n      <td>11.4</td>\n      <td>7.0</td>\n      <td>19.5</td>\n      <td>17.3</td>\n      <td>2.9</td>\n      <td>0.7</td>\n      <td>14.7</td>\n    </tr>\n    <tr>\n      <th>Aaron Williams</th>\n      <td>17.7</td>\n      <td>0.572</td>\n      <td>0.522222</td>\n      <td>0.006667</td>\n      <td>0.446667</td>\n      <td>11.7</td>\n      <td>18.9</td>\n      <td>15.2</td>\n      <td>6.2</td>\n      <td>17.8</td>\n      <td>1.4</td>\n      <td>4.3</td>\n      <td>12.9</td>\n    </tr>\n    <tr>\n      <th>Adam Keefe</th>\n      <td>7.6</td>\n      <td>0.463</td>\n      <td>0.407692</td>\n      <td>0.007692</td>\n      <td>0.276923</td>\n      <td>9.3</td>\n      <td>18.0</td>\n      <td>13.7</td>\n      <td>8.5</td>\n      <td>14.7</td>\n      <td>1.5</td>\n      <td>1.7</td>\n      <td>24.0</td>\n    </tr>\n    <tr>\n      <th>...</th>\n      <th>...</th>\n      <td>...</td>\n      <td>...</td>\n      <td>...</td>\n      <td>...</td>\n      <td>...</td>\n      <td>...</td>\n      <td>...</td>\n      <td>...</td>\n      <td>...</td>\n      <td>...</td>\n      <td>...</td>\n      <td>...</td>\n      <td>...</td>\n    </tr>\n    <tr>\n      <th rowspan=\"5\" valign=\"top\">2024</th>\n      <th>Zach Collins</th>\n      <td>14.1</td>\n      <td>0.585</td>\n      <td>0.550162</td>\n      <td>0.352751</td>\n      <td>0.249191</td>\n      <td>7.7</td>\n      <td>17.1</td>\n      <td>12.3</td>\n      <td>18.6</td>\n      <td>21.4</td>\n      <td>1.0</td>\n      <td>2.6</td>\n      <td>17.2</td>\n    </tr>\n    <tr>\n      <th>Zach LaVine</th>\n      <td>15.8</td>\n      <td>0.578</td>\n      <td>0.528169</td>\n      <td>0.450704</td>\n      <td>0.287324</td>\n      <td>1.1</td>\n      <td>16.1</td>\n      <td>8.4</td>\n      <td>17.3</td>\n      <td>24.1</td>\n      <td>1.3</td>\n      <td>1.0</td>\n      <td>10.5</td>\n    </tr>\n    <tr>\n      <th>Zeke Nnaji</th>\n      <td>11.7</td>\n      <td>0.544</td>\n      <td>0.505952</td>\n      <td>0.178571</td>\n      <td>0.464286</td>\n      <td>13.1</td>\n      <td>12.0</td>\n      <td>12.6</td>\n      <td>6.5</td>\n      <td>16.1</td>\n      <td>1.2</td>\n      <td>5.2</td>\n      <td>17.2</td>\n    </tr>\n    <tr>\n      <th>Ziaire Williams</th>\n      <td>9.9</td>\n      <td>0.526</td>\n      <td>0.490421</td>\n      <td>0.498084</td>\n      <td>0.183908</td>\n      <td>3.8</td>\n      <td>16.7</td>\n      <td>10.1</td>\n      <td>10.8</td>\n      <td>20.0</td>\n      <td>1.3</td>\n      <td>1.2</td>\n      <td>13.8</td>\n    </tr>\n    <tr>\n      <th>Zion Williamson</th>\n      <td>22.3</td>\n      <td>0.616</td>\n      <td>0.587553</td>\n      <td>0.018987</td>\n      <td>0.464135</td>\n      <td>6.9</td>\n      <td>14.7</td>\n      <td>10.8</td>\n      <td>25.3</td>\n      <td>28.9</td>\n      <td>1.5</td>\n      <td>1.3</td>\n      <td>12.6</td>\n    </tr>\n  </tbody>\n</table>\n<p>12045 rows × 13 columns</p>\n</div>"
     },
     "execution_count": 84,
     "metadata": {},
     "output_type": "execute_result"
    }
   ],
   "source": [
    "player_totals_advanced_pg = pd.DataFrame()\n",
    "games_played = player_totals_basic_cleaned['games_played']\n",
    "player_totals_advanced_pg['PER'] = player_totals_advanced_cleaned['player_efficiency_rating']\n",
    "player_totals_advanced_pg['TS%'] = player_totals_advanced_cleaned['true_shooting_percentage']\n",
    "player_totals_advanced_pg['eFG%'] = (player_totals_basic_cleaned['made_two_point_field_goals'] + 1.5 * player_totals_basic_cleaned['made_three_point_field_goals']) / player_totals_basic_cleaned['attempted_field_goals']\n",
    "player_totals_advanced_pg['3PAr'] = player_totals_basic_cleaned['attempted_three_point_field_goals'] / player_totals_basic_cleaned['attempted_field_goals']\n",
    "player_totals_advanced_pg['FTr'] = player_totals_basic_cleaned['attempted_free_throws'] / player_totals_basic_cleaned['attempted_field_goals']\n",
    "player_totals_advanced_pg['ORB%'] = player_totals_advanced_cleaned['offensive_rebound_percentage']\n",
    "player_totals_advanced_pg['DRB%'] = player_totals_advanced_cleaned['defensive_rebound_percentage']\n",
    "player_totals_advanced_pg['TRB%'] = player_totals_advanced_cleaned['total_rebound_percentage']\n",
    "player_totals_advanced_pg['AST%'] = player_totals_advanced_cleaned['assist_percentage']\n",
    "player_totals_advanced_pg['USG%'] = player_totals_advanced_cleaned['usage_percentage']\n",
    "player_totals_advanced_pg['STL%'] = player_totals_advanced_cleaned['steal_percentage']\n",
    "player_totals_advanced_pg['BLK%'] = player_totals_advanced_cleaned['block_percentage']\n",
    "player_totals_advanced_pg['TOV%'] = player_totals_advanced_cleaned['turnover_percentage']\n",
    "player_totals_advanced_pg"
   ],
   "metadata": {
    "collapsed": false,
    "ExecuteTime": {
     "end_time": "2024-01-21T20:32:52.443922Z",
     "start_time": "2024-01-21T20:32:52.423497Z"
    }
   }
  },
  {
   "cell_type": "code",
   "execution_count": 72,
   "outputs": [],
   "source": [
    "from nba_api.stats.endpoints import shotchartdetail\n",
    "from nba_api.stats.static import players\n",
    "\n",
    "def get_shot_data(player_full_name: str, season: str):\n",
    "    player_dictionary = players.get_players()\n",
    "    try:\n",
    "        player_info = [player for player in player_dictionary if player['full_name'] == player_full_name][0]\n",
    "    except Exception as e:\n",
    "        return None\n",
    "    player_id = player_info['id']\n",
    "\n",
    "    player_shotlog = shotchartdetail.ShotChartDetail(team_id = 0, player_id = player_id, season_nullable=season, context_measure_simple = 'FGA', season_type_all_star = ['Regular Season'])\n",
    "\n",
    "    player_df = player_shotlog.get_data_frames()[0]\n",
    "    return player_df"
   ],
   "metadata": {
    "collapsed": false,
    "ExecuteTime": {
     "end_time": "2024-01-20T03:07:06.599451Z",
     "start_time": "2024-01-20T03:07:06.597546Z"
    }
   }
  },
  {
   "cell_type": "code",
   "execution_count": 74,
   "outputs": [
    {
     "data": {
      "text/plain": "             GRID_TYPE     GAME_ID  GAME_EVENT_ID  PLAYER_ID   PLAYER_NAME  \\\n0    Shot Chart Detail  0022300015              7       2544  LeBron James   \n1    Shot Chart Detail  0022300015             11       2544  LeBron James   \n2    Shot Chart Detail  0022300015             20       2544  LeBron James   \n3    Shot Chart Detail  0022300015             36       2544  LeBron James   \n4    Shot Chart Detail  0022300015             72       2544  LeBron James   \n..                 ...         ...            ...        ...           ...   \n669  Shot Chart Detail  0022301230            233       2544  LeBron James   \n670  Shot Chart Detail  0022301230            300       2544  LeBron James   \n671  Shot Chart Detail  0022301230            340       2544  LeBron James   \n672  Shot Chart Detail  0022301230            380       2544  LeBron James   \n673  Shot Chart Detail  0022301230            410       2544  LeBron James   \n\n        TEAM_ID           TEAM_NAME  PERIOD  MINUTES_REMAINING  \\\n0    1610612747  Los Angeles Lakers       1                 11   \n1    1610612747  Los Angeles Lakers       1                 11   \n2    1610612747  Los Angeles Lakers       1                 10   \n3    1610612747  Los Angeles Lakers       1                  9   \n4    1610612747  Los Angeles Lakers       1                  5   \n..          ...                 ...     ...                ...   \n669  1610612747  Los Angeles Lakers       2                  7   \n670  1610612747  Los Angeles Lakers       2                  2   \n671  1610612747  Los Angeles Lakers       3                 11   \n672  1610612747  Los Angeles Lakers       3                  8   \n673  1610612747  Los Angeles Lakers       3                  6   \n\n     SECONDS_REMAINING  ... SHOT_ZONE_AREA  SHOT_ZONE_RANGE SHOT_DISTANCE  \\\n0                   40  ...      Center(C)        16-24 ft.            17   \n1                   12  ...      Center(C)  Less Than 8 ft.             0   \n2                    1  ...   Left Side(L)         8-16 ft.            12   \n3                    0  ...      Center(C)  Less Than 8 ft.             0   \n4                   18  ...   Left Side(L)         8-16 ft.            12   \n..                 ...  ...            ...              ...           ...   \n669                  6  ...      Center(C)         8-16 ft.             9   \n670                 30  ...      Center(C)  Less Than 8 ft.             1   \n671                 24  ...      Center(C)  Less Than 8 ft.             3   \n672                  5  ...      Center(C)          24+ ft.            26   \n673                 19  ...      Center(C)  Less Than 8 ft.             1   \n\n    LOC_X LOC_Y SHOT_ATTEMPTED_FLAG  SHOT_MADE_FLAG  GAME_DATE  HTM  VTM  \n0     -47   172                   1               0   20231110  PHX  LAL  \n1       2     5                   1               1   20231110  PHX  LAL  \n2    -119    32                   1               0   20231110  PHX  LAL  \n3       1     8                   1               1   20231110  PHX  LAL  \n4     -82    89                   1               0   20231110  PHX  LAL  \n..    ...   ...                 ...             ...        ...  ...  ...  \n669    -1    91                   1               1   20231207  LAL  NOP  \n670    10     2                   1               1   20231207  LAL  NOP  \n671   -36     1                   1               1   20231207  LAL  NOP  \n672    23   269                   1               1   20231207  LAL  NOP  \n673   -12    -4                   1               0   20231207  LAL  NOP  \n\n[674 rows x 24 columns]",
      "text/html": "<div>\n<style scoped>\n    .dataframe tbody tr th:only-of-type {\n        vertical-align: middle;\n    }\n\n    .dataframe tbody tr th {\n        vertical-align: top;\n    }\n\n    .dataframe thead th {\n        text-align: right;\n    }\n</style>\n<table border=\"1\" class=\"dataframe\">\n  <thead>\n    <tr style=\"text-align: right;\">\n      <th></th>\n      <th>GRID_TYPE</th>\n      <th>GAME_ID</th>\n      <th>GAME_EVENT_ID</th>\n      <th>PLAYER_ID</th>\n      <th>PLAYER_NAME</th>\n      <th>TEAM_ID</th>\n      <th>TEAM_NAME</th>\n      <th>PERIOD</th>\n      <th>MINUTES_REMAINING</th>\n      <th>SECONDS_REMAINING</th>\n      <th>...</th>\n      <th>SHOT_ZONE_AREA</th>\n      <th>SHOT_ZONE_RANGE</th>\n      <th>SHOT_DISTANCE</th>\n      <th>LOC_X</th>\n      <th>LOC_Y</th>\n      <th>SHOT_ATTEMPTED_FLAG</th>\n      <th>SHOT_MADE_FLAG</th>\n      <th>GAME_DATE</th>\n      <th>HTM</th>\n      <th>VTM</th>\n    </tr>\n  </thead>\n  <tbody>\n    <tr>\n      <th>0</th>\n      <td>Shot Chart Detail</td>\n      <td>0022300015</td>\n      <td>7</td>\n      <td>2544</td>\n      <td>LeBron James</td>\n      <td>1610612747</td>\n      <td>Los Angeles Lakers</td>\n      <td>1</td>\n      <td>11</td>\n      <td>40</td>\n      <td>...</td>\n      <td>Center(C)</td>\n      <td>16-24 ft.</td>\n      <td>17</td>\n      <td>-47</td>\n      <td>172</td>\n      <td>1</td>\n      <td>0</td>\n      <td>20231110</td>\n      <td>PHX</td>\n      <td>LAL</td>\n    </tr>\n    <tr>\n      <th>1</th>\n      <td>Shot Chart Detail</td>\n      <td>0022300015</td>\n      <td>11</td>\n      <td>2544</td>\n      <td>LeBron James</td>\n      <td>1610612747</td>\n      <td>Los Angeles Lakers</td>\n      <td>1</td>\n      <td>11</td>\n      <td>12</td>\n      <td>...</td>\n      <td>Center(C)</td>\n      <td>Less Than 8 ft.</td>\n      <td>0</td>\n      <td>2</td>\n      <td>5</td>\n      <td>1</td>\n      <td>1</td>\n      <td>20231110</td>\n      <td>PHX</td>\n      <td>LAL</td>\n    </tr>\n    <tr>\n      <th>2</th>\n      <td>Shot Chart Detail</td>\n      <td>0022300015</td>\n      <td>20</td>\n      <td>2544</td>\n      <td>LeBron James</td>\n      <td>1610612747</td>\n      <td>Los Angeles Lakers</td>\n      <td>1</td>\n      <td>10</td>\n      <td>1</td>\n      <td>...</td>\n      <td>Left Side(L)</td>\n      <td>8-16 ft.</td>\n      <td>12</td>\n      <td>-119</td>\n      <td>32</td>\n      <td>1</td>\n      <td>0</td>\n      <td>20231110</td>\n      <td>PHX</td>\n      <td>LAL</td>\n    </tr>\n    <tr>\n      <th>3</th>\n      <td>Shot Chart Detail</td>\n      <td>0022300015</td>\n      <td>36</td>\n      <td>2544</td>\n      <td>LeBron James</td>\n      <td>1610612747</td>\n      <td>Los Angeles Lakers</td>\n      <td>1</td>\n      <td>9</td>\n      <td>0</td>\n      <td>...</td>\n      <td>Center(C)</td>\n      <td>Less Than 8 ft.</td>\n      <td>0</td>\n      <td>1</td>\n      <td>8</td>\n      <td>1</td>\n      <td>1</td>\n      <td>20231110</td>\n      <td>PHX</td>\n      <td>LAL</td>\n    </tr>\n    <tr>\n      <th>4</th>\n      <td>Shot Chart Detail</td>\n      <td>0022300015</td>\n      <td>72</td>\n      <td>2544</td>\n      <td>LeBron James</td>\n      <td>1610612747</td>\n      <td>Los Angeles Lakers</td>\n      <td>1</td>\n      <td>5</td>\n      <td>18</td>\n      <td>...</td>\n      <td>Left Side(L)</td>\n      <td>8-16 ft.</td>\n      <td>12</td>\n      <td>-82</td>\n      <td>89</td>\n      <td>1</td>\n      <td>0</td>\n      <td>20231110</td>\n      <td>PHX</td>\n      <td>LAL</td>\n    </tr>\n    <tr>\n      <th>...</th>\n      <td>...</td>\n      <td>...</td>\n      <td>...</td>\n      <td>...</td>\n      <td>...</td>\n      <td>...</td>\n      <td>...</td>\n      <td>...</td>\n      <td>...</td>\n      <td>...</td>\n      <td>...</td>\n      <td>...</td>\n      <td>...</td>\n      <td>...</td>\n      <td>...</td>\n      <td>...</td>\n      <td>...</td>\n      <td>...</td>\n      <td>...</td>\n      <td>...</td>\n      <td>...</td>\n    </tr>\n    <tr>\n      <th>669</th>\n      <td>Shot Chart Detail</td>\n      <td>0022301230</td>\n      <td>233</td>\n      <td>2544</td>\n      <td>LeBron James</td>\n      <td>1610612747</td>\n      <td>Los Angeles Lakers</td>\n      <td>2</td>\n      <td>7</td>\n      <td>6</td>\n      <td>...</td>\n      <td>Center(C)</td>\n      <td>8-16 ft.</td>\n      <td>9</td>\n      <td>-1</td>\n      <td>91</td>\n      <td>1</td>\n      <td>1</td>\n      <td>20231207</td>\n      <td>LAL</td>\n      <td>NOP</td>\n    </tr>\n    <tr>\n      <th>670</th>\n      <td>Shot Chart Detail</td>\n      <td>0022301230</td>\n      <td>300</td>\n      <td>2544</td>\n      <td>LeBron James</td>\n      <td>1610612747</td>\n      <td>Los Angeles Lakers</td>\n      <td>2</td>\n      <td>2</td>\n      <td>30</td>\n      <td>...</td>\n      <td>Center(C)</td>\n      <td>Less Than 8 ft.</td>\n      <td>1</td>\n      <td>10</td>\n      <td>2</td>\n      <td>1</td>\n      <td>1</td>\n      <td>20231207</td>\n      <td>LAL</td>\n      <td>NOP</td>\n    </tr>\n    <tr>\n      <th>671</th>\n      <td>Shot Chart Detail</td>\n      <td>0022301230</td>\n      <td>340</td>\n      <td>2544</td>\n      <td>LeBron James</td>\n      <td>1610612747</td>\n      <td>Los Angeles Lakers</td>\n      <td>3</td>\n      <td>11</td>\n      <td>24</td>\n      <td>...</td>\n      <td>Center(C)</td>\n      <td>Less Than 8 ft.</td>\n      <td>3</td>\n      <td>-36</td>\n      <td>1</td>\n      <td>1</td>\n      <td>1</td>\n      <td>20231207</td>\n      <td>LAL</td>\n      <td>NOP</td>\n    </tr>\n    <tr>\n      <th>672</th>\n      <td>Shot Chart Detail</td>\n      <td>0022301230</td>\n      <td>380</td>\n      <td>2544</td>\n      <td>LeBron James</td>\n      <td>1610612747</td>\n      <td>Los Angeles Lakers</td>\n      <td>3</td>\n      <td>8</td>\n      <td>5</td>\n      <td>...</td>\n      <td>Center(C)</td>\n      <td>24+ ft.</td>\n      <td>26</td>\n      <td>23</td>\n      <td>269</td>\n      <td>1</td>\n      <td>1</td>\n      <td>20231207</td>\n      <td>LAL</td>\n      <td>NOP</td>\n    </tr>\n    <tr>\n      <th>673</th>\n      <td>Shot Chart Detail</td>\n      <td>0022301230</td>\n      <td>410</td>\n      <td>2544</td>\n      <td>LeBron James</td>\n      <td>1610612747</td>\n      <td>Los Angeles Lakers</td>\n      <td>3</td>\n      <td>6</td>\n      <td>19</td>\n      <td>...</td>\n      <td>Center(C)</td>\n      <td>Less Than 8 ft.</td>\n      <td>1</td>\n      <td>-12</td>\n      <td>-4</td>\n      <td>1</td>\n      <td>0</td>\n      <td>20231207</td>\n      <td>LAL</td>\n      <td>NOP</td>\n    </tr>\n  </tbody>\n</table>\n<p>674 rows × 24 columns</p>\n</div>"
     },
     "execution_count": 74,
     "metadata": {},
     "output_type": "execute_result"
    }
   ],
   "source": [
    "shot_data_cleaned = pd.DataFrame()\n",
    "shot_data = get_shot_data('LeBron James', season='2023-24')\n",
    "shot_data"
   ],
   "metadata": {
    "collapsed": false,
    "ExecuteTime": {
     "end_time": "2024-01-20T03:07:15.462849Z",
     "start_time": "2024-01-20T03:07:14.020608Z"
    }
   }
  },
  {
   "cell_type": "code",
   "execution_count": 88,
   "outputs": [
    {
     "ename": "KeyError",
     "evalue": "'2009'",
     "output_type": "error",
     "traceback": [
      "\u001B[0;31m---------------------------------------------------------------------------\u001B[0m",
      "\u001B[0;31mKeyError\u001B[0m                                  Traceback (most recent call last)",
      "Cell \u001B[0;32mIn[88], line 6\u001B[0m\n\u001B[1;32m      4\u001B[0m shot_data_aggregated[\u001B[38;5;124m'\u001B[39m\u001B[38;5;124mshots_pct\u001B[39m\u001B[38;5;124m'\u001B[39m] \u001B[38;5;241m=\u001B[39m shot_data_aggregated[\u001B[38;5;124m'\u001B[39m\u001B[38;5;124mshot_made\u001B[39m\u001B[38;5;124m'\u001B[39m] \u001B[38;5;241m/\u001B[39m shot_data_aggregated[\u001B[38;5;124m'\u001B[39m\u001B[38;5;124mshots_attempted\u001B[39m\u001B[38;5;124m'\u001B[39m]\n\u001B[1;32m      5\u001B[0m shot_data_aggregated \u001B[38;5;241m=\u001B[39m shot_data_aggregated\u001B[38;5;241m.\u001B[39munstack()\u001B[38;5;241m.\u001B[39mreorder_levels([\u001B[38;5;241m1\u001B[39m, \u001B[38;5;241m0\u001B[39m])\u001B[38;5;241m.\u001B[39msort_index()\n\u001B[0;32m----> 6\u001B[0m \u001B[43mplayer_totals_advanced_pg\u001B[49m\u001B[38;5;241;43m.\u001B[39;49m\u001B[43mgroupby\u001B[49m\u001B[43m(\u001B[49m\u001B[38;5;124;43m'\u001B[39;49m\u001B[38;5;124;43mseason_end\u001B[39;49m\u001B[38;5;124;43m'\u001B[39;49m\u001B[43m)\u001B[49m\u001B[38;5;241;43m.\u001B[39;49m\u001B[43mget_group\u001B[49m\u001B[43m(\u001B[49m\u001B[43mseason_end_idx\u001B[49m\u001B[43m)\u001B[49m\u001B[38;5;241m.\u001B[39mindex\u001B[38;5;241m.\u001B[39mget_level_values(\u001B[38;5;124m'\u001B[39m\u001B[38;5;124mname\u001B[39m\u001B[38;5;124m'\u001B[39m)\u001B[38;5;241m.\u001B[39munique()\n",
      "File \u001B[0;32m~/Documents/boredom-projects/sports-betting/venv/lib/python3.10/site-packages/pandas/core/groupby/groupby.py:1063\u001B[0m, in \u001B[0;36mBaseGroupBy.get_group\u001B[0;34m(self, name, obj)\u001B[0m\n\u001B[1;32m   1061\u001B[0m inds \u001B[38;5;241m=\u001B[39m \u001B[38;5;28mself\u001B[39m\u001B[38;5;241m.\u001B[39m_get_index(name)\n\u001B[1;32m   1062\u001B[0m \u001B[38;5;28;01mif\u001B[39;00m \u001B[38;5;129;01mnot\u001B[39;00m \u001B[38;5;28mlen\u001B[39m(inds):\n\u001B[0;32m-> 1063\u001B[0m     \u001B[38;5;28;01mraise\u001B[39;00m \u001B[38;5;167;01mKeyError\u001B[39;00m(name)\n\u001B[1;32m   1065\u001B[0m \u001B[38;5;28;01mif\u001B[39;00m obj \u001B[38;5;129;01mis\u001B[39;00m \u001B[38;5;28;01mNone\u001B[39;00m:\n\u001B[1;32m   1066\u001B[0m     indexer \u001B[38;5;241m=\u001B[39m inds \u001B[38;5;28;01mif\u001B[39;00m \u001B[38;5;28mself\u001B[39m\u001B[38;5;241m.\u001B[39maxis \u001B[38;5;241m==\u001B[39m \u001B[38;5;241m0\u001B[39m \u001B[38;5;28;01melse\u001B[39;00m (\u001B[38;5;28mslice\u001B[39m(\u001B[38;5;28;01mNone\u001B[39;00m), inds)\n",
      "\u001B[0;31mKeyError\u001B[0m: '2009'"
     ]
    }
   ],
   "source": [
    "shot_data_aggregated = pd.DataFrame()\n",
    "shot_data_aggregated['shot_made'] = shot_data.groupby('SHOT_ZONE_BASIC')['SHOT_MADE_FLAG'].sum()\n",
    "shot_data_aggregated['shots_attempted'] = shot_data.groupby('SHOT_ZONE_BASIC')['SHOT_ATTEMPTED_FLAG'].sum()\n",
    "shot_data_aggregated['shots_pct'] = shot_data_aggregated['shot_made'] / shot_data_aggregated['shots_attempted']\n",
    "shot_data_aggregated = shot_data_aggregated.unstack().reorder_levels([1, 0]).sort_index()"
   ],
   "metadata": {
    "collapsed": false,
    "ExecuteTime": {
     "end_time": "2024-01-21T20:36:25.624962Z",
     "start_time": "2024-01-21T20:36:25.520093Z"
    }
   }
  },
  {
   "cell_type": "markdown",
   "source": [],
   "metadata": {
    "collapsed": false
   }
  },
  {
   "cell_type": "code",
   "execution_count": 98,
   "outputs": [
    {
     "data": {
      "text/plain": "Index(['A.C. Green', 'A.J. Bramlett', 'Aaron McKie', 'Aaron Williams',\n       'Adam Keefe', 'Adonal Foyle', 'Adrian Griffin', 'Al Harrington',\n       'Alan Henderson', 'Aleksandar Radojević',\n       ...\n       'Vonteego Cummings', 'Voshon Lenard', 'Wally Szczerbiak',\n       'Walt Williams', 'Walter McCarty', 'Wayne Turner', 'Wesley Person',\n       'Will Perdue', 'William Avery', 'Žan Tabak'],\n      dtype='object', name='name', length=439)"
     },
     "execution_count": 98,
     "metadata": {},
     "output_type": "execute_result"
    }
   ],
   "source": [
    "player_totals_advanced_pg.groupby('season_end').get_group(2000).index.get_level_values('name').unique()\n",
    "# player_totals_advanced_pg"
   ],
   "metadata": {
    "collapsed": false,
    "ExecuteTime": {
     "end_time": "2024-01-21T20:37:58.804048Z",
     "start_time": "2024-01-21T20:37:58.799722Z"
    }
   }
  },
  {
   "cell_type": "code",
   "execution_count": 99,
   "outputs": [
    {
     "data": {
      "text/plain": "  0%|          | 0/17 [00:00<?, ?it/s]",
      "application/vnd.jupyter.widget-view+json": {
       "version_major": 2,
       "version_minor": 0,
       "model_id": "b23c8cdda6dd4fa19ed65fd97df5e97e"
      }
     },
     "metadata": {},
     "output_type": "display_data"
    },
    {
     "name": "stdout",
     "output_type": "stream",
     "text": [
      "Player data not found: Alexis Ajinça\n",
      "Player data not found: Anderson Varejão\n",
      "Player data not found: Andris Biedriņš\n",
      "Player data not found: Andrés Nocioni\n",
      "Player data not found: C.J. Miles\n",
      "Player data not found: D.J. Mbenga\n",
      "Player data not found: D.J. White\n",
      "Player data not found: Darko Miličić\n",
      "Player data not found: Dee Brown\n",
      "Player data not found: Donté Greene\n",
      "Player data not found: Eduardo Nájera\n",
      "Player data not found: Francisco García\n",
      "Player data not found: Goran Dragić\n",
      "Player data not found: Hedo Türkoğlu\n",
      "Player data not found: J.J. Hickson\n",
      "Player data not found: J.J. Redick\n",
      "Player data not found: J.R. Smith\n",
      "Player data not found: José Calderón\n",
      "Player data not found: Manu Ginóbili\n",
      "Player data not found: Marko Jarić\n",
      "Player data not found: Mickaël Piétrus\n",
      "Player data not found: Nenad Krstić\n",
      "Player data not found: Nenê\n",
      "Player data not found: Peja Stojaković\n",
      "Player data not found: Rasho Nesterović\n",
      "Player data not found: Roger Mason\n",
      "Player data not found: Roko Ukić\n",
      "Player data not found: Ronald Murray\n",
      "Player data not found: Rudy Fernández\n",
      "Player data not found: Sasha Pavlović\n",
      "Player data not found: Sasha Vujačić\n",
      "Player data not found: Sergio Rodríguez\n",
      "Player data not found: Vladimir Radmanović\n"
     ]
    },
    {
     "ename": "KeyError",
     "evalue": "20010",
     "output_type": "error",
     "traceback": [
      "\u001B[0;31m---------------------------------------------------------------------------\u001B[0m",
      "\u001B[0;31mKeyError\u001B[0m                                  Traceback (most recent call last)",
      "Cell \u001B[0;32mIn[99], line 7\u001B[0m\n\u001B[1;32m      5\u001B[0m season_end_idx \u001B[38;5;241m=\u001B[39m \u001B[38;5;124mf\u001B[39m\u001B[38;5;124m'\u001B[39m\u001B[38;5;124m20\u001B[39m\u001B[38;5;132;01m{\u001B[39;00mseason_end\u001B[38;5;132;01m}\u001B[39;00m\u001B[38;5;124m'\u001B[39m\n\u001B[1;32m      6\u001B[0m season \u001B[38;5;241m=\u001B[39m \u001B[38;5;124mf\u001B[39m\u001B[38;5;124m'\u001B[39m\u001B[38;5;132;01m{\u001B[39;00mseason_start\u001B[38;5;132;01m}\u001B[39;00m\u001B[38;5;124m-\u001B[39m\u001B[38;5;132;01m{\u001B[39;00mseason_end\u001B[38;5;132;01m}\u001B[39;00m\u001B[38;5;124m'\u001B[39m\n\u001B[0;32m----> 7\u001B[0m \u001B[38;5;28;01mfor\u001B[39;00m player \u001B[38;5;129;01min\u001B[39;00m \u001B[43mplayer_totals_advanced_pg\u001B[49m\u001B[38;5;241;43m.\u001B[39;49m\u001B[43mgroupby\u001B[49m\u001B[43m(\u001B[49m\u001B[38;5;124;43m'\u001B[39;49m\u001B[38;5;124;43mseason_end\u001B[39;49m\u001B[38;5;124;43m'\u001B[39;49m\u001B[43m)\u001B[49m\u001B[38;5;241;43m.\u001B[39;49m\u001B[43mget_group\u001B[49m\u001B[43m(\u001B[49m\u001B[38;5;28;43mint\u001B[39;49m\u001B[43m(\u001B[49m\u001B[43mseason_end_idx\u001B[49m\u001B[43m)\u001B[49m\u001B[43m)\u001B[49m\u001B[38;5;241m.\u001B[39mindex\u001B[38;5;241m.\u001B[39mget_level_values(\u001B[38;5;124m'\u001B[39m\u001B[38;5;124mname\u001B[39m\u001B[38;5;124m'\u001B[39m)\u001B[38;5;241m.\u001B[39munique():\n\u001B[1;32m      8\u001B[0m     failed \u001B[38;5;241m=\u001B[39m \u001B[38;5;241m0\u001B[39m\n\u001B[1;32m      9\u001B[0m     \u001B[38;5;28;01mwhile\u001B[39;00m(\u001B[38;5;28;01mTrue\u001B[39;00m):\n",
      "File \u001B[0;32m~/Documents/boredom-projects/sports-betting/venv/lib/python3.10/site-packages/pandas/core/groupby/groupby.py:1063\u001B[0m, in \u001B[0;36mBaseGroupBy.get_group\u001B[0;34m(self, name, obj)\u001B[0m\n\u001B[1;32m   1061\u001B[0m inds \u001B[38;5;241m=\u001B[39m \u001B[38;5;28mself\u001B[39m\u001B[38;5;241m.\u001B[39m_get_index(name)\n\u001B[1;32m   1062\u001B[0m \u001B[38;5;28;01mif\u001B[39;00m \u001B[38;5;129;01mnot\u001B[39;00m \u001B[38;5;28mlen\u001B[39m(inds):\n\u001B[0;32m-> 1063\u001B[0m     \u001B[38;5;28;01mraise\u001B[39;00m \u001B[38;5;167;01mKeyError\u001B[39;00m(name)\n\u001B[1;32m   1065\u001B[0m \u001B[38;5;28;01mif\u001B[39;00m obj \u001B[38;5;129;01mis\u001B[39;00m \u001B[38;5;28;01mNone\u001B[39;00m:\n\u001B[1;32m   1066\u001B[0m     indexer \u001B[38;5;241m=\u001B[39m inds \u001B[38;5;28;01mif\u001B[39;00m \u001B[38;5;28mself\u001B[39m\u001B[38;5;241m.\u001B[39maxis \u001B[38;5;241m==\u001B[39m \u001B[38;5;241m0\u001B[39m \u001B[38;5;28;01melse\u001B[39;00m (\u001B[38;5;28mslice\u001B[39m(\u001B[38;5;28;01mNone\u001B[39;00m), inds)\n",
      "\u001B[0;31mKeyError\u001B[0m: 20010"
     ]
    }
   ],
   "source": [
    "shot_data_agg = pd.DataFrame()\n",
    "for i in tqdm(range(8, 25)):\n",
    "    season_start = f'200{i}' if i < 10 else f'20{i}'\n",
    "    season_end = f'0{i+1}' if i < 10 else f'{i+1}'\n",
    "    season_end_idx = f'20{season_end}'\n",
    "    season = f'{season_start}-{season_end}'\n",
    "    for player in player_totals_advanced_pg.groupby('season_end').get_group(int(season_end_idx)).index.get_level_values('name').unique():\n",
    "        failed = 0\n",
    "        while(True):\n",
    "            try:\n",
    "                player_shot_data = get_shot_data(player, season)\n",
    "                if player_shot_data is None or len(player_shot_data) == 0:\n",
    "                    print(f'Player data not found: {player}')\n",
    "                    break\n",
    "                player_shot_data_agg = pd.DataFrame()\n",
    "                player_shot_data_agg['shot_made'] = player_shot_data.groupby('SHOT_ZONE_BASIC')['SHOT_MADE_FLAG'].sum()\n",
    "                player_shot_data_agg['shots_attempted'] = player_shot_data.groupby('SHOT_ZONE_BASIC')['SHOT_ATTEMPTED_FLAG'].sum()\n",
    "                player_shot_data_agg['shots_pct'] = player_shot_data_agg['shot_made'] / player_shot_data_agg['shots_attempted']\n",
    "                player_shot_data_series = player_shot_data_agg.unstack().reorder_levels([1, 0]).sort_index()\n",
    "                player_shot_data_agg = pd.DataFrame()\n",
    "                player_shot_data_agg['METRICS'] = player_shot_data_series\n",
    "                player_shot_data_agg['season_end'] = len(player_shot_data_agg) * [f'200{season_end}' if int(season_end) < 10 else f'20{season_end}']\n",
    "                player_shot_data_agg['player'] = len(player_shot_data_agg) * [player]\n",
    "                player_shot_data_agg.set_index(['player', 'season_end'], inplace=True, append=True)\n",
    "                shot_data_agg = pd.concat([shot_data_agg, player_shot_data_agg])\n",
    "                shot_data_agg.to_csv('2008_2024_player_shot_metrics.csv')\n",
    "            except Exception as e:\n",
    "                failed+=1\n",
    "                print(f'Failed {failed} {\"times\" if failed > 1 else \"time\"}. Trying again...')\n",
    "                print(f'Error displayed: {e}')\n",
    "                time.sleep(30)\n",
    "                continue\n",
    "            break"
   ],
   "metadata": {
    "collapsed": false,
    "ExecuteTime": {
     "end_time": "2024-01-21T20:46:46.914892Z",
     "start_time": "2024-01-21T20:38:06.817453Z"
    }
   }
  },
  {
   "cell_type": "code",
   "execution_count": null,
   "outputs": [],
   "source": [],
   "metadata": {
    "collapsed": false
   }
  }
 ],
 "metadata": {
  "kernelspec": {
   "name": "sports-betting",
   "language": "python",
   "display_name": "sports-betting"
  },
  "language_info": {
   "codemirror_mode": {
    "name": "ipython",
    "version": 2
   },
   "file_extension": ".py",
   "mimetype": "text/x-python",
   "name": "python",
   "nbconvert_exporter": "python",
   "pygments_lexer": "ipython2",
   "version": "2.7.6"
  }
 },
 "nbformat": 4,
 "nbformat_minor": 0
}
