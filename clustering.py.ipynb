{
 "cells": [
  {
   "cell_type": "code",
   "execution_count": 4,
   "metadata": {
    "collapsed": true,
    "ExecuteTime": {
     "end_time": "2024-01-18T19:31:47.985135Z",
     "start_time": "2024-01-18T19:31:47.334420Z"
    }
   },
   "outputs": [],
   "source": [
    "import pandas as pd\n",
    "import numpy as np\n",
    "\n",
    "from sklearn.cluster import KMeans\n",
    "from sklearn.metrics import silhouette_score, calinski_harabasz_score"
   ]
  },
  {
   "cell_type": "code",
   "execution_count": 5,
   "outputs": [
    {
     "data": {
      "text/plain": "      gameId      teamId       teamCity teamName teamTricode teamSlug  \\\n0   22300467  1610612760  Oklahoma City  Thunder         OKC  thunder   \n1   22300467  1610612760  Oklahoma City  Thunder         OKC  thunder   \n2   22300467  1610612760  Oklahoma City  Thunder         OKC  thunder   \n3   22300467  1610612760  Oklahoma City  Thunder         OKC  thunder   \n4   22300467  1610612760  Oklahoma City  Thunder         OKC  thunder   \n..       ...         ...            ...      ...         ...      ...   \n36  12300038  1610612766      Charlotte  Hornets         CHA  hornets   \n37  12300038  1610612766      Charlotte  Hornets         CHA  hornets   \n38  12300038  1610612766      Charlotte  Hornets         CHA  hornets   \n39  12300038  1610612766      Charlotte  Hornets         CHA  hornets   \n40  12300038  1610612766      Charlotte  Hornets         CHA  hornets   \n\n    personId firstName          familyName                  nameI  ...  \\\n0    1629652  Luguentz                Dort                L. Dort  ...   \n1    1631114     Jalen            Williams            J. Williams  ...   \n2    1631096      Chet            Holmgren            C. Holmgren  ...   \n3    1630581      Josh              Giddey              J. Giddey  ...   \n4    1628983      Shai  Gilgeous-Alexander  S. Gilgeous-Alexander  ...   \n..       ...       ...                 ...                    ...  ...   \n36   1630547     James           Bouknight           J. Bouknight  ...   \n37   1628970     Miles             Bridges             M. Bridges  ...   \n38    202330    Gordon             Hayward             G. Hayward  ...   \n39   1630177      Theo             Maledon             T. Maledon  ...   \n40   1628998      Cody              Martin              C. Martin  ...   \n\n   turnoverRatio effectiveFieldGoalPercentage trueShootingPercentage  \\\n0            0.0                        0.571                  0.726   \n1            9.1                        0.792                  0.739   \n2           28.6                        0.667                  0.667   \n3           14.3                        0.571                  0.571   \n4            5.3                        0.500                  0.572   \n..           ...                          ...                    ...   \n36           0.0                        0.000                  0.000   \n37           0.0                        0.000                  0.000   \n38           0.0                        0.000                  0.000   \n39           0.0                        0.000                  0.000   \n40           0.0                        0.000                  0.000   \n\n    usagePercentage estimatedUsagePercentage  estimatedPace    pace  \\\n0             0.137                    0.141         105.69  106.55   \n1             0.182                    0.196         107.02  109.57   \n2             0.213                    0.220         106.56  108.44   \n3             0.167                    0.173         110.31  111.59   \n4             0.333                    0.338         107.58  107.80   \n..              ...                      ...            ...     ...   \n36            0.000                    0.000           0.00    0.00   \n37            0.000                    0.000           0.00    0.00   \n38            0.000                    0.000           0.00    0.00   \n39            0.000                    0.000           0.00    0.00   \n40            0.000                    0.000           0.00    0.00   \n\n    pacePer40  possessions    PIE  \n0       88.79         65.0  0.083  \n1       91.31         81.0  0.108  \n2       90.37         55.0  0.052  \n3       93.00         53.0  0.065  \n4       89.83         80.0  0.178  \n..        ...          ...    ...  \n36       0.00          0.0  0.000  \n37       0.00          0.0  0.000  \n38       0.00          0.0  0.000  \n39       0.00          0.0  0.000  \n40       0.00          0.0  0.000  \n\n[16899 rows x 37 columns]",
      "text/html": "<div>\n<style scoped>\n    .dataframe tbody tr th:only-of-type {\n        vertical-align: middle;\n    }\n\n    .dataframe tbody tr th {\n        vertical-align: top;\n    }\n\n    .dataframe thead th {\n        text-align: right;\n    }\n</style>\n<table border=\"1\" class=\"dataframe\">\n  <thead>\n    <tr style=\"text-align: right;\">\n      <th></th>\n      <th>gameId</th>\n      <th>teamId</th>\n      <th>teamCity</th>\n      <th>teamName</th>\n      <th>teamTricode</th>\n      <th>teamSlug</th>\n      <th>personId</th>\n      <th>firstName</th>\n      <th>familyName</th>\n      <th>nameI</th>\n      <th>...</th>\n      <th>turnoverRatio</th>\n      <th>effectiveFieldGoalPercentage</th>\n      <th>trueShootingPercentage</th>\n      <th>usagePercentage</th>\n      <th>estimatedUsagePercentage</th>\n      <th>estimatedPace</th>\n      <th>pace</th>\n      <th>pacePer40</th>\n      <th>possessions</th>\n      <th>PIE</th>\n    </tr>\n  </thead>\n  <tbody>\n    <tr>\n      <th>0</th>\n      <td>22300467</td>\n      <td>1610612760</td>\n      <td>Oklahoma City</td>\n      <td>Thunder</td>\n      <td>OKC</td>\n      <td>thunder</td>\n      <td>1629652</td>\n      <td>Luguentz</td>\n      <td>Dort</td>\n      <td>L. Dort</td>\n      <td>...</td>\n      <td>0.0</td>\n      <td>0.571</td>\n      <td>0.726</td>\n      <td>0.137</td>\n      <td>0.141</td>\n      <td>105.69</td>\n      <td>106.55</td>\n      <td>88.79</td>\n      <td>65.0</td>\n      <td>0.083</td>\n    </tr>\n    <tr>\n      <th>1</th>\n      <td>22300467</td>\n      <td>1610612760</td>\n      <td>Oklahoma City</td>\n      <td>Thunder</td>\n      <td>OKC</td>\n      <td>thunder</td>\n      <td>1631114</td>\n      <td>Jalen</td>\n      <td>Williams</td>\n      <td>J. Williams</td>\n      <td>...</td>\n      <td>9.1</td>\n      <td>0.792</td>\n      <td>0.739</td>\n      <td>0.182</td>\n      <td>0.196</td>\n      <td>107.02</td>\n      <td>109.57</td>\n      <td>91.31</td>\n      <td>81.0</td>\n      <td>0.108</td>\n    </tr>\n    <tr>\n      <th>2</th>\n      <td>22300467</td>\n      <td>1610612760</td>\n      <td>Oklahoma City</td>\n      <td>Thunder</td>\n      <td>OKC</td>\n      <td>thunder</td>\n      <td>1631096</td>\n      <td>Chet</td>\n      <td>Holmgren</td>\n      <td>C. Holmgren</td>\n      <td>...</td>\n      <td>28.6</td>\n      <td>0.667</td>\n      <td>0.667</td>\n      <td>0.213</td>\n      <td>0.220</td>\n      <td>106.56</td>\n      <td>108.44</td>\n      <td>90.37</td>\n      <td>55.0</td>\n      <td>0.052</td>\n    </tr>\n    <tr>\n      <th>3</th>\n      <td>22300467</td>\n      <td>1610612760</td>\n      <td>Oklahoma City</td>\n      <td>Thunder</td>\n      <td>OKC</td>\n      <td>thunder</td>\n      <td>1630581</td>\n      <td>Josh</td>\n      <td>Giddey</td>\n      <td>J. Giddey</td>\n      <td>...</td>\n      <td>14.3</td>\n      <td>0.571</td>\n      <td>0.571</td>\n      <td>0.167</td>\n      <td>0.173</td>\n      <td>110.31</td>\n      <td>111.59</td>\n      <td>93.00</td>\n      <td>53.0</td>\n      <td>0.065</td>\n    </tr>\n    <tr>\n      <th>4</th>\n      <td>22300467</td>\n      <td>1610612760</td>\n      <td>Oklahoma City</td>\n      <td>Thunder</td>\n      <td>OKC</td>\n      <td>thunder</td>\n      <td>1628983</td>\n      <td>Shai</td>\n      <td>Gilgeous-Alexander</td>\n      <td>S. Gilgeous-Alexander</td>\n      <td>...</td>\n      <td>5.3</td>\n      <td>0.500</td>\n      <td>0.572</td>\n      <td>0.333</td>\n      <td>0.338</td>\n      <td>107.58</td>\n      <td>107.80</td>\n      <td>89.83</td>\n      <td>80.0</td>\n      <td>0.178</td>\n    </tr>\n    <tr>\n      <th>...</th>\n      <td>...</td>\n      <td>...</td>\n      <td>...</td>\n      <td>...</td>\n      <td>...</td>\n      <td>...</td>\n      <td>...</td>\n      <td>...</td>\n      <td>...</td>\n      <td>...</td>\n      <td>...</td>\n      <td>...</td>\n      <td>...</td>\n      <td>...</td>\n      <td>...</td>\n      <td>...</td>\n      <td>...</td>\n      <td>...</td>\n      <td>...</td>\n      <td>...</td>\n      <td>...</td>\n    </tr>\n    <tr>\n      <th>36</th>\n      <td>12300038</td>\n      <td>1610612766</td>\n      <td>Charlotte</td>\n      <td>Hornets</td>\n      <td>CHA</td>\n      <td>hornets</td>\n      <td>1630547</td>\n      <td>James</td>\n      <td>Bouknight</td>\n      <td>J. Bouknight</td>\n      <td>...</td>\n      <td>0.0</td>\n      <td>0.000</td>\n      <td>0.000</td>\n      <td>0.000</td>\n      <td>0.000</td>\n      <td>0.00</td>\n      <td>0.00</td>\n      <td>0.00</td>\n      <td>0.0</td>\n      <td>0.000</td>\n    </tr>\n    <tr>\n      <th>37</th>\n      <td>12300038</td>\n      <td>1610612766</td>\n      <td>Charlotte</td>\n      <td>Hornets</td>\n      <td>CHA</td>\n      <td>hornets</td>\n      <td>1628970</td>\n      <td>Miles</td>\n      <td>Bridges</td>\n      <td>M. Bridges</td>\n      <td>...</td>\n      <td>0.0</td>\n      <td>0.000</td>\n      <td>0.000</td>\n      <td>0.000</td>\n      <td>0.000</td>\n      <td>0.00</td>\n      <td>0.00</td>\n      <td>0.00</td>\n      <td>0.0</td>\n      <td>0.000</td>\n    </tr>\n    <tr>\n      <th>38</th>\n      <td>12300038</td>\n      <td>1610612766</td>\n      <td>Charlotte</td>\n      <td>Hornets</td>\n      <td>CHA</td>\n      <td>hornets</td>\n      <td>202330</td>\n      <td>Gordon</td>\n      <td>Hayward</td>\n      <td>G. Hayward</td>\n      <td>...</td>\n      <td>0.0</td>\n      <td>0.000</td>\n      <td>0.000</td>\n      <td>0.000</td>\n      <td>0.000</td>\n      <td>0.00</td>\n      <td>0.00</td>\n      <td>0.00</td>\n      <td>0.0</td>\n      <td>0.000</td>\n    </tr>\n    <tr>\n      <th>39</th>\n      <td>12300038</td>\n      <td>1610612766</td>\n      <td>Charlotte</td>\n      <td>Hornets</td>\n      <td>CHA</td>\n      <td>hornets</td>\n      <td>1630177</td>\n      <td>Theo</td>\n      <td>Maledon</td>\n      <td>T. Maledon</td>\n      <td>...</td>\n      <td>0.0</td>\n      <td>0.000</td>\n      <td>0.000</td>\n      <td>0.000</td>\n      <td>0.000</td>\n      <td>0.00</td>\n      <td>0.00</td>\n      <td>0.00</td>\n      <td>0.0</td>\n      <td>0.000</td>\n    </tr>\n    <tr>\n      <th>40</th>\n      <td>12300038</td>\n      <td>1610612766</td>\n      <td>Charlotte</td>\n      <td>Hornets</td>\n      <td>CHA</td>\n      <td>hornets</td>\n      <td>1628998</td>\n      <td>Cody</td>\n      <td>Martin</td>\n      <td>C. Martin</td>\n      <td>...</td>\n      <td>0.0</td>\n      <td>0.000</td>\n      <td>0.000</td>\n      <td>0.000</td>\n      <td>0.000</td>\n      <td>0.00</td>\n      <td>0.00</td>\n      <td>0.00</td>\n      <td>0.0</td>\n      <td>0.000</td>\n    </tr>\n  </tbody>\n</table>\n<p>16899 rows × 37 columns</p>\n</div>"
     },
     "execution_count": 5,
     "metadata": {},
     "output_type": "execute_result"
    }
   ],
   "source": [
    "clustering_data = pd.read_csv('2015_2024_player_shot_metrics.csv', index_col=0)\n",
    "clustering_data"
   ],
   "metadata": {
    "collapsed": false,
    "ExecuteTime": {
     "end_time": "2024-01-14T02:33:08.940964Z",
     "start_time": "2024-01-14T02:33:08.864285Z"
    }
   }
  },
  {
   "cell_type": "code",
   "execution_count": 1,
   "outputs": [
    {
     "ename": "NameError",
     "evalue": "name 'clustering_data' is not defined",
     "output_type": "error",
     "traceback": [
      "\u001B[0;31m---------------------------------------------------------------------------\u001B[0m",
      "\u001B[0;31mNameError\u001B[0m                                 Traceback (most recent call last)",
      "Cell \u001B[0;32mIn[1], line 1\u001B[0m\n\u001B[0;32m----> 1\u001B[0m seasonal_data \u001B[38;5;241m=\u001B[39m \u001B[43mclustering_data\u001B[49m\u001B[38;5;241m.\u001B[39mgroupby(\u001B[38;5;124m'\u001B[39m\u001B[38;5;124mseason_end\u001B[39m\u001B[38;5;124m'\u001B[39m)\n",
      "\u001B[0;31mNameError\u001B[0m: name 'clustering_data' is not defined"
     ]
    }
   ],
   "source": [
    "seasonal_data = clustering_data.groupby('season_end')\n",
    "max_average_silhouette = 0\n",
    "max_average_calinski_harabasz = 0\n",
    "k_dict = {}\n",
    "for k in range(5, 35):\n",
    "    total_silhouette = 0\n",
    "    total_calinski_harabasz = 0\n",
    "    for group in seasonal_data:\n",
    "        X = group\n",
    "        labels = KMeans(n_clusters=k, random_state=42).fit(X)\n",
    "        total_silhouette += calinski_harabasz_score(X, labels)\n",
    "        total_silhouette = silhouette_score(X, labels)\n",
    "    max_average_silhouette = total_silhouette / len(seasonal_data) if total_silhouette / len(seasonal_data) > max_average_silhouette else max_average_silhouette\n",
    "    max_average_calinski_harabasz = total_calinski_harabasz / len(seasonal_data) if total_calinski_harabasz / len(seasonal_data) > max_average_calinski_harabasz else max_average_calinski_harabasz\n",
    "    k_dict[k] = (total_silhouette / len(seasonal_data), total_calinski_harabasz / len(seasonal_data))\n",
    "k_dict"
   ],
   "metadata": {
    "collapsed": false,
    "ExecuteTime": {
     "end_time": "2024-01-18T18:46:00.835356Z",
     "start_time": "2024-01-18T18:46:00.630293Z"
    }
   }
  },
  {
   "cell_type": "code",
   "execution_count": null,
   "outputs": [],
   "source": [],
   "metadata": {
    "collapsed": false
   }
  }
 ],
 "metadata": {
  "kernelspec": {
   "display_name": "Python 3",
   "language": "python",
   "name": "python3"
  },
  "language_info": {
   "codemirror_mode": {
    "name": "ipython",
    "version": 2
   },
   "file_extension": ".py",
   "mimetype": "text/x-python",
   "name": "python",
   "nbconvert_exporter": "python",
   "pygments_lexer": "ipython2",
   "version": "2.7.6"
  }
 },
 "nbformat": 4,
 "nbformat_minor": 0
}
